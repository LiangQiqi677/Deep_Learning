{
 "cells": [
  {
   "cell_type": "code",
   "execution_count": 5,
   "metadata": {},
   "outputs": [],
   "source": [
    "import pandas as pd\n",
    "import numpy as np\n",
    "import torch\n",
    "import torch.nn as nn\n",
    "import math\n",
    "import datetime\n",
    "import matplotlib.pyplot as plt\n",
    "from sklearn.utils import shuffle"
   ]
  },
  {
   "cell_type": "code",
   "execution_count": 2,
   "metadata": {},
   "outputs": [],
   "source": [
    "# ==================== 读取数据 ==================== #\n",
    "\n",
    "df = pd.read_csv('FS_NYC.csv')                          #自动把第一行做列属性\n",
    "df = df.loc[:,['userId','venueCategory']]               #取出用户ID和地点ID\n",
    "\n",
    "# ==================== 获得地址字典 ==================== #\n",
    "\n",
    "location = []                                           #取出所有的地址\n",
    "for i in range(df.shape[0]):\n",
    "    location.append(df.iloc[i,1])\n",
    "location = list(set(location))                          #去重\n",
    "loc_dict = dict(zip(location,range(len(location)))) #给这251个地点创建字典\n",
    "\n",
    "# ==================== 分组获得每个人的运动轨迹 ==================== #\n",
    "\n",
    "loc_rep = df.replace(loc_dict)                          #将地址名称替换成字典里的数字\n",
    "\n",
    "def sliding_window(seq, window_size):\n",
    "    result = []\n",
    "    for i in range(len(seq)-window_size):\n",
    "        result.append(seq[i:i+window_size])\n",
    "    return result\n",
    "\n",
    "train_set, test_set = [], []\n",
    "window_size = 10   #窗口大小为10\n",
    "for userId, group in loc_rep.groupby('userId'):\n",
    "    full_seq = group['venueCategory']\n",
    "    full_len = full_seq.shape[0]\n",
    "    train_seq = full_seq.iloc[:int(full_len*0.7)].to_list()\n",
    "    test_seq = full_seq.iloc[int(full_len*0.7):].to_list()\n",
    "    train_set += sliding_window(train_seq, window_size)\n",
    "    test_set += sliding_window(test_seq, window_size)"
   ]
  },
  {
   "cell_type": "code",
   "execution_count": 3,
   "metadata": {},
   "outputs": [],
   "source": [
    "# ==================== RNN模型 ==================== #\n",
    "\n",
    "class Rnn(nn.Module):\n",
    "    def __init__(self, input_size, hidden_size, output_size):\n",
    "        super().__init__()\n",
    "        self.hidden_size = hidden_size\n",
    "        self.embedding = nn.Embedding(num_embeddings=input_size, embedding_dim=hidden_size)\n",
    "        #一定要加batch_first=True，因为我们的输入x是[batch,seq,input],但是默认的是[seq,batch,input]\n",
    "        self.rnn = nn.RNN(input_size=hidden_size, hidden_size=hidden_size, num_layers=1, batch_first=True)\n",
    "        self.out = nn.Linear(hidden_size,output_size)\n",
    "        \n",
    "    def forward(self, x):\n",
    "        batch_size = x.size(0)\n",
    "        seq_len = x.size(1)                                           # x: torch.Size([128, 10])\n",
    "        x = self.embedding(x)                                         # x: torch.Size([128, 10, 32])\n",
    "        h = torch.zeros(1, batch_size, self.hidden_size).to(x.device) # h: #torch.Size([1, 128, 128])  \n",
    "        y_list = []\n",
    "        for i in range(seq_len):\n",
    "            y, h = self.rnn(x, h)\n",
    "            y_list.append(self.out(y[:, i, :]))\n",
    "        return h, torch.stack(y_list, dim=1)\n",
    "\n",
    "def next_batch(data, batch_size):\n",
    "    data_length = len(data)\n",
    "    num_batches = math.ceil(data_length / batch_size)\n",
    "    for batch_index in range(num_batches):\n",
    "        start_index = batch_index * batch_size\n",
    "        end_index = min((batch_index + 1) * batch_size, data_length)\n",
    "        yield data[start_index:end_index]\n",
    "\n",
    "def train_evaluate(model, data_set, batch_size, optimizer):\n",
    "    model.train()\n",
    "    train_l_sum, train_acc_sum, n = 0.0, 0.0, 0\n",
    "    for batch in next_batch(shuffle(data_set), batch_size):\n",
    "        batch = torch.from_numpy(np.array(batch)).long().to(device) #embedding层的输入需要long形式\n",
    "        x = batch[:, :window_size-1].long().to(device)\n",
    "        label =  batch[: , -1].long().to(device)\n",
    "        hidden, out = model(x)                                 #输入直接是(batch_size, seq)，不用扩展最后一维\n",
    "        prediction = out[:, -1, :].squeeze(-1)\n",
    "        loss = loss_func(prediction, label)\n",
    "        optimizer.zero_grad()\n",
    "        loss.backward()\n",
    "        optimizer.step()\n",
    "        train_l_sum += loss.item()\n",
    "        train_acc_sum += (prediction.argmax(dim=1) == label).sum().item() / label.shape[0]\n",
    "        n += 1  #每个batch+1\n",
    "    return train_l_sum/n, train_acc_sum/n\n",
    "\n",
    "def test_evaluate(model, data_set, batch_size):\n",
    "    model.eval()\n",
    "    train_l_sum, train_acc_sum, n = 0.0, 0.0, 0\n",
    "    with torch.no_grad():\n",
    "        for batch in next_batch(shuffle(data_set), batch_size):\n",
    "            batch = torch.from_numpy(np.array(batch)).long().to(device) #embedding层的输入需要long形式\n",
    "            x = batch[:, :window_size-1].long().to(device)\n",
    "            label =  batch[: , -1].long().to(device)\n",
    "            hidden, out = model(x)                                 #输入直接是(batch_size, seq)，不用扩展最后一维\n",
    "            prediction = out[:, -1, :].squeeze(-1)\n",
    "            loss = loss_func(prediction, label)\n",
    "            train_l_sum += loss.item()\n",
    "            train_acc_sum += (prediction.argmax(dim=1) == label).sum().item() / label.shape[0]\n",
    "            n += 1  #每个batch+1\n",
    "    return train_l_sum/n, train_acc_sum/n"
   ]
  },
  {
   "cell_type": "code",
   "execution_count": 4,
   "metadata": {},
   "outputs": [
    {
     "name": "stdout",
     "output_type": "stream",
     "text": [
      "epoch 1, loss_train 4.146542, loss_test 3.930449, acc_train 0.175943, acc_test 0.193666, time 0:00:21.788700 \n",
      "epoch 2, loss_train 3.780901, loss_test 3.821893, acc_train 0.210582, acc_test 0.205770, time 0:00:21.966544 \n",
      "epoch 3, loss_train 3.672227, loss_test 3.775190, acc_train 0.220761, acc_test 0.210713, time 0:00:22.275984 \n",
      "epoch 4, loss_train 3.605115, loss_test 3.740082, acc_train 0.228017, acc_test 0.213031, time 0:00:22.363230 \n",
      "epoch 5, loss_train 3.556653, loss_test 3.719786, acc_train 0.232838, acc_test 0.214919, time 0:00:22.525690 \n",
      "epoch 6, loss_train 3.517409, loss_test 3.707989, acc_train 0.237223, acc_test 0.216833, time 0:00:22.972814 \n",
      "epoch 7, loss_train 3.482231, loss_test 3.707049, acc_train 0.241184, acc_test 0.213965, time 0:00:22.761204 \n",
      "epoch 8, loss_train 3.452785, loss_test 3.690515, acc_train 0.245045, acc_test 0.218821, time 0:00:23.445631 \n",
      "epoch 9, loss_train 3.425085, loss_test 3.682688, acc_train 0.247280, acc_test 0.219855, time 0:00:22.968038 \n",
      "epoch 10, loss_train 3.398334, loss_test 3.676856, acc_train 0.251363, acc_test 0.219223, time 0:00:22.964020 \n",
      "epoch 11, loss_train 3.374769, loss_test 3.672544, acc_train 0.254161, acc_test 0.219152, time 0:00:23.262020 \n",
      "epoch 12, loss_train 3.353063, loss_test 3.668864, acc_train 0.257388, acc_test 0.221691, time 0:00:22.943274 \n",
      "epoch 13, loss_train 3.329664, loss_test 3.667064, acc_train 0.258881, acc_test 0.221941, time 0:00:22.920808 \n",
      "epoch 14, loss_train 3.309830, loss_test 3.664749, acc_train 0.261309, acc_test 0.221075, time 0:00:23.500760 \n",
      "epoch 15, loss_train 3.287275, loss_test 3.667466, acc_train 0.265638, acc_test 0.221280, time 0:00:22.910062 \n",
      "epoch 16, loss_train 3.267715, loss_test 3.668206, acc_train 0.267702, acc_test 0.221424, time 0:00:23.418366 \n",
      "epoch 17, loss_train 3.245659, loss_test 3.671886, acc_train 0.270572, acc_test 0.222946, time 0:00:23.055037 \n",
      "epoch 18, loss_train 3.228099, loss_test 3.669031, acc_train 0.273086, acc_test 0.221436, time 0:00:23.075110 \n",
      "epoch 19, loss_train 3.208035, loss_test 3.672480, acc_train 0.275297, acc_test 0.222787, time 0:00:23.010567 \n",
      "epoch 20, loss_train 3.188488, loss_test 3.676671, acc_train 0.278317, acc_test 0.222228, time 0:00:22.993831 \n",
      "epoch 21, loss_train 3.171113, loss_test 3.677586, acc_train 0.281049, acc_test 0.221440, time 0:00:23.082767 \n",
      "epoch 22, loss_train 3.152971, loss_test 3.680708, acc_train 0.283938, acc_test 0.221428, time 0:00:23.015193 \n",
      "epoch 23, loss_train 3.134939, loss_test 3.683137, acc_train 0.285411, acc_test 0.221250, time 0:00:23.048014 \n",
      "epoch 24, loss_train 3.116985, loss_test 3.694369, acc_train 0.288092, acc_test 0.221281, time 0:00:22.907977 \n",
      "epoch 25, loss_train 3.101509, loss_test 3.699588, acc_train 0.289855, acc_test 0.220070, time 0:00:23.031013 \n",
      "epoch 26, loss_train 3.080085, loss_test 3.697658, acc_train 0.294075, acc_test 0.220941, time 0:00:23.276816 \n",
      "epoch 27, loss_train 3.063527, loss_test 3.709836, acc_train 0.296724, acc_test 0.218391, time 0:00:22.967253 \n",
      "epoch 28, loss_train 3.045471, loss_test 3.717139, acc_train 0.298747, acc_test 0.218979, time 0:00:23.372089 \n",
      "epoch 29, loss_train 3.028898, loss_test 3.718253, acc_train 0.301110, acc_test 0.219989, time 0:00:23.215400 \n",
      "epoch 30, loss_train 3.013731, loss_test 3.722353, acc_train 0.303845, acc_test 0.219340, time 0:00:23.283048 \n",
      "epoch 31, loss_train 2.994758, loss_test 3.735462, acc_train 0.306718, acc_test 0.217685, time 0:00:22.864985 \n",
      "epoch 32, loss_train 2.978093, loss_test 3.733827, acc_train 0.309100, acc_test 0.216589, time 0:00:23.125346 \n",
      "epoch 33, loss_train 2.964111, loss_test 3.745824, acc_train 0.311701, acc_test 0.217396, time 0:00:23.131178 \n",
      "epoch 34, loss_train 2.946615, loss_test 3.765172, acc_train 0.314087, acc_test 0.214298, time 0:00:23.110606 \n",
      "epoch 35, loss_train 2.928745, loss_test 3.760328, acc_train 0.316860, acc_test 0.215059, time 0:00:23.502568 \n",
      "epoch 36, loss_train 2.914540, loss_test 3.773005, acc_train 0.318952, acc_test 0.214003, time 0:00:22.961931 \n",
      "epoch 37, loss_train 2.892502, loss_test 3.787133, acc_train 0.322413, acc_test 0.214266, time 0:00:23.429790 \n",
      "epoch 38, loss_train 2.879067, loss_test 3.788038, acc_train 0.324694, acc_test 0.212426, time 0:00:22.910428 \n",
      "epoch 39, loss_train 2.863333, loss_test 3.801812, acc_train 0.327097, acc_test 0.207194, time 0:00:23.113359 \n",
      "epoch 40, loss_train 2.851881, loss_test 3.806799, acc_train 0.328646, acc_test 0.212846, time 0:00:23.084218 \n",
      "epoch 41, loss_train 2.832170, loss_test 3.814568, acc_train 0.333178, acc_test 0.210844, time 0:00:22.888274 \n",
      "epoch 42, loss_train 2.816325, loss_test 3.829081, acc_train 0.335897, acc_test 0.206081, time 0:00:23.133565 \n",
      "epoch 43, loss_train 2.801346, loss_test 3.838128, acc_train 0.337683, acc_test 0.207147, time 0:00:22.819471 \n",
      "epoch 44, loss_train 2.786565, loss_test 3.844271, acc_train 0.340457, acc_test 0.207962, time 0:00:23.254529 \n",
      "epoch 45, loss_train 2.771425, loss_test 3.850378, acc_train 0.343453, acc_test 0.203700, time 0:00:22.996247 \n",
      "epoch 46, loss_train 2.750736, loss_test 3.866948, acc_train 0.347988, acc_test 0.205647, time 0:00:23.165517 \n",
      "epoch 47, loss_train 2.739828, loss_test 3.875947, acc_train 0.349499, acc_test 0.206475, time 0:00:23.343278 \n",
      "epoch 48, loss_train 2.721004, loss_test 3.891730, acc_train 0.351707, acc_test 0.202262, time 0:00:23.365055 \n",
      "epoch 49, loss_train 2.711329, loss_test 3.899125, acc_train 0.354622, acc_test 0.200795, time 0:00:23.089874 \n",
      "epoch 50, loss_train 2.693274, loss_test 3.909019, acc_train 0.356676, acc_test 0.202321, time 0:00:23.332495 \n",
      "epoch 51, loss_train 2.678434, loss_test 3.911512, acc_train 0.359166, acc_test 0.201557, time 0:00:22.927553 \n",
      "epoch 52, loss_train 2.667575, loss_test 3.925328, acc_train 0.361232, acc_test 0.198263, time 0:00:22.959337 \n",
      "epoch 53, loss_train 2.648791, loss_test 3.942235, acc_train 0.366012, acc_test 0.199515, time 0:00:22.937369 \n",
      "epoch 54, loss_train 2.635186, loss_test 3.959999, acc_train 0.368019, acc_test 0.197197, time 0:00:23.172009 \n",
      "epoch 55, loss_train 2.617427, loss_test 3.972463, acc_train 0.371451, acc_test 0.196384, time 0:00:22.950549 \n",
      "epoch 56, loss_train 2.606686, loss_test 3.986148, acc_train 0.373562, acc_test 0.195674, time 0:00:22.966533 \n",
      "epoch 57, loss_train 2.590760, loss_test 3.997792, acc_train 0.376301, acc_test 0.194672, time 0:00:22.974472 \n",
      "epoch 58, loss_train 2.580055, loss_test 3.998166, acc_train 0.377769, acc_test 0.194020, time 0:00:22.883332 \n",
      "epoch 59, loss_train 2.563797, loss_test 4.022626, acc_train 0.381340, acc_test 0.188415, time 0:00:23.539898 \n",
      "epoch 60, loss_train 2.550657, loss_test 4.028511, acc_train 0.383398, acc_test 0.190861, time 0:00:23.204159 \n",
      "epoch 61, loss_train 2.438088, loss_test 4.038158, acc_train 0.409251, acc_test 0.190433, time 0:00:22.840288 \n",
      "epoch 62, loss_train 2.416654, loss_test 4.056531, acc_train 0.414842, acc_test 0.188788, time 0:00:23.070645 \n",
      "epoch 63, loss_train 2.409215, loss_test 4.073346, acc_train 0.416659, acc_test 0.186723, time 0:00:23.160507 \n",
      "epoch 64, loss_train 2.401967, loss_test 4.083180, acc_train 0.417499, acc_test 0.186305, time 0:00:23.087456 \n",
      "epoch 65, loss_train 2.398063, loss_test 4.091511, acc_train 0.419151, acc_test 0.184069, time 0:00:23.248316 \n",
      "epoch 66, loss_train 2.393656, loss_test 4.100083, acc_train 0.419656, acc_test 0.183947, time 0:00:22.991246 \n",
      "epoch 67, loss_train 2.390062, loss_test 4.105417, acc_train 0.420391, acc_test 0.185203, time 0:00:23.091218 \n",
      "epoch 68, loss_train 2.385671, loss_test 4.110808, acc_train 0.421219, acc_test 0.182709, time 0:00:22.875988 \n",
      "epoch 69, loss_train 2.380439, loss_test 4.114590, acc_train 0.422387, acc_test 0.185655, time 0:00:23.219600 \n",
      "epoch 70, loss_train 2.377870, loss_test 4.124538, acc_train 0.423112, acc_test 0.183190, time 0:00:23.229288 \n",
      "lr=0.0001的运行时间： 0:26:52.307403\n"
     ]
    }
   ],
   "source": [
    "# ==================== lr=0.0001 ==================== #\n",
    "\n",
    "device = 'cuda:1'\n",
    "num_class = len(loc_dict)\n",
    "model = Rnn(input_size=num_class, hidden_size=1024, output_size=num_class).to(device) #输出size是地址类别\n",
    "\n",
    "loss_func = nn.CrossEntropyLoss()                                #多分类问题使用CrossEntropyLoss函数\n",
    "optimizer = torch.optim.Adam(model.parameters(), lr=0.0001, weight_decay=0.0001)\n",
    "scheduler = torch.optim.lr_scheduler.MultiStepLR(optimizer, milestones=[60,70], gamma=0.1)\n",
    "\n",
    "loss_train_1 = []\n",
    "loss_test_1 = []\n",
    "acc_train_1 = []\n",
    "acc_test_1 = []\n",
    "batch_size = 1024\n",
    "num_epoch = 70\n",
    "total_time_start_1 = datetime.datetime.now()\n",
    "for epoch in range(num_epoch):\n",
    "    start = datetime.datetime.now()\n",
    "    train_l, train_acc = train_evaluate(model, train_set, batch_size, optimizer)\n",
    "    test_l, test_acc = test_evaluate(model, test_set, batch_size)\n",
    "    scheduler.step()\n",
    "    loss_train_1.append(train_l)\n",
    "    acc_train_1.append(train_acc)\n",
    "    loss_test_1.append(test_l)\n",
    "    acc_test_1.append(test_acc)\n",
    "    end = datetime.datetime.now()\n",
    "    print('epoch %d, loss_train %f, loss_test %f, acc_train %f, acc_test %f, time %s '% \n",
    "          (epoch+1, loss_train_1[epoch], loss_test_1[epoch], acc_train_1[epoch], acc_test_1[epoch], end - start))\n",
    "total_time_end_1 = datetime.datetime.now()\n",
    "print(\"lr=0.0001的运行时间：\",total_time_end_1 - total_time_start_1)"
   ]
  },
  {
   "cell_type": "code",
   "execution_count": null,
   "metadata": {},
   "outputs": [],
   "source": [
    "# ==================== lr = 0.0005 ==================== #\n",
    "\n",
    "device = 'cuda:0'\n",
    "num_class = len(loc_dict)\n",
    "model = Rnn(input_size=num_class, hidden_size=128, output_size=num_class).to(device) #输出size是地址类别\n",
    "\n",
    "loss_func = nn.CrossEntropyLoss()                                #多分类问题使用CrossEntropyLoss函数\n",
    "optimizer = torch.optim.Adam(model.parameters(), lr=0.0005, weight_decay=0.0001)\n",
    "scheduler = torch.optim.lr_scheduler.MultiStepLR(optimizer, milestones=[60,70], gamma=0.1)\n",
    "\n",
    "loss_train_2 = []\n",
    "loss_test_2 = []\n",
    "acc_train_2 = []\n",
    "acc_test_2 = []\n",
    "batch_size = 1024\n",
    "num_epoch = 70\n",
    "total_time_start_2 = datetime.datetime.now()\n",
    "for epoch in range(num_epoch):\n",
    "    start = datetime.datetime.now()\n",
    "    train_l, train_acc = train_evaluate(model, train_set, batch_size, optimizer)\n",
    "    test_l, test_acc = test_evaluate(model, test_set, batch_size)\n",
    "    scheduler.step()\n",
    "    loss_train_2.append(train_l)\n",
    "    acc_train_2.append(train_acc)\n",
    "    loss_test_2.append(test_l)\n",
    "    acc_test_2.append(test_acc)\n",
    "    end = datetime.datetime.now()\n",
    "    print('epoch %d, loss_train %f, loss_test %f, acc_train %f, acc_test %f, time %s '% \n",
    "          (epoch+1, loss_train_2[epoch], loss_test_2[epoch], acc_train_2[epoch], acc_test_2[epoch], end - start))\n",
    "total_time_end_2 = datetime.datetime.now()\n",
    "print(\"lr=0.0005的运行时间：\",total_time_end_2 - total_time_start_2)"
   ]
  },
  {
   "cell_type": "code",
   "execution_count": 6,
   "metadata": {},
   "outputs": [],
   "source": [
    "fp_1=open('0.0001 1024.txt','r',encoding='utf-8')\n",
    "loss_train_1 = []\n",
    "loss_test_1 = []\n",
    "acc_train_1 = []\n",
    "acc_test_1 = []\n",
    "for line in fp_1:\n",
    "    line = line.strip(u'\\\\n')\n",
    "    _, train_l, test_l, train_acc, test_acc, _ = line.split(u' ')\n",
    "    loss_train_1.append(float(train_l))\n",
    "    acc_train_1.append(float(train_acc))\n",
    "    loss_test_1.append(float(test_l))\n",
    "    acc_test_1.append(float(test_acc))\n",
    "\n",
    "fp_2=open('0.0005 1024.txt','r',encoding='utf-8')\n",
    "loss_train_2 = []\n",
    "loss_test_2 = []\n",
    "acc_train_2 = []\n",
    "acc_test_2 = []\n",
    "for line in fp_2:\n",
    "    line = line.strip(u'\\\\n')\n",
    "    _, train_l, test_l, train_acc, test_acc, _ = line.split(u' ')\n",
    "    loss_train_2.append(float(train_l))\n",
    "    acc_train_2.append(float(train_acc))\n",
    "    loss_test_2.append(float(test_l))\n",
    "    acc_test_2.append(float(test_acc))"
   ]
  },
  {
   "cell_type": "code",
   "execution_count": 7,
   "metadata": {},
   "outputs": [
    {
     "data": {
      "image/png": "[encoded data removed]",
      "text/plain": [
       "<Figure size 432x288 with 1 Axes>"
      ]
     },
     "metadata": {
      "needs_background": "light"
     },
     "output_type": "display_data"
    }
   ],
   "source": [
    "plt.plot(loss_train_1,label='lr=0.0001', color='orange')\n",
    "plt.plot(loss_train_2,label='lr=0.0005',color='blue')\n",
    "plt.ylabel(\"loss\")\n",
    "plt.xlabel(\"epoch\")\n",
    "plt.title(\"Train Loss\")\n",
    "plt.legend()\n",
    "plt.show()"
   ]
  },
  {
   "cell_type": "code",
   "execution_count": 8,
   "metadata": {},
   "outputs": [
    {
     "data": {
      "image/png": "[encoded data removed]",
      "text/plain": [
       "<Figure size 432x288 with 1 Axes>"
      ]
     },
     "metadata": {
      "needs_background": "light"
     },
     "output_type": "display_data"
    }
   ],
   "source": [
    "plt.plot(loss_test_1,label='lr=0.0001', color='orange')\n",
    "plt.plot(loss_test_2,label='lr=0.0005',color='blue')\n",
    "plt.ylabel(\"loss\")\n",
    "plt.xlabel(\"epoch\")\n",
    "plt.title(\"Test loss\")\n",
    "plt.legend()\n",
    "plt.show()"
   ]
  },
  {
   "cell_type": "code",
   "execution_count": 9,
   "metadata": {},
   "outputs": [
    {
     "data": {
      "image/png": "[encoded data removed]",
      "text/plain": [
       "<Figure size 432x288 with 1 Axes>"
      ]
     },
     "metadata": {
      "needs_background": "light"
     },
     "output_type": "display_data"
    }
   ],
   "source": [
    "plt.plot(acc_train_1,label='lr=0.0001', color='orange')\n",
    "plt.plot(acc_train_2,label='lr=0.0005',color='blue')\n",
    "plt.ylabel(\"acc\")\n",
    "plt.xlabel(\"epoch\")\n",
    "plt.title(\"Train acc\")\n",
    "plt.legend()\n",
    "plt.show()"
   ]
  },
  {
   "cell_type": "code",
   "execution_count": 10,
   "metadata": {},
   "outputs": [
    {
     "data": {
      "image/png": "[encoded data removed]",
      "text/plain": [
       "<Figure size 432x288 with 1 Axes>"
      ]
     },
     "metadata": {
      "needs_background": "light"
     },
     "output_type": "display_data"
    }
   ],
   "source": [
    "plt.plot(acc_test_1,label='lr=0.0001', color='orange')\n",
    "plt.plot(acc_test_2,label='lr=0.0005',color='blue')\n",
    "plt.ylabel(\"acc\")\n",
    "plt.xlabel(\"epoch\")\n",
    "plt.title(\"Test acc\")\n",
    "plt.legend()\n",
    "plt.show()"
   ]
  },
  {
   "cell_type": "code",
   "execution_count": 11,
   "metadata": {},
   "outputs": [
    {
     "data": {
      "text/html": [
       "<div>\n",
       "<style scoped>\n",
       "    .dataframe tbody tr th:only-of-type {\n",
       "        vertical-align: middle;\n",
       "    }\n",
       "\n",
       "    .dataframe tbody tr th {\n",
       "        vertical-align: top;\n",
       "    }\n",
       "\n",
       "    .dataframe thead th {\n",
       "        text-align: right;\n",
       "    }\n",
       "</style>\n",
       "<table border=\"1\" class=\"dataframe\">\n",
       "  <thead>\n",
       "    <tr style=\"text-align: right;\">\n",
       "      <th></th>\n",
       "      <th>Time</th>\n",
       "    </tr>\n",
       "  </thead>\n",
       "  <tbody>\n",
       "    <tr>\n",
       "      <th>lr=0.0001</th>\n",
       "      <td>0:26:52.307403</td>\n",
       "    </tr>\n",
       "    <tr>\n",
       "      <th>lr=0.0005</th>\n",
       "      <td>0:26:43.697119</td>\n",
       "    </tr>\n",
       "  </tbody>\n",
       "</table>\n",
       "</div>"
      ],
      "text/plain": [
       "                     Time\n",
       "lr=0.0001  0:26:52.307403\n",
       "lr=0.0005  0:26:43.697119"
      ]
     },
     "execution_count": 11,
     "metadata": {},
     "output_type": "execute_result"
    }
   ],
   "source": [
    "data=[{\"Time\":\"0:26:52.307403\"},{\"Time\":\"0:26:43.697119\"}]\n",
    "df = pd.DataFrame(data,columns=['Time'],index = ['lr=0.0001', 'lr=0.0005'])\n",
    "df"
   ]
  },
  {
   "cell_type": "code",
   "execution_count": null,
   "metadata": {},
   "outputs": [],
   "source": []
  }
 ],
 "metadata": {
  "kernelspec": {
   "display_name": "Python 3",
   "language": "python",
   "name": "python3"
  },
  "language_info": {
   "codemirror_mode": {
    "name": "ipython",
    "version": 3
   },
   "file_extension": ".py",
   "mimetype": "text/x-python",
   "name": "python",
   "nbconvert_exporter": "python",
   "pygments_lexer": "ipython3",
   "version": "3.7.4"
  },
  "toc": {
   "base_numbering": 1,
   "nav_menu": {},
   "number_sections": true,
   "sideBar": true,
   "skip_h1_title": false,
   "title_cell": "Table of Contents",
   "title_sidebar": "Contents",
   "toc_cell": false,
   "toc_position": {},
   "toc_section_display": true,
   "toc_window_display": false
  },
  "varInspector": {
   "cols": {
    "lenName": 16,
    "lenType": 16,
    "lenVar": 40
   },
   "kernels_config": {
    "python": {
     "delete_cmd_postfix": "",
     "delete_cmd_prefix": "del ",
     "library": "var_list.py",
     "varRefreshCmd": "print(var_dic_list())"
    },
    "r": {
     "delete_cmd_postfix": ") ",
     "delete_cmd_prefix": "rm(",
     "library": "var_list.r",
     "varRefreshCmd": "cat(var_dic_list()) "
    }
   },
   "types_to_exclude": [
    "module",
    "function",
    "builtin_function_or_method",
    "instance",
    "_Feature"
   ],
   "window_display": false
  }
 },
 "nbformat": 4,
 "nbformat_minor": 4
}
