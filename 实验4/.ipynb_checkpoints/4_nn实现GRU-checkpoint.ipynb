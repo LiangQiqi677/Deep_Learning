{
 "cells": [
  {
   "cell_type": "code",
   "execution_count": 1,
   "metadata": {},
   "outputs": [],
   "source": [
    "import pandas as pd\n",
    "import numpy as np\n",
    "import torch\n",
    "import torch.nn as nn\n",
    "import math\n",
    "import datetime\n",
    "import matplotlib.pyplot as plt\n",
    "from sklearn.utils import shuffle"
   ]
  },
  {
   "cell_type": "code",
   "execution_count": 2,
   "metadata": {},
   "outputs": [],
   "source": [
    "# ==================== 读取数据 ==================== #\n",
    "\n",
    "df = pd.read_csv('FS_NYC.csv')                          #自动把第一行做列属性\n",
    "df = df.loc[:,['userId','venueCategory']]               #取出用户ID和地点ID\n",
    "\n",
    "# ==================== 获得地址字典 ==================== #\n",
    "\n",
    "location = []                                           #取出所有的地址\n",
    "for i in range(df.shape[0]):\n",
    "    location.append(df.iloc[i,1])\n",
    "location = list(set(location))                          #去重\n",
    "loc_dict = dict(zip(location,range(len(location))))     #给这251个地点创建字典\n",
    "\n",
    "# ==================== 分组获得每个人的运动轨迹 ==================== #\n",
    "\n",
    "loc_rep = df.replace(loc_dict)                          #将地址名称替换成字典里的数字\n",
    "\n",
    "def sliding_window(seq, window_size):\n",
    "    result = []\n",
    "    for i in range(len(seq)-window_size):\n",
    "        result.append(seq[i:i+window_size])\n",
    "    return result\n",
    "\n",
    "train_set, test_set = [], []\n",
    "window_size = 10   #窗口大小为10\n",
    "for userId, group in loc_rep.groupby('userId'):\n",
    "    full_seq = group['venueCategory']\n",
    "    full_len = full_seq.shape[0]\n",
    "    train_seq = full_seq.iloc[:int(full_len*0.7)].to_list()\n",
    "    test_seq = full_seq.iloc[int(full_len*0.7):].to_list()\n",
    "    train_set += sliding_window(train_seq, window_size)\n",
    "    test_set += sliding_window(test_seq, window_size)"
   ]
  },
  {
   "cell_type": "code",
   "execution_count": 3,
   "metadata": {},
   "outputs": [],
   "source": [
    "# ==================== GRU模型 ==================== #\n",
    "\n",
    "class Gru(nn.Module):\n",
    "    def __init__(self, input_size, hidden_size, output_size):\n",
    "        super().__init__()\n",
    "        self.hidden_size = hidden_size\n",
    "        self.embedding = nn.Embedding(num_embeddings=input_size, embedding_dim=hidden_size)\n",
    "        #一定要加batch_first=True，因为我们的输入x是[batch,seq,input],但是默认的是[seq,batch,input]\n",
    "        self.gru = nn.GRU(input_size=hidden_size, hidden_size=hidden_size, num_layers=1, batch_first=True)\n",
    "        self.out = nn.Linear(hidden_size,output_size)\n",
    "        \n",
    "    def forward(self, x):\n",
    "        batch_size = x.size(0)\n",
    "        seq_len = x.size(1)                                           # x: torch.Size([128, 10])\n",
    "        x = self.embedding(x)                                         # x: torch.Size([128, 10, 32])\n",
    "        h = torch.zeros(1, batch_size, self.hidden_size).to(x.device) # h: #torch.Size([1, 128, 128])  \n",
    "        y_list = []\n",
    "        for i in range(seq_len):\n",
    "            y, h = self.gru(x, h)\n",
    "            y_list.append(self.out(y[:, i, :]))\n",
    "        return h, torch.stack(y_list, dim=1)\n",
    "\n",
    "def next_batch(data, batch_size):\n",
    "    data_length = len(data)\n",
    "    num_batches = math.ceil(data_length / batch_size)\n",
    "    for batch_index in range(num_batches):\n",
    "        start_index = batch_index * batch_size\n",
    "        end_index = min((batch_index + 1) * batch_size, data_length)\n",
    "        yield data[start_index:end_index]\n",
    "\n",
    "def train_evaluate(model, data_set, batch_size, optimizer):\n",
    "    model.train()\n",
    "    train_l_sum, train_acc_sum, n = 0.0, 0.0, 0\n",
    "    for batch in next_batch(shuffle(data_set), batch_size):\n",
    "        batch = torch.from_numpy(np.array(batch)).long().to(device) #embedding层的输入需要long形式\n",
    "        x = batch[:, :window_size-1].long().to(device)\n",
    "        label =  batch[: , -1].long().to(device)\n",
    "        hidden, out = model(x)                                 #输入直接是(batch_size, seq)，不用扩展最后一维\n",
    "        prediction = out[:, -1, :].squeeze(-1)\n",
    "        loss = loss_func(prediction, label)\n",
    "        optimizer.zero_grad()\n",
    "        loss.backward()\n",
    "        optimizer.step()\n",
    "        train_l_sum += loss.item()\n",
    "        train_acc_sum += (prediction.argmax(dim=1) == label).sum().item() / label.shape[0]\n",
    "        n += 1  #每个batch+1\n",
    "    return train_l_sum/n, train_acc_sum/n\n",
    "\n",
    "def test_evaluate(model, data_set, batch_size):\n",
    "    model.eval()\n",
    "    train_l_sum, train_acc_sum, n = 0.0, 0.0, 0\n",
    "    with torch.no_grad():\n",
    "        for batch in next_batch(shuffle(data_set), batch_size):\n",
    "            batch = torch.from_numpy(np.array(batch)).long().to(device) #embedding层的输入需要long形式\n",
    "            x = batch[:, :window_size-1].long().to(device)\n",
    "            label =  batch[: , -1].long().to(device)\n",
    "            hidden, out = model(x)                                 #输入直接是(batch_size, seq)，不用扩展最后一维\n",
    "            prediction = out[:, -1, :].squeeze(-1)\n",
    "            loss = loss_func(prediction, label)\n",
    "            train_l_sum += loss.item()\n",
    "            train_acc_sum += (prediction.argmax(dim=1) == label).sum().item() / label.shape[0]\n",
    "            n += 1  #每个batch+1\n",
    "    return train_l_sum/n, train_acc_sum/n"
   ]
  },
  {
   "cell_type": "code",
   "execution_count": 4,
   "metadata": {},
   "outputs": [
    {
     "name": "stdout",
     "output_type": "stream",
     "text": [
      "epoch 1, loss_train 3.725537, loss_test 3.625729, acc_train 0.213625, acc_test 0.217108, time 0:02:01.648204\n",
      "epoch 2, loss_train 3.475442, loss_test 3.590662, acc_train 0.232530, acc_test 0.219480, time 0:02:01.668098\n",
      "epoch 3, loss_train 3.370984, loss_test 3.580991, acc_train 0.244910, acc_test 0.220708, time 0:02:02.115303\n",
      "epoch 4, loss_train 3.273023, loss_test 3.587643, acc_train 0.258080, acc_test 0.218904, time 0:02:02.220435\n",
      "epoch 5, loss_train 3.161582, loss_test 3.606266, acc_train 0.272537, acc_test 0.218204, time 0:02:02.438629\n",
      "epoch 6, loss_train 3.034964, loss_test 3.634934, acc_train 0.289810, acc_test 0.214039, time 0:02:02.476815\n",
      "epoch 7, loss_train 2.888856, loss_test 3.683926, acc_train 0.311899, acc_test 0.208844, time 0:01:02.920759\n",
      "epoch 8, loss_train 2.719336, loss_test 3.754574, acc_train 0.338984, acc_test 0.199949, time 0:00:58.272798\n",
      "epoch 9, loss_train 2.530626, loss_test 3.840886, acc_train 0.370156, acc_test 0.189892, time 0:00:58.251231\n",
      "epoch 10, loss_train 2.323222, loss_test 3.965637, acc_train 0.409827, acc_test 0.178939, time 0:00:58.181200\n",
      "epoch 11, loss_train 2.096006, loss_test 4.110641, acc_train 0.458995, acc_test 0.171546, time 0:00:58.192597\n",
      "epoch 12, loss_train 1.863619, loss_test 4.287352, acc_train 0.513657, acc_test 0.158505, time 0:00:58.132080\n",
      "epoch 13, loss_train 1.629001, loss_test 4.492919, acc_train 0.572889, acc_test 0.148102, time 0:00:58.319679\n",
      "epoch 14, loss_train 1.403164, loss_test 4.707124, acc_train 0.634657, acc_test 0.143284, time 0:00:58.385875\n",
      "epoch 15, loss_train 1.192321, loss_test 4.939142, acc_train 0.694962, acc_test 0.134534, time 0:00:58.222598\n",
      "epoch 16, loss_train 0.998656, loss_test 5.183499, acc_train 0.752597, acc_test 0.127879, time 0:00:58.280166\n",
      "epoch 17, loss_train 0.829897, loss_test 5.421759, acc_train 0.801711, acc_test 0.125954, time 0:00:58.485271\n",
      "epoch 18, loss_train 0.686647, loss_test 5.659961, acc_train 0.842834, acc_test 0.118961, time 0:00:58.218132\n",
      "epoch 19, loss_train 0.567918, loss_test 5.881935, acc_train 0.876175, acc_test 0.118359, time 0:00:58.275927\n",
      "epoch 20, loss_train 0.467017, loss_test 6.115139, acc_train 0.902932, acc_test 0.115615, time 0:00:58.301475\n",
      "epoch 21, loss_train 0.390197, loss_test 6.312598, acc_train 0.921476, acc_test 0.113006, time 0:00:58.069373\n",
      "epoch 22, loss_train 0.328033, loss_test 6.529316, acc_train 0.936098, acc_test 0.112148, time 0:00:58.125187\n",
      "epoch 23, loss_train 0.280234, loss_test 6.712618, acc_train 0.947218, acc_test 0.111807, time 0:00:58.041346\n",
      "epoch 24, loss_train 0.244125, loss_test 6.867745, acc_train 0.953789, acc_test 0.107695, time 0:00:58.001632\n",
      "epoch 25, loss_train 0.215968, loss_test 7.011003, acc_train 0.959751, acc_test 0.108159, time 0:00:57.887107\n",
      "epoch 26, loss_train 0.188964, loss_test 7.153949, acc_train 0.964290, acc_test 0.109619, time 0:00:57.829368\n",
      "epoch 27, loss_train 0.171114, loss_test 7.284871, acc_train 0.968061, acc_test 0.108021, time 0:00:57.782747\n",
      "epoch 28, loss_train 0.159426, loss_test 7.401640, acc_train 0.969189, acc_test 0.111348, time 0:00:57.938191\n",
      "epoch 29, loss_train 0.155760, loss_test 7.471274, acc_train 0.969799, acc_test 0.111443, time 0:00:57.917207\n",
      "epoch 30, loss_train 0.145813, loss_test 7.560098, acc_train 0.971674, acc_test 0.107997, time 0:00:57.933346\n",
      "epoch 31, loss_train 0.141777, loss_test 7.633508, acc_train 0.972430, acc_test 0.107153, time 0:00:57.810525\n",
      "epoch 32, loss_train 0.131816, loss_test 7.731715, acc_train 0.974146, acc_test 0.108120, time 0:00:57.879614\n",
      "epoch 33, loss_train 0.134812, loss_test 7.807249, acc_train 0.973842, acc_test 0.107521, time 0:00:57.795474\n",
      "epoch 34, loss_train 0.128845, loss_test 7.874025, acc_train 0.974264, acc_test 0.107188, time 0:00:57.832460\n",
      "epoch 35, loss_train 0.126095, loss_test 7.951531, acc_train 0.974918, acc_test 0.106036, time 0:00:57.698218\n",
      "epoch 36, loss_train 0.118471, loss_test 8.044654, acc_train 0.976480, acc_test 0.106677, time 0:00:57.706209\n",
      "epoch 37, loss_train 0.106670, loss_test 8.168228, acc_train 0.978515, acc_test 0.107157, time 0:00:57.691596\n",
      "epoch 38, loss_train 0.098736, loss_test 8.211548, acc_train 0.979724, acc_test 0.107179, time 0:00:57.748258\n",
      "epoch 39, loss_train 0.087623, loss_test 8.313723, acc_train 0.981902, acc_test 0.108523, time 0:00:57.701114\n",
      "epoch 40, loss_train 0.081624, loss_test 8.410279, acc_train 0.982861, acc_test 0.110307, time 0:00:57.824856\n",
      "epoch 41, loss_train 0.086409, loss_test 8.447108, acc_train 0.981531, acc_test 0.107936, time 0:00:57.761358\n",
      "epoch 42, loss_train 0.094436, loss_test 8.453124, acc_train 0.980347, acc_test 0.108006, time 0:00:57.731952\n",
      "epoch 43, loss_train 0.108445, loss_test 8.455105, acc_train 0.977208, acc_test 0.107213, time 0:00:57.705582\n",
      "epoch 44, loss_train 0.165838, loss_test 8.331412, acc_train 0.960902, acc_test 0.101967, time 0:00:57.802553\n",
      "epoch 45, loss_train 0.187612, loss_test 8.345327, acc_train 0.955163, acc_test 0.105971, time 0:00:57.813834\n",
      "epoch 46, loss_train 0.123012, loss_test 8.478064, acc_train 0.973354, acc_test 0.107582, time 0:00:57.907391\n",
      "epoch 47, loss_train 0.076248, loss_test 8.631206, acc_train 0.984180, acc_test 0.106453, time 0:00:57.689946\n",
      "epoch 48, loss_train 0.051354, loss_test 8.731546, acc_train 0.988332, acc_test 0.109255, time 0:00:57.802027\n",
      "epoch 49, loss_train 0.043601, loss_test 8.876078, acc_train 0.989282, acc_test 0.107531, time 0:00:57.831526\n",
      "epoch 50, loss_train 0.041075, loss_test 8.956268, acc_train 0.989695, acc_test 0.107755, time 0:00:57.784396\n",
      "利用torch.nn实现GRU的运行时间： 0:54:48.080403\n"
     ]
    }
   ],
   "source": [
    "device = 'cuda:2'\n",
    "num_class = len(loc_dict)\n",
    "model = Gru(input_size=num_class, hidden_size=1024, output_size=num_class).to(device) #输出size是地址类别\n",
    "\n",
    "loss_func = nn.CrossEntropyLoss()                                    #多分类问题使用CrossEntropyLoss函数\n",
    "optimizer = torch.optim.Adam(model.parameters(), lr=0.0005, weight_decay=0.00001)\n",
    "scheduler = torch.optim.lr_scheduler.MultiStepLR(optimizer, milestones=[45,50], gamma=0.1)\n",
    "\n",
    "loss_train = []\n",
    "loss_test = []\n",
    "acc_train = []\n",
    "acc_test = []\n",
    "batch_size = 1024\n",
    "num_epoch = 50\n",
    "total_time_start = datetime.datetime.now()\n",
    "for epoch in range(num_epoch):\n",
    "    start = datetime.datetime.now()\n",
    "    train_l, train_acc = train_evaluate(model, train_set, batch_size, optimizer)\n",
    "    test_l, test_acc = test_evaluate(model, test_set, batch_size)\n",
    "    #scheduler.step()\n",
    "    loss_train.append(train_l)\n",
    "    acc_train.append(train_acc)\n",
    "    loss_test.append(test_l)\n",
    "    acc_test.append(test_acc)\n",
    "    end = datetime.datetime.now()\n",
    "    print('epoch %d, loss_train %f, loss_test %f, acc_train %f, acc_test %f, time %s'% \n",
    "          (epoch+1, loss_train[epoch], loss_test[epoch], acc_train[epoch], acc_test[epoch], end - start))\n",
    "total_time_end = datetime.datetime.now()\n",
    "print(\"利用torch.nn实现GRU的运行时间：\",total_time_end - total_time_start)"
   ]
  },
  {
   "cell_type": "code",
   "execution_count": 9,
   "metadata": {},
   "outputs": [
    {
     "data": {
      "image/png": "[encoded data removed]",
      "text/plain": [
       "<Figure size 432x288 with 1 Axes>"
      ]
     },
     "metadata": {
      "needs_background": "light"
     },
     "output_type": "display_data"
    }
   ],
   "source": [
    "plt.plot(loss_train ,label='train',color='royalblue')\n",
    "plt.ylabel(\"loss\")\n",
    "plt.xlabel(\"epoch\")\n",
    "plt.title(\"GRU: Loss\")\n",
    "plt.legend()\n",
    "plt.show()"
   ]
  },
  {
   "cell_type": "code",
   "execution_count": 10,
   "metadata": {},
   "outputs": [
    {
     "data": {
      "image/png": "[encoded data removed]",
      "text/plain": [
       "<Figure size 432x288 with 1 Axes>"
      ]
     },
     "metadata": {
      "needs_background": "light"
     },
     "output_type": "display_data"
    }
   ],
   "source": [
    "plt.plot(acc_train ,label='train',color='royalblue')\n",
    "plt.ylabel(\"acc\")\n",
    "plt.xlabel(\"epoch\")\n",
    "plt.title(\"GRU: Acc\")\n",
    "plt.legend()\n",
    "plt.show()"
   ]
  },
  {
   "cell_type": "code",
   "execution_count": 11,
   "metadata": {},
   "outputs": [
    {
     "data": {
      "image/png": "[encoded data removed]",
      "text/plain": [
       "<Figure size 432x288 with 1 Axes>"
      ]
     },
     "metadata": {
      "needs_background": "light"
     },
     "output_type": "display_data"
    }
   ],
   "source": [
    "plt.plot(loss_train ,label='train',color='royalblue')\n",
    "plt.plot(loss_test ,label='test', color='orange')\n",
    "plt.ylabel(\"loss\")\n",
    "plt.xlabel(\"epoch\")\n",
    "plt.title(\"GRU: Loss\")\n",
    "plt.legend()\n",
    "plt.show()"
   ]
  },
  {
   "cell_type": "code",
   "execution_count": 12,
   "metadata": {},
   "outputs": [
    {
     "data": {
      "image/png": "[encoded data removed]",
      "text/plain": [
       "<Figure size 432x288 with 1 Axes>"
      ]
     },
     "metadata": {
      "needs_background": "light"
     },
     "output_type": "display_data"
    }
   ],
   "source": [
    "plt.plot(acc_train ,label='train',color='royalblue')\n",
    "plt.plot(acc_test ,label='test', color='orange')\n",
    "plt.ylabel(\"acc\")\n",
    "plt.xlabel(\"epoch\")\n",
    "plt.title(\"GRU: Acc\")\n",
    "plt.legend()\n",
    "plt.show()"
   ]
  },
  {
   "cell_type": "code",
   "execution_count": null,
   "metadata": {},
   "outputs": [],
   "source": []
  }
 ],
 "metadata": {
  "kernelspec": {
   "display_name": "Python 3",
   "language": "python",
   "name": "python3"
  },
  "language_info": {
   "codemirror_mode": {
    "name": "ipython",
    "version": 3
   },
   "file_extension": ".py",
   "mimetype": "text/x-python",
   "name": "python",
   "nbconvert_exporter": "python",
   "pygments_lexer": "ipython3",
   "version": "3.7.7"
  },
  "toc": {
   "base_numbering": 1,
   "nav_menu": {},
   "number_sections": true,
   "sideBar": true,
   "skip_h1_title": false,
   "title_cell": "Table of Contents",
   "title_sidebar": "Contents",
   "toc_cell": false,
   "toc_position": {},
   "toc_section_display": true,
   "toc_window_display": false
  },
  "varInspector": {
   "cols": {
    "lenName": 16,
    "lenType": 16,
    "lenVar": 40
   },
   "kernels_config": {
    "python": {
     "delete_cmd_postfix": "",
     "delete_cmd_prefix": "del ",
     "library": "var_list.py",
     "varRefreshCmd": "print(var_dic_list())"
    },
    "r": {
     "delete_cmd_postfix": ") ",
     "delete_cmd_prefix": "rm(",
     "library": "var_list.r",
     "varRefreshCmd": "cat(var_dic_list()) "
    }
   },
   "types_to_exclude": [
    "module",
    "function",
    "builtin_function_or_method",
    "instance",
    "_Feature"
   ],
   "window_display": false
  }
 },
 "nbformat": 4,
 "nbformat_minor": 4
}
