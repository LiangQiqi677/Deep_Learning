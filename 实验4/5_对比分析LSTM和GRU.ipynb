{
 "cells": [
  {
   "cell_type": "code",
   "execution_count": 1,
   "metadata": {},
   "outputs": [],
   "source": [
    "import pandas as pd\n",
    "import numpy as np\n",
    "import torch\n",
    "import torch.nn as nn\n",
    "import math\n",
    "import datetime\n",
    "import matplotlib.pyplot as plt\n",
    "from sklearn.utils import shuffle"
   ]
  },
  {
   "cell_type": "code",
   "execution_count": 2,
   "metadata": {},
   "outputs": [],
   "source": [
    "# ==================== 读取数据 ==================== #\n",
    "\n",
    "df = pd.read_csv('FS_NYC.csv')                          #自动把第一行做列属性\n",
    "df = df.loc[:,['userId','venueCategory']]               #取出用户ID和地点ID\n",
    "\n",
    "# ==================== 获得地址字典 ==================== #\n",
    "\n",
    "location = []                                           #取出所有的地址\n",
    "for i in range(df.shape[0]):\n",
    "    location.append(df.iloc[i,1])\n",
    "location = list(set(location))                          #去重\n",
    "loc_dict = dict(zip(location,range(len(location)))) #给这251个地点创建字典\n",
    "\n",
    "# ==================== 分组获得每个人的运动轨迹 ==================== #\n",
    "\n",
    "loc_rep = df.replace(loc_dict)                          #将地址名称替换成字典里的数字\n",
    "\n",
    "def sliding_window(seq, window_size):\n",
    "    result = []\n",
    "    for i in range(len(seq)-window_size):\n",
    "        result.append(seq[i:i+window_size])\n",
    "    return result\n",
    "\n",
    "train_set, test_set = [], []\n",
    "window_size = 10   #窗口大小为10\n",
    "for userId, group in loc_rep.groupby('userId'):\n",
    "    full_seq = group['venueCategory']\n",
    "    full_len = full_seq.shape[0]\n",
    "    train_seq = full_seq.iloc[:int(full_len*0.8)].to_list()\n",
    "    test_seq = full_seq.iloc[int(full_len*0.8):].to_list()\n",
    "    train_set += sliding_window(train_seq, window_size)\n",
    "    test_set += sliding_window(test_seq, window_size)"
   ]
  },
  {
   "cell_type": "code",
   "execution_count": 3,
   "metadata": {},
   "outputs": [],
   "source": [
    "# ==================== LSTM模型 ==================== #\n",
    "\n",
    "class MyLSTM(nn.Module):\n",
    "    def __init__(self, input_size, hidden_size, output_size):\n",
    "        super().__init__()\n",
    "        self.hidden_size = hidden_size\n",
    "        \n",
    "        self.embedding = nn.Embedding(num_embeddings=input_size, embedding_dim=hidden_size)\n",
    "        self.gates = nn.Linear(hidden_size+hidden_size, hidden_size*4)\n",
    "        self.sigmoid = nn.Sigmoid()\n",
    "        self.tanh = nn.Tanh()\n",
    "        self.out = nn.Linear(hidden_size, output_size)\n",
    "        \n",
    "        for param in self.parameters():\n",
    "            if param.dim() > 1:\n",
    "                nn.init.xavier_uniform_(param)\n",
    "        \n",
    "    def forward(self, x):\n",
    "        batch_size = x.size(0)\n",
    "        seq_len = x.size(1)\n",
    "        x = self.embedding(x)\n",
    "        h = torch.zeros(batch_size, self.hidden_size).to(x.device)\n",
    "        c = torch.zeros(batch_size, self.hidden_size).to(x.device)\n",
    "        y_list = []\n",
    "        for i in range(seq_len):\n",
    "            forget_gate, input_gate, \\\n",
    "            output_gate, candidate_cell = self.gates(torch.cat([x[:, i, :], h], dim=-1)).chunk(4, -1)\n",
    "            forget_gate, input_gate, output_gate = (self.sigmoid(g) for g in (forget_gate, input_gate, output_gate))\n",
    "            c = forget_gate * c + input_gate * self.tanh(candidate_cell)\n",
    "            h = output_gate * self.tanh(c)\n",
    "            y_list.append(self.out(h))\n",
    "        return (h,c) , torch.stack(y_list, dim=1)\n",
    "    \n",
    "# ==================== GRU模型 ==================== #\n",
    "\n",
    "class MyGRU(nn.Module):\n",
    "    def __init__(self, input_size, hidden_size, output_size):\n",
    "        super().__init__()\n",
    "        self.hidden_size = hidden_size\n",
    "        \n",
    "        self.embedding = nn.Embedding(num_embeddings=input_size, embedding_dim=hidden_size)\n",
    "        self.gates = nn.Linear(hidden_size+hidden_size, hidden_size*2)\n",
    "        self.hidden_transform = nn.Linear(hidden_size+hidden_size, hidden_size)\n",
    "        self.sigmoid = nn.Sigmoid()\n",
    "        self.tanh = nn.Tanh()\n",
    "        self.out = nn.Linear(hidden_size, output_size)\n",
    "        \n",
    "        for param in self.parameters():\n",
    "            if param.dim() > 1:\n",
    "                nn.init.xavier_uniform_(param)\n",
    "        \n",
    "    def forward(self, x):\n",
    "        batch_size = x.size(0)\n",
    "        seq_len = x.size(1)\n",
    "        x = self.embedding(x)\n",
    "        h = torch.zeros(batch_size, self.hidden_size).to(x.device)\n",
    "        y_list = []\n",
    "        for i in range(seq_len):\n",
    "            update_gate, reset_gate = self.gates(torch.cat([x[:, i, :], h], dim=-1)).chunk(2, -1)\n",
    "            update_gate, reset_gate = (self.sigmoid(g) for g in (update_gate, reset_gate))\n",
    "            candidate_hidden = self.tanh(self.hidden_transform(torch.cat([x[:, i, :], reset_gate * h], dim=-1)))\n",
    "            h = (1 - update_gate) * h + update_gate * candidate_hidden\n",
    "            y_list.append(self.out(h))\n",
    "        return h , torch.stack(y_list, dim=1)\n",
    "\n",
    "def next_batch(data, batch_size):\n",
    "    data_length = len(data)\n",
    "    num_batches = math.ceil(data_length / batch_size)\n",
    "    for batch_index in range(num_batches):\n",
    "        start_index = batch_index * batch_size\n",
    "        end_index = min((batch_index + 1) * batch_size, data_length)\n",
    "        yield data[start_index:end_index]\n",
    "    \n",
    "def train_evaluate(model, data_set, batch_size, optimizer):\n",
    "    model.train()\n",
    "    train_l_sum, train_acc_sum, n = 0.0, 0.0, 0\n",
    "    for batch in next_batch(shuffle(data_set), batch_size):\n",
    "        batch = torch.from_numpy(np.array(batch)).long().to(device) #embedding层的输入需要long形式\n",
    "        x = batch[:, :window_size-1].long().to(device)\n",
    "        label =  batch[: , -1].long().to(device)\n",
    "        hidden, out = model(x)                                 #输入直接是(batch_size, seq)，不用扩展最后一维\n",
    "        prediction = out[:, -1, :].squeeze(-1)\n",
    "        loss = loss_func(prediction, label)\n",
    "        optimizer.zero_grad()\n",
    "        loss.backward()\n",
    "        optimizer.step()\n",
    "        train_l_sum += loss.item()\n",
    "        train_acc_sum += (prediction.argmax(dim=1) == label).sum().item() / label.shape[0]\n",
    "        n += 1  #每个batch+1\n",
    "    return train_l_sum/n, train_acc_sum/n\n",
    "\n",
    "def test_evaluate(model, data_set, batch_size):\n",
    "    model.eval()\n",
    "    train_l_sum, train_acc_sum, n = 0.0, 0.0, 0\n",
    "    with torch.no_grad():\n",
    "        for batch in next_batch(shuffle(data_set), batch_size):\n",
    "            batch = torch.from_numpy(np.array(batch)).long().to(device) #embedding层的输入需要long形式\n",
    "            x = batch[:, :window_size-1].long().to(device)\n",
    "            label =  batch[: , -1].long().to(device)\n",
    "            hidden, out = model(x)                                 #输入直接是(batch_size, seq)，不用扩展最后一维\n",
    "            prediction = out[:, -1, :].squeeze(-1)\n",
    "            loss = loss_func(prediction, label)\n",
    "            train_l_sum += loss.item()\n",
    "            train_acc_sum += (prediction.argmax(dim=1) == label).sum().item() / label.shape[0]\n",
    "            n += 1  #每个batch+1\n",
    "    return train_l_sum/n, train_acc_sum/n"
   ]
  },
  {
   "cell_type": "code",
   "execution_count": 5,
   "metadata": {},
   "outputs": [
    {
     "name": "stdout",
     "output_type": "stream",
     "text": [
      "epoch 1, loss_train 1.183920, loss_test 0.050915, acc_train 0.801431, acc_test 0.996971, time 0:00:12.651059\n",
      "epoch 2, loss_train 0.015271, loss_test 0.006625, acc_train 0.999438, acc_test 0.999858, time 0:00:12.638545\n",
      "epoch 3, loss_train 0.003523, loss_test 0.002302, acc_train 0.999912, acc_test 0.999943, time 0:00:12.682277\n",
      "epoch 4, loss_train 0.001498, loss_test 0.001085, acc_train 0.999977, acc_test 1.000000, time 0:00:12.706070\n",
      "epoch 5, loss_train 0.000774, loss_test 0.000573, acc_train 0.999988, acc_test 1.000000, time 0:00:12.674987\n",
      "epoch 6, loss_train 0.000439, loss_test 0.000329, acc_train 1.000000, acc_test 1.000000, time 0:00:12.665707\n",
      "epoch 7, loss_train 0.000259, loss_test 0.000203, acc_train 1.000000, acc_test 1.000000, time 0:00:12.661435\n",
      "epoch 8, loss_train 0.000156, loss_test 0.000128, acc_train 1.000000, acc_test 1.000000, time 0:00:12.679134\n",
      "epoch 9, loss_train 0.000099, loss_test 0.000082, acc_train 1.000000, acc_test 1.000000, time 0:00:12.656265\n",
      "epoch 10, loss_train 0.000063, loss_test 0.000053, acc_train 1.000000, acc_test 1.000000, time 0:00:12.619581\n",
      "LSTM的运行时间： 0:02:06.637671\n"
     ]
    }
   ],
   "source": [
    "# ==================== LSTM模型 ==================== #\n",
    "\n",
    "device = 'cuda:1'\n",
    "num_class = len(loc_dict)\n",
    "model = MyLSTM(input_size=num_class, hidden_size=1024, output_size=num_class).to(device) #输出size是地址类别\n",
    "\n",
    "loss_func = nn.CrossEntropyLoss()                                    #多分类问题使用CrossEntropyLoss函数\n",
    "optimizer = torch.optim.Adam(model.parameters(), lr=0.001, weight_decay=0.00001)\n",
    "scheduler = torch.optim.lr_scheduler.MultiStepLR(optimizer, milestones=[25,30], gamma=0.1)\n",
    "\n",
    "loss_train = []\n",
    "loss_test = []\n",
    "acc_train = []\n",
    "acc_test = []\n",
    "batch_size = 4096\n",
    "num_epoch = 50\n",
    "total_time_start = datetime.datetime.now()\n",
    "for epoch in range(num_epoch):\n",
    "    start = datetime.datetime.now()\n",
    "    train_l, train_acc = train_evaluate(model, train_set, batch_size, optimizer)\n",
    "    test_l, test_acc = test_evaluate(model, test_set, batch_size)\n",
    "    #scheduler.step()\n",
    "    loss_train.append(train_l)\n",
    "    acc_train.append(train_acc)\n",
    "    loss_test.append(test_l)\n",
    "    acc_test.append(test_acc)\n",
    "    end = datetime.datetime.now()\n",
    "    print('epoch %d, loss_train %f, loss_test %f, acc_train %f, acc_test %f, time %s'% \n",
    "          (epoch+1, loss_train[epoch], loss_test[epoch], acc_train[epoch], acc_test[epoch], end - start))\n",
    "total_time_end = datetime.datetime.now()\n",
    "print(\"LSTM模型的运行时间：\",total_time_end - total_time_start)"
   ]
  },
  {
   "cell_type": "code",
   "execution_count": 6,
   "metadata": {},
   "outputs": [
    {
     "name": "stdout",
     "output_type": "stream",
     "text": [
      "epoch 1, loss_train 0.852025, loss_test 0.023983, acc_train 0.864142, acc_test 0.998613, time 0:00:18.968308\n",
      "epoch 2, loss_train 0.006749, loss_test 0.003003, acc_train 0.999801, acc_test 0.999915, time 0:00:18.925953\n",
      "epoch 3, loss_train 0.001655, loss_test 0.001115, acc_train 0.999941, acc_test 0.999972, time 0:00:19.003112\n",
      "epoch 4, loss_train 0.000740, loss_test 0.000565, acc_train 0.999982, acc_test 1.000000, time 0:00:19.006844\n",
      "epoch 5, loss_train 0.000419, loss_test 0.000270, acc_train 0.999977, acc_test 1.000000, time 0:00:17.027444\n",
      "epoch 6, loss_train 0.000225, loss_test 0.000153, acc_train 1.000000, acc_test 1.000000, time 0:00:16.318670\n",
      "epoch 7, loss_train 0.000121, loss_test 0.000094, acc_train 1.000000, acc_test 1.000000, time 0:00:16.340762\n",
      "epoch 8, loss_train 0.000070, loss_test 0.000058, acc_train 1.000000, acc_test 1.000000, time 0:00:16.199231\n",
      "epoch 9, loss_train 0.000045, loss_test 0.000037, acc_train 1.000000, acc_test 1.000000, time 0:00:16.293657\n",
      "epoch 10, loss_train 0.000029, loss_test 0.000024, acc_train 1.000000, acc_test 1.000000, time 0:00:16.280703\n",
      "GRU的运行时间： 0:02:54.366960\n"
     ]
    }
   ],
   "source": [
    "# ==================== GRU模型 ==================== #\n",
    "\n",
    "device = 'cuda:1'\n",
    "num_class = len(loc_dict)\n",
    "model = MyGRU(input_size=num_class, hidden_size=1024, output_size=num_class).to(device) #输出size是地址类别\n",
    "\n",
    "loss_func = nn.CrossEntropyLoss()                                    #多分类问题使用CrossEntropyLoss函数\n",
    "optimizer = torch.optim.Adam(model.parameters(), lr=0.0005, weight_decay=0.00001)\n",
    "scheduler = torch.optim.lr_scheduler.MultiStepLR(optimizer, milestones=[60,70], gamma=0.1)\n",
    "\n",
    "loss_train = []\n",
    "loss_test = []\n",
    "acc_train = []\n",
    "acc_test = []\n",
    "batch_size = 4096\n",
    "num_epoch = 70\n",
    "total_time_start = datetime.datetime.now()\n",
    "for epoch in range(num_epoch):\n",
    "    start = datetime.datetime.now()\n",
    "    train_l, train_acc = train_evaluate(model, train_set, batch_size, optimizer)\n",
    "    test_l, test_acc = test_evaluate(model, test_set, batch_size)\n",
    "    scheduler.step()\n",
    "    loss_train.append(train_l)\n",
    "    acc_train.append(train_acc)\n",
    "    loss_test.append(test_l)\n",
    "    acc_test.append(test_acc)\n",
    "    end = datetime.datetime.now()\n",
    "    print('epoch %d, loss_train %f, loss_test %f, acc_train %f, acc_test %f, time %s'% \n",
    "          (epoch+1, loss_train[epoch], loss_test[epoch], acc_train[epoch], acc_test[epoch], end - start))\n",
    "total_time_end = datetime.datetime.now()\n",
    "print(\"GRU模型的运行时间：\",total_time_end - total_time_start)"
   ]
  },
  {
   "cell_type": "code",
   "execution_count": 2,
   "metadata": {},
   "outputs": [],
   "source": [
    "fp_2=open('LSTM.txt','r',encoding='utf-8')\n",
    "loss_train_2 = []\n",
    "loss_test_2 = []\n",
    "acc_train_2 = []\n",
    "acc_test_2 = []\n",
    "for line in fp_2:\n",
    "    line = line.strip(u'\\\\n')\n",
    "    _, train_l, test_l, train_acc, test_acc, _ = line.split(u' ')\n",
    "    loss_train_2.append(float(train_l))\n",
    "    acc_train_2.append(float(train_acc))\n",
    "    loss_test_2.append(float(test_l))\n",
    "    acc_test_2.append(float(test_acc))\n",
    "\n",
    "fp_3=open('GRU.txt','r',encoding='utf-8')\n",
    "loss_train_3 = []\n",
    "loss_test_3 = []\n",
    "acc_train_3 = []\n",
    "acc_test_3 = []\n",
    "for line in fp_3:\n",
    "    line = line.strip(u'\\\\n')\n",
    "    _, train_l, test_l, train_acc, test_acc, _ = line.split(u' ')\n",
    "    loss_train_3.append(float(train_l))\n",
    "    acc_train_3.append(float(train_acc))\n",
    "    loss_test_3.append(float(test_l))\n",
    "    acc_test_3.append(float(test_acc))"
   ]
  },
  {
   "cell_type": "code",
   "execution_count": 3,
   "metadata": {},
   "outputs": [
    {
     "data": {
      "image/png": "[encoded data removed]",
      "text/plain": [
       "<Figure size 432x288 with 1 Axes>"
      ]
     },
     "metadata": {
      "needs_background": "light"
     },
     "output_type": "display_data"
    }
   ],
   "source": [
    "plt.plot(loss_train_2,label='LSTM', color='orange')\n",
    "plt.plot(loss_train_3,label='GRU', color='red')\n",
    "plt.ylabel(\"loss\")\n",
    "plt.xlabel(\"epoch\")\n",
    "plt.title(\"Train Loss\")\n",
    "plt.legend()\n",
    "plt.show()"
   ]
  },
  {
   "cell_type": "code",
   "execution_count": 4,
   "metadata": {},
   "outputs": [
    {
     "data": {
      "image/png": "[encoded data removed]",
      "text/plain": [
       "<Figure size 432x288 with 1 Axes>"
      ]
     },
     "metadata": {
      "needs_background": "light"
     },
     "output_type": "display_data"
    }
   ],
   "source": [
    "plt.plot(loss_test_2,label='LSTM', color='orange')\n",
    "plt.plot(loss_test_3,label='GRU', color='red')\n",
    "plt.ylabel(\"loss\")\n",
    "plt.xlabel(\"epoch\")\n",
    "plt.title(\"Test Loss\")\n",
    "plt.legend()\n",
    "plt.show()"
   ]
  },
  {
   "cell_type": "code",
   "execution_count": 5,
   "metadata": {},
   "outputs": [
    {
     "data": {
      "image/png": "[encoded data removed]",
      "text/plain": [
       "<Figure size 432x288 with 1 Axes>"
      ]
     },
     "metadata": {
      "needs_background": "light"
     },
     "output_type": "display_data"
    }
   ],
   "source": [
    "plt.plot(acc_train_2,label='LSTM', color='orange')\n",
    "plt.plot(acc_train_3,label='GRU', color='red')\n",
    "plt.ylabel(\"acc\")\n",
    "plt.xlabel(\"epoch\")\n",
    "plt.title(\"Train acc\")\n",
    "plt.legend()\n",
    "plt.show()"
   ]
  },
  {
   "cell_type": "code",
   "execution_count": 6,
   "metadata": {},
   "outputs": [
    {
     "data": {
      "image/png": "[encoded data removed]",
      "text/plain": [
       "<Figure size 432x288 with 1 Axes>"
      ]
     },
     "metadata": {
      "needs_background": "light"
     },
     "output_type": "display_data"
    }
   ],
   "source": [
    "plt.plot(acc_test_2,label='LSTM', color='orange')\n",
    "plt.plot(acc_test_3,label='GRU', color='red')\n",
    "plt.ylabel(\"acc\")\n",
    "plt.xlabel(\"epoch\")\n",
    "plt.title(\"Test acc\")\n",
    "plt.legend()\n",
    "plt.show()"
   ]
  },
  {
   "cell_type": "code",
   "execution_count": 8,
   "metadata": {},
   "outputs": [
    {
     "data": {
      "text/html": [
       "<div>\n",
       "<style scoped>\n",
       "    .dataframe tbody tr th:only-of-type {\n",
       "        vertical-align: middle;\n",
       "    }\n",
       "\n",
       "    .dataframe tbody tr th {\n",
       "        vertical-align: top;\n",
       "    }\n",
       "\n",
       "    .dataframe thead th {\n",
       "        text-align: right;\n",
       "    }\n",
       "</style>\n",
       "<table border=\"1\" class=\"dataframe\">\n",
       "  <thead>\n",
       "    <tr style=\"text-align: right;\">\n",
       "      <th></th>\n",
       "      <th>Time</th>\n",
       "    </tr>\n",
       "  </thead>\n",
       "  <tbody>\n",
       "    <tr>\n",
       "      <th>LSTM</th>\n",
       "      <td>0:09:58.124092</td>\n",
       "    </tr>\n",
       "    <tr>\n",
       "      <th>GRU</th>\n",
       "      <td>0:08:36.637671</td>\n",
       "    </tr>\n",
       "  </tbody>\n",
       "</table>\n",
       "</div>"
      ],
      "text/plain": [
       "                Time\n",
       "LSTM  0:09:58.124092\n",
       "GRU   0:08:36.637671"
      ]
     },
     "execution_count": 8,
     "metadata": {},
     "output_type": "execute_result"
    }
   ],
   "source": [
    "data=[{\"Time\":\"0:09:58.124092\"},{\"Time\":\"0:08:36.637671\"}]\n",
    "df = pd.DataFrame(data,columns=['Time'],index = ['LSTM', 'GRU'])\n",
    "df"
   ]
  },
  {
   "cell_type": "code",
   "execution_count": null,
   "metadata": {},
   "outputs": [],
   "source": []
  }
 ],
 "metadata": {
  "kernelspec": {
   "display_name": "Python 3",
   "language": "python",
   "name": "python3"
  },
  "language_info": {
   "codemirror_mode": {
    "name": "ipython",
    "version": 3
   },
   "file_extension": ".py",
   "mimetype": "text/x-python",
   "name": "python",
   "nbconvert_exporter": "python",
   "pygments_lexer": "ipython3",
   "version": "3.7.4"
  },
  "toc": {
   "base_numbering": 1,
   "nav_menu": {},
   "number_sections": true,
   "sideBar": true,
   "skip_h1_title": false,
   "title_cell": "Table of Contents",
   "title_sidebar": "Contents",
   "toc_cell": false,
   "toc_position": {},
   "toc_section_display": true,
   "toc_window_display": false
  },
  "varInspector": {
   "cols": {
    "lenName": 16,
    "lenType": 16,
    "lenVar": 40
   },
   "kernels_config": {
    "python": {
     "delete_cmd_postfix": "",
     "delete_cmd_prefix": "del ",
     "library": "var_list.py",
     "varRefreshCmd": "print(var_dic_list())"
    },
    "r": {
     "delete_cmd_postfix": ") ",
     "delete_cmd_prefix": "rm(",
     "library": "var_list.r",
     "varRefreshCmd": "cat(var_dic_list()) "
    }
   },
   "types_to_exclude": [
    "module",
    "function",
    "builtin_function_or_method",
    "instance",
    "_Feature"
   ],
   "window_display": false
  }
 },
 "nbformat": 4,
 "nbformat_minor": 4
}
