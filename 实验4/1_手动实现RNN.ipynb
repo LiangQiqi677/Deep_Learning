{
 "cells": [
  {
   "cell_type": "code",
   "execution_count": 2,
   "metadata": {},
   "outputs": [],
   "source": [
    "import pandas as pd\n",
    "import numpy as np\n",
    "import torch\n",
    "import torch.nn as nn\n",
    "import math\n",
    "import datetime\n",
    "import matplotlib.pyplot as plt\n",
    "from sklearn.utils import shuffle"
   ]
  },
  {
   "cell_type": "code",
   "execution_count": 2,
   "metadata": {},
   "outputs": [],
   "source": [
    "# ==================== 读取数据 ==================== #\n",
    "\n",
    "df = pd.read_csv('FS_NYC.csv')                          #自动把第一行做列属性\n",
    "df = df.loc[:,['userId','venueCategory']]               #取出用户ID和地点ID\n",
    "\n",
    "# ==================== 获得地址字典 ==================== #\n",
    "\n",
    "location = []                                           #取出所有的地址\n",
    "for i in range(df.shape[0]):\n",
    "    location.append(df.iloc[i,1])\n",
    "location = list(set(location))                          #去重\n",
    "loc_dict = dict(zip(location,range(len(location))))     #给这251个地点创建字典\n",
    "#print(len(loc_dict))\n",
    "\n",
    "# ==================== 分组获得每个人的运动轨迹 ==================== #\n",
    "\n",
    "loc_rep = df.replace(loc_dict)                          #将地址名称替换成字典里的数字\n",
    "\n",
    "def sliding_window(seq, window_size):\n",
    "    result = []\n",
    "    for i in range(len(seq)-window_size):\n",
    "        result.append(seq[i:i+window_size])\n",
    "    return result\n",
    "\n",
    "train_set, test_set = [], []\n",
    "window_size = 10                                        #窗口大小为10\n",
    "for userId, group in loc_rep.groupby('userId'):\n",
    "    full_seq = group['venueCategory']\n",
    "    full_len = full_seq.shape[0]\n",
    "    train_seq = full_seq.iloc[:int(full_len*0.7)].to_list()\n",
    "    test_seq = full_seq.iloc[int(full_len*0.7):].to_list()\n",
    "    train_set += sliding_window(train_seq, window_size)\n",
    "    test_set += sliding_window(test_seq, window_size)\n",
    "    \n",
    "# loc_ind = loc_rep.set_index('venueCategory')            #将地址那一列设置成index，便于后续groups操作\n",
    "# data_dict = loc_ind.groupby('userId').groups            #按照userId分组，将各个分组的index作为字典值\n",
    "# dataset = []\n",
    "# for key,value in data_dict.items():\n",
    "#     dataset.append(list(value))"
   ]
  },
  {
   "cell_type": "code",
   "execution_count": 3,
   "metadata": {},
   "outputs": [],
   "source": [
    "# ==================== RNN模型 ==================== #\n",
    "\n",
    "class MyRNN(nn.Module):\n",
    "    def __init__(self, input_size, hidden_size, output_size):\n",
    "        super().__init__()\n",
    "        self.hidden_size = hidden_size\n",
    "        self.embedding = nn.Embedding(num_embeddings=input_size, embedding_dim=hidden_size)\n",
    "        \n",
    "        self.w_h = nn.Parameter(torch.rand(hidden_size, hidden_size)) #input_size是embedding_dim\n",
    "        self.u_h = nn.Parameter(torch.rand(hidden_size, hidden_size))\n",
    "        self.b_h = nn.Parameter(torch.zeros(hidden_size))\n",
    "        \n",
    "        self.w_y = nn.Parameter(torch.rand(hidden_size, output_size))\n",
    "        self.b_y = nn.Parameter(torch.zeros(output_size))\n",
    "        \n",
    "        self.tanh = nn.Tanh()\n",
    "        self.leaky_relu = nn.LeakyReLU()\n",
    "        \n",
    "        for param in self.parameters():\n",
    "            if param.dim() > 1:\n",
    "                nn.init.xavier_uniform_(param)\n",
    "        \n",
    "\n",
    "    def forward(self, x):\n",
    "        batch_size = x.size(0)\n",
    "        seq_len = x.size(1)\n",
    "        x = self.embedding(x) #(B, 10, 1024)\n",
    "        h = torch.zeros(batch_size, self.hidden_size).to(x.device)\n",
    "        y_list = []\n",
    "        for i in range(seq_len):\n",
    "            h = self.tanh(torch.matmul(x[:, i, :], self.w_h) + torch.matmul(h, self.u_h) + self.b_h)\n",
    "            y = self.leaky_relu(torch.matmul(h, self.w_y) + self.b_y)\n",
    "            y_list.append(y)\n",
    "        return h, torch.stack(y_list, dim=1)\n",
    "\n",
    "def next_batch(data, batch_size):\n",
    "    data_length = len(data)\n",
    "    num_batches = math.ceil(data_length / batch_size)\n",
    "    for batch_index in range(num_batches):\n",
    "        start_index = batch_index * batch_size\n",
    "        end_index = min((batch_index + 1) * batch_size, data_length)\n",
    "        yield data[start_index:end_index]\n",
    "    \n",
    "def train_evaluate(model, data_set, batch_size, optimizer):\n",
    "    train_l_sum, train_acc_sum, n = 0.0, 0.0, 0\n",
    "    for batch in next_batch(shuffle(data_set), batch_size):\n",
    "        batch = torch.from_numpy(np.array(batch)).long().to(device) #embedding层的输入需要long形式\n",
    "        x = batch[:, :window_size-1].long().to(device)\n",
    "        label =  batch[: , -1].long().to(device)\n",
    "        hidden, out = model(x)                                 #输入直接是(batch_size, seq)，不用扩展最后一维\n",
    "        prediction = out[:, -1, :].squeeze(-1)\n",
    "        loss = loss_func(prediction, label)\n",
    "        optimizer.zero_grad()\n",
    "        loss.backward()\n",
    "        optimizer.step()\n",
    "        train_l_sum += loss.item()\n",
    "        train_acc_sum += (prediction.argmax(dim=1) == label).sum().item() / label.shape[0]\n",
    "        n += 1  #每个batch+1\n",
    "    return train_l_sum/n, train_acc_sum/n\n",
    "\n",
    "def test_evaluate(model, data_set, batch_size):\n",
    "    train_l_sum, train_acc_sum, n = 0.0, 0.0, 0\n",
    "    for batch in next_batch(shuffle(data_set), batch_size):\n",
    "        batch = torch.from_numpy(np.array(batch)).long().to(device) #embedding层的输入需要long形式\n",
    "        x = batch[:, :window_size-1].long().to(device)\n",
    "        label =  batch[: , -1].long().to(device)\n",
    "        hidden, out = model(x)                                 #输入直接是(batch_size, seq)，不用扩展最后一维\n",
    "        prediction = out[:, -1, :].squeeze(-1)\n",
    "        loss = loss_func(prediction, label)\n",
    "        train_l_sum += loss.item()\n",
    "        train_acc_sum += (prediction.argmax(dim=1) == label).sum().item() / label.shape[0]\n",
    "        n += 1  #每个batch+1\n",
    "    return train_l_sum/n, train_acc_sum/n"
   ]
  },
  {
   "cell_type": "code",
   "execution_count": 5,
   "metadata": {},
   "outputs": [
    {
     "name": "stdout",
     "output_type": "stream",
     "text": [
      "epoch 1, loss_train 4.211043, loss_test 3.911172, acc_train 0.176917, acc_test 0.207207, time 0:00:04.969771, lr 0.000500\n",
      "epoch 2, loss_train 3.820721, loss_test 3.791881, acc_train 0.213162, acc_test 0.214697, time 0:00:05.049719, lr 0.000500\n",
      "epoch 3, loss_train 3.721449, loss_test 3.726335, acc_train 0.221200, acc_test 0.219587, time 0:00:05.104779, lr 0.000500\n",
      "epoch 4, loss_train 3.650691, loss_test 3.685832, acc_train 0.224752, acc_test 0.220165, time 0:00:05.119471, lr 0.000500\n",
      "epoch 5, loss_train 3.605466, loss_test 3.655358, acc_train 0.228391, acc_test 0.221015, time 0:00:04.924073, lr 0.000500\n",
      "epoch 6, loss_train 3.570515, loss_test 3.620182, acc_train 0.231552, acc_test 0.224065, time 0:00:04.855666, lr 0.000500\n",
      "epoch 7, loss_train 3.537405, loss_test 3.597842, acc_train 0.233107, acc_test 0.227743, time 0:00:04.825880, lr 0.000500\n",
      "epoch 8, loss_train 3.506569, loss_test 3.591762, acc_train 0.235040, acc_test 0.226794, time 0:00:04.910305, lr 0.000500\n",
      "epoch 9, loss_train 3.478460, loss_test 3.563766, acc_train 0.238444, acc_test 0.229309, time 0:00:04.732317, lr 0.000500\n",
      "epoch 10, loss_train 3.445964, loss_test 3.547775, acc_train 0.240642, acc_test 0.229051, time 0:00:05.014253, lr 0.000500\n",
      "epoch 11, loss_train 3.418622, loss_test 3.535638, acc_train 0.243745, acc_test 0.231909, time 0:00:04.842301, lr 0.000500\n",
      "epoch 12, loss_train 3.392807, loss_test 3.520232, acc_train 0.246575, acc_test 0.233628, time 0:00:05.041299, lr 0.000500\n",
      "epoch 13, loss_train 3.367975, loss_test 3.505473, acc_train 0.248857, acc_test 0.235945, time 0:00:04.900450, lr 0.000500\n",
      "epoch 14, loss_train 3.335262, loss_test 3.495554, acc_train 0.252165, acc_test 0.236393, time 0:00:04.958086, lr 0.000500\n",
      "epoch 15, loss_train 3.308747, loss_test 3.479252, acc_train 0.256091, acc_test 0.240273, time 0:00:05.129599, lr 0.000500\n",
      "epoch 16, loss_train 3.273800, loss_test 3.463236, acc_train 0.260531, acc_test 0.240181, time 0:00:05.016172, lr 0.000500\n",
      "epoch 17, loss_train 3.242370, loss_test 3.445692, acc_train 0.263928, acc_test 0.244455, time 0:00:05.071037, lr 0.000500\n",
      "epoch 18, loss_train 3.205217, loss_test 3.432101, acc_train 0.270311, acc_test 0.246249, time 0:00:04.973417, lr 0.000500\n",
      "epoch 19, loss_train 3.168684, loss_test 3.420164, acc_train 0.273467, acc_test 0.248420, time 0:00:04.955929, lr 0.000500\n",
      "epoch 20, loss_train 3.128824, loss_test 3.395429, acc_train 0.280510, acc_test 0.253683, time 0:00:04.922308, lr 0.000500\n",
      "epoch 21, loss_train 3.085181, loss_test 3.376641, acc_train 0.287388, acc_test 0.257999, time 0:00:05.151703, lr 0.000500\n",
      "epoch 22, loss_train 3.041067, loss_test 3.366386, acc_train 0.293535, acc_test 0.258381, time 0:00:05.096488, lr 0.000500\n",
      "epoch 23, loss_train 2.992937, loss_test 3.348755, acc_train 0.301570, acc_test 0.263447, time 0:00:05.049403, lr 0.000500\n",
      "epoch 24, loss_train 2.944736, loss_test 3.323901, acc_train 0.308695, acc_test 0.267917, time 0:00:05.188121, lr 0.000500\n",
      "epoch 25, loss_train 2.894828, loss_test 3.302867, acc_train 0.316609, acc_test 0.273893, time 0:00:05.168685, lr 0.000500\n",
      "epoch 26, loss_train 2.833976, loss_test 3.280687, acc_train 0.327885, acc_test 0.278235, time 0:00:04.947030, lr 0.000500\n",
      "epoch 27, loss_train 2.775763, loss_test 3.262527, acc_train 0.337806, acc_test 0.286210, time 0:00:04.781346, lr 0.000500\n",
      "epoch 28, loss_train 2.711580, loss_test 3.238173, acc_train 0.349823, acc_test 0.292734, time 0:00:05.135267, lr 0.000500\n",
      "epoch 29, loss_train 2.639455, loss_test 3.224421, acc_train 0.364132, acc_test 0.297612, time 0:00:05.111208, lr 0.000500\n",
      "epoch 30, loss_train 2.577804, loss_test 3.203761, acc_train 0.376310, acc_test 0.305540, time 0:00:05.250855, lr 0.000500\n",
      "epoch 31, loss_train 2.513076, loss_test 3.181699, acc_train 0.388867, acc_test 0.314935, time 0:00:05.192223, lr 0.000500\n",
      "epoch 32, loss_train 2.431307, loss_test 3.154063, acc_train 0.406851, acc_test 0.324006, time 0:00:05.056917, lr 0.000500\n",
      "epoch 33, loss_train 2.356418, loss_test 3.139431, acc_train 0.423425, acc_test 0.332431, time 0:00:05.080656, lr 0.000500\n",
      "epoch 34, loss_train 2.286156, loss_test 3.127866, acc_train 0.439799, acc_test 0.339914, time 0:00:05.149259, lr 0.000500\n",
      "epoch 35, loss_train 2.209686, loss_test 3.113669, acc_train 0.458380, acc_test 0.349588, time 0:00:05.286655, lr 0.000500\n",
      "epoch 36, loss_train 2.126974, loss_test 3.095488, acc_train 0.476931, acc_test 0.359841, time 0:00:05.152285, lr 0.000500\n",
      "epoch 37, loss_train 2.044854, loss_test 3.071602, acc_train 0.494732, acc_test 0.371621, time 0:00:05.160436, lr 0.000500\n",
      "epoch 38, loss_train 1.965079, loss_test 3.056951, acc_train 0.513136, acc_test 0.380049, time 0:00:05.014659, lr 0.000500\n",
      "epoch 39, loss_train 1.886249, loss_test 3.040608, acc_train 0.533168, acc_test 0.392190, time 0:00:05.007178, lr 0.000500\n",
      "epoch 40, loss_train 1.806659, loss_test 3.035023, acc_train 0.552617, acc_test 0.400120, time 0:00:05.210126, lr 0.000500\n",
      "epoch 41, loss_train 1.727222, loss_test 3.023498, acc_train 0.572598, acc_test 0.412042, time 0:00:05.173134, lr 0.000500\n",
      "epoch 42, loss_train 1.648396, loss_test 3.015198, acc_train 0.590925, acc_test 0.422469, time 0:00:05.187390, lr 0.000500\n",
      "epoch 43, loss_train 1.572099, loss_test 3.015018, acc_train 0.611513, acc_test 0.429421, time 0:00:05.210397, lr 0.000500\n",
      "epoch 44, loss_train 1.493377, loss_test 3.010849, acc_train 0.631052, acc_test 0.439723, time 0:00:05.229552, lr 0.000500\n",
      "epoch 45, loss_train 1.413878, loss_test 2.998607, acc_train 0.655028, acc_test 0.452039, time 0:00:05.091210, lr 0.000500\n",
      "epoch 46, loss_train 1.339242, loss_test 2.995976, acc_train 0.675980, acc_test 0.463611, time 0:00:04.987687, lr 0.000500\n",
      "epoch 47, loss_train 1.266510, loss_test 3.005837, acc_train 0.693909, acc_test 0.470549, time 0:00:04.965845, lr 0.000500\n",
      "epoch 48, loss_train 1.195960, loss_test 3.005453, acc_train 0.712454, acc_test 0.480259, time 0:00:05.041351, lr 0.000500\n",
      "epoch 49, loss_train 1.138309, loss_test 3.004840, acc_train 0.729024, acc_test 0.489375, time 0:00:04.949564, lr 0.000500\n",
      "epoch 50, loss_train 1.066816, loss_test 3.018149, acc_train 0.748598, acc_test 0.496579, time 0:00:05.041701, lr 0.000500\n",
      "epoch 51, loss_train 1.002911, loss_test 3.019155, acc_train 0.768037, acc_test 0.506996, time 0:00:05.091256, lr 0.000500\n",
      "epoch 52, loss_train 0.941837, loss_test 3.029744, acc_train 0.785038, acc_test 0.513572, time 0:00:05.145809, lr 0.000500\n",
      "epoch 53, loss_train 0.885880, loss_test 3.031061, acc_train 0.800552, acc_test 0.523885, time 0:00:05.331507, lr 0.000500\n",
      "epoch 54, loss_train 0.825168, loss_test 3.049090, acc_train 0.816089, acc_test 0.527453, time 0:00:05.150181, lr 0.000500\n",
      "epoch 55, loss_train 0.778159, loss_test 3.057439, acc_train 0.830117, acc_test 0.534515, time 0:00:05.165102, lr 0.000500\n",
      "epoch 56, loss_train 0.728257, loss_test 3.070532, acc_train 0.844501, acc_test 0.538628, time 0:00:05.086937, lr 0.000500\n",
      "epoch 57, loss_train 0.683134, loss_test 3.088491, acc_train 0.857288, acc_test 0.542992, time 0:00:05.334039, lr 0.000500\n",
      "epoch 58, loss_train 0.634908, loss_test 3.099910, acc_train 0.871036, acc_test 0.549922, time 0:00:05.066869, lr 0.000500\n",
      "epoch 59, loss_train 0.588926, loss_test 3.121199, acc_train 0.884001, acc_test 0.553503, time 0:00:04.950810, lr 0.000500\n",
      "epoch 60, loss_train 0.546449, loss_test 3.141875, acc_train 0.896148, acc_test 0.559660, time 0:00:04.887556, lr 0.000050\n",
      "epoch 61, loss_train 0.385082, loss_test 3.073770, acc_train 0.947463, acc_test 0.576230, time 0:00:05.262081, lr 0.000050\n",
      "epoch 62, loss_train 0.332764, loss_test 3.071800, acc_train 0.961274, acc_test 0.578165, time 0:00:05.012535, lr 0.000050\n",
      "epoch 63, loss_train 0.321770, loss_test 3.073021, acc_train 0.963368, acc_test 0.579077, time 0:00:04.868470, lr 0.000050\n",
      "epoch 64, loss_train 0.314779, loss_test 3.079957, acc_train 0.964782, acc_test 0.579475, time 0:00:05.084117, lr 0.000050\n",
      "epoch 65, loss_train 0.309799, loss_test 3.085749, acc_train 0.966130, acc_test 0.579851, time 0:00:04.986894, lr 0.000050\n",
      "epoch 66, loss_train 0.305685, loss_test 3.086852, acc_train 0.966776, acc_test 0.580238, time 0:00:05.281253, lr 0.000050\n",
      "epoch 67, loss_train 0.300688, loss_test 3.089838, acc_train 0.968162, acc_test 0.580759, time 0:00:05.194310, lr 0.000050\n",
      "epoch 68, loss_train 0.296844, loss_test 3.095211, acc_train 0.968639, acc_test 0.580997, time 0:00:05.114006, lr 0.000050\n",
      "epoch 69, loss_train 0.295185, loss_test 3.099196, acc_train 0.968890, acc_test 0.581556, time 0:00:04.848383, lr 0.000050\n",
      "epoch 70, loss_train 0.290468, loss_test 3.101722, acc_train 0.970447, acc_test 0.581629, time 0:00:05.310049, lr 0.000005\n",
      "手动实现RNN的运行时间： 0:05:54.587870\n"
     ]
    }
   ],
   "source": [
    "device = 'cuda:1'\n",
    "num_class = len(loc_dict)\n",
    "model = MyRNN(input_size=num_class, hidden_size=1024, output_size=num_class).to(device) #输出size是地址类别\n",
    "\n",
    "loss_func = nn.CrossEntropyLoss() #多分类问题使用CrossEntropyLoss函数\n",
    "optimizer = torch.optim.Adam(model.parameters(), lr=0.0005, weight_decay=0.00005)\n",
    "scheduler = torch.optim.lr_scheduler.MultiStepLR(optimizer, milestones=[60,70], gamma=0.1)\n",
    "\n",
    "loss_train = []\n",
    "loss_test = []\n",
    "acc_train = []\n",
    "acc_test = []\n",
    "batch_size = 4096\n",
    "num_epoch = 70\n",
    "start_total = datetime.datetime.now()\n",
    "for epoch in range(num_epoch):\n",
    "    start = datetime.datetime.now()\n",
    "    train_l, train_acc = train_evaluate(model, train_set, batch_size, optimizer)\n",
    "    test_l, test_acc = test_evaluate(model, test_set, batch_size)\n",
    "    scheduler.step()\n",
    "    loss_train.append(train_l)\n",
    "    acc_train.append(train_acc)\n",
    "    loss_test.append(test_l)\n",
    "    acc_test.append(test_acc)\n",
    "    end = datetime.datetime.now()\n",
    "    print('epoch %d, loss_train %f, loss_test %f, acc_train %f, acc_test %f, time %s, lr %f'% \n",
    "          (epoch+1, loss_train[epoch], loss_test[epoch], acc_train[epoch], acc_test[epoch], end - start, \n",
    "           optimizer.param_groups[0]['lr']))\n",
    "end_total = datetime.datetime.now()\n",
    "print(\"手动实现RNN的运行时间：\",end_total - start_total)"
   ]
  },
  {
   "cell_type": "code",
   "execution_count": 6,
   "metadata": {},
   "outputs": [
    {
     "data": {
      "image/png": "[encoded data removed]",
      "text/plain": [
       "<Figure size 432x288 with 1 Axes>"
      ]
     },
     "metadata": {
      "needs_background": "light"
     },
     "output_type": "display_data"
    }
   ],
   "source": [
    "plt.plot(loss_train ,label='train',color='royalblue')\n",
    "plt.plot(loss_test ,label='test', color='orange')\n",
    "plt.ylabel(\"loss\")\n",
    "plt.xlabel(\"epoch\")\n",
    "plt.title(\"RNN: Loss\")\n",
    "plt.legend()\n",
    "plt.show()"
   ]
  },
  {
   "cell_type": "code",
   "execution_count": 7,
   "metadata": {},
   "outputs": [
    {
     "data": {
      "image/png": "[encoded data removed]",
      "text/plain": [
       "<Figure size 432x288 with 1 Axes>"
      ]
     },
     "metadata": {
      "needs_background": "light"
     },
     "output_type": "display_data"
    }
   ],
   "source": [
    "plt.plot(acc_train ,label='train',color='royalblue')\n",
    "plt.plot(acc_test ,label='test', color='orange')\n",
    "plt.ylabel(\"acc\")\n",
    "plt.xlabel(\"epoch\")\n",
    "plt.title(\"RNN: Acc\")\n",
    "plt.legend()\n",
    "plt.show()"
   ]
  },
  {
   "cell_type": "code",
   "execution_count": 5,
   "metadata": {},
   "outputs": [
    {
     "data": {
      "text/html": [
       "<div>\n",
       "<style scoped>\n",
       "    .dataframe tbody tr th:only-of-type {\n",
       "        vertical-align: middle;\n",
       "    }\n",
       "\n",
       "    .dataframe tbody tr th {\n",
       "        vertical-align: top;\n",
       "    }\n",
       "\n",
       "    .dataframe thead th {\n",
       "        text-align: right;\n",
       "    }\n",
       "</style>\n",
       "<table border=\"1\" class=\"dataframe\">\n",
       "  <thead>\n",
       "    <tr style=\"text-align: right;\">\n",
       "      <th></th>\n",
       "      <th>Time</th>\n",
       "    </tr>\n",
       "  </thead>\n",
       "  <tbody>\n",
       "    <tr>\n",
       "      <th>手动实现RNN</th>\n",
       "      <td>0:05:54.587870</td>\n",
       "    </tr>\n",
       "    <tr>\n",
       "      <th>利用torch.nn实现RNN</th>\n",
       "      <td>0:21:54.854169</td>\n",
       "    </tr>\n",
       "  </tbody>\n",
       "</table>\n",
       "</div>"
      ],
      "text/plain": [
       "                           Time\n",
       "手动实现RNN          0:05:54.587870\n",
       "利用torch.nn实现RNN  0:21:54.854169"
      ]
     },
     "execution_count": 5,
     "metadata": {},
     "output_type": "execute_result"
    }
   ],
   "source": [
    "data=[{\"Time\":\"0:05:54.587870\"},{\"Time\":\"0:21:54.854169\"}]\n",
    "df = pd.DataFrame(data,columns=['Time'],index = ['手动实现RNN', '利用torch.nn实现RNN'])\n",
    "df"
   ]
  },
  {
   "cell_type": "code",
   "execution_count": null,
   "metadata": {},
   "outputs": [],
   "source": []
  }
 ],
 "metadata": {
  "kernelspec": {
   "display_name": "Python 3",
   "language": "python",
   "name": "python3"
  },
  "language_info": {
   "codemirror_mode": {
    "name": "ipython",
    "version": 3
   },
   "file_extension": ".py",
   "mimetype": "text/x-python",
   "name": "python",
   "nbconvert_exporter": "python",
   "pygments_lexer": "ipython3",
   "version": "3.7.4"
  },
  "toc": {
   "base_numbering": 1,
   "nav_menu": {},
   "number_sections": true,
   "sideBar": true,
   "skip_h1_title": false,
   "title_cell": "Table of Contents",
   "title_sidebar": "Contents",
   "toc_cell": false,
   "toc_position": {},
   "toc_section_display": true,
   "toc_window_display": false
  },
  "varInspector": {
   "cols": {
    "lenName": 16,
    "lenType": 16,
    "lenVar": 40
   },
   "kernels_config": {
    "python": {
     "delete_cmd_postfix": "",
     "delete_cmd_prefix": "del ",
     "library": "var_list.py",
     "varRefreshCmd": "print(var_dic_list())"
    },
    "r": {
     "delete_cmd_postfix": ") ",
     "delete_cmd_prefix": "rm(",
     "library": "var_list.r",
     "varRefreshCmd": "cat(var_dic_list()) "
    }
   },
   "types_to_exclude": [
    "module",
    "function",
    "builtin_function_or_method",
    "instance",
    "_Feature"
   ],
   "window_display": false
  }
 },
 "nbformat": 4,
 "nbformat_minor": 4
}
