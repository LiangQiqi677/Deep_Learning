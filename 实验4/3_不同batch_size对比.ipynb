{
 "cells": [
  {
   "cell_type": "code",
   "execution_count": 11,
   "metadata": {},
   "outputs": [],
   "source": [
    "import pandas as pd\n",
    "import numpy as np\n",
    "import torch\n",
    "import torch.nn as nn\n",
    "import math\n",
    "import datetime\n",
    "import matplotlib.pyplot as plt\n",
    "from sklearn.utils import shuffle"
   ]
  },
  {
   "cell_type": "code",
   "execution_count": 2,
   "metadata": {},
   "outputs": [],
   "source": [
    "# ==================== 读取数据 ==================== #\n",
    "\n",
    "df = pd.read_csv('FS_NYC.csv')                          #自动把第一行做列属性\n",
    "df = df.loc[:,['userId','venueCategory']]               #取出用户ID和地点ID\n",
    "\n",
    "# ==================== 获得地址字典 ==================== #\n",
    "\n",
    "location = []                                           #取出所有的地址\n",
    "for i in range(df.shape[0]):\n",
    "    location.append(df.iloc[i,1])\n",
    "location = list(set(location))                          #去重\n",
    "loc_dict = dict(zip(location,range(len(location)))) #给这251个地点创建字典\n",
    "\n",
    "# ==================== 分组获得每个人的运动轨迹 ==================== #\n",
    "\n",
    "loc_rep = df.replace(loc_dict)                          #将地址名称替换成字典里的数字\n",
    "\n",
    "def sliding_window(seq, window_size):\n",
    "    result = []\n",
    "    for i in range(len(seq)-window_size):\n",
    "        result.append(seq[i:i+window_size])\n",
    "    return result\n",
    "\n",
    "train_set, test_set = [], []\n",
    "window_size = 10   #窗口大小为10\n",
    "for userId, group in loc_rep.groupby('userId'):\n",
    "    full_seq = group['venueCategory']\n",
    "    full_len = full_seq.shape[0]\n",
    "    train_seq = full_seq.iloc[:int(full_len*0.7)].to_list()\n",
    "    test_seq = full_seq.iloc[int(full_len*0.7):].to_list()\n",
    "    train_set += sliding_window(train_seq, window_size)\n",
    "    test_set += sliding_window(test_seq, window_size)"
   ]
  },
  {
   "cell_type": "code",
   "execution_count": 3,
   "metadata": {},
   "outputs": [],
   "source": [
    "# ==================== RNN模型 ==================== #\n",
    "\n",
    "class Rnn(nn.Module):\n",
    "    def __init__(self, input_size, hidden_size, output_size):\n",
    "        super().__init__()\n",
    "        self.hidden_size = hidden_size\n",
    "        self.embedding = nn.Embedding(num_embeddings=input_size, embedding_dim=hidden_size)\n",
    "        #一定要加batch_first=True，因为我们的输入x是[batch,seq,input],但是默认的是[seq,batch,input]\n",
    "        self.rnn = nn.RNN(input_size=hidden_size, hidden_size=hidden_size, num_layers=1, batch_first=True)\n",
    "        self.out = nn.Linear(hidden_size,output_size)\n",
    "        \n",
    "    def forward(self, x):\n",
    "        batch_size = x.size(0)\n",
    "        seq_len = x.size(1)                                           # x: torch.Size([128, 10])\n",
    "        x = self.embedding(x)                                         # x: torch.Size([128, 10, 32])\n",
    "        h = torch.zeros(1, batch_size, self.hidden_size).to(x.device) # h: #torch.Size([1, 128, 128])  \n",
    "        y_list = []\n",
    "        for i in range(seq_len):\n",
    "            y, h = self.rnn(x, h)\n",
    "            y_list.append(self.out(y[:, i, :]))\n",
    "        return h, torch.stack(y_list, dim=1)\n",
    "\n",
    "def next_batch(data, batch_size):\n",
    "    data_length = len(data)\n",
    "    num_batches = math.ceil(data_length / batch_size)\n",
    "    for batch_index in range(num_batches):\n",
    "        start_index = batch_index * batch_size\n",
    "        end_index = min((batch_index + 1) * batch_size, data_length)\n",
    "        yield data[start_index:end_index]\n",
    "\n",
    "def train_evaluate(model, data_set, batch_size, optimizer):\n",
    "    model.train()\n",
    "    train_l_sum, train_acc_sum, n = 0.0, 0.0, 0\n",
    "    for batch in next_batch(shuffle(data_set), batch_size):\n",
    "        batch = torch.from_numpy(np.array(batch)).long().to(device) #embedding层的输入需要long形式\n",
    "        x = batch[:, :window_size-1].long().to(device)\n",
    "        label =  batch[: , -1].long().to(device)\n",
    "        hidden, out = model(x)                                 #输入直接是(batch_size, seq)，不用扩展最后一维\n",
    "        prediction = out[:, -1, :].squeeze(-1)\n",
    "        loss = loss_func(prediction, label)\n",
    "        optimizer.zero_grad()\n",
    "        loss.backward()\n",
    "        optimizer.step()\n",
    "        train_l_sum += loss.item()\n",
    "        train_acc_sum += (prediction.argmax(dim=1) == label).sum().item() / label.shape[0]\n",
    "        n += 1  #每个batch+1\n",
    "    return train_l_sum/n, train_acc_sum/n\n",
    "\n",
    "def test_evaluate(model, data_set, batch_size):\n",
    "    model.eval()\n",
    "    train_l_sum, train_acc_sum, n = 0.0, 0.0, 0\n",
    "    with torch.no_grad():\n",
    "        for batch in next_batch(shuffle(data_set), batch_size):\n",
    "            batch = torch.from_numpy(np.array(batch)).long().to(device) #embedding层的输入需要long形式\n",
    "            x = batch[:, :window_size-1].long().to(device)\n",
    "            label =  batch[: , -1].long().to(device)\n",
    "            hidden, out = model(x)                                 #输入直接是(batch_size, seq)，不用扩展最后一维\n",
    "            prediction = out[:, -1, :].squeeze(-1)\n",
    "            loss = loss_func(prediction, label)\n",
    "            train_l_sum += loss.item()\n",
    "            train_acc_sum += (prediction.argmax(dim=1) == label).sum().item() / label.shape[0]\n",
    "            n += 1  #每个batch+1\n",
    "    return train_l_sum/n, train_acc_sum/n"
   ]
  },
  {
   "cell_type": "code",
   "execution_count": 6,
   "metadata": {},
   "outputs": [
    {
     "name": "stdout",
     "output_type": "stream",
     "text": [
      "epoch 1, loss_train 4.006749, loss_test 3.866941, acc_train 0.188975, acc_test 0.201272, time 0:00:19.635518 \n",
      "epoch 2, loss_train 3.685747, loss_test 3.798463, acc_train 0.219222, acc_test 0.208293, time 0:00:19.921363 \n",
      "epoch 3, loss_train 3.575045, loss_test 3.756415, acc_train 0.230412, acc_test 0.212696, time 0:00:20.193520 \n",
      "epoch 4, loss_train 3.504944, loss_test 3.733966, acc_train 0.237989, acc_test 0.216312, time 0:00:20.187566 \n",
      "epoch 5, loss_train 3.431450, loss_test 3.716137, acc_train 0.246993, acc_test 0.215764, time 0:00:20.446078 \n",
      "epoch 6, loss_train 3.374162, loss_test 3.713242, acc_train 0.254336, acc_test 0.219244, time 0:00:20.649152 \n",
      "epoch 7, loss_train 3.315078, loss_test 3.711016, acc_train 0.261424, acc_test 0.217467, time 0:00:21.151505 \n",
      "epoch 8, loss_train 3.263823, loss_test 3.713106, acc_train 0.266598, acc_test 0.218551, time 0:00:20.864501 \n",
      "epoch 9, loss_train 3.204598, loss_test 3.719715, acc_train 0.274843, acc_test 0.217839, time 0:00:20.992990 \n",
      "epoch 10, loss_train 3.151960, loss_test 3.722996, acc_train 0.282765, acc_test 0.219944, time 0:00:20.850540 \n",
      "epoch 11, loss_train 3.098304, loss_test 3.741900, acc_train 0.290021, acc_test 0.217410, time 0:00:21.049032 \n",
      "epoch 12, loss_train 3.044515, loss_test 3.741963, acc_train 0.296814, acc_test 0.217919, time 0:00:20.848603 \n",
      "epoch 13, loss_train 2.990352, loss_test 3.762586, acc_train 0.304235, acc_test 0.216487, time 0:00:21.004424 \n",
      "epoch 14, loss_train 2.930405, loss_test 3.777517, acc_train 0.313848, acc_test 0.215169, time 0:00:20.944102 \n",
      "epoch 15, loss_train 2.871823, loss_test 3.802255, acc_train 0.323041, acc_test 0.215122, time 0:00:20.931512 \n",
      "epoch 16, loss_train 2.813424, loss_test 3.808875, acc_train 0.331983, acc_test 0.211973, time 0:00:21.180208 \n",
      "epoch 17, loss_train 2.758257, loss_test 3.842228, acc_train 0.341747, acc_test 0.211588, time 0:00:20.952733 \n",
      "epoch 18, loss_train 2.694847, loss_test 3.866982, acc_train 0.353136, acc_test 0.210534, time 0:00:21.071545 \n",
      "epoch 19, loss_train 2.628933, loss_test 3.882256, acc_train 0.366267, acc_test 0.209723, time 0:00:20.955907 \n",
      "epoch 20, loss_train 2.569741, loss_test 3.921973, acc_train 0.376783, acc_test 0.205730, time 0:00:20.972943 \n",
      "epoch 21, loss_train 2.510271, loss_test 3.945920, acc_train 0.389331, acc_test 0.204122, time 0:00:20.958655 \n",
      "epoch 22, loss_train 2.443241, loss_test 3.990122, acc_train 0.403193, acc_test 0.199050, time 0:00:21.092261 \n",
      "epoch 23, loss_train 2.381382, loss_test 4.001263, acc_train 0.416794, acc_test 0.198779, time 0:00:20.981762 \n",
      "epoch 24, loss_train 2.308170, loss_test 4.037799, acc_train 0.432232, acc_test 0.194973, time 0:00:21.120526 \n",
      "epoch 25, loss_train 2.245110, loss_test 4.081120, acc_train 0.447380, acc_test 0.193724, time 0:00:21.010287 \n",
      "epoch 26, loss_train 2.174673, loss_test 4.116101, acc_train 0.464578, acc_test 0.194390, time 0:00:20.955195 \n",
      "epoch 27, loss_train 2.107205, loss_test 4.151840, acc_train 0.478799, acc_test 0.190490, time 0:00:20.867881 \n",
      "epoch 28, loss_train 2.044603, loss_test 4.199304, acc_train 0.494742, acc_test 0.184644, time 0:00:21.271890 \n",
      "epoch 29, loss_train 1.973102, loss_test 4.254733, acc_train 0.513684, acc_test 0.187688, time 0:00:21.000837 \n",
      "epoch 30, loss_train 1.904743, loss_test 4.280290, acc_train 0.529660, acc_test 0.185306, time 0:00:20.962463 \n",
      "epoch 31, loss_train 1.844074, loss_test 4.324451, acc_train 0.545032, acc_test 0.180777, time 0:00:20.807284 \n",
      "epoch 32, loss_train 1.770770, loss_test 4.368924, acc_train 0.563630, acc_test 0.175908, time 0:00:20.880136 \n",
      "epoch 33, loss_train 1.705312, loss_test 4.436297, acc_train 0.580993, acc_test 0.173574, time 0:00:21.044494 \n",
      "epoch 34, loss_train 1.644530, loss_test 4.479543, acc_train 0.598128, acc_test 0.171277, time 0:00:20.985328 \n",
      "epoch 35, loss_train 1.647339, loss_test 4.513973, acc_train 0.598623, acc_test 0.173490, time 0:00:21.077358 \n",
      "epoch 36, loss_train 1.623903, loss_test 4.553600, acc_train 0.603609, acc_test 0.172200, time 0:00:21.183853 \n",
      "epoch 37, loss_train 1.523816, loss_test 4.587891, acc_train 0.630842, acc_test 0.167780, time 0:00:20.945056 \n",
      "epoch 38, loss_train 1.440851, loss_test 4.654863, acc_train 0.652239, acc_test 0.169859, time 0:00:21.063215 \n",
      "epoch 39, loss_train 1.367787, loss_test 4.710071, acc_train 0.672935, acc_test 0.168237, time 0:00:20.800306 \n",
      "epoch 40, loss_train 1.312054, loss_test 4.763588, acc_train 0.688184, acc_test 0.163746, time 0:00:20.952567 \n",
      "epoch 41, loss_train 1.258894, loss_test 4.819594, acc_train 0.703104, acc_test 0.163224, time 0:00:20.996845 \n",
      "epoch 42, loss_train 1.199927, loss_test 4.862126, acc_train 0.720192, acc_test 0.158710, time 0:00:20.950925 \n",
      "epoch 43, loss_train 1.137490, loss_test 4.933723, acc_train 0.737767, acc_test 0.155783, time 0:00:20.935484 \n",
      "epoch 44, loss_train 1.088410, loss_test 4.985627, acc_train 0.750792, acc_test 0.154155, time 0:00:21.053330 \n",
      "epoch 45, loss_train 1.033470, loss_test 5.037425, acc_train 0.767149, acc_test 0.153812, time 0:00:21.293032 \n",
      "epoch 46, loss_train 0.998439, loss_test 5.096670, acc_train 0.776446, acc_test 0.153636, time 0:00:21.059077 \n",
      "epoch 47, loss_train 0.945910, loss_test 5.155628, acc_train 0.789935, acc_test 0.152377, time 0:00:20.965932 \n",
      "epoch 48, loss_train 0.905299, loss_test 5.217088, acc_train 0.800771, acc_test 0.151885, time 0:00:21.196726 \n",
      "epoch 49, loss_train 0.843380, loss_test 5.280156, acc_train 0.821467, acc_test 0.147452, time 0:00:21.140144 \n",
      "epoch 50, loss_train 0.806195, loss_test 5.336036, acc_train 0.830899, acc_test 0.147384, time 0:00:21.000753 \n",
      "epoch 51, loss_train 0.758944, loss_test 5.391962, acc_train 0.843496, acc_test 0.145553, time 0:00:20.896915 \n",
      "epoch 52, loss_train 0.737544, loss_test 5.448012, acc_train 0.849486, acc_test 0.148514, time 0:00:21.302997 \n",
      "epoch 53, loss_train 0.771248, loss_test 5.495024, acc_train 0.833866, acc_test 0.145496, time 0:00:21.064870 \n",
      "epoch 54, loss_train 0.661312, loss_test 5.562705, acc_train 0.869256, acc_test 0.140872, time 0:00:20.991367 \n",
      "epoch 55, loss_train 0.616411, loss_test 5.623094, acc_train 0.883474, acc_test 0.148137, time 0:00:20.922605 \n",
      "epoch 56, loss_train 0.590592, loss_test 5.681945, acc_train 0.889469, acc_test 0.144165, time 0:00:21.078230 \n",
      "epoch 57, loss_train 0.543343, loss_test 5.740651, acc_train 0.901884, acc_test 0.141379, time 0:00:20.866118 \n",
      "epoch 58, loss_train 0.534235, loss_test 5.794434, acc_train 0.903719, acc_test 0.142668, time 0:00:20.819772 \n",
      "epoch 59, loss_train 0.495637, loss_test 5.875965, acc_train 0.914337, acc_test 0.140774, time 0:00:20.982453 \n",
      "epoch 60, loss_train 0.465167, loss_test 5.917839, acc_train 0.921784, acc_test 0.139671, time 0:00:21.275145 \n",
      "epoch 61, loss_train 0.333419, loss_test 5.914399, acc_train 0.958660, acc_test 0.141221, time 0:00:20.831727 \n",
      "epoch 62, loss_train 0.298605, loss_test 5.925362, acc_train 0.966426, acc_test 0.141545, time 0:00:21.119245 \n",
      "epoch 63, loss_train 0.289375, loss_test 5.927970, acc_train 0.968243, acc_test 0.142441, time 0:00:20.948070 \n",
      "epoch 64, loss_train 0.283241, loss_test 5.944123, acc_train 0.969704, acc_test 0.142150, time 0:00:21.074872 \n",
      "epoch 65, loss_train 0.277829, loss_test 5.957172, acc_train 0.970507, acc_test 0.142846, time 0:00:21.056357 \n",
      "epoch 66, loss_train 0.274635, loss_test 5.956752, acc_train 0.971267, acc_test 0.141846, time 0:00:21.407229 \n",
      "epoch 67, loss_train 0.270429, loss_test 5.978024, acc_train 0.972300, acc_test 0.142146, time 0:00:20.929739 \n",
      "epoch 68, loss_train 0.267282, loss_test 5.986905, acc_train 0.972990, acc_test 0.141516, time 0:00:20.938461 \n",
      "epoch 69, loss_train 0.264018, loss_test 5.992464, acc_train 0.973687, acc_test 0.140460, time 0:00:20.969079 \n",
      "epoch 70, loss_train 0.260827, loss_test 6.006343, acc_train 0.974095, acc_test 0.140901, time 0:00:21.082447 \n",
      "batch_size为2048的运行时间： 0:24:25.949310\n"
     ]
    }
   ],
   "source": [
    "# ==================== batch_size为2048 ==================== #\n",
    "\n",
    "device = 'cuda:1'\n",
    "num_class = len(loc_dict)\n",
    "model = Rnn(input_size=num_class, hidden_size=1024, output_size=num_class).to(device) #输出size是地址类别\n",
    "\n",
    "loss_func = nn.CrossEntropyLoss()                                #多分类问题使用CrossEntropyLoss函数\n",
    "optimizer = torch.optim.Adam(model.parameters(), lr=0.0005, weight_decay=0.00001)\n",
    "scheduler = torch.optim.lr_scheduler.MultiStepLR(optimizer, milestones=[60,70], gamma=0.1)\n",
    "\n",
    "loss_train_1 = []\n",
    "loss_test_1 = []\n",
    "acc_train_1 = []\n",
    "acc_test_1 = []\n",
    "batch_size = 2048\n",
    "num_epoch = 70\n",
    "total_time_start_1 = datetime.datetime.now()\n",
    "for epoch in range(num_epoch):\n",
    "    start = datetime.datetime.now()\n",
    "    train_l, train_acc = train_evaluate(model, train_set, batch_size, optimizer)\n",
    "    test_l, test_acc = test_evaluate(model, test_set, batch_size)\n",
    "    scheduler.step()\n",
    "    loss_train_1.append(train_l)\n",
    "    acc_train_1.append(train_acc)\n",
    "    loss_test_1.append(test_l)\n",
    "    acc_test_1.append(test_acc)\n",
    "    end = datetime.datetime.now()\n",
    "    print('epoch %d, loss_train %f, loss_test %f, acc_train %f, acc_test %f, time %s '% \n",
    "          (epoch+1, loss_train_1[epoch], loss_test_1[epoch], acc_train_1[epoch], acc_test_1[epoch], end - start))\n",
    "total_time_end_1 = datetime.datetime.now()\n",
    "print(\"batch_size为2048的运行时间：\",total_time_end_1 - total_time_start_1)"
   ]
  },
  {
   "cell_type": "code",
   "execution_count": 10,
   "metadata": {},
   "outputs": [
    {
     "name": "stdout",
     "output_type": "stream",
     "text": [
      "epoch 1, loss_train 3.923147, loss_test 3.838547, acc_train 0.196984, acc_test 0.204150, time 0:00:22.063357 \n",
      "epoch 2, loss_train 3.649898, loss_test 3.772742, acc_train 0.223583, acc_test 0.209225, time 0:00:22.315708 \n",
      "epoch 3, loss_train 3.539178, loss_test 3.745452, acc_train 0.234831, acc_test 0.215558, time 0:00:22.523621 \n",
      "epoch 4, loss_train 3.455538, loss_test 3.719689, acc_train 0.243835, acc_test 0.216809, time 0:00:22.882266 \n",
      "epoch 5, loss_train 3.382812, loss_test 3.718438, acc_train 0.253328, acc_test 0.217968, time 0:00:22.948028 \n",
      "epoch 6, loss_train 3.320518, loss_test 3.708845, acc_train 0.260130, acc_test 0.219815, time 0:00:22.979520 \n",
      "epoch 7, loss_train 3.253513, loss_test 3.720100, acc_train 0.269140, acc_test 0.219804, time 0:00:22.960357 \n",
      "epoch 8, loss_train 3.192585, loss_test 3.725418, acc_train 0.276319, acc_test 0.217501, time 0:00:22.966564 \n",
      "epoch 9, loss_train 3.128035, loss_test 3.743189, acc_train 0.284305, acc_test 0.216809, time 0:00:22.889871 \n",
      "epoch 10, loss_train 3.064867, loss_test 3.756816, acc_train 0.292099, acc_test 0.216677, time 0:00:23.258771 \n",
      "epoch 11, loss_train 3.000130, loss_test 3.763621, acc_train 0.301848, acc_test 0.216936, time 0:00:22.955609 \n",
      "epoch 12, loss_train 2.939931, loss_test 3.789768, acc_train 0.310470, acc_test 0.213483, time 0:00:22.746755 \n",
      "epoch 13, loss_train 2.870756, loss_test 3.800696, acc_train 0.322290, acc_test 0.213965, time 0:00:23.185319 \n",
      "epoch 14, loss_train 2.801775, loss_test 3.829948, acc_train 0.332923, acc_test 0.209660, time 0:00:22.731820 \n",
      "epoch 15, loss_train 2.733724, loss_test 3.854292, acc_train 0.343794, acc_test 0.211517, time 0:00:23.236053 \n",
      "epoch 16, loss_train 2.661888, loss_test 3.892723, acc_train 0.357625, acc_test 0.206917, time 0:00:22.779062 \n",
      "epoch 17, loss_train 2.587417, loss_test 3.915662, acc_train 0.372092, acc_test 0.199871, time 0:00:22.605199 \n",
      "epoch 18, loss_train 2.510697, loss_test 3.948062, acc_train 0.388020, acc_test 0.201386, time 0:00:23.008919 \n",
      "epoch 19, loss_train 2.436463, loss_test 3.984556, acc_train 0.403416, acc_test 0.199698, time 0:00:22.974418 \n",
      "epoch 20, loss_train 2.359018, loss_test 4.029635, acc_train 0.420221, acc_test 0.195753, time 0:00:23.126662 \n",
      "epoch 21, loss_train 2.280125, loss_test 4.072373, acc_train 0.437133, acc_test 0.191264, time 0:00:23.062242 \n",
      "epoch 22, loss_train 2.196637, loss_test 4.128235, acc_train 0.456213, acc_test 0.190417, time 0:00:22.963415 \n",
      "epoch 23, loss_train 2.118079, loss_test 4.165770, acc_train 0.475128, acc_test 0.190971, time 0:00:22.747704 \n",
      "epoch 24, loss_train 2.037497, loss_test 4.216703, acc_train 0.494842, acc_test 0.184079, time 0:00:22.749978 \n",
      "epoch 25, loss_train 1.955523, loss_test 4.270084, acc_train 0.514823, acc_test 0.177995, time 0:00:22.688692 \n",
      "epoch 26, loss_train 1.876253, loss_test 4.329580, acc_train 0.534015, acc_test 0.177434, time 0:00:22.787048 \n",
      "epoch 27, loss_train 1.783532, loss_test 4.393605, acc_train 0.556758, acc_test 0.171778, time 0:00:22.952298 \n",
      "epoch 28, loss_train 1.705028, loss_test 4.458196, acc_train 0.578046, acc_test 0.173114, time 0:00:22.917654 \n",
      "epoch 29, loss_train 1.625211, loss_test 4.528712, acc_train 0.598250, acc_test 0.171299, time 0:00:23.273835 \n",
      "epoch 30, loss_train 1.550158, loss_test 4.583205, acc_train 0.618872, acc_test 0.167254, time 0:00:22.777193 \n",
      "epoch 31, loss_train 1.456020, loss_test 4.654821, acc_train 0.645434, acc_test 0.164655, time 0:00:23.167380 \n",
      "epoch 32, loss_train 1.383648, loss_test 4.734199, acc_train 0.663547, acc_test 0.161980, time 0:00:23.165727 \n",
      "epoch 33, loss_train 1.312737, loss_test 4.811012, acc_train 0.682404, acc_test 0.160367, time 0:00:22.727716 \n",
      "epoch 34, loss_train 1.234922, loss_test 4.890107, acc_train 0.704233, acc_test 0.159312, time 0:00:23.156465 \n",
      "epoch 35, loss_train 1.159378, loss_test 4.970252, acc_train 0.725003, acc_test 0.157622, time 0:00:22.597907 \n",
      "epoch 36, loss_train 1.097730, loss_test 5.046688, acc_train 0.741710, acc_test 0.152984, time 0:00:22.873354 \n",
      "epoch 37, loss_train 1.025270, loss_test 5.122919, acc_train 0.762852, acc_test 0.152874, time 0:00:22.956602 \n",
      "epoch 38, loss_train 0.964758, loss_test 5.205659, acc_train 0.778640, acc_test 0.149288, time 0:00:23.273424 \n",
      "epoch 39, loss_train 0.903926, loss_test 5.279423, acc_train 0.796615, acc_test 0.149013, time 0:00:22.780833 \n",
      "epoch 40, loss_train 0.844262, loss_test 5.365096, acc_train 0.813068, acc_test 0.146855, time 0:00:22.723483 \n",
      "epoch 41, loss_train 0.783761, loss_test 5.456144, acc_train 0.830525, acc_test 0.148129, time 0:00:22.909166 \n",
      "epoch 42, loss_train 0.744459, loss_test 5.530049, acc_train 0.842015, acc_test 0.147649, time 0:00:22.774831 \n",
      "epoch 43, loss_train 0.684171, loss_test 5.610152, acc_train 0.860074, acc_test 0.141869, time 0:00:23.462534 \n",
      "epoch 44, loss_train 0.644065, loss_test 5.699360, acc_train 0.870417, acc_test 0.146159, time 0:00:22.696477 \n",
      "epoch 45, loss_train 0.605711, loss_test 5.774568, acc_train 0.880131, acc_test 0.147231, time 0:00:22.813281 \n",
      "epoch 46, loss_train 0.556111, loss_test 5.857848, acc_train 0.894453, acc_test 0.141979, time 0:00:23.057299 \n",
      "epoch 47, loss_train 0.525521, loss_test 5.934242, acc_train 0.902604, acc_test 0.142679, time 0:00:23.192784 \n",
      "epoch 48, loss_train 0.511087, loss_test 6.004565, acc_train 0.904809, acc_test 0.139768, time 0:00:22.944503 \n",
      "epoch 49, loss_train 0.490107, loss_test 6.059169, acc_train 0.909759, acc_test 0.135119, time 0:00:22.706813 \n",
      "epoch 50, loss_train 0.461007, loss_test 6.138789, acc_train 0.917221, acc_test 0.141513, time 0:00:22.947652 \n",
      "epoch 51, loss_train 0.406761, loss_test 6.211404, acc_train 0.933358, acc_test 0.140599, time 0:00:23.811884 \n",
      "epoch 52, loss_train 0.381934, loss_test 6.280206, acc_train 0.939407, acc_test 0.140132, time 0:00:22.777258 \n",
      "epoch 53, loss_train 0.361330, loss_test 6.373105, acc_train 0.944711, acc_test 0.138489, time 0:00:22.846335 \n",
      "epoch 54, loss_train 0.346964, loss_test 6.432170, acc_train 0.947697, acc_test 0.134392, time 0:00:23.078831 \n",
      "epoch 55, loss_train 0.313397, loss_test 6.477911, acc_train 0.955599, acc_test 0.139462, time 0:00:22.997495 \n",
      "epoch 56, loss_train 1.412970, loss_test 6.198043, acc_train 0.628701, acc_test 0.136102, time 0:00:22.579525 \n",
      "epoch 57, loss_train 0.659083, loss_test 6.254402, acc_train 0.834804, acc_test 0.139968, time 0:00:23.155182 \n",
      "epoch 58, loss_train 0.374483, loss_test 6.362740, acc_train 0.937843, acc_test 0.139811, time 0:00:22.941402 \n",
      "epoch 59, loss_train 0.343678, loss_test 6.525075, acc_train 0.945239, acc_test 0.130492, time 0:00:22.673864 \n",
      "epoch 60, loss_train 0.606939, loss_test 6.444404, acc_train 0.852800, acc_test 0.133654, time 0:00:22.726512 \n",
      "epoch 61, loss_train 0.215034, loss_test 6.420942, acc_train 0.980579, acc_test 0.139785, time 0:00:23.038321 \n",
      "epoch 62, loss_train 0.175690, loss_test 6.435625, acc_train 0.988611, acc_test 0.139977, time 0:00:22.660521 \n",
      "epoch 63, loss_train 0.162186, loss_test 6.451637, acc_train 0.990200, acc_test 0.138684, time 0:00:23.450278 \n",
      "epoch 64, loss_train 0.153680, loss_test 6.464364, acc_train 0.991188, acc_test 0.139844, time 0:00:22.849330 \n",
      "epoch 65, loss_train 0.147169, loss_test 6.479641, acc_train 0.991840, acc_test 0.140192, time 0:00:22.716860 \n",
      "epoch 66, loss_train 0.141988, loss_test 6.493983, acc_train 0.992303, acc_test 0.140712, time 0:00:22.764863 \n",
      "epoch 67, loss_train 0.137497, loss_test 6.507466, acc_train 0.992685, acc_test 0.140060, time 0:00:22.955869 \n",
      "epoch 68, loss_train 0.133494, loss_test 6.521714, acc_train 0.992997, acc_test 0.140179, time 0:00:22.860647 \n",
      "epoch 69, loss_train 0.129909, loss_test 6.536632, acc_train 0.993342, acc_test 0.140232, time 0:00:23.082452 \n",
      "epoch 70, loss_train 0.126759, loss_test 6.554958, acc_train 0.993598, acc_test 0.141048, time 0:00:22.708898 \n",
      "batch_size为512的运行时间： 0:26:43.697119\n"
     ]
    }
   ],
   "source": [
    "# ==================== batch_size为1024 ==================== #\n",
    "\n",
    "device = 'cuda:1'\n",
    "num_class = len(loc_dict)\n",
    "model = Rnn(input_size=num_class, hidden_size=1024, output_size=num_class).to(device) #输出size是地址类别\n",
    "\n",
    "loss_func = nn.CrossEntropyLoss()                                #多分类问题使用CrossEntropyLoss函数\n",
    "optimizer = torch.optim.Adam(model.parameters(), lr=0.0005, weight_decay=0.0001)\n",
    "scheduler = torch.optim.lr_scheduler.MultiStepLR(optimizer, milestones=[60,70], gamma=0.1)\n",
    "\n",
    "loss_train_2 = []\n",
    "loss_test_2 = []\n",
    "acc_train_2 = []\n",
    "acc_test_2 = []\n",
    "batch_size = 1024\n",
    "num_epoch = 70\n",
    "total_time_start_2 = datetime.datetime.now()\n",
    "for epoch in range(num_epoch):\n",
    "    start = datetime.datetime.now()\n",
    "    train_l, train_acc = train_evaluate(model, train_set, batch_size, optimizer)\n",
    "    test_l, test_acc = test_evaluate(model, test_set, batch_size)\n",
    "    scheduler.step()\n",
    "    loss_train_2.append(train_l)\n",
    "    acc_train_2.append(train_acc)\n",
    "    loss_test_2.append(test_l)\n",
    "    acc_test_2.append(test_acc)\n",
    "    end = datetime.datetime.now()\n",
    "    print('epoch %d, loss_train %f, loss_test %f, acc_train %f, acc_test %f, time %s '% \n",
    "          (epoch+1, loss_train_2[epoch], loss_test_2[epoch], acc_train_2[epoch], acc_test_2[epoch], end - start))\n",
    "total_time_end_2 = datetime.datetime.now()\n",
    "print(\"batch_size为1024的运行时间：\",total_time_end_2 - total_time_start_2)"
   ]
  },
  {
   "cell_type": "code",
   "execution_count": 6,
   "metadata": {},
   "outputs": [
    {
     "name": "stdout",
     "output_type": "stream",
     "text": [
      "epoch 1, loss_train 0.623787, loss_test 0.023767, acc_train 0.938172, acc_test 0.999123, time 0:00:08.325633 \n",
      "epoch 2, loss_train 0.008840, loss_test 0.004560, acc_train 0.999871, acc_test 0.999943, time 0:00:08.498717 \n",
      "epoch 3, loss_train 0.002858, loss_test 0.001972, acc_train 0.999953, acc_test 1.000000, time 0:00:08.276702 \n",
      "epoch 4, loss_train 0.001441, loss_test 0.001095, acc_train 0.999982, acc_test 1.000000, time 0:00:08.342693 \n",
      "epoch 5, loss_train 0.000850, loss_test 0.000683, acc_train 1.000000, acc_test 1.000000, time 0:00:08.235389 \n",
      "epoch 6, loss_train 0.000548, loss_test 0.000462, acc_train 1.000000, acc_test 1.000000, time 0:00:08.188118 \n",
      "epoch 7, loss_train 0.000378, loss_test 0.000329, acc_train 1.000000, acc_test 1.000000, time 0:00:08.161727 \n",
      "epoch 8, loss_train 0.000273, loss_test 0.000241, acc_train 1.000000, acc_test 1.000000, time 0:00:08.206975 \n",
      "epoch 9, loss_train 0.000203, loss_test 0.000182, acc_train 1.000000, acc_test 1.000000, time 0:00:08.134611 \n",
      "epoch 10, loss_train 0.000154, loss_test 0.000139, acc_train 1.000000, acc_test 1.000000, time 0:00:08.164279 \n",
      "batch_size为128的运行时间： 0:01:22.537926\n"
     ]
    }
   ],
   "source": [
    "# ==================== batch_size为4096 ==================== #\n",
    "\n",
    "device = 'cuda:1'\n",
    "num_class = len(loc_dict)\n",
    "model = Rnn(input_size=num_class, hidden_size=1024, output_size=num_class).to(device) #输出size是地址类别\n",
    "\n",
    "loss_func = nn.CrossEntropyLoss()                                #多分类问题使用CrossEntropyLoss函数\n",
    "optimizer = torch.optim.Adam(model.parameters(), lr=0.0005, weight_decay=0.0001)\n",
    "scheduler = torch.optim.lr_scheduler.MultiStepLR(optimizer, milestones=[60,70], gamma=0.1)\n",
    "\n",
    "loss_train_3 = []\n",
    "loss_test_3 = []\n",
    "acc_train_3 = []\n",
    "acc_test_3 = []\n",
    "batch_size = 4096\n",
    "num_epoch = 70\n",
    "total_time_start_3 = datetime.datetime.now()\n",
    "for epoch in range(num_epoch):\n",
    "    start = datetime.datetime.now()\n",
    "    train_l, train_acc = evaluate(train_set, batch_size)\n",
    "    test_l, test_acc = evaluate(test_set, batch_size)\n",
    "    loss_train_3.append(train_l)\n",
    "    acc_train_3.append(train_acc)\n",
    "    loss_test_3.append(test_l)\n",
    "    acc_test_3.append(test_acc)\n",
    "    end = datetime.datetime.now()\n",
    "    print('epoch %d, loss_train %f, loss_test %f, acc_train %f, acc_test %f, time %s '% \n",
    "          (epoch+1, loss_train_3[epoch], loss_test_3[epoch], acc_train_3[epoch], acc_test_3[epoch], end - start))\n",
    "total_time_end_3 = datetime.datetime.now()\n",
    "print(\"batch_size为4096的运行时间：\",total_time_end_3 - total_time_start_3)"
   ]
  },
  {
   "cell_type": "code",
   "execution_count": 17,
   "metadata": {},
   "outputs": [],
   "source": [
    "fp_1=open('0.0005 1024.txt','r',encoding='utf-8')\n",
    "loss_train_1 = []\n",
    "loss_test_1 = []\n",
    "acc_train_1 = []\n",
    "acc_test_1 = []\n",
    "for line in fp_1:\n",
    "    line = line.strip(u'\\\\n')\n",
    "    _, train_l, test_l, train_acc, test_acc, _ = line.split(u' ')\n",
    "    loss_train_1.append(float(train_l))\n",
    "    acc_train_1.append(float(train_acc))\n",
    "    loss_test_1.append(float(test_l))\n",
    "    acc_test_1.append(float(test_acc))\n",
    "\n",
    "fp_2=open('0.0005 2048.txt','r',encoding='utf-8')\n",
    "loss_train_2 = []\n",
    "loss_test_2 = []\n",
    "acc_train_2 = []\n",
    "acc_test_2 = []\n",
    "for line in fp_2:\n",
    "    line = line.strip(u'\\\\n')\n",
    "    _, train_l, test_l, train_acc, test_acc, _ = line.split(u' ')\n",
    "    loss_train_2.append(float(train_l))\n",
    "    acc_train_2.append(float(train_acc))\n",
    "    loss_test_2.append(float(test_l))\n",
    "    acc_test_2.append(float(test_acc))\n",
    "\n",
    "fp_3=open('0.0005 4096.txt','r',encoding='utf-8')\n",
    "loss_train_3 = []\n",
    "loss_test_3 = []\n",
    "acc_train_3 = []\n",
    "acc_test_3 = []\n",
    "for line in fp_3:\n",
    "    line = line.strip(u'\\\\n')\n",
    "    _, train_l, test_l, train_acc, test_acc, _ = line.split(u' ')\n",
    "    loss_train_3.append(float(train_l))\n",
    "    acc_train_3.append(float(train_acc))\n",
    "    loss_test_3.append(float(test_l))\n",
    "    acc_test_3.append(float(test_acc))"
   ]
  },
  {
   "cell_type": "code",
   "execution_count": 19,
   "metadata": {},
   "outputs": [
    {
     "data": {
      "image/png": "[encoded data removed]",
      "text/plain": [
       "<Figure size 432x288 with 1 Axes>"
      ]
     },
     "metadata": {
      "needs_background": "light"
     },
     "output_type": "display_data"
    }
   ],
   "source": [
    "plt.plot(loss_train_1,label='batchsize=1024', color='red')\n",
    "plt.plot(loss_train_2,label='batchsize=2048',color='blue')\n",
    "plt.plot(loss_train_3,label='batchsize=4096', color='orange')\n",
    "plt.ylabel(\"loss\")\n",
    "plt.xlabel(\"epoch\")\n",
    "plt.title(\"Train Loss\")\n",
    "plt.legend()\n",
    "plt.show()"
   ]
  },
  {
   "cell_type": "code",
   "execution_count": 20,
   "metadata": {},
   "outputs": [
    {
     "data": {
      "image/png": "[encoded data removed]",
      "text/plain": [
       "<Figure size 432x288 with 1 Axes>"
      ]
     },
     "metadata": {
      "needs_background": "light"
     },
     "output_type": "display_data"
    }
   ],
   "source": [
    "plt.plot(loss_test_1,label='batchsize=1024', color='red')\n",
    "plt.plot(loss_test_2,label='batchsize=2048',color='blue')\n",
    "plt.plot(loss_test_3,label='batchsize=4096', color='orange')\n",
    "plt.ylabel(\"loss\")\n",
    "plt.xlabel(\"epoch\")\n",
    "plt.title(\"Test loss\")\n",
    "plt.legend()\n",
    "plt.show()"
   ]
  },
  {
   "cell_type": "code",
   "execution_count": 21,
   "metadata": {},
   "outputs": [
    {
     "data": {
      "image/png": "[encoded data removed]",
      "text/plain": [
       "<Figure size 432x288 with 1 Axes>"
      ]
     },
     "metadata": {
      "needs_background": "light"
     },
     "output_type": "display_data"
    }
   ],
   "source": [
    "plt.plot(acc_train_1,label='batchsize=1024', color='red')\n",
    "plt.plot(acc_train_2,label='batchsize=2048',color='blue')\n",
    "plt.plot(acc_train_3,label='batchsize=4096', color='orange')\n",
    "plt.ylabel(\"acc\")\n",
    "plt.xlabel(\"epoch\")\n",
    "plt.title(\"Train acc\")\n",
    "plt.legend()\n",
    "plt.show()"
   ]
  },
  {
   "cell_type": "code",
   "execution_count": 22,
   "metadata": {},
   "outputs": [
    {
     "data": {
      "image/png": "[encoded data removed]",
      "text/plain": [
       "<Figure size 432x288 with 1 Axes>"
      ]
     },
     "metadata": {
      "needs_background": "light"
     },
     "output_type": "display_data"
    }
   ],
   "source": [
    "plt.plot(acc_test_1,label='batchsize=1024', color='red')\n",
    "plt.plot(acc_test_2,label='batchsize=2048',color='blue')\n",
    "plt.plot(acc_test_3,label='batchsize=4096', color='orange')\n",
    "plt.ylabel(\"acc\")\n",
    "plt.xlabel(\"epoch\")\n",
    "plt.title(\"Test acc\")\n",
    "plt.legend()\n",
    "plt.show()"
   ]
  },
  {
   "cell_type": "code",
   "execution_count": 23,
   "metadata": {},
   "outputs": [
    {
     "data": {
      "text/html": [
       "<div>\n",
       "<style scoped>\n",
       "    .dataframe tbody tr th:only-of-type {\n",
       "        vertical-align: middle;\n",
       "    }\n",
       "\n",
       "    .dataframe tbody tr th {\n",
       "        vertical-align: top;\n",
       "    }\n",
       "\n",
       "    .dataframe thead th {\n",
       "        text-align: right;\n",
       "    }\n",
       "</style>\n",
       "<table border=\"1\" class=\"dataframe\">\n",
       "  <thead>\n",
       "    <tr style=\"text-align: right;\">\n",
       "      <th></th>\n",
       "      <th>Time</th>\n",
       "    </tr>\n",
       "  </thead>\n",
       "  <tbody>\n",
       "    <tr>\n",
       "      <th>batchsize=1024</th>\n",
       "      <td>0:26:43.697119</td>\n",
       "    </tr>\n",
       "    <tr>\n",
       "      <th>batchsize=2048</th>\n",
       "      <td>0:24:25.949310</td>\n",
       "    </tr>\n",
       "    <tr>\n",
       "      <th>batchsize=4096</th>\n",
       "      <td>0:21:54.854169</td>\n",
       "    </tr>\n",
       "  </tbody>\n",
       "</table>\n",
       "</div>"
      ],
      "text/plain": [
       "                          Time\n",
       "batchsize=1024  0:26:43.697119\n",
       "batchsize=2048  0:24:25.949310\n",
       "batchsize=4096  0:21:54.854169"
      ]
     },
     "execution_count": 23,
     "metadata": {},
     "output_type": "execute_result"
    }
   ],
   "source": [
    "data=[{\"Time\":\"0:26:43.697119\"},{\"Time\":\"0:24:25.949310\"},{\"Time\":\"0:21:54.854169\"}]\n",
    "df = pd.DataFrame(data,columns=['Time'],index = ['batchsize=1024', 'batchsize=2048', 'batchsize=4096'])\n",
    "df"
   ]
  },
  {
   "cell_type": "code",
   "execution_count": null,
   "metadata": {},
   "outputs": [],
   "source": []
  }
 ],
 "metadata": {
  "kernelspec": {
   "display_name": "Python 3",
   "language": "python",
   "name": "python3"
  },
  "language_info": {
   "codemirror_mode": {
    "name": "ipython",
    "version": 3
   },
   "file_extension": ".py",
   "mimetype": "text/x-python",
   "name": "python",
   "nbconvert_exporter": "python",
   "pygments_lexer": "ipython3",
   "version": "3.7.4"
  },
  "toc": {
   "base_numbering": 1,
   "nav_menu": {},
   "number_sections": true,
   "sideBar": true,
   "skip_h1_title": false,
   "title_cell": "Table of Contents",
   "title_sidebar": "Contents",
   "toc_cell": false,
   "toc_position": {},
   "toc_section_display": true,
   "toc_window_display": false
  },
  "varInspector": {
   "cols": {
    "lenName": 16,
    "lenType": 16,
    "lenVar": 40
   },
   "kernels_config": {
    "python": {
     "delete_cmd_postfix": "",
     "delete_cmd_prefix": "del ",
     "library": "var_list.py",
     "varRefreshCmd": "print(var_dic_list())"
    },
    "r": {
     "delete_cmd_postfix": ") ",
     "delete_cmd_prefix": "rm(",
     "library": "var_list.r",
     "varRefreshCmd": "cat(var_dic_list()) "
    }
   },
   "types_to_exclude": [
    "module",
    "function",
    "builtin_function_or_method",
    "instance",
    "_Feature"
   ],
   "window_display": false
  }
 },
 "nbformat": 4,
 "nbformat_minor": 4
}
