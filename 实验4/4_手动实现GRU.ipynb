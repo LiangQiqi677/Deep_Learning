{
 "cells": [
  {
   "cell_type": "code",
   "execution_count": 1,
   "metadata": {},
   "outputs": [],
   "source": [
    "import pandas as pd\n",
    "import numpy as np\n",
    "import torch\n",
    "import torch.nn as nn\n",
    "import math\n",
    "import datetime\n",
    "import matplotlib.pyplot as plt\n",
    "from sklearn.utils import shuffle"
   ]
  },
  {
   "cell_type": "code",
   "execution_count": 2,
   "metadata": {},
   "outputs": [],
   "source": [
    "# ==================== 读取数据 ==================== #\n",
    "\n",
    "df = pd.read_csv('FS_NYC.csv')                          #自动把第一行做列属性\n",
    "df = df.loc[:,['userId','venueCategory']]               #取出用户ID和地点ID\n",
    "\n",
    "# ==================== 获得地址字典 ==================== #\n",
    "\n",
    "location = []                                           #取出所有的地址\n",
    "for i in range(df.shape[0]):\n",
    "    location.append(df.iloc[i,1])\n",
    "location = list(set(location))                          #去重\n",
    "loc_dict = dict(zip(location,range(len(location)))) #给这251个地点创建字典\n",
    "\n",
    "# ==================== 分组获得每个人的运动轨迹 ==================== #\n",
    "\n",
    "loc_rep = df.replace(loc_dict)                          #将地址名称替换成字典里的数字\n",
    "\n",
    "def sliding_window(seq, window_size):\n",
    "    result = []\n",
    "    for i in range(len(seq)-window_size):\n",
    "        result.append(seq[i:i+window_size])\n",
    "    return result\n",
    "\n",
    "train_set, test_set = [], []\n",
    "window_size = 10   #窗口大小为10\n",
    "for userId, group in loc_rep.groupby('userId'):\n",
    "    full_seq = group['venueCategory']\n",
    "    full_len = full_seq.shape[0]\n",
    "    train_seq = full_seq.iloc[:int(full_len*0.8)].to_list()\n",
    "    test_seq = full_seq.iloc[int(full_len*0.8):].to_list()\n",
    "    train_set += sliding_window(train_seq, window_size)\n",
    "    test_set += sliding_window(test_seq, window_size)"
   ]
  },
  {
   "cell_type": "code",
   "execution_count": 3,
   "metadata": {},
   "outputs": [],
   "source": [
    "# ==================== GRU模型 ==================== #\n",
    "\n",
    "class MyGRU(nn.Module):\n",
    "    def __init__(self, input_size, hidden_size, output_size):\n",
    "        super().__init__()\n",
    "        self.hidden_size = hidden_size\n",
    "        \n",
    "        self.embedding = nn.Embedding(num_embeddings=input_size, embedding_dim=hidden_size)\n",
    "        self.gates = nn.Linear(hidden_size+hidden_size, hidden_size*2)\n",
    "        self.hidden_transform = nn.Linear(hidden_size+hidden_size, hidden_size)\n",
    "        self.sigmoid = nn.Sigmoid()\n",
    "        self.tanh = nn.Tanh()\n",
    "        self.out = nn.Linear(hidden_size, output_size)\n",
    "        \n",
    "        for param in self.parameters():\n",
    "            if param.dim() > 1:\n",
    "                nn.init.xavier_uniform_(param)\n",
    "        \n",
    "\n",
    "    def forward(self, x):\n",
    "        batch_size = x.size(0)\n",
    "        seq_len = x.size(1)\n",
    "        x = self.embedding(x)\n",
    "        h = torch.zeros(batch_size, self.hidden_size).to(x.device)\n",
    "        y_list = []\n",
    "        for i in range(seq_len):\n",
    "            update_gate, reset_gate = self.gates(torch.cat([x[:, i, :], h], dim=-1)).chunk(2, -1)\n",
    "            update_gate, reset_gate = (self.sigmoid(g) for g in (update_gate, reset_gate))\n",
    "            candidate_hidden = self.tanh(self.hidden_transform(torch.cat([x[:, i, :], reset_gate * h], dim=-1)))\n",
    "            h = (1 - update_gate) * h + update_gate * candidate_hidden\n",
    "            y_list.append(self.out(h))\n",
    "        return h , torch.stack(y_list, dim=1)\n",
    "\n",
    "def next_batch(data, batch_size):\n",
    "    data_length = len(data)\n",
    "    num_batches = math.ceil(data_length / batch_size)\n",
    "    for batch_index in range(num_batches):\n",
    "        start_index = batch_index * batch_size\n",
    "        end_index = min((batch_index + 1) * batch_size, data_length)\n",
    "        yield data[start_index:end_index]\n",
    "    \n",
    "def train_evaluate(model, data_set, batch_size, optimizer):\n",
    "    model.train()\n",
    "    train_l_sum, train_acc_sum, n = 0.0, 0.0, 0\n",
    "    for batch in next_batch(shuffle(data_set), batch_size):\n",
    "        batch = torch.from_numpy(np.array(batch)).long().to(device) #embedding层的输入需要long形式\n",
    "        x = batch[:, :window_size-1].long().to(device)\n",
    "        label =  batch[: , -1].long().to(device)\n",
    "        hidden, out = model(x)                                 #输入直接是(batch_size, seq)，不用扩展最后一维\n",
    "        prediction = out[:, -1, :].squeeze(-1)\n",
    "        loss = loss_func(prediction, label)\n",
    "        optimizer.zero_grad()\n",
    "        loss.backward()\n",
    "        optimizer.step()\n",
    "        train_l_sum += loss.item()\n",
    "        train_acc_sum += (prediction.argmax(dim=1) == label).sum().item() / label.shape[0]\n",
    "        n += 1  #每个batch+1\n",
    "    return train_l_sum/n, train_acc_sum/n\n",
    "\n",
    "def test_evaluate(model, data_set, batch_size):\n",
    "    model.eval()\n",
    "    train_l_sum, train_acc_sum, n = 0.0, 0.0, 0\n",
    "    with torch.no_grad():\n",
    "        for batch in next_batch(shuffle(data_set), batch_size):\n",
    "            batch = torch.from_numpy(np.array(batch)).long().to(device) #embedding层的输入需要long形式\n",
    "            x = batch[:, :window_size-1].long().to(device)\n",
    "            label =  batch[: , -1].long().to(device)\n",
    "            hidden, out = model(x)                                 #输入直接是(batch_size, seq)，不用扩展最后一维\n",
    "            prediction = out[:, -1, :].squeeze(-1)\n",
    "            loss = loss_func(prediction, label)\n",
    "            train_l_sum += loss.item()\n",
    "            train_acc_sum += (prediction.argmax(dim=1) == label).sum().item() / label.shape[0]\n",
    "            n += 1  #每个batch+1\n",
    "    return train_l_sum/n, train_acc_sum/n"
   ]
  },
  {
   "cell_type": "code",
   "execution_count": 4,
   "metadata": {},
   "outputs": [
    {
     "name": "stdout",
     "output_type": "stream",
     "text": [
      "epoch 1, loss_train 4.339145, loss_test 3.993212, acc_train 0.157371, acc_test 0.182055, time 0:00:10.311785\n",
      "epoch 2, loss_train 3.868587, loss_test 3.834388, acc_train 0.200509, acc_test 0.205965, time 0:00:10.005411\n",
      "epoch 3, loss_train 3.741478, loss_test 3.753184, acc_train 0.214129, acc_test 0.211133, time 0:00:10.093794\n",
      "epoch 4, loss_train 3.663581, loss_test 3.700149, acc_train 0.218381, acc_test 0.213827, time 0:00:10.115810\n",
      "epoch 5, loss_train 3.608964, loss_test 3.669762, acc_train 0.223223, acc_test 0.215589, time 0:00:10.156618\n",
      "epoch 6, loss_train 3.569893, loss_test 3.651570, acc_train 0.225258, acc_test 0.217231, time 0:00:10.177563\n",
      "epoch 7, loss_train 3.537408, loss_test 3.637099, acc_train 0.227760, acc_test 0.217114, time 0:00:10.216805\n",
      "epoch 8, loss_train 3.508711, loss_test 3.616182, acc_train 0.230542, acc_test 0.219604, time 0:00:10.261834\n",
      "epoch 9, loss_train 3.480811, loss_test 3.613515, acc_train 0.232913, acc_test 0.217941, time 0:00:10.282082\n",
      "epoch 10, loss_train 3.455725, loss_test 3.606235, acc_train 0.235663, acc_test 0.221069, time 0:00:10.253750\n",
      "epoch 11, loss_train 3.429773, loss_test 3.602678, acc_train 0.239242, acc_test 0.220289, time 0:00:10.223735\n",
      "epoch 12, loss_train 3.403953, loss_test 3.604916, acc_train 0.242032, acc_test 0.223322, time 0:00:10.342984\n",
      "epoch 13, loss_train 3.377881, loss_test 3.594994, acc_train 0.245697, acc_test 0.223831, time 0:00:10.306372\n",
      "epoch 14, loss_train 3.349982, loss_test 3.595573, acc_train 0.249304, acc_test 0.224249, time 0:00:10.365916\n",
      "epoch 15, loss_train 3.321428, loss_test 3.600629, acc_train 0.253158, acc_test 0.222303, time 0:00:10.393365\n",
      "epoch 16, loss_train 3.291594, loss_test 3.607018, acc_train 0.256262, acc_test 0.222751, time 0:00:10.373268\n",
      "epoch 17, loss_train 3.257216, loss_test 3.612490, acc_train 0.260496, acc_test 0.221389, time 0:00:10.387973\n",
      "epoch 18, loss_train 3.219144, loss_test 3.626628, acc_train 0.266127, acc_test 0.219690, time 0:00:10.373042\n",
      "epoch 19, loss_train 3.177652, loss_test 3.639955, acc_train 0.271879, acc_test 0.217522, time 0:00:10.379554\n",
      "epoch 20, loss_train 3.132538, loss_test 3.661336, acc_train 0.277828, acc_test 0.217414, time 0:00:10.373331\n",
      "epoch 21, loss_train 3.080222, loss_test 3.683755, acc_train 0.286089, acc_test 0.214165, time 0:00:10.304764\n",
      "epoch 22, loss_train 3.021103, loss_test 3.707440, acc_train 0.293980, acc_test 0.213358, time 0:00:10.078449\n",
      "epoch 23, loss_train 2.953931, loss_test 3.745958, acc_train 0.303740, acc_test 0.209789, time 0:00:10.333397\n",
      "epoch 24, loss_train 2.878321, loss_test 3.792013, acc_train 0.316219, acc_test 0.204988, time 0:00:10.486135\n",
      "epoch 25, loss_train 2.791970, loss_test 3.846622, acc_train 0.331133, acc_test 0.201983, time 0:00:10.453947\n",
      "epoch 26, loss_train 2.696737, loss_test 3.896668, acc_train 0.347065, acc_test 0.197460, time 0:00:10.416378\n",
      "epoch 27, loss_train 2.589812, loss_test 3.966114, acc_train 0.367536, acc_test 0.192372, time 0:00:10.415015\n",
      "epoch 28, loss_train 2.471993, loss_test 4.044084, acc_train 0.390545, acc_test 0.187829, time 0:00:10.437980\n",
      "epoch 29, loss_train 2.341591, loss_test 4.136600, acc_train 0.418462, acc_test 0.179140, time 0:00:10.509767\n",
      "epoch 30, loss_train 2.200051, loss_test 4.238745, acc_train 0.450625, acc_test 0.174664, time 0:00:10.457595\n",
      "epoch 31, loss_train 2.047269, loss_test 4.374169, acc_train 0.486573, acc_test 0.162508, time 0:00:10.506674\n",
      "epoch 32, loss_train 1.888225, loss_test 4.500789, acc_train 0.525987, acc_test 0.159545, time 0:00:10.471567\n",
      "epoch 33, loss_train 1.722450, loss_test 4.643907, acc_train 0.569585, acc_test 0.156947, time 0:00:10.582936\n",
      "epoch 34, loss_train 1.549839, loss_test 4.818403, acc_train 0.615404, acc_test 0.151365, time 0:00:10.518245\n",
      "epoch 35, loss_train 1.377944, loss_test 4.979813, acc_train 0.663902, acc_test 0.147710, time 0:00:10.471162\n",
      "epoch 36, loss_train 1.212171, loss_test 5.165389, acc_train 0.711703, acc_test 0.139517, time 0:00:10.443795\n",
      "epoch 37, loss_train 1.052425, loss_test 5.377257, acc_train 0.757449, acc_test 0.136810, time 0:00:10.461670\n",
      "epoch 38, loss_train 0.899288, loss_test 5.568422, acc_train 0.802855, acc_test 0.133521, time 0:00:10.574107\n",
      "epoch 39, loss_train 0.758063, loss_test 5.753892, acc_train 0.843615, acc_test 0.132191, time 0:00:10.469161\n",
      "epoch 40, loss_train 0.631710, loss_test 5.950877, acc_train 0.879758, acc_test 0.130143, time 0:00:10.560557\n",
      "epoch 41, loss_train 0.521489, loss_test 6.146332, acc_train 0.911338, acc_test 0.127613, time 0:00:10.584121\n",
      "epoch 42, loss_train 0.427532, loss_test 6.350711, acc_train 0.935174, acc_test 0.123597, time 0:00:10.481729\n",
      "epoch 43, loss_train 0.347383, loss_test 6.517932, acc_train 0.954387, acc_test 0.124459, time 0:00:10.492268\n",
      "epoch 44, loss_train 0.283086, loss_test 6.710753, acc_train 0.968112, acc_test 0.122790, time 0:00:10.583281\n",
      "epoch 45, loss_train 0.230056, loss_test 6.865181, acc_train 0.977648, acc_test 0.121413, time 0:00:10.324248\n",
      "epoch 46, loss_train 0.188979, loss_test 7.020456, acc_train 0.983991, acc_test 0.121496, time 0:00:10.608420\n",
      "epoch 47, loss_train 0.156787, loss_test 7.174289, acc_train 0.988034, acc_test 0.122600, time 0:00:10.518549\n",
      "epoch 48, loss_train 0.132247, loss_test 7.286449, acc_train 0.990615, acc_test 0.121590, time 0:00:10.447480\n",
      "epoch 49, loss_train 0.113402, loss_test 7.411317, acc_train 0.992129, acc_test 0.121632, time 0:00:10.451150\n",
      "epoch 50, loss_train 0.098222, loss_test 7.519016, acc_train 0.993347, acc_test 0.120178, time 0:00:10.628900\n"
     ]
    },
    {
     "ename": "KeyboardInterrupt",
     "evalue": "",
     "output_type": "error",
     "traceback": [
      "\u001b[0;31m---------------------------------------------------------------------------\u001b[0m",
      "\u001b[0;31mKeyboardInterrupt\u001b[0m                         Traceback (most recent call last)",
      "\u001b[0;32m<ipython-input-4-fdd15ef80f0f>\u001b[0m in \u001b[0;36m<module>\u001b[0;34m\u001b[0m\n\u001b[1;32m     18\u001b[0m \u001b[0;32mfor\u001b[0m \u001b[0mepoch\u001b[0m \u001b[0;32min\u001b[0m \u001b[0mrange\u001b[0m\u001b[0;34m(\u001b[0m\u001b[0mnum_epoch\u001b[0m\u001b[0;34m)\u001b[0m\u001b[0;34m:\u001b[0m\u001b[0;34m\u001b[0m\u001b[0;34m\u001b[0m\u001b[0m\n\u001b[1;32m     19\u001b[0m     \u001b[0mstart\u001b[0m \u001b[0;34m=\u001b[0m \u001b[0mdatetime\u001b[0m\u001b[0;34m.\u001b[0m\u001b[0mdatetime\u001b[0m\u001b[0;34m.\u001b[0m\u001b[0mnow\u001b[0m\u001b[0;34m(\u001b[0m\u001b[0;34m)\u001b[0m\u001b[0;34m\u001b[0m\u001b[0;34m\u001b[0m\u001b[0m\n\u001b[0;32m---> 20\u001b[0;31m     \u001b[0mtrain_l\u001b[0m\u001b[0;34m,\u001b[0m \u001b[0mtrain_acc\u001b[0m \u001b[0;34m=\u001b[0m \u001b[0mtrain_evaluate\u001b[0m\u001b[0;34m(\u001b[0m\u001b[0mmodel\u001b[0m\u001b[0;34m,\u001b[0m \u001b[0mtrain_set\u001b[0m\u001b[0;34m,\u001b[0m \u001b[0mbatch_size\u001b[0m\u001b[0;34m,\u001b[0m \u001b[0moptimizer\u001b[0m\u001b[0;34m)\u001b[0m\u001b[0;34m\u001b[0m\u001b[0;34m\u001b[0m\u001b[0m\n\u001b[0m\u001b[1;32m     21\u001b[0m     \u001b[0mtest_l\u001b[0m\u001b[0;34m,\u001b[0m \u001b[0mtest_acc\u001b[0m \u001b[0;34m=\u001b[0m \u001b[0mtest_evaluate\u001b[0m\u001b[0;34m(\u001b[0m\u001b[0mmodel\u001b[0m\u001b[0;34m,\u001b[0m \u001b[0mtest_set\u001b[0m\u001b[0;34m,\u001b[0m \u001b[0mbatch_size\u001b[0m\u001b[0;34m)\u001b[0m\u001b[0;34m\u001b[0m\u001b[0;34m\u001b[0m\u001b[0m\n\u001b[1;32m     22\u001b[0m     \u001b[0mscheduler\u001b[0m\u001b[0;34m.\u001b[0m\u001b[0mstep\u001b[0m\u001b[0;34m(\u001b[0m\u001b[0;34m)\u001b[0m\u001b[0;34m\u001b[0m\u001b[0;34m\u001b[0m\u001b[0m\n",
      "\u001b[0;32m<ipython-input-3-3c188ebbb6fd>\u001b[0m in \u001b[0;36mtrain_evaluate\u001b[0;34m(model, data_set, batch_size, optimizer)\u001b[0m\n\u001b[1;32m     51\u001b[0m         \u001b[0mloss\u001b[0m \u001b[0;34m=\u001b[0m \u001b[0mloss_func\u001b[0m\u001b[0;34m(\u001b[0m\u001b[0mprediction\u001b[0m\u001b[0;34m,\u001b[0m \u001b[0mlabel\u001b[0m\u001b[0;34m)\u001b[0m\u001b[0;34m\u001b[0m\u001b[0;34m\u001b[0m\u001b[0m\n\u001b[1;32m     52\u001b[0m         \u001b[0moptimizer\u001b[0m\u001b[0;34m.\u001b[0m\u001b[0mzero_grad\u001b[0m\u001b[0;34m(\u001b[0m\u001b[0;34m)\u001b[0m\u001b[0;34m\u001b[0m\u001b[0;34m\u001b[0m\u001b[0m\n\u001b[0;32m---> 53\u001b[0;31m         \u001b[0mloss\u001b[0m\u001b[0;34m.\u001b[0m\u001b[0mbackward\u001b[0m\u001b[0;34m(\u001b[0m\u001b[0;34m)\u001b[0m\u001b[0;34m\u001b[0m\u001b[0;34m\u001b[0m\u001b[0m\n\u001b[0m\u001b[1;32m     54\u001b[0m         \u001b[0moptimizer\u001b[0m\u001b[0;34m.\u001b[0m\u001b[0mstep\u001b[0m\u001b[0;34m(\u001b[0m\u001b[0;34m)\u001b[0m\u001b[0;34m\u001b[0m\u001b[0;34m\u001b[0m\u001b[0m\n\u001b[1;32m     55\u001b[0m         \u001b[0mtrain_l_sum\u001b[0m \u001b[0;34m+=\u001b[0m \u001b[0mloss\u001b[0m\u001b[0;34m.\u001b[0m\u001b[0mitem\u001b[0m\u001b[0;34m(\u001b[0m\u001b[0;34m)\u001b[0m\u001b[0;34m\u001b[0m\u001b[0;34m\u001b[0m\u001b[0m\n",
      "\u001b[0;32m~/anaconda3/envs/pytorch_env/lib/python3.7/site-packages/torch/tensor.py\u001b[0m in \u001b[0;36mbackward\u001b[0;34m(self, gradient, retain_graph, create_graph)\u001b[0m\n\u001b[1;32m    116\u001b[0m                 \u001b[0mproducts\u001b[0m\u001b[0;34m.\u001b[0m \u001b[0mDefaults\u001b[0m \u001b[0mto\u001b[0m\u001b[0;31m \u001b[0m\u001b[0;31m`\u001b[0m\u001b[0;31m`\u001b[0m\u001b[0;32mFalse\u001b[0m\u001b[0;31m`\u001b[0m\u001b[0;31m`\u001b[0m\u001b[0;34m.\u001b[0m\u001b[0;34m\u001b[0m\u001b[0;34m\u001b[0m\u001b[0m\n\u001b[1;32m    117\u001b[0m         \"\"\"\n\u001b[0;32m--> 118\u001b[0;31m         \u001b[0mtorch\u001b[0m\u001b[0;34m.\u001b[0m\u001b[0mautograd\u001b[0m\u001b[0;34m.\u001b[0m\u001b[0mbackward\u001b[0m\u001b[0;34m(\u001b[0m\u001b[0mself\u001b[0m\u001b[0;34m,\u001b[0m \u001b[0mgradient\u001b[0m\u001b[0;34m,\u001b[0m \u001b[0mretain_graph\u001b[0m\u001b[0;34m,\u001b[0m \u001b[0mcreate_graph\u001b[0m\u001b[0;34m)\u001b[0m\u001b[0;34m\u001b[0m\u001b[0;34m\u001b[0m\u001b[0m\n\u001b[0m\u001b[1;32m    119\u001b[0m \u001b[0;34m\u001b[0m\u001b[0m\n\u001b[1;32m    120\u001b[0m     \u001b[0;32mdef\u001b[0m \u001b[0mregister_hook\u001b[0m\u001b[0;34m(\u001b[0m\u001b[0mself\u001b[0m\u001b[0;34m,\u001b[0m \u001b[0mhook\u001b[0m\u001b[0;34m)\u001b[0m\u001b[0;34m:\u001b[0m\u001b[0;34m\u001b[0m\u001b[0;34m\u001b[0m\u001b[0m\n",
      "\u001b[0;32m~/anaconda3/envs/pytorch_env/lib/python3.7/site-packages/torch/autograd/__init__.py\u001b[0m in \u001b[0;36mbackward\u001b[0;34m(tensors, grad_tensors, retain_graph, create_graph, grad_variables)\u001b[0m\n\u001b[1;32m     91\u001b[0m     Variable._execution_engine.run_backward(\n\u001b[1;32m     92\u001b[0m         \u001b[0mtensors\u001b[0m\u001b[0;34m,\u001b[0m \u001b[0mgrad_tensors\u001b[0m\u001b[0;34m,\u001b[0m \u001b[0mretain_graph\u001b[0m\u001b[0;34m,\u001b[0m \u001b[0mcreate_graph\u001b[0m\u001b[0;34m,\u001b[0m\u001b[0;34m\u001b[0m\u001b[0;34m\u001b[0m\u001b[0m\n\u001b[0;32m---> 93\u001b[0;31m         allow_unreachable=True)  # allow_unreachable flag\n\u001b[0m\u001b[1;32m     94\u001b[0m \u001b[0;34m\u001b[0m\u001b[0m\n\u001b[1;32m     95\u001b[0m \u001b[0;34m\u001b[0m\u001b[0m\n",
      "\u001b[0;31mKeyboardInterrupt\u001b[0m: "
     ]
    }
   ],
   "source": [
    "# ==================== GRU模型 ==================== #\n",
    "\n",
    "device = 'cuda:1'\n",
    "num_class = len(loc_dict)\n",
    "model = MyGRU(input_size=num_class, hidden_size=1024, output_size=num_class).to(device) #输出size是地址类别\n",
    "\n",
    "loss_func = nn.CrossEntropyLoss()                                    #多分类问题使用CrossEntropyLoss函数\n",
    "optimizer = torch.optim.Adam(model.parameters(), lr=0.0005, weight_decay=0.00001)\n",
    "scheduler = torch.optim.lr_scheduler.MultiStepLR(optimizer, milestones=[60,70], gamma=0.1)\n",
    "\n",
    "loss_train = []\n",
    "loss_test = []\n",
    "acc_train = []\n",
    "acc_test = []\n",
    "batch_size = 4096\n",
    "num_epoch = 70\n",
    "total_time_start = datetime.datetime.now()\n",
    "for epoch in range(num_epoch):\n",
    "    start = datetime.datetime.now()\n",
    "    train_l, train_acc = train_evaluate(model, train_set, batch_size, optimizer)\n",
    "    test_l, test_acc = test_evaluate(model, test_set, batch_size)\n",
    "    scheduler.step()\n",
    "    loss_train.append(train_l)\n",
    "    acc_train.append(train_acc)\n",
    "    loss_test.append(test_l)\n",
    "    acc_test.append(test_acc)\n",
    "    end = datetime.datetime.now()\n",
    "    print('epoch %d, loss_train %f, loss_test %f, acc_train %f, acc_test %f, time %s'% \n",
    "          (epoch+1, loss_train[epoch], loss_test[epoch], acc_train[epoch], acc_test[epoch], end - start))\n",
    "total_time_end = datetime.datetime.now()\n",
    "print(\"GRU模型的运行时间：\",total_time_end - total_time_start)"
   ]
  },
  {
   "cell_type": "code",
   "execution_count": 7,
   "metadata": {},
   "outputs": [
    {
     "data": {
      "image/png": "[encoded data removed]",
      "text/plain": [
       "<Figure size 432x288 with 1 Axes>"
      ]
     },
     "metadata": {
      "needs_background": "light"
     },
     "output_type": "display_data"
    }
   ],
   "source": [
    "plt.plot(loss_train ,label='train',color='royalblue')\n",
    "plt.plot(loss_test ,label='test', color='orange')\n",
    "plt.ylabel(\"loss\")\n",
    "plt.xlabel(\"epoch\")\n",
    "plt.title(\"GRU: Loss\")\n",
    "plt.legend()\n",
    "plt.show()"
   ]
  },
  {
   "cell_type": "code",
   "execution_count": 8,
   "metadata": {},
   "outputs": [
    {
     "data": {
      "image/png": "[encoded data removed]",
      "text/plain": [
       "<Figure size 432x288 with 1 Axes>"
      ]
     },
     "metadata": {
      "needs_background": "light"
     },
     "output_type": "display_data"
    }
   ],
   "source": [
    "plt.plot(acc_train ,label='train',color='royalblue')\n",
    "plt.plot(acc_test ,label='test', color='orange')\n",
    "plt.ylabel(\"acc\")\n",
    "plt.xlabel(\"epoch\")\n",
    "plt.title(\"GRU: Acc\")\n",
    "plt.legend()\n",
    "plt.show()"
   ]
  },
  {
   "cell_type": "code",
   "execution_count": 9,
   "metadata": {},
   "outputs": [
    {
     "data": {
      "image/png": "[encoded data removed]",
      "text/plain": [
       "<Figure size 432x288 with 1 Axes>"
      ]
     },
     "metadata": {
      "needs_background": "light"
     },
     "output_type": "display_data"
    }
   ],
   "source": [
    "plt.plot(loss_train ,label='train',color='royalblue')\n",
    "plt.ylabel(\"loss\")\n",
    "plt.xlabel(\"epoch\")\n",
    "plt.title(\"GRU: Loss\")\n",
    "plt.legend()\n",
    "plt.show()"
   ]
  },
  {
   "cell_type": "code",
   "execution_count": 10,
   "metadata": {},
   "outputs": [
    {
     "data": {
      "image/png": "[encoded data removed]",
      "text/plain": [
       "<Figure size 432x288 with 1 Axes>"
      ]
     },
     "metadata": {
      "needs_background": "light"
     },
     "output_type": "display_data"
    }
   ],
   "source": [
    "plt.plot(acc_train ,label='train',color='royalblue')\n",
    "plt.ylabel(\"acc\")\n",
    "plt.xlabel(\"epoch\")\n",
    "plt.title(\"GRU: Acc\")\n",
    "plt.legend()\n",
    "plt.show()"
   ]
  },
  {
   "cell_type": "code",
   "execution_count": null,
   "metadata": {},
   "outputs": [],
   "source": []
  }
 ],
 "metadata": {
  "kernelspec": {
   "display_name": "Python 3",
   "language": "python",
   "name": "python3"
  },
  "language_info": {
   "codemirror_mode": {
    "name": "ipython",
    "version": 3
   },
   "file_extension": ".py",
   "mimetype": "text/x-python",
   "name": "python",
   "nbconvert_exporter": "python",
   "pygments_lexer": "ipython3",
   "version": "3.7.4"
  },
  "toc": {
   "base_numbering": 1,
   "nav_menu": {},
   "number_sections": true,
   "sideBar": true,
   "skip_h1_title": false,
   "title_cell": "Table of Contents",
   "title_sidebar": "Contents",
   "toc_cell": false,
   "toc_position": {},
   "toc_section_display": true,
   "toc_window_display": false
  },
  "varInspector": {
   "cols": {
    "lenName": 16,
    "lenType": 16,
    "lenVar": 40
   },
   "kernels_config": {
    "python": {
     "delete_cmd_postfix": "",
     "delete_cmd_prefix": "del ",
     "library": "var_list.py",
     "varRefreshCmd": "print(var_dic_list())"
    },
    "r": {
     "delete_cmd_postfix": ") ",
     "delete_cmd_prefix": "rm(",
     "library": "var_list.r",
     "varRefreshCmd": "cat(var_dic_list()) "
    }
   },
   "types_to_exclude": [
    "module",
    "function",
    "builtin_function_or_method",
    "instance",
    "_Feature"
   ],
   "window_display": false
  }
 },
 "nbformat": 4,
 "nbformat_minor": 4
}
