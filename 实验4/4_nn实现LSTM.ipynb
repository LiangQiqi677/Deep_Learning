{
 "cells": [
  {
   "cell_type": "code",
   "execution_count": 1,
   "metadata": {},
   "outputs": [],
   "source": [
    "import pandas as pd\n",
    "import numpy as np\n",
    "import torch\n",
    "import torch.nn as nn\n",
    "import math\n",
    "import datetime\n",
    "import matplotlib.pyplot as plt\n",
    "from sklearn.utils import shuffle"
   ]
  },
  {
   "cell_type": "code",
   "execution_count": 2,
   "metadata": {},
   "outputs": [],
   "source": [
    "# ==================== 读取数据 ==================== #\n",
    "\n",
    "df = pd.read_csv('FS_NYC.csv')                          #自动把第一行做列属性\n",
    "df = df.loc[:,['userId','venueCategory']]               #取出用户ID和地点ID\n",
    "\n",
    "# ==================== 获得地址字典 ==================== #\n",
    "\n",
    "location = []                                           #取出所有的地址\n",
    "for i in range(df.shape[0]):\n",
    "    location.append(df.iloc[i,1])\n",
    "location = list(set(location))                          #去重\n",
    "loc_dict = dict(zip(location,range(len(location))))     #给这251个地点创建字典\n",
    "\n",
    "# ==================== 分组获得每个人的运动轨迹 ==================== #\n",
    "\n",
    "loc_rep = df.replace(loc_dict)                          #将地址名称替换成字典里的数字\n",
    "\n",
    "def sliding_window(seq, window_size):\n",
    "    result = []\n",
    "    for i in range(len(seq)-window_size):\n",
    "        result.append(seq[i:i+window_size])\n",
    "    return result\n",
    "\n",
    "train_set, test_set = [], []\n",
    "window_size = 10   #窗口大小为10\n",
    "for userId, group in loc_rep.groupby('userId'):\n",
    "    full_seq = group['venueCategory']\n",
    "    full_len = full_seq.shape[0]\n",
    "    train_seq = full_seq.iloc[:int(full_len*0.7)].to_list()\n",
    "    test_seq = full_seq.iloc[int(full_len*0.7):].to_list()\n",
    "    train_set += sliding_window(train_seq, window_size)\n",
    "    test_set += sliding_window(test_seq, window_size)"
   ]
  },
  {
   "cell_type": "code",
   "execution_count": 3,
   "metadata": {},
   "outputs": [],
   "source": [
    "# ==================== LSTM模型 ==================== #\n",
    "\n",
    "class Lstm(nn.Module):\n",
    "    def __init__(self, input_size, hidden_size, output_size):\n",
    "        super().__init__()\n",
    "        self.hidden_size = hidden_size\n",
    "        self.embedding = nn.Embedding(num_embeddings=input_size, embedding_dim=hidden_size)\n",
    "        #一定要加batch_first=True，因为我们的输入x是[batch,seq,input],但是默认的是[seq,batch,input]\n",
    "        self.lstm = nn.LSTM(input_size=hidden_size, hidden_size=hidden_size, num_layers=1, batch_first=True)\n",
    "        self.out = nn.Linear(hidden_size,output_size)\n",
    "        \n",
    "    def forward(self, x):\n",
    "        batch_size = x.size(0)\n",
    "        seq_len = x.size(1)                                           # x: torch.Size([128, 10])\n",
    "        x = self.embedding(x)                                         # x: torch.Size([128, 10, 32])\n",
    "        h = torch.zeros(1, batch_size, self.hidden_size).to(x.device) # h: #torch.Size([1, 128, 128])  \n",
    "        c = torch.zeros(1, batch_size, self.hidden_size).to(x.device) # h: #torch.Size([1, 128, 128])  \n",
    "        y_list = []\n",
    "        for i in range(seq_len):\n",
    "            y, (h, c) = self.lstm(x, (h, c))\n",
    "            y_list.append(self.out(y[:, i, :]))\n",
    "        return (h, c), torch.stack(y_list, dim=1)\n",
    "\n",
    "def next_batch(data, batch_size):\n",
    "    data_length = len(data)\n",
    "    num_batches = math.ceil(data_length / batch_size)\n",
    "    for batch_index in range(num_batches):\n",
    "        start_index = batch_index * batch_size\n",
    "        end_index = min((batch_index + 1) * batch_size, data_length)\n",
    "        yield data[start_index:end_index]\n",
    "\n",
    "def train_evaluate(model, data_set, batch_size, optimizer):\n",
    "    model.train()\n",
    "    train_l_sum, train_acc_sum, n = 0.0, 0.0, 0\n",
    "    for batch in next_batch(shuffle(data_set), batch_size):\n",
    "        batch = torch.from_numpy(np.array(batch)).long().to(device) #embedding层的输入需要long形式\n",
    "        x = batch[:, :window_size-1].long().to(device)\n",
    "        label =  batch[: , -1].long().to(device)\n",
    "        hidden, out = model(x)                                 #输入直接是(batch_size, seq)，不用扩展最后一维\n",
    "        prediction = out[:, -1, :].squeeze(-1)\n",
    "        loss = loss_func(prediction, label)\n",
    "        optimizer.zero_grad()\n",
    "        loss.backward()\n",
    "        optimizer.step()\n",
    "        train_l_sum += loss.item()\n",
    "        train_acc_sum += (prediction.argmax(dim=1) == label).sum().item() / label.shape[0]\n",
    "        n += 1  #每个batch+1\n",
    "    return train_l_sum/n, train_acc_sum/n\n",
    "\n",
    "def test_evaluate(model, data_set, batch_size):\n",
    "    model.eval()\n",
    "    train_l_sum, train_acc_sum, n = 0.0, 0.0, 0\n",
    "    with torch.no_grad():\n",
    "        for batch in next_batch(shuffle(data_set), batch_size):\n",
    "            batch = torch.from_numpy(np.array(batch)).long().to(device) #embedding层的输入需要long形式\n",
    "            x = batch[:, :window_size-1].long().to(device)\n",
    "            label =  batch[: , -1].long().to(device)\n",
    "            hidden, out = model(x)                                 #输入直接是(batch_size, seq)，不用扩展最后一维\n",
    "            prediction = out[:, -1, :].squeeze(-1)\n",
    "            loss = loss_func(prediction, label)\n",
    "            train_l_sum += loss.item()\n",
    "            train_acc_sum += (prediction.argmax(dim=1) == label).sum().item() / label.shape[0]\n",
    "            n += 1  #每个batch+1\n",
    "    return train_l_sum/n, train_acc_sum/n"
   ]
  },
  {
   "cell_type": "code",
   "execution_count": 8,
   "metadata": {},
   "outputs": [
    {
     "name": "stdout",
     "output_type": "stream",
     "text": [
      "epoch 1, loss_train 3.785377, loss_test 3.666082, acc_train 0.214971, acc_test 0.219448, time 0:01:12.413049\n",
      "epoch 2, loss_train 3.492110, loss_test 3.608540, acc_train 0.236721, acc_test 0.225084, time 0:01:14.095538\n",
      "epoch 3, loss_train 3.366885, loss_test 3.596390, acc_train 0.250424, acc_test 0.224582, time 0:01:14.667267\n",
      "epoch 4, loss_train 3.258526, loss_test 3.592252, acc_train 0.263387, acc_test 0.223047, time 0:01:14.990161\n",
      "epoch 5, loss_train 3.147262, loss_test 3.614340, acc_train 0.278088, acc_test 0.222255, time 0:01:15.017470\n",
      "epoch 6, loss_train 3.028090, loss_test 3.637118, acc_train 0.294285, acc_test 0.219874, time 0:01:14.966561\n",
      "epoch 7, loss_train 2.899898, loss_test 3.681315, acc_train 0.314259, acc_test 0.214941, time 0:01:15.010351\n",
      "epoch 8, loss_train 2.764284, loss_test 3.724727, acc_train 0.335047, acc_test 0.206408, time 0:01:14.933486\n",
      "epoch 9, loss_train 2.614144, loss_test 3.799690, acc_train 0.362068, acc_test 0.199480, time 0:01:14.778682\n",
      "epoch 10, loss_train 2.458585, loss_test 3.862184, acc_train 0.393853, acc_test 0.192656, time 0:01:14.700036\n",
      "epoch 11, loss_train 2.287184, loss_test 3.958661, acc_train 0.429138, acc_test 0.186094, time 0:01:14.791477\n",
      "epoch 12, loss_train 2.113373, loss_test 4.065722, acc_train 0.467988, acc_test 0.175194, time 0:01:14.690535\n",
      "epoch 13, loss_train 1.932580, loss_test 4.181333, acc_train 0.511209, acc_test 0.169379, time 0:01:14.696649\n",
      "epoch 14, loss_train 1.755468, loss_test 4.312485, acc_train 0.556001, acc_test 0.160993, time 0:01:14.723021\n",
      "epoch 15, loss_train 1.573657, loss_test 4.465612, acc_train 0.603580, acc_test 0.156107, time 0:01:14.689480\n",
      "epoch 16, loss_train 1.397822, loss_test 4.590297, acc_train 0.651085, acc_test 0.151417, time 0:01:14.601384\n",
      "epoch 17, loss_train 1.232281, loss_test 4.759003, acc_train 0.696370, acc_test 0.144806, time 0:01:14.750201\n",
      "epoch 18, loss_train 1.075212, loss_test 4.956022, acc_train 0.740632, acc_test 0.140362, time 0:01:14.661142\n",
      "epoch 19, loss_train 0.927954, loss_test 5.077446, acc_train 0.781520, acc_test 0.137296, time 0:01:14.669581\n",
      "epoch 20, loss_train 0.805493, loss_test 5.250263, acc_train 0.814526, acc_test 0.136368, time 0:01:14.593793\n",
      "epoch 21, loss_train 0.699772, loss_test 5.426521, acc_train 0.844142, acc_test 0.132257, time 0:01:14.666697\n",
      "epoch 22, loss_train 0.592868, loss_test 5.565658, acc_train 0.873247, acc_test 0.131535, time 0:01:14.604799\n",
      "epoch 23, loss_train 0.507000, loss_test 5.743432, acc_train 0.895055, acc_test 0.126435, time 0:01:14.679875\n",
      "epoch 24, loss_train 0.437109, loss_test 5.891405, acc_train 0.912416, acc_test 0.127753, time 0:01:14.596762\n",
      "epoch 25, loss_train 0.378013, loss_test 6.050699, acc_train 0.926851, acc_test 0.123953, time 0:01:14.543399\n",
      "epoch 26, loss_train 0.337415, loss_test 6.147526, acc_train 0.935932, acc_test 0.123783, time 0:01:14.650907\n",
      "epoch 27, loss_train 0.294776, loss_test 6.305776, acc_train 0.945308, acc_test 0.124807, time 0:01:14.649231\n",
      "epoch 28, loss_train 0.260526, loss_test 6.407146, acc_train 0.952531, acc_test 0.123471, time 0:01:14.590421\n",
      "epoch 29, loss_train 0.233381, loss_test 6.532942, acc_train 0.957905, acc_test 0.124736, time 0:01:14.703971\n",
      "epoch 30, loss_train 0.212710, loss_test 6.649991, acc_train 0.961482, acc_test 0.123401, time 0:01:14.343011\n",
      "epoch 31, loss_train 0.201457, loss_test 6.755027, acc_train 0.962936, acc_test 0.120388, time 0:01:14.697953\n",
      "epoch 32, loss_train 0.187090, loss_test 6.784934, acc_train 0.966752, acc_test 0.122625, time 0:01:14.728205\n",
      "epoch 33, loss_train 0.179014, loss_test 6.885414, acc_train 0.967530, acc_test 0.118612, time 0:01:14.987686\n",
      "epoch 34, loss_train 0.190819, loss_test 6.903488, acc_train 0.963849, acc_test 0.120725, time 0:01:15.067737\n",
      "epoch 35, loss_train 0.188059, loss_test 6.931358, acc_train 0.964489, acc_test 0.118260, time 0:01:15.098664\n",
      "epoch 36, loss_train 0.179400, loss_test 7.042779, acc_train 0.965991, acc_test 0.121500, time 0:01:14.922342\n",
      "epoch 37, loss_train 0.161330, loss_test 7.091697, acc_train 0.969280, acc_test 0.122100, time 0:01:14.796667\n",
      "epoch 38, loss_train 0.147823, loss_test 7.164031, acc_train 0.971823, acc_test 0.123087, time 0:01:15.031375\n",
      "epoch 39, loss_train 0.126300, loss_test 7.271371, acc_train 0.975693, acc_test 0.122789, time 0:01:15.093769\n",
      "epoch 40, loss_train 0.110882, loss_test 7.348327, acc_train 0.978262, acc_test 0.124147, time 0:01:14.728513\n",
      "epoch 41, loss_train 0.101011, loss_test 7.418885, acc_train 0.980098, acc_test 0.122655, time 0:01:14.914257\n",
      "epoch 42, loss_train 0.097533, loss_test 7.528280, acc_train 0.979844, acc_test 0.123510, time 0:01:14.666170\n",
      "epoch 43, loss_train 0.098423, loss_test 7.515909, acc_train 0.980080, acc_test 0.118385, time 0:01:14.997909\n",
      "epoch 44, loss_train 0.110308, loss_test 7.559269, acc_train 0.977722, acc_test 0.121185, time 0:01:14.894213\n",
      "epoch 45, loss_train 0.156846, loss_test 7.471873, acc_train 0.966995, acc_test 0.121220, time 0:01:15.027935\n",
      "epoch 46, loss_train 0.291529, loss_test 7.265835, acc_train 0.924872, acc_test 0.120370, time 0:01:15.187753\n",
      "epoch 47, loss_train 0.277498, loss_test 7.300472, acc_train 0.931526, acc_test 0.117275, time 0:01:15.095079\n",
      "epoch 48, loss_train 0.179823, loss_test 7.485266, acc_train 0.961521, acc_test 0.119331, time 0:01:15.123786\n",
      "epoch 49, loss_train 0.098409, loss_test 7.610518, acc_train 0.981059, acc_test 0.119557, time 0:01:14.943349\n",
      "epoch 50, loss_train 0.068112, loss_test 7.712457, acc_train 0.985544, acc_test 0.123705, time 0:01:14.863662\n",
      "利用torch.nn实现LSTM的运行时间： 1:02:17.366877\n"
     ]
    }
   ],
   "source": [
    "device = 'cuda:2'\n",
    "num_class = len(loc_dict)\n",
    "model = Lstm(input_size=num_class, hidden_size=1024, output_size=num_class).to(device) #输出size是地址类别\n",
    "\n",
    "loss_func = nn.CrossEntropyLoss()                                    #多分类问题使用CrossEntropyLoss函数\n",
    "optimizer = torch.optim.Adam(model.parameters(), lr=0.0005, weight_decay=0.00001)\n",
    "scheduler = torch.optim.lr_scheduler.MultiStepLR(optimizer, milestones=[45,50], gamma=0.1)\n",
    "\n",
    "loss_train = []\n",
    "loss_test = []\n",
    "acc_train = []\n",
    "acc_test = []\n",
    "batch_size = 1024\n",
    "num_epoch = 50\n",
    "total_time_start = datetime.datetime.now()\n",
    "for epoch in range(num_epoch):\n",
    "    start = datetime.datetime.now()\n",
    "    train_l, train_acc = train_evaluate(model, train_set, batch_size, optimizer)\n",
    "    test_l, test_acc = test_evaluate(model, test_set, batch_size)\n",
    "    #scheduler.step()\n",
    "    loss_train.append(train_l)\n",
    "    acc_train.append(train_acc)\n",
    "    loss_test.append(test_l)\n",
    "    acc_test.append(test_acc)\n",
    "    end = datetime.datetime.now()\n",
    "    print('epoch %d, loss_train %f, loss_test %f, acc_train %f, acc_test %f, time %s'% \n",
    "          (epoch+1, loss_train[epoch], loss_test[epoch], acc_train[epoch], acc_test[epoch], end - start))\n",
    "total_time_end = datetime.datetime.now()\n",
    "print(\"利用torch.nn实现LSTM的运行时间：\",total_time_end - total_time_start)"
   ]
  },
  {
   "cell_type": "code",
   "execution_count": 9,
   "metadata": {},
   "outputs": [
    {
     "data": {
      "image/png": "[encoded data removed]",
      "text/plain": [
       "<Figure size 432x288 with 1 Axes>"
      ]
     },
     "metadata": {
      "needs_background": "light"
     },
     "output_type": "display_data"
    }
   ],
   "source": [
    "plt.plot(loss_train ,label='train',color='royalblue')\n",
    "plt.ylabel(\"loss\")\n",
    "plt.xlabel(\"epoch\")\n",
    "plt.title(\"LSTM: Loss\")\n",
    "plt.legend()\n",
    "plt.show()"
   ]
  },
  {
   "cell_type": "code",
   "execution_count": 10,
   "metadata": {},
   "outputs": [
    {
     "data": {
      "image/png": "[encoded data removed]",
      "text/plain": [
       "<Figure size 432x288 with 1 Axes>"
      ]
     },
     "metadata": {
      "needs_background": "light"
     },
     "output_type": "display_data"
    }
   ],
   "source": [
    "plt.plot(acc_train ,label='train',color='royalblue')\n",
    "plt.ylabel(\"acc\")\n",
    "plt.xlabel(\"epoch\")\n",
    "plt.title(\"LSTM: Acc\")\n",
    "plt.legend()\n",
    "plt.show()"
   ]
  },
  {
   "cell_type": "code",
   "execution_count": 11,
   "metadata": {},
   "outputs": [
    {
     "data": {
      "image/png": "[encoded data removed]",
      "text/plain": [
       "<Figure size 432x288 with 1 Axes>"
      ]
     },
     "metadata": {
      "needs_background": "light"
     },
     "output_type": "display_data"
    }
   ],
   "source": [
    "plt.plot(loss_train ,label='train',color='royalblue')\n",
    "plt.plot(loss_test ,label='test', color='orange')\n",
    "plt.ylabel(\"loss\")\n",
    "plt.xlabel(\"epoch\")\n",
    "plt.title(\"LSTM: Loss\")\n",
    "plt.legend()\n",
    "plt.show()"
   ]
  },
  {
   "cell_type": "code",
   "execution_count": 12,
   "metadata": {},
   "outputs": [
    {
     "data": {
      "image/png": "[encoded data removed]",
      "text/plain": [
       "<Figure size 432x288 with 1 Axes>"
      ]
     },
     "metadata": {
      "needs_background": "light"
     },
     "output_type": "display_data"
    }
   ],
   "source": [
    "plt.plot(acc_train ,label='train',color='royalblue')\n",
    "plt.plot(acc_test ,label='test', color='orange')\n",
    "plt.ylabel(\"acc\")\n",
    "plt.xlabel(\"epoch\")\n",
    "plt.title(\"LSTM: Acc\")\n",
    "plt.legend()\n",
    "plt.show()"
   ]
  },
  {
   "cell_type": "code",
   "execution_count": null,
   "metadata": {},
   "outputs": [],
   "source": []
  }
 ],
 "metadata": {
  "kernelspec": {
   "display_name": "Python 3",
   "language": "python",
   "name": "python3"
  },
  "language_info": {
   "codemirror_mode": {
    "name": "ipython",
    "version": 3
   },
   "file_extension": ".py",
   "mimetype": "text/x-python",
   "name": "python",
   "nbconvert_exporter": "python",
   "pygments_lexer": "ipython3",
   "version": "3.7.4"
  },
  "toc": {
   "base_numbering": 1,
   "nav_menu": {},
   "number_sections": true,
   "sideBar": true,
   "skip_h1_title": false,
   "title_cell": "Table of Contents",
   "title_sidebar": "Contents",
   "toc_cell": false,
   "toc_position": {},
   "toc_section_display": true,
   "toc_window_display": false
  },
  "varInspector": {
   "cols": {
    "lenName": 16,
    "lenType": 16,
    "lenVar": 40
   },
   "kernels_config": {
    "python": {
     "delete_cmd_postfix": "",
     "delete_cmd_prefix": "del ",
     "library": "var_list.py",
     "varRefreshCmd": "print(var_dic_list())"
    },
    "r": {
     "delete_cmd_postfix": ") ",
     "delete_cmd_prefix": "rm(",
     "library": "var_list.r",
     "varRefreshCmd": "cat(var_dic_list()) "
    }
   },
   "types_to_exclude": [
    "module",
    "function",
    "builtin_function_or_method",
    "instance",
    "_Feature"
   ],
   "window_display": false
  }
 },
 "nbformat": 4,
 "nbformat_minor": 4
}
