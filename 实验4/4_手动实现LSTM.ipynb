{
 "cells": [
  {
   "cell_type": "code",
   "execution_count": 1,
   "metadata": {},
   "outputs": [],
   "source": [
    "import pandas as pd\n",
    "import numpy as np\n",
    "import torch\n",
    "import torch.nn as nn\n",
    "import math\n",
    "import datetime\n",
    "import matplotlib.pyplot as plt\n",
    "from sklearn.utils import shuffle"
   ]
  },
  {
   "cell_type": "code",
   "execution_count": 2,
   "metadata": {},
   "outputs": [],
   "source": [
    "# ==================== 读取数据 ==================== #\n",
    "\n",
    "df = pd.read_csv('FS_NYC.csv')                          #自动把第一行做列属性\n",
    "df = df.loc[:,['userId','venueCategory']]               #取出用户ID和地点ID\n",
    "\n",
    "# ==================== 获得地址字典 ==================== #\n",
    "\n",
    "location = []                                           #取出所有的地址\n",
    "for i in range(df.shape[0]):\n",
    "    location.append(df.iloc[i,1])\n",
    "location = list(set(location))                          #去重\n",
    "loc_dict = dict(zip(location,range(len(location)))) #给这251个地点创建字典\n",
    "\n",
    "# ==================== 分组获得每个人的运动轨迹 ==================== #\n",
    "\n",
    "loc_rep = df.replace(loc_dict)                          #将地址名称替换成字典里的数字\n",
    "\n",
    "def sliding_window(seq, window_size):\n",
    "    result = []\n",
    "    for i in range(len(seq)-window_size):\n",
    "        result.append(seq[i:i+window_size])\n",
    "    return result\n",
    "\n",
    "train_set, test_set = [], []\n",
    "window_size = 10   #窗口大小为10\n",
    "for userId, group in loc_rep.groupby('userId'):\n",
    "    full_seq = group['venueCategory']\n",
    "    full_len = full_seq.shape[0]\n",
    "    train_seq = full_seq.iloc[:int(full_len*0.8)].to_list()\n",
    "    test_seq = full_seq.iloc[int(full_len*0.8):].to_list()\n",
    "    train_set += sliding_window(train_seq, window_size)\n",
    "    test_set += sliding_window(test_seq, window_size)"
   ]
  },
  {
   "cell_type": "code",
   "execution_count": 3,
   "metadata": {},
   "outputs": [],
   "source": [
    "# ==================== LSTM模型 ==================== #\n",
    "\n",
    "class MyLSTM(nn.Module):\n",
    "    def __init__(self, input_size, hidden_size, output_size):\n",
    "        super().__init__()\n",
    "        self.hidden_size = hidden_size\n",
    "        \n",
    "        self.embedding = nn.Embedding(num_embeddings=input_size, embedding_dim=hidden_size)\n",
    "        self.gates = nn.Linear(hidden_size+hidden_size, hidden_size*4)\n",
    "        self.sigmoid = nn.Sigmoid()\n",
    "        self.tanh = nn.Tanh()\n",
    "        self.out = nn.Linear(hidden_size, output_size)\n",
    "        \n",
    "        for param in self.parameters():\n",
    "            if param.dim() > 1:\n",
    "                nn.init.xavier_uniform_(param)\n",
    "        \n",
    "\n",
    "    def forward(self, x):\n",
    "        batch_size = x.size(0)\n",
    "        seq_len = x.size(1)\n",
    "        x = self.embedding(x)\n",
    "        h = torch.zeros(batch_size, self.hidden_size).to(x.device)\n",
    "        c = torch.zeros(batch_size, self.hidden_size).to(x.device)\n",
    "        y_list = []\n",
    "        for i in range(seq_len):\n",
    "            forget_gate, input_gate, \\\n",
    "            output_gate, candidate_cell = self.gates(torch.cat([x[:, i, :], h], dim=-1)).chunk(4, -1)\n",
    "            forget_gate, input_gate, output_gate = (self.sigmoid(g) for g in (forget_gate, input_gate, output_gate))\n",
    "            c = forget_gate * c + input_gate * self.tanh(candidate_cell)\n",
    "            h = output_gate * self.tanh(c)\n",
    "            y_list.append(self.out(h))\n",
    "        return (h,c) , torch.stack(y_list, dim=1)\n",
    "\n",
    "def next_batch(data, batch_size):\n",
    "    data_length = len(data)\n",
    "    num_batches = math.ceil(data_length / batch_size)\n",
    "    for batch_index in range(num_batches):\n",
    "        start_index = batch_index * batch_size\n",
    "        end_index = min((batch_index + 1) * batch_size, data_length)\n",
    "        yield data[start_index:end_index]\n",
    "    \n",
    "def train_evaluate(model, data_set, batch_size, optimizer):\n",
    "    model.train()\n",
    "    train_l_sum, train_acc_sum, n = 0.0, 0.0, 0\n",
    "    for batch in next_batch(shuffle(data_set), batch_size):\n",
    "        batch = torch.from_numpy(np.array(batch)).long().to(device) #embedding层的输入需要long形式\n",
    "        x = batch[:, :window_size-1].long().to(device)\n",
    "        label =  batch[: , -1].long().to(device)\n",
    "        hidden, out = model(x)                                 #输入直接是(batch_size, seq)，不用扩展最后一维\n",
    "        prediction = out[:, -1, :].squeeze(-1)\n",
    "        loss = loss_func(prediction, label)\n",
    "        optimizer.zero_grad()\n",
    "        loss.backward()\n",
    "        optimizer.step()\n",
    "        train_l_sum += loss.item()\n",
    "        train_acc_sum += (prediction.argmax(dim=1) == label).sum().item() / label.shape[0]\n",
    "        n += 1  #每个batch+1\n",
    "    return train_l_sum/n, train_acc_sum/n\n",
    "\n",
    "def test_evaluate(model, data_set, batch_size):\n",
    "    model.eval()\n",
    "    train_l_sum, train_acc_sum, n = 0.0, 0.0, 0\n",
    "    with torch.no_grad():\n",
    "        for batch in next_batch(shuffle(data_set), batch_size):\n",
    "            batch = torch.from_numpy(np.array(batch)).long().to(device) #embedding层的输入需要long形式\n",
    "            x = batch[:, :window_size-1].long().to(device)\n",
    "            label =  batch[: , -1].long().to(device)\n",
    "            hidden, out = model(x)                                 #输入直接是(batch_size, seq)，不用扩展最后一维\n",
    "            prediction = out[:, -1, :].squeeze(-1)\n",
    "            loss = loss_func(prediction, label)\n",
    "            train_l_sum += loss.item()\n",
    "            train_acc_sum += (prediction.argmax(dim=1) == label).sum().item() / label.shape[0]\n",
    "            n += 1  #每个batch+1\n",
    "    return train_l_sum/n, train_acc_sum/n"
   ]
  },
  {
   "cell_type": "code",
   "execution_count": 5,
   "metadata": {},
   "outputs": [
    {
     "name": "stdout",
     "output_type": "stream",
     "text": [
      "epoch 1, loss_train 4.253493, loss_test 3.959815, acc_train 0.159213, acc_test 0.189320, time 0:00:11.669897\n",
      "epoch 2, loss_train 3.803268, loss_test 3.772024, acc_train 0.207290, acc_test 0.208215, time 0:00:11.814718\n",
      "epoch 3, loss_train 3.661575, loss_test 3.693068, acc_train 0.218311, acc_test 0.212997, time 0:00:11.863064\n",
      "epoch 4, loss_train 3.581557, loss_test 3.645432, acc_train 0.224528, acc_test 0.214585, time 0:00:11.994397\n",
      "epoch 5, loss_train 3.526001, loss_test 3.619459, acc_train 0.228252, acc_test 0.218181, time 0:00:11.946009\n",
      "epoch 6, loss_train 3.481150, loss_test 3.608130, acc_train 0.232391, acc_test 0.219001, time 0:00:11.882342\n",
      "epoch 7, loss_train 3.436067, loss_test 3.604111, acc_train 0.236663, acc_test 0.219455, time 0:00:12.044436\n",
      "epoch 8, loss_train 3.393313, loss_test 3.595571, acc_train 0.241555, acc_test 0.221089, time 0:00:12.164256\n",
      "epoch 9, loss_train 3.345217, loss_test 3.602452, acc_train 0.246726, acc_test 0.220947, time 0:00:12.081420\n",
      "epoch 10, loss_train 3.292988, loss_test 3.606376, acc_train 0.253004, acc_test 0.222834, time 0:00:12.047520\n",
      "epoch 11, loss_train 3.236259, loss_test 3.618173, acc_train 0.259660, acc_test 0.221231, time 0:00:12.127460\n",
      "epoch 12, loss_train 3.170986, loss_test 3.635776, acc_train 0.267987, acc_test 0.219712, time 0:00:12.108983\n",
      "epoch 13, loss_train 3.096077, loss_test 3.654506, acc_train 0.277462, acc_test 0.217122, time 0:00:12.056800\n",
      "epoch 14, loss_train 3.003478, loss_test 3.693936, acc_train 0.288940, acc_test 0.215066, time 0:00:12.130864\n",
      "epoch 15, loss_train 2.902230, loss_test 3.740115, acc_train 0.303182, acc_test 0.212319, time 0:00:12.160108\n",
      "epoch 16, loss_train 2.781246, loss_test 3.796950, acc_train 0.321066, acc_test 0.207430, time 0:00:12.085791\n",
      "epoch 17, loss_train 2.637700, loss_test 3.863495, acc_train 0.344772, acc_test 0.200736, time 0:00:12.131767\n",
      "epoch 18, loss_train 2.472407, loss_test 3.945960, acc_train 0.374806, acc_test 0.193282, time 0:00:12.195564\n",
      "epoch 19, loss_train 2.284048, loss_test 4.055144, acc_train 0.414079, acc_test 0.185300, time 0:00:12.014936\n",
      "epoch 20, loss_train 2.082381, loss_test 4.182465, acc_train 0.460921, acc_test 0.180617, time 0:00:12.048036\n",
      "epoch 21, loss_train 1.862810, loss_test 4.311554, acc_train 0.515105, acc_test 0.170900, time 0:00:12.071976\n",
      "epoch 22, loss_train 1.627795, loss_test 4.468723, acc_train 0.578456, acc_test 0.162524, time 0:00:11.982050\n",
      "epoch 23, loss_train 1.388412, loss_test 4.639189, acc_train 0.647725, acc_test 0.162476, time 0:00:11.951251\n",
      "epoch 24, loss_train 1.159392, loss_test 4.801829, acc_train 0.716563, acc_test 0.151128, time 0:00:11.842260\n",
      "epoch 25, loss_train 0.941859, loss_test 5.016959, acc_train 0.782626, acc_test 0.148292, time 0:00:11.899059\n",
      "epoch 26, loss_train 0.746365, loss_test 5.222436, acc_train 0.842652, acc_test 0.147398, time 0:00:11.860981\n",
      "epoch 27, loss_train 0.576482, loss_test 5.418528, acc_train 0.891943, acc_test 0.143904, time 0:00:11.795917\n",
      "epoch 28, loss_train 0.437257, loss_test 5.597736, acc_train 0.928884, acc_test 0.141274, time 0:00:11.784896\n",
      "epoch 29, loss_train 0.331490, loss_test 5.785783, acc_train 0.953873, acc_test 0.135244, time 0:00:11.809960\n",
      "epoch 30, loss_train 0.251369, loss_test 5.955556, acc_train 0.970237, acc_test 0.134654, time 0:00:11.859790\n",
      "epoch 31, loss_train 0.193743, loss_test 6.091803, acc_train 0.979683, acc_test 0.136261, time 0:00:11.859759\n",
      "epoch 32, loss_train 0.153638, loss_test 6.243238, acc_train 0.985205, acc_test 0.137624, time 0:00:11.775196\n",
      "epoch 33, loss_train 0.124903, loss_test 6.353877, acc_train 0.988775, acc_test 0.133040, time 0:00:11.815188\n",
      "epoch 34, loss_train 0.104921, loss_test 6.474607, acc_train 0.990528, acc_test 0.133079, time 0:00:11.835006\n",
      "epoch 35, loss_train 0.090503, loss_test 6.527347, acc_train 0.991632, acc_test 0.131764, time 0:00:11.847822\n",
      "epoch 36, loss_train 0.079105, loss_test 6.660512, acc_train 0.992594, acc_test 0.131892, time 0:00:11.856262\n",
      "epoch 37, loss_train 0.072738, loss_test 6.725295, acc_train 0.992859, acc_test 0.134159, time 0:00:11.861948\n",
      "epoch 38, loss_train 0.067477, loss_test 6.804880, acc_train 0.993390, acc_test 0.133099, time 0:00:11.871801\n",
      "epoch 39, loss_train 0.063238, loss_test 6.848061, acc_train 0.993603, acc_test 0.129288, time 0:00:11.883946\n",
      "epoch 40, loss_train 0.058946, loss_test 6.924434, acc_train 0.994178, acc_test 0.132265, time 0:00:11.878695\n",
      "epoch 41, loss_train 0.055409, loss_test 6.993629, acc_train 0.994353, acc_test 0.132931, time 0:00:11.929083\n",
      "epoch 42, loss_train 0.051844, loss_test 7.026326, acc_train 0.994646, acc_test 0.132014, time 0:00:11.860695\n",
      "epoch 43, loss_train 0.049273, loss_test 7.087315, acc_train 0.994722, acc_test 0.128908, time 0:00:11.848230\n",
      "epoch 44, loss_train 0.047788, loss_test 7.135812, acc_train 0.994989, acc_test 0.130965, time 0:00:12.108069\n",
      "epoch 45, loss_train 0.046362, loss_test 7.154592, acc_train 0.994858, acc_test 0.129803, time 0:00:11.972080\n",
      "epoch 46, loss_train 0.044102, loss_test 7.179781, acc_train 0.995329, acc_test 0.128284, time 0:00:12.085301\n",
      "epoch 47, loss_train 0.043985, loss_test 7.258817, acc_train 0.994896, acc_test 0.127788, time 0:00:12.105211\n",
      "epoch 48, loss_train 0.044670, loss_test 7.300423, acc_train 0.994809, acc_test 0.128184, time 0:00:12.025881\n",
      "epoch 49, loss_train 0.045390, loss_test 7.343199, acc_train 0.994925, acc_test 0.130196, time 0:00:12.144024\n",
      "epoch 50, loss_train 0.047521, loss_test 7.352628, acc_train 0.994373, acc_test 0.128175, time 0:00:12.103352\n",
      "LSTM模型的运行时间： 0:09:58.124092\n"
     ]
    }
   ],
   "source": [
    "# ==================== LSTM模型 ==================== #\n",
    "\n",
    "device = 'cuda:1'\n",
    "num_class = len(loc_dict)\n",
    "model = MyLSTM(input_size=num_class, hidden_size=1024, output_size=num_class).to(device) #输出size是地址类别\n",
    "\n",
    "loss_func = nn.CrossEntropyLoss()                                    #多分类问题使用CrossEntropyLoss函数\n",
    "optimizer = torch.optim.Adam(model.parameters(), lr=0.001, weight_decay=0.00001)\n",
    "scheduler = torch.optim.lr_scheduler.MultiStepLR(optimizer, milestones=[25,30], gamma=0.1)\n",
    "\n",
    "loss_train = []\n",
    "loss_test = []\n",
    "acc_train = []\n",
    "acc_test = []\n",
    "batch_size = 4096\n",
    "num_epoch = 50\n",
    "total_time_start = datetime.datetime.now()\n",
    "for epoch in range(num_epoch):\n",
    "    start = datetime.datetime.now()\n",
    "    train_l, train_acc = train_evaluate(model, train_set, batch_size, optimizer)\n",
    "    test_l, test_acc = test_evaluate(model, test_set, batch_size)\n",
    "    #scheduler.step()\n",
    "    loss_train.append(train_l)\n",
    "    acc_train.append(train_acc)\n",
    "    loss_test.append(test_l)\n",
    "    acc_test.append(test_acc)\n",
    "    end = datetime.datetime.now()\n",
    "    print('epoch %d, loss_train %f, loss_test %f, acc_train %f, acc_test %f, time %s'% \n",
    "          (epoch+1, loss_train[epoch], loss_test[epoch], acc_train[epoch], acc_test[epoch], end - start))\n",
    "total_time_end = datetime.datetime.now()\n",
    "print(\"LSTM模型的运行时间：\",total_time_end - total_time_start)"
   ]
  },
  {
   "cell_type": "code",
   "execution_count": 6,
   "metadata": {},
   "outputs": [
    {
     "data": {
      "image/png": "[encoded data removed]",
      "text/plain": [
       "<Figure size 432x288 with 1 Axes>"
      ]
     },
     "metadata": {
      "needs_background": "light"
     },
     "output_type": "display_data"
    }
   ],
   "source": [
    "plt.plot(loss_train ,label='train',color='royalblue')\n",
    "plt.plot(loss_test ,label='test', color='orange')\n",
    "plt.ylabel(\"loss\")\n",
    "plt.xlabel(\"epoch\")\n",
    "plt.title(\"LSTM: Loss\")\n",
    "plt.legend()\n",
    "plt.show()"
   ]
  },
  {
   "cell_type": "code",
   "execution_count": 7,
   "metadata": {},
   "outputs": [
    {
     "data": {
      "image/png": "[encoded data removed]",
      "text/plain": [
       "<Figure size 432x288 with 1 Axes>"
      ]
     },
     "metadata": {
      "needs_background": "light"
     },
     "output_type": "display_data"
    }
   ],
   "source": [
    "plt.plot(acc_train ,label='train',color='royalblue')\n",
    "plt.plot(acc_test ,label='test', color='orange')\n",
    "plt.ylabel(\"acc\")\n",
    "plt.xlabel(\"epoch\")\n",
    "plt.title(\"LSTM: Acc\")\n",
    "plt.legend()\n",
    "plt.show()"
   ]
  },
  {
   "cell_type": "code",
   "execution_count": 8,
   "metadata": {},
   "outputs": [
    {
     "data": {
      "image/png": "[encoded data removed]",
      "text/plain": [
       "<Figure size 432x288 with 1 Axes>"
      ]
     },
     "metadata": {
      "needs_background": "light"
     },
     "output_type": "display_data"
    }
   ],
   "source": [
    "plt.plot(loss_train ,label='train',color='royalblue')\n",
    "plt.ylabel(\"loss\")\n",
    "plt.xlabel(\"epoch\")\n",
    "plt.title(\"LSTM: Loss\")\n",
    "plt.legend()\n",
    "plt.show()"
   ]
  },
  {
   "cell_type": "code",
   "execution_count": 9,
   "metadata": {},
   "outputs": [
    {
     "data": {
      "image/png": "[encoded data removed]",
      "text/plain": [
       "<Figure size 432x288 with 1 Axes>"
      ]
     },
     "metadata": {
      "needs_background": "light"
     },
     "output_type": "display_data"
    }
   ],
   "source": [
    "plt.plot(acc_train ,label='train',color='royalblue')\n",
    "plt.ylabel(\"acc\")\n",
    "plt.xlabel(\"epoch\")\n",
    "plt.title(\"LSTM: Acc\")\n",
    "plt.legend()\n",
    "plt.show()"
   ]
  },
  {
   "cell_type": "code",
   "execution_count": null,
   "metadata": {},
   "outputs": [],
   "source": []
  }
 ],
 "metadata": {
  "kernelspec": {
   "display_name": "Python 3",
   "language": "python",
   "name": "python3"
  },
  "language_info": {
   "codemirror_mode": {
    "name": "ipython",
    "version": 3
   },
   "file_extension": ".py",
   "mimetype": "text/x-python",
   "name": "python",
   "nbconvert_exporter": "python",
   "pygments_lexer": "ipython3",
   "version": "3.7.4"
  },
  "toc": {
   "base_numbering": 1,
   "nav_menu": {},
   "number_sections": true,
   "sideBar": true,
   "skip_h1_title": false,
   "title_cell": "Table of Contents",
   "title_sidebar": "Contents",
   "toc_cell": false,
   "toc_position": {},
   "toc_section_display": true,
   "toc_window_display": false
  },
  "varInspector": {
   "cols": {
    "lenName": 16,
    "lenType": 16,
    "lenVar": 40
   },
   "kernels_config": {
    "python": {
     "delete_cmd_postfix": "",
     "delete_cmd_prefix": "del ",
     "library": "var_list.py",
     "varRefreshCmd": "print(var_dic_list())"
    },
    "r": {
     "delete_cmd_postfix": ") ",
     "delete_cmd_prefix": "rm(",
     "library": "var_list.r",
     "varRefreshCmd": "cat(var_dic_list()) "
    }
   },
   "types_to_exclude": [
    "module",
    "function",
    "builtin_function_or_method",
    "instance",
    "_Feature"
   ],
   "window_display": false
  }
 },
 "nbformat": 4,
 "nbformat_minor": 4
}
