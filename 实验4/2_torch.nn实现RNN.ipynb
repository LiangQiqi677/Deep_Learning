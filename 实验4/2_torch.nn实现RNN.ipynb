{
 "cells": [
  {
   "cell_type": "code",
   "execution_count": 1,
   "metadata": {},
   "outputs": [],
   "source": [
    "import pandas as pd\n",
    "import numpy as np\n",
    "import torch\n",
    "import torch.nn as nn\n",
    "import math\n",
    "import datetime\n",
    "import matplotlib.pyplot as plt\n",
    "from sklearn.utils import shuffle"
   ]
  },
  {
   "cell_type": "code",
   "execution_count": 2,
   "metadata": {},
   "outputs": [],
   "source": [
    "# ==================== 读取数据 ==================== #\n",
    "\n",
    "df = pd.read_csv('FS_NYC.csv')                          #自动把第一行做列属性\n",
    "df = df.loc[:,['userId','venueCategory']]               #取出用户ID和地点ID\n",
    "\n",
    "# ==================== 获得地址字典 ==================== #\n",
    "\n",
    "location = []                                           #取出所有的地址\n",
    "for i in range(df.shape[0]):\n",
    "    location.append(df.iloc[i,1])\n",
    "location = list(set(location))                          #去重\n",
    "loc_dict = dict(zip(location,range(len(location))))     #给这251个地点创建字典\n",
    "\n",
    "# ==================== 分组获得每个人的运动轨迹 ==================== #\n",
    "\n",
    "loc_rep = df.replace(loc_dict)                          #将地址名称替换成字典里的数字\n",
    "\n",
    "def sliding_window(seq, window_size):\n",
    "    result = []\n",
    "    for i in range(len(seq)-window_size):\n",
    "        result.append(seq[i:i+window_size])\n",
    "    return result\n",
    "\n",
    "train_set, test_set = [], []\n",
    "window_size = 10   #窗口大小为10\n",
    "for userId, group in loc_rep.groupby('userId'):\n",
    "    full_seq = group['venueCategory']\n",
    "    full_len = full_seq.shape[0]\n",
    "    train_seq = full_seq.iloc[:int(full_len*0.7)].to_list()\n",
    "    test_seq = full_seq.iloc[int(full_len*0.7):].to_list()\n",
    "    train_set += sliding_window(train_seq, window_size)\n",
    "    test_set += sliding_window(test_seq, window_size)"
   ]
  },
  {
   "cell_type": "code",
   "execution_count": 3,
   "metadata": {},
   "outputs": [],
   "source": [
    "# ==================== RNN模型 ==================== #\n",
    "\n",
    "class Rnn(nn.Module):\n",
    "    def __init__(self, input_size, hidden_size, output_size):\n",
    "        super().__init__()\n",
    "        self.hidden_size = hidden_size\n",
    "        self.embedding = nn.Embedding(num_embeddings=input_size, embedding_dim=hidden_size)\n",
    "        #一定要加batch_first=True，因为我们的输入x是[batch,seq,input],但是默认的是[seq,batch,input]\n",
    "        self.rnn = nn.RNN(input_size=hidden_size, hidden_size=hidden_size, num_layers=1, batch_first=True)\n",
    "        self.out = nn.Linear(hidden_size,output_size)\n",
    "        \n",
    "    def forward(self, x):\n",
    "        batch_size = x.size(0)\n",
    "        seq_len = x.size(1)                                           # x: torch.Size([128, 10])\n",
    "        x = self.embedding(x)                                         # x: torch.Size([128, 10, 32])\n",
    "        h = torch.zeros(1, batch_size, self.hidden_size).to(x.device) # h: #torch.Size([1, 128, 128])  \n",
    "        y_list = []\n",
    "        for i in range(seq_len):\n",
    "            y, h = self.rnn(x, h)\n",
    "            y_list.append(self.out(y[:, i, :]))\n",
    "        return h, torch.stack(y_list, dim=1)\n",
    "\n",
    "def next_batch(data, batch_size):\n",
    "    data_length = len(data)\n",
    "    num_batches = math.ceil(data_length / batch_size)\n",
    "    for batch_index in range(num_batches):\n",
    "        start_index = batch_index * batch_size\n",
    "        end_index = min((batch_index + 1) * batch_size, data_length)\n",
    "        yield data[start_index:end_index]\n",
    "\n",
    "def train_evaluate(model, data_set, batch_size, optimizer):\n",
    "    model.train()\n",
    "    train_l_sum, train_acc_sum, n = 0.0, 0.0, 0\n",
    "    for batch in next_batch(shuffle(data_set), batch_size):\n",
    "        batch = torch.from_numpy(np.array(batch)).long().to(device) #embedding层的输入需要long形式\n",
    "        x = batch[:, :window_size-1].long().to(device)\n",
    "        label =  batch[: , -1].long().to(device)\n",
    "        hidden, out = model(x)                                 #输入直接是(batch_size, seq)，不用扩展最后一维\n",
    "        prediction = out[:, -1, :].squeeze(-1)\n",
    "        loss = loss_func(prediction, label)\n",
    "        optimizer.zero_grad()\n",
    "        loss.backward()\n",
    "        optimizer.step()\n",
    "        train_l_sum += loss.item()\n",
    "        train_acc_sum += (prediction.argmax(dim=1) == label).sum().item() / label.shape[0]\n",
    "        n += 1  #每个batch+1\n",
    "    return train_l_sum/n, train_acc_sum/n\n",
    "\n",
    "def test_evaluate(model, data_set, batch_size):\n",
    "    model.eval()\n",
    "    train_l_sum, train_acc_sum, n = 0.0, 0.0, 0\n",
    "    with torch.no_grad():\n",
    "        for batch in next_batch(shuffle(data_set), batch_size):\n",
    "            batch = torch.from_numpy(np.array(batch)).long().to(device) #embedding层的输入需要long形式\n",
    "            x = batch[:, :window_size-1].long().to(device)\n",
    "            label =  batch[: , -1].long().to(device)\n",
    "            hidden, out = model(x)                                 #输入直接是(batch_size, seq)，不用扩展最后一维\n",
    "            prediction = out[:, -1, :].squeeze(-1)\n",
    "            loss = loss_func(prediction, label)\n",
    "            train_l_sum += loss.item()\n",
    "            train_acc_sum += (prediction.argmax(dim=1) == label).sum().item() / label.shape[0]\n",
    "            n += 1  #每个batch+1\n",
    "    return train_l_sum/n, train_acc_sum/n"
   ]
  },
  {
   "cell_type": "code",
   "execution_count": 8,
   "metadata": {},
   "outputs": [
    {
     "name": "stdout",
     "output_type": "stream",
     "text": [
      "epoch 1, loss_train 4.178126, loss_test 3.976956, acc_train 0.170287, acc_test 0.187895, time 0:00:18.043534\n",
      "epoch 2, loss_train 3.805221, loss_test 3.861382, acc_train 0.206320, acc_test 0.202081, time 0:00:18.230300\n",
      "epoch 3, loss_train 3.678437, loss_test 3.801134, acc_train 0.219091, acc_test 0.207602, time 0:00:18.390546\n",
      "epoch 4, loss_train 3.595730, loss_test 3.769620, acc_train 0.227531, acc_test 0.212032, time 0:00:18.739107\n",
      "epoch 5, loss_train 3.531459, loss_test 3.742175, acc_train 0.234696, acc_test 0.213433, time 0:00:18.960827\n",
      "epoch 6, loss_train 3.474312, loss_test 3.727112, acc_train 0.240381, acc_test 0.214299, time 0:00:19.093589\n",
      "epoch 7, loss_train 3.424494, loss_test 3.722801, acc_train 0.246509, acc_test 0.215759, time 0:00:18.887169\n",
      "epoch 8, loss_train 3.379151, loss_test 3.713253, acc_train 0.252142, acc_test 0.219388, time 0:00:18.819559\n",
      "epoch 9, loss_train 3.332094, loss_test 3.709790, acc_train 0.258648, acc_test 0.218877, time 0:00:18.943170\n",
      "epoch 10, loss_train 3.287987, loss_test 3.713181, acc_train 0.262381, acc_test 0.218484, time 0:00:18.776580\n",
      "epoch 11, loss_train 3.251158, loss_test 3.712135, acc_train 0.268129, acc_test 0.218707, time 0:00:18.659941\n",
      "epoch 12, loss_train 3.206524, loss_test 3.719414, acc_train 0.273387, acc_test 0.218916, time 0:00:18.731013\n",
      "epoch 13, loss_train 3.166277, loss_test 3.724073, acc_train 0.278647, acc_test 0.219419, time 0:00:18.768463\n",
      "epoch 14, loss_train 3.126559, loss_test 3.720646, acc_train 0.285078, acc_test 0.219134, time 0:00:18.816606\n",
      "epoch 15, loss_train 3.083540, loss_test 3.739605, acc_train 0.290417, acc_test 0.218101, time 0:00:18.700889\n",
      "epoch 16, loss_train 3.042133, loss_test 3.739076, acc_train 0.295917, acc_test 0.216938, time 0:00:18.847089\n",
      "epoch 17, loss_train 3.001228, loss_test 3.752665, acc_train 0.300796, acc_test 0.215606, time 0:00:18.779553\n",
      "epoch 18, loss_train 2.958341, loss_test 3.760612, acc_train 0.308667, acc_test 0.217218, time 0:00:18.905118\n",
      "epoch 19, loss_train 2.917914, loss_test 3.769683, acc_train 0.315199, acc_test 0.217494, time 0:00:18.745852\n",
      "epoch 20, loss_train 2.873397, loss_test 3.785801, acc_train 0.322149, acc_test 0.215943, time 0:00:18.735327\n",
      "epoch 21, loss_train 2.830207, loss_test 3.799441, acc_train 0.330058, acc_test 0.213984, time 0:00:18.749753\n",
      "epoch 22, loss_train 2.788398, loss_test 3.815907, acc_train 0.336467, acc_test 0.213015, time 0:00:18.799499\n",
      "epoch 23, loss_train 2.742613, loss_test 3.839076, acc_train 0.344802, acc_test 0.210988, time 0:00:18.933349\n",
      "epoch 24, loss_train 2.702754, loss_test 3.845936, acc_train 0.351034, acc_test 0.211271, time 0:00:18.779230\n",
      "epoch 25, loss_train 2.653723, loss_test 3.877651, acc_train 0.360680, acc_test 0.207411, time 0:00:18.737861\n",
      "epoch 26, loss_train 2.616629, loss_test 3.884672, acc_train 0.367257, acc_test 0.207537, time 0:00:18.758583\n",
      "epoch 27, loss_train 2.562970, loss_test 3.904045, acc_train 0.377600, acc_test 0.206262, time 0:00:18.934489\n",
      "epoch 28, loss_train 2.518069, loss_test 3.930187, acc_train 0.387613, acc_test 0.203046, time 0:00:18.716540\n",
      "epoch 29, loss_train 2.475153, loss_test 3.954018, acc_train 0.395615, acc_test 0.202749, time 0:00:18.932956\n",
      "epoch 30, loss_train 2.426184, loss_test 3.980593, acc_train 0.406469, acc_test 0.200985, time 0:00:18.610135\n",
      "epoch 31, loss_train 2.391225, loss_test 4.003938, acc_train 0.412889, acc_test 0.196618, time 0:00:18.955150\n",
      "epoch 32, loss_train 2.343068, loss_test 4.013923, acc_train 0.423372, acc_test 0.201888, time 0:00:18.760008\n",
      "epoch 33, loss_train 2.291298, loss_test 4.051295, acc_train 0.435228, acc_test 0.195008, time 0:00:18.690450\n",
      "epoch 34, loss_train 2.242095, loss_test 4.076930, acc_train 0.445727, acc_test 0.196654, time 0:00:18.782944\n",
      "epoch 35, loss_train 2.197028, loss_test 4.109302, acc_train 0.456869, acc_test 0.191006, time 0:00:18.804254\n",
      "epoch 36, loss_train 2.151931, loss_test 4.128447, acc_train 0.465798, acc_test 0.192246, time 0:00:18.783516\n",
      "epoch 37, loss_train 2.102846, loss_test 4.172329, acc_train 0.477962, acc_test 0.183952, time 0:00:18.891842\n",
      "epoch 38, loss_train 2.064033, loss_test 4.196825, acc_train 0.488748, acc_test 0.185812, time 0:00:18.958829\n",
      "epoch 39, loss_train 2.020347, loss_test 4.232859, acc_train 0.498574, acc_test 0.184447, time 0:00:18.772710\n",
      "epoch 40, loss_train 1.966668, loss_test 4.253742, acc_train 0.511498, acc_test 0.185749, time 0:00:19.047987\n",
      "epoch 41, loss_train 1.919787, loss_test 4.282353, acc_train 0.523714, acc_test 0.183605, time 0:00:18.820973\n",
      "epoch 42, loss_train 1.878042, loss_test 4.327276, acc_train 0.535305, acc_test 0.178391, time 0:00:18.802259\n",
      "epoch 43, loss_train 1.846285, loss_test 4.344488, acc_train 0.540897, acc_test 0.178521, time 0:00:18.710086\n",
      "epoch 44, loss_train 1.792014, loss_test 4.381894, acc_train 0.558128, acc_test 0.179114, time 0:00:18.782171\n",
      "epoch 45, loss_train 1.748451, loss_test 4.417850, acc_train 0.568516, acc_test 0.176790, time 0:00:18.797833\n",
      "epoch 46, loss_train 1.721583, loss_test 4.449719, acc_train 0.575020, acc_test 0.172792, time 0:00:18.850011\n",
      "epoch 47, loss_train 1.679680, loss_test 4.466962, acc_train 0.585708, acc_test 0.176186, time 0:00:18.820902\n",
      "epoch 48, loss_train 1.620217, loss_test 4.519456, acc_train 0.601704, acc_test 0.171581, time 0:00:18.844889\n",
      "epoch 49, loss_train 1.568897, loss_test 4.558647, acc_train 0.617837, acc_test 0.171865, time 0:00:18.943551\n",
      "epoch 50, loss_train 1.538890, loss_test 4.598930, acc_train 0.625310, acc_test 0.167293, time 0:00:18.787539\n",
      "epoch 51, loss_train 1.495276, loss_test 4.640949, acc_train 0.636872, acc_test 0.168005, time 0:00:18.632051\n",
      "epoch 52, loss_train 1.457371, loss_test 4.667050, acc_train 0.647290, acc_test 0.165228, time 0:00:18.823581\n",
      "epoch 53, loss_train 1.423482, loss_test 4.712790, acc_train 0.656059, acc_test 0.164429, time 0:00:18.928550\n",
      "epoch 54, loss_train 1.372599, loss_test 4.749251, acc_train 0.670662, acc_test 0.164302, time 0:00:18.851374\n",
      "epoch 55, loss_train 1.326119, loss_test 4.801079, acc_train 0.684922, acc_test 0.162898, time 0:00:18.965749\n",
      "epoch 56, loss_train 1.296330, loss_test 4.826157, acc_train 0.692430, acc_test 0.161483, time 0:00:18.700097\n",
      "epoch 57, loss_train 1.260006, loss_test 4.871671, acc_train 0.701575, acc_test 0.158443, time 0:00:18.769958\n",
      "epoch 58, loss_train 1.216300, loss_test 4.926049, acc_train 0.715243, acc_test 0.155076, time 0:00:18.949979\n",
      "epoch 59, loss_train 1.187743, loss_test 4.954255, acc_train 0.722250, acc_test 0.155819, time 0:00:18.956702\n",
      "epoch 60, loss_train 1.147973, loss_test 5.003636, acc_train 0.734755, acc_test 0.151983, time 0:00:18.829514\n",
      "epoch 61, loss_train 1.009644, loss_test 4.991360, acc_train 0.782292, acc_test 0.155421, time 0:00:18.714386\n",
      "epoch 62, loss_train 0.959394, loss_test 5.009833, acc_train 0.800254, acc_test 0.154878, time 0:00:18.821939\n",
      "epoch 63, loss_train 0.945441, loss_test 5.030729, acc_train 0.804616, acc_test 0.153097, time 0:00:18.855080\n",
      "epoch 64, loss_train 0.936078, loss_test 5.045228, acc_train 0.807542, acc_test 0.152856, time 0:00:18.820277\n",
      "epoch 65, loss_train 0.928416, loss_test 5.057019, acc_train 0.809389, acc_test 0.151947, time 0:00:18.629194\n",
      "epoch 66, loss_train 0.922526, loss_test 5.066156, acc_train 0.810866, acc_test 0.150965, time 0:00:18.451633\n",
      "epoch 67, loss_train 0.927499, loss_test 5.078750, acc_train 0.808852, acc_test 0.150411, time 0:00:18.891428\n",
      "epoch 68, loss_train 0.931195, loss_test 5.079119, acc_train 0.808605, acc_test 0.151014, time 0:00:18.739038\n",
      "epoch 69, loss_train 0.917514, loss_test 5.091738, acc_train 0.813062, acc_test 0.150950, time 0:00:18.691618\n",
      "epoch 70, loss_train 0.909317, loss_test 5.101524, acc_train 0.815585, acc_test 0.150220, time 0:00:18.658044\n",
      "利用torch.nn实现RNN的运行时间： 0:21:54.854169\n"
     ]
    }
   ],
   "source": [
    "device = 'cuda:1'\n",
    "num_class = len(loc_dict)\n",
    "model = Rnn(input_size=num_class, hidden_size=1024, output_size=num_class).to(device) #输出size是地址类别\n",
    "\n",
    "loss_func = nn.CrossEntropyLoss()                                    #多分类问题使用CrossEntropyLoss函数\n",
    "optimizer = torch.optim.Adam(model.parameters(), lr=0.0005, weight_decay=0.00001)\n",
    "scheduler = torch.optim.lr_scheduler.MultiStepLR(optimizer, milestones=[60,70], gamma=0.1)\n",
    "\n",
    "loss_train = []\n",
    "loss_test = []\n",
    "acc_train = []\n",
    "acc_test = []\n",
    "batch_size = 4096\n",
    "num_epoch = 70\n",
    "total_time_start = datetime.datetime.now()\n",
    "for epoch in range(num_epoch):\n",
    "    start = datetime.datetime.now()\n",
    "    train_l, train_acc = train_evaluate(model, train_set, batch_size, optimizer)\n",
    "    test_l, test_acc = test_evaluate(model, test_set, batch_size)\n",
    "    scheduler.step()\n",
    "    loss_train.append(train_l)\n",
    "    acc_train.append(train_acc)\n",
    "    loss_test.append(test_l)\n",
    "    acc_test.append(test_acc)\n",
    "    end = datetime.datetime.now()\n",
    "    print('epoch %d, loss_train %f, loss_test %f, acc_train %f, acc_test %f, time %s'% \n",
    "          (epoch+1, loss_train[epoch], loss_test[epoch], acc_train[epoch], acc_test[epoch], end - start))\n",
    "total_time_end = datetime.datetime.now()\n",
    "print(\"利用torch.nn实现RNN的运行时间：\",total_time_end - total_time_start)"
   ]
  },
  {
   "cell_type": "code",
   "execution_count": 9,
   "metadata": {},
   "outputs": [
    {
     "data": {
      "image/png": "[encoded data removed]",
      "text/plain": [
       "<Figure size 432x288 with 1 Axes>"
      ]
     },
     "metadata": {
      "needs_background": "light"
     },
     "output_type": "display_data"
    }
   ],
   "source": [
    "plt.plot(loss_train ,label='train',color='blue')\n",
    "plt.plot(loss_test ,label='test', color='orange')\n",
    "plt.ylabel(\"loss\")\n",
    "plt.xlabel(\"epoch\")\n",
    "plt.title(\"RNN: Loss\")\n",
    "plt.legend()\n",
    "plt.show()"
   ]
  },
  {
   "cell_type": "code",
   "execution_count": 10,
   "metadata": {},
   "outputs": [
    {
     "data": {
      "image/png": "[encoded data removed]",
      "text/plain": [
       "<Figure size 432x288 with 1 Axes>"
      ]
     },
     "metadata": {
      "needs_background": "light"
     },
     "output_type": "display_data"
    }
   ],
   "source": [
    "plt.plot(acc_train ,label='train',color='blue')\n",
    "plt.plot(acc_test ,label='test', color='orange')\n",
    "plt.ylabel(\"acc\")\n",
    "plt.xlabel(\"epoch\")\n",
    "plt.title(\"RNN: Acc\")\n",
    "plt.legend()\n",
    "plt.show()"
   ]
  },
  {
   "cell_type": "code",
   "execution_count": 11,
   "metadata": {},
   "outputs": [
    {
     "data": {
      "image/png": "[encoded data removed]",
      "text/plain": [
       "<Figure size 432x288 with 1 Axes>"
      ]
     },
     "metadata": {
      "needs_background": "light"
     },
     "output_type": "display_data"
    }
   ],
   "source": [
    "plt.plot(loss_train ,label='train',color='blue')\n",
    "plt.ylabel(\"loss\")\n",
    "plt.xlabel(\"epoch\")\n",
    "plt.title(\"RNN: Loss\")\n",
    "plt.legend()\n",
    "plt.show()"
   ]
  },
  {
   "cell_type": "code",
   "execution_count": 13,
   "metadata": {},
   "outputs": [
    {
     "data": {
      "image/png": "[encoded data removed]",
      "text/plain": [
       "<Figure size 432x288 with 1 Axes>"
      ]
     },
     "metadata": {
      "needs_background": "light"
     },
     "output_type": "display_data"
    }
   ],
   "source": [
    "plt.plot(acc_train ,label='train',color='blue')\n",
    "plt.ylabel(\"acc\")\n",
    "plt.xlabel(\"epoch\")\n",
    "plt.title(\"RNN: Acc\")\n",
    "plt.legend()\n",
    "plt.show()"
   ]
  },
  {
   "cell_type": "code",
   "execution_count": null,
   "metadata": {},
   "outputs": [],
   "source": []
  }
 ],
 "metadata": {
  "kernelspec": {
   "display_name": "Python 3",
   "language": "python",
   "name": "python3"
  },
  "language_info": {
   "codemirror_mode": {
    "name": "ipython",
    "version": 3
   },
   "file_extension": ".py",
   "mimetype": "text/x-python",
   "name": "python",
   "nbconvert_exporter": "python",
   "pygments_lexer": "ipython3",
   "version": "3.7.4"
  },
  "toc": {
   "base_numbering": 1,
   "nav_menu": {},
   "number_sections": true,
   "sideBar": true,
   "skip_h1_title": false,
   "title_cell": "Table of Contents",
   "title_sidebar": "Contents",
   "toc_cell": false,
   "toc_position": {},
   "toc_section_display": true,
   "toc_window_display": false
  },
  "varInspector": {
   "cols": {
    "lenName": 16,
    "lenType": 16,
    "lenVar": 40
   },
   "kernels_config": {
    "python": {
     "delete_cmd_postfix": "",
     "delete_cmd_prefix": "del ",
     "library": "var_list.py",
     "varRefreshCmd": "print(var_dic_list())"
    },
    "r": {
     "delete_cmd_postfix": ") ",
     "delete_cmd_prefix": "rm(",
     "library": "var_list.r",
     "varRefreshCmd": "cat(var_dic_list()) "
    }
   },
   "types_to_exclude": [
    "module",
    "function",
    "builtin_function_or_method",
    "instance",
    "_Feature"
   ],
   "window_display": false
  }
 },
 "nbformat": 4,
 "nbformat_minor": 4
}
