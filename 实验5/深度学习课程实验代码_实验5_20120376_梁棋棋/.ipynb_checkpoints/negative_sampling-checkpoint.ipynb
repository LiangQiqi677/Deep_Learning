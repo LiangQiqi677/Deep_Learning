{
 "cells": [
  {
   "cell_type": "code",
   "execution_count": 1,
   "metadata": {},
   "outputs": [],
   "source": [
    "import torch\n",
    "import torch.nn as nn\n",
    "import torch.nn.functional as F\n",
    "import collections \n",
    "import numpy as np\n",
    "import random\n",
    "import math\n",
    "import json\n",
    "import jieba\n",
    "import time\n",
    "from torch.utils.data import Dataset, DataLoader, TensorDataset"
   ]
  },
  {
   "cell_type": "code",
   "execution_count": 2,
   "metadata": {},
   "outputs": [
    {
     "name": "stderr",
     "output_type": "stream",
     "text": [
      "Building prefix dict from the default dictionary ...\n",
      "Loading model from cache /tmp/jieba.cache\n",
      "Dumping model to file cache /tmp/jieba.cache\n",
      "Dump cache file failed.\n",
      "Traceback (most recent call last):\n",
      "  File \"/home/liangqiqi/anaconda3/envs/pytorch_env/lib/python3.7/site-packages/jieba/__init__.py\", line 154, in initialize\n",
      "    _replace_file(fpath, cache_file)\n",
      "PermissionError: [Errno 1] Operation not permitted: '/tmp/tmplrkj_i0r' -> '/tmp/jieba.cache'\n",
      "Loading model cost 1.385 seconds.\n",
      "Prefix dict has been built successfully.\n"
     ]
    }
   ],
   "source": [
    "# ====================================== 获得数据集 ====================================== #\n",
    "sample_list=[]\n",
    "with open('virus_train.txt','r', encoding = 'utf-8') as file_open:\n",
    "    data = json.load(file_open)\n",
    "    stop_word = ['【', '】', ')', '(', '、', '，', '“', '”', '。', '\\n', '《', '》', ' ', '-', '！', '？', '.', \n",
    "                 '\\'', '[', ']','：', '/', '.', '\"', ':', '’', '．', ',', '…', '?','；','（','）','@','_']\n",
    "    for line in data:\n",
    "        sample_content = line['content']                                         #取出内容\n",
    "        for i in stop_word:                                                      #去掉标点等词\n",
    "            sample_content = sample_content.replace(i, \"\")\n",
    "        sentence_list=[word for word in jieba.cut(sample_content,cut_all=False)] #采用精确模式分词\n",
    "        sample_list.append(sentence_list)                                        #将分好的词加入到sample_list中\n",
    "#print(sample_list)   #[['天使'], ['致敬', '心心', '小凡', '也', '要', '做好', '防护', '措施'...]...]\n",
    "\n",
    "\n",
    "# ====================================== 统计词频 ====================================== #\n",
    "counter = collections.Counter([token for sentence in sample_list for token in sentence])  #统计词频\n",
    "counter = dict(filter(lambda x: x[1] >= 5, counter.items()))                              #只保留至少出现5次的词\n",
    "#print(counter) #counter表示词频： {'致敬': 24, '也': 11, '要': 14, '做好': 5, '防护': 5,...}\n",
    "\n",
    "\n",
    "# ====================================== 将词映射到索引 ====================================== #\n",
    "token = [tk for tk, _ in counter.items()]\n",
    "idx_to_token = {idx: tk for idx, tk in enumerate(token)}\n",
    "token_to_idx = {tk: idx for idx, tk in enumerate(token)}\n",
    "dataset = [[token_to_idx[sample_list[i][j]] for j in range(len(sample_list[i])) if sample_list[i][j] in token_to_idx] \n",
    "           for i in range(len(sample_list))]\n",
    "num_tokens = sum([len(st) for st in dataset])\n",
    "#print(dataset)       # [[0], [1, 2, 3, 4, 5, 6, 7, 8, 9, 10, 11...]]\n",
    "#print(idx_to_token)  # {0: '致敬', 1: '也', 2: '要', 3: '做好'....}\n",
    "#print(token_to_idx)  # {'致敬': 0, '也': 1, '要': 2, '做好': 3....}\n",
    "#print(num_tokens)    # 总共159个词（含重复），不含重复的是114个词"
   ]
  },
  {
   "cell_type": "code",
   "execution_count": 3,
   "metadata": {},
   "outputs": [],
   "source": [
    "def get_centers_and_contexts(dataset, max_window_size):\n",
    "    centers, contexts = [], []\n",
    "    for st in dataset:\n",
    "        if len(st) < 2:               # 每个句子至少要有2个词才可能组成一对“中心词-背景词”\n",
    "            continue\n",
    "        centers += st\n",
    "        for center_i in range(len(st)):\n",
    "            window_size = random.randint(1, max_window_size)\n",
    "            indices = list(range(max(0, center_i - window_size),\n",
    "                                 min(len(st), center_i + 1 + window_size)))\n",
    "            indices.remove(center_i)  # 将中心词排除在背景词之外\n",
    "            contexts.append([st[idx] for idx in indices])\n",
    "    return centers, contexts\n",
    "\n",
    "all_centers, all_contexts = get_centers_and_contexts(dataset, 1) #all_centers：中心词；all_contexts：背景词\n",
    "# for center, context in zip(*get_centers_and_contexts(dataset, 1)):\n",
    "#     print('center', center, 'has contexts', context)\n",
    "#    center 1 has contexts [2]       center 2 has contexts [1, 3]    center 3 has contexts [2, 4]\n",
    "\n",
    "def get_negatives(all_contexts, sampling_weights, K):\n",
    "    all_negatives, neg_candidates, i = [], [], 0\n",
    "    population = list(range(len(sampling_weights))) #表示总共有多少个词\n",
    "    for contexts in all_contexts:\n",
    "        negatives = []\n",
    "        while len(negatives) < len(contexts) * K:\n",
    "            if i == len(neg_candidates):\n",
    "                # 根据每个词的权重（sampling_weights）随机生成k个词的索引作为噪声词。\n",
    "                # 为了高效计算，可以将k设得稍大一点\n",
    "                i, neg_candidates = 0, random.choices(\n",
    "                    population, sampling_weights, k=int(1e5))\n",
    "            neg, i = neg_candidates[i], i + 1\n",
    "            # 噪声词不能是背景词\n",
    "            if neg not in set(contexts):\n",
    "                negatives.append(neg)\n",
    "        all_negatives.append(negatives)\n",
    "    return all_negatives\n",
    "\n",
    "sampling_weights = [counter[w]**0.75 for w in token]\n",
    "all_negatives = get_negatives(all_contexts, sampling_weights, 5) #K=5\n",
    "#print(len(all_contexts))   #有157组背景词（总共159个词，但是由于有两个词就是一句话，没有周围词，所以不计入在内）\n",
    "#print(len(all_negatives))  #有157组negatives词"
   ]
  },
  {
   "cell_type": "code",
   "execution_count": 6,
   "metadata": {},
   "outputs": [],
   "source": [
    "class MyDataset(torch.utils.data.Dataset):\n",
    "    def __init__(self, centers, contexts, negatives):\n",
    "        assert len(centers) == len(contexts) == len(negatives)\n",
    "        self.centers = centers\n",
    "        self.contexts = contexts\n",
    "        self.negatives = negatives\n",
    "\n",
    "    def __getitem__(self, index):\n",
    "        return (self.centers[index], self.contexts[index], self.negatives[index])\n",
    "\n",
    "    def __len__(self):\n",
    "        return len(self.centers)\n",
    "    \n",
    "def batchify(data):\n",
    "    \"\"\"用作DataLoader的参数collate_fn: 输入是个长为batchsize的list, \n",
    "    list中的每个元素都是Dataset类调用__getitem__得到的结果\n",
    "    \"\"\"\n",
    "    max_len = max(len(c) + len(n) for _, c, n in data)\n",
    "    centers, contexts_negatives, masks, labels = [], [], [], []\n",
    "    for center, context, negative in data:\n",
    "        cur_len = len(context) + len(negative)\n",
    "        centers += [center]\n",
    "        contexts_negatives += [context + negative + [0] * (max_len - cur_len)]\n",
    "        masks += [[1] * cur_len + [0] * (max_len - cur_len)]\n",
    "        labels += [[1] * len(context) + [0] * (max_len - len(context))]\n",
    "    return (torch.tensor(centers).view(-1, 1), torch.tensor(contexts_negatives),\n",
    "            torch.tensor(masks), torch.tensor(labels))\n",
    "\n",
    "batch_size = 512\n",
    "dataset = MyDataset(all_centers, all_contexts, all_negatives)\n",
    "data_iter = DataLoader(dataset, batch_size, shuffle=True, collate_fn=batchify)\n",
    "\n",
    "# ====================================== 定义模型 ====================================== #\n",
    "class SkipGram(torch.nn.Module):\n",
    "    def __init__(self, vocab_size, embedding_size):\n",
    "        super().__init__()\n",
    "        self.vocab_size = vocab_size\n",
    "        self.embedding_size = embedding_size\n",
    "        self.embed_v = nn.Embedding(self.vocab_size, self.embedding_size)\n",
    "        self.embed_u = nn.Embedding(self.vocab_size, self.embedding_size)\n",
    "\n",
    "    def forward(self, center, contexts_and_negatives):\n",
    "        v = self.embed_v(center)\n",
    "        u = self.embed_u(contexts_and_negatives)\n",
    "        pred = torch.bmm(v, u.permute(0, 2, 1))\n",
    "        return pred\n",
    "\n",
    "# ====================================== 定义损失函数 ====================================== #\n",
    "class SigmoidBinaryCrossEntropyLoss(nn.Module):\n",
    "    def __init__(self): # none mean sum\n",
    "        super(SigmoidBinaryCrossEntropyLoss, self).__init__()\n",
    "    def forward(self, inputs, targets, mask=None):\n",
    "        \"\"\"\n",
    "        input – Tensor shape: (batch_size, len)\n",
    "        target – Tensor of the same shape as input\n",
    "        \"\"\"\n",
    "        inputs, targets, mask = inputs.float(), targets.float(), mask.float()\n",
    "        res = nn.functional.binary_cross_entropy_with_logits(inputs, targets, reduction=\"none\", weight=mask)\n",
    "        return res.mean(dim=1)"
   ]
  },
  {
   "cell_type": "code",
   "execution_count": 7,
   "metadata": {},
   "outputs": [
    {
     "name": "stdout",
     "output_type": "stream",
     "text": [
      "epoch 1, loss 2.420366, time 3.625484s\n",
      "epoch 2, loss 0.681128, time 3.061517s\n",
      "epoch 3, loss 0.386067, time 3.247116s\n",
      "epoch 4, loss 0.290710, time 3.239073s\n",
      "epoch 5, loss 0.248515, time 3.337916s\n",
      "epoch 6, loss 0.225808, time 3.100563s\n",
      "epoch 7, loss 0.212271, time 3.102763s\n",
      "epoch 8, loss 0.203062, time 3.365519s\n",
      "epoch 9, loss 0.196805, time 3.039515s\n",
      "epoch 10, loss 0.192298, time 3.562227s\n",
      "epoch 11, loss 0.189225, time 3.426833s\n",
      "epoch 12, loss 0.186681, time 2.775859s\n",
      "epoch 13, loss 0.185149, time 3.460684s\n",
      "epoch 14, loss 0.184208, time 3.454018s\n",
      "epoch 15, loss 0.182974, time 3.436300s\n",
      "epoch 16, loss 0.182113, time 3.352129s\n",
      "epoch 17, loss 0.181490, time 3.274446s\n",
      "epoch 18, loss 0.180789, time 3.193714s\n",
      "epoch 19, loss 0.180117, time 3.116816s\n",
      "epoch 20, loss 0.179712, time 3.086962s\n",
      "epoch 21, loss 0.179528, time 3.038307s\n",
      "epoch 22, loss 0.179065, time 3.055067s\n",
      "epoch 23, loss 0.178463, time 2.608918s\n",
      "epoch 24, loss 0.178211, time 2.825452s\n",
      "epoch 25, loss 0.177788, time 3.103793s\n",
      "epoch 26, loss 0.177649, time 3.036669s\n",
      "epoch 27, loss 0.177139, time 3.013092s\n",
      "epoch 28, loss 0.176965, time 3.006652s\n",
      "epoch 29, loss 0.176672, time 2.719577s\n",
      "epoch 30, loss 0.176588, time 3.010988s\n",
      "epoch 31, loss 0.176149, time 3.031463s\n",
      "epoch 32, loss 0.176103, time 2.779439s\n",
      "epoch 33, loss 0.175728, time 3.037905s\n",
      "epoch 34, loss 0.175611, time 2.869799s\n",
      "epoch 35, loss 0.175469, time 3.101702s\n",
      "epoch 36, loss 0.175271, time 2.964241s\n",
      "epoch 37, loss 0.175278, time 2.615878s\n",
      "epoch 38, loss 0.174846, time 2.597821s\n",
      "epoch 39, loss 0.174738, time 2.483227s\n",
      "epoch 40, loss 0.174719, time 2.733610s\n",
      "epoch 41, loss 0.174389, time 2.671916s\n",
      "epoch 42, loss 0.174388, time 3.004658s\n",
      "epoch 43, loss 0.174053, time 2.953537s\n",
      "epoch 44, loss 0.174133, time 2.974721s\n",
      "epoch 45, loss 0.173948, time 2.907937s\n",
      "epoch 46, loss 0.174111, time 2.891368s\n",
      "epoch 47, loss 0.173733, time 3.069527s\n",
      "epoch 48, loss 0.173697, time 3.007487s\n",
      "epoch 49, loss 0.173656, time 2.780185s\n",
      "epoch 50, loss 0.173562, time 2.977327s\n"
     ]
    }
   ],
   "source": [
    "device = 'cuda:1'\n",
    "embed_size = 128\n",
    "net = SkipGram(len(idx_to_token), embed_size).to(device)\n",
    "loss = SigmoidBinaryCrossEntropyLoss()\n",
    "optimizer = torch.optim.Adam(net.parameters(), lr=0.01)\n",
    "num_epochs = 50\n",
    "for epoch in range(num_epochs):\n",
    "    start, l_sum, n = time.time(), 0.0, 0\n",
    "    for batch in data_iter:\n",
    "        center, context_negative, mask, label = [d.to(device) for d in batch]\n",
    "        pred = net(center, context_negative)\n",
    "        # 使用掩码变量mask来避免填充项对损失函数计算的影响\n",
    "        l = (loss(pred.view(label.shape), label, mask) *\n",
    "             mask.shape[1] / mask.float().sum(dim=1)).mean() # 一个batch的平均loss\n",
    "        optimizer.zero_grad()\n",
    "        l.backward()\n",
    "        optimizer.step()\n",
    "        l_sum += l.cpu().item()\n",
    "        n += 1\n",
    "    print('epoch %d, loss %f, time %.6fs'% (epoch + 1, l_sum / n, time.time() - start))"
   ]
  },
  {
   "cell_type": "code",
   "execution_count": 11,
   "metadata": {},
   "outputs": [],
   "source": [
    "embedding_weights = net.embed_v.weight.data.cpu().numpy()\n",
    "np.save(\"embedding-{}\".format(embed_size), embedding_weights)\n",
    "torch.save(net.state_dict(), \"embedding-{}.th\".format(embed_size))"
   ]
  },
  {
   "cell_type": "code",
   "execution_count": 13,
   "metadata": {},
   "outputs": [
    {
     "data": {
      "text/plain": [
       "<All keys matched successfully>"
      ]
     },
     "execution_count": 13,
     "metadata": {},
     "output_type": "execute_result"
    }
   ],
   "source": [
    "net.load_state_dict(torch.load(\"embedding-{}.th\".format(embed_size)))"
   ]
  },
  {
   "cell_type": "code",
   "execution_count": null,
   "metadata": {},
   "outputs": [],
   "source": []
  }
 ],
 "metadata": {
  "kernelspec": {
   "display_name": "Python 3",
   "language": "python",
   "name": "python3"
  },
  "language_info": {
   "codemirror_mode": {
    "name": "ipython",
    "version": 3
   },
   "file_extension": ".py",
   "mimetype": "text/x-python",
   "name": "python",
   "nbconvert_exporter": "python",
   "pygments_lexer": "ipython3",
   "version": "3.7.4"
  },
  "toc": {
   "base_numbering": 1,
   "nav_menu": {},
   "number_sections": true,
   "sideBar": true,
   "skip_h1_title": false,
   "title_cell": "Table of Contents",
   "title_sidebar": "Contents",
   "toc_cell": false,
   "toc_position": {},
   "toc_section_display": true,
   "toc_window_display": false
  },
  "varInspector": {
   "cols": {
    "lenName": 16,
    "lenType": 16,
    "lenVar": 40
   },
   "kernels_config": {
    "python": {
     "delete_cmd_postfix": "",
     "delete_cmd_prefix": "del ",
     "library": "var_list.py",
     "varRefreshCmd": "print(var_dic_list())"
    },
    "r": {
     "delete_cmd_postfix": ") ",
     "delete_cmd_prefix": "rm(",
     "library": "var_list.r",
     "varRefreshCmd": "cat(var_dic_list()) "
    }
   },
   "types_to_exclude": [
    "module",
    "function",
    "builtin_function_or_method",
    "instance",
    "_Feature"
   ],
   "window_display": false
  }
 },
 "nbformat": 4,
 "nbformat_minor": 4
}
