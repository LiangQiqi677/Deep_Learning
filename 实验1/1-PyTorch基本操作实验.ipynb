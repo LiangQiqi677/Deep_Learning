{
 "cells": [
  {
   "cell_type": "code",
   "execution_count": 2,
   "metadata": {
    "ExecuteTime": {
     "end_time": "2020-07-23T10:20:57.204356Z",
     "start_time": "2020-07-23T10:20:56.234606Z"
    }
   },
   "outputs": [
    {
     "name": "stdout",
     "output_type": "stream",
     "text": [
      "1.5.1\n"
     ]
    }
   ],
   "source": [
    "import torch\n",
    "import torchvision\n",
    "\n",
    "print(torch.__version__)"
   ]
  },
  {
   "cell_type": "markdown",
   "metadata": {},
   "source": [
    "### 使用𝐓𝐞𝐧𝐬𝐨r初始化一个𝟏×𝟑的矩阵𝑴和一个𝟐×𝟏的矩阵𝑵，对两矩阵进行减法操作（要求实现三种不同的形式）"
   ]
  },
  {
   "cell_type": "code",
   "execution_count": 3,
   "metadata": {
    "ExecuteTime": {
     "end_time": "2020-07-23T10:20:57.347971Z",
     "start_time": "2020-07-23T10:20:57.226295Z"
    }
   },
   "outputs": [
    {
     "name": "stdout",
     "output_type": "stream",
     "text": [
      "tensor([[0.4655, 0.2670, 0.1546]])\n",
      "tensor([[0.1236],\n",
      "        [0.5885]])\n",
      "tensor([[ 0.3419,  0.1434,  0.0310],\n",
      "        [-0.1230, -0.3215, -0.4339]])\n",
      "tensor([[ 0.3419,  0.1434,  0.0310],\n",
      "        [-0.1230, -0.3215, -0.4339]])\n"
     ]
    },
    {
     "ename": "RuntimeError",
     "evalue": "output with shape [1, 3] doesn't match the broadcast shape [2, 3]",
     "output_type": "error",
     "traceback": [
      "\u001b[1;31m---------------------------------------------------------------------------\u001b[0m",
      "\u001b[1;31mRuntimeError\u001b[0m                              Traceback (most recent call last)",
      "\u001b[1;32m<ipython-input-3-f4eeb175c38d>\u001b[0m in \u001b[0;36m<module>\u001b[1;34m()\u001b[0m\n\u001b[0;32m     11\u001b[0m \u001b[1;33m\u001b[0m\u001b[0m\n\u001b[0;32m     12\u001b[0m \u001b[1;31m#减法形式三\u001b[0m\u001b[1;33m\u001b[0m\u001b[1;33m\u001b[0m\u001b[1;33m\u001b[0m\u001b[0m\n\u001b[1;32m---> 13\u001b[1;33m \u001b[0mM\u001b[0m\u001b[1;33m.\u001b[0m\u001b[0msub_\u001b[0m\u001b[1;33m(\u001b[0m\u001b[0mN\u001b[0m\u001b[1;33m)\u001b[0m\u001b[1;33m\u001b[0m\u001b[1;33m\u001b[0m\u001b[0m\n\u001b[0m\u001b[0;32m     14\u001b[0m \u001b[0mprint\u001b[0m\u001b[1;33m(\u001b[0m\u001b[0mM\u001b[0m\u001b[1;33m)\u001b[0m\u001b[1;33m\u001b[0m\u001b[1;33m\u001b[0m\u001b[0m\n",
      "\u001b[1;31mRuntimeError\u001b[0m: output with shape [1, 3] doesn't match the broadcast shape [2, 3]"
     ]
    }
   ],
   "source": [
    "M = torch.rand(1,3)\n",
    "N = torch.rand(2,1)\n",
    "print(M)\n",
    "print(N)\n",
    "\n",
    "#减法形式一\n",
    "print(M-N)\n",
    "\n",
    "#减法形式二\n",
    "print(torch.sub(M,N))\n",
    "\n",
    "#减法形式三\n",
    "M.sub_(N)\n",
    "print(M)"
   ]
  },
  {
   "cell_type": "markdown",
   "metadata": {},
   "source": [
    "###  利用𝐓𝐞𝐧𝐬𝐨𝐫创建两个大小分别𝟑×𝟐和𝟒×𝟐的随机数矩阵𝑷和𝑸，要求服从均值为0，标准差0.01为的正态分布"
   ]
  },
  {
   "cell_type": "code",
   "execution_count": 9,
   "metadata": {
    "ExecuteTime": {
     "end_time": "2020-07-23T10:50:10.283773Z",
     "start_time": "2020-07-23T10:50:10.265820Z"
    }
   },
   "outputs": [
    {
     "name": "stdout",
     "output_type": "stream",
     "text": [
      "tensor([[ 0.0006,  0.0145],\n",
      "        [-0.0030, -0.0046],\n",
      "        [-0.0071, -0.0028]])\n",
      "tensor([[ 0.0058, -0.0059],\n",
      "        [-0.0010,  0.0291],\n",
      "        [-0.0054, -0.0079],\n",
      "        [-0.0100,  0.0228]])\n",
      "tensor([[ 0.0058, -0.0010, -0.0054, -0.0100],\n",
      "        [-0.0059,  0.0291, -0.0079,  0.0228]])\n",
      "tensor([[-8.1395e-05,  4.2046e-04, -1.1760e-04,  3.2349e-04],\n",
      "        [ 9.4250e-06, -1.3071e-04,  5.2687e-05, -7.4711e-05],\n",
      "        [-2.4933e-05, -7.3788e-05,  6.0471e-05,  7.0817e-06]])\n"
     ]
    }
   ],
   "source": [
    "P = torch.normal(0,0.01,(3,2))\n",
    "Q = torch.normal(0,0.01,(4,2))\n",
    "\n",
    "print(P)\n",
    "print(Q)\n",
    "\n",
    "QT = torch.transpose(Q,0,1) #对Q进行转置\n",
    "print(QT)\n",
    "\n",
    "print(torch.mm(P, QT))"
   ]
  },
  {
   "cell_type": "markdown",
   "metadata": {},
   "source": [
    "### 给定公式𝑦3=𝑦1+𝑦2=𝑥2+𝑥3，且𝑥=1。求𝑦3对𝑥的梯度"
   ]
  },
  {
   "cell_type": "code",
   "execution_count": 44,
   "metadata": {
    "ExecuteTime": {
     "end_time": "2020-07-23T14:45:17.521987Z",
     "start_time": "2020-07-23T14:45:17.504035Z"
    }
   },
   "outputs": [
    {
     "name": "stdout",
     "output_type": "stream",
     "text": [
      "tensor(1., requires_grad=True)\n",
      "tensor(2., grad_fn=<AddBackward0>)\n",
      "tensor(2.)\n"
     ]
    }
   ],
   "source": [
    "x = torch.tensor(1.0,requires_grad=True) #要float的形式\n",
    "print(x)\n",
    "\n",
    "#计算𝑥^3时中断梯度的追踪\n",
    "with torch.no_grad(): \n",
    "    y2 = x**3\n",
    "\n",
    "y1 = x**2\n",
    "y3 = y1+y2\n",
    "y3.backward(x)\n",
    "print(y3)\n",
    "print(x.grad)"
   ]
  }
 ],
 "metadata": {
  "kernelspec": {
   "display_name": "Python [conda env:Pytorch_envs]",
   "language": "python",
   "name": "conda-env-Pytorch_envs-py"
  },
  "language_info": {
   "codemirror_mode": {
    "name": "ipython",
    "version": 3
   },
   "file_extension": ".py",
   "mimetype": "text/x-python",
   "name": "python",
   "nbconvert_exporter": "python",
   "pygments_lexer": "ipython3",
   "version": "3.6.10"
  },
  "toc": {
   "base_numbering": 1,
   "nav_menu": {},
   "number_sections": true,
   "sideBar": true,
   "skip_h1_title": false,
   "title_cell": "Table of Contents",
   "title_sidebar": "Contents",
   "toc_cell": false,
   "toc_position": {},
   "toc_section_display": true,
   "toc_window_display": false
  },
  "varInspector": {
   "cols": {
    "lenName": 16,
    "lenType": 16,
    "lenVar": 40
   },
   "kernels_config": {
    "python": {
     "delete_cmd_postfix": "",
     "delete_cmd_prefix": "del ",
     "library": "var_list.py",
     "varRefreshCmd": "print(var_dic_list())"
    },
    "r": {
     "delete_cmd_postfix": ") ",
     "delete_cmd_prefix": "rm(",
     "library": "var_list.r",
     "varRefreshCmd": "cat(var_dic_list()) "
    }
   },
   "types_to_exclude": [
    "module",
    "function",
    "builtin_function_or_method",
    "instance",
    "_Feature"
   ],
   "window_display": false
  }
 },
 "nbformat": 4,
 "nbformat_minor": 2
}
