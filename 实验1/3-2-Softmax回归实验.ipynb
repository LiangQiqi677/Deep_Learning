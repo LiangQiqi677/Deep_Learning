{
 "cells": [
  {
   "cell_type": "code",
   "execution_count": 1,
   "metadata": {
    "ExecuteTime": {
     "end_time": "2020-07-26T13:14:00.689653Z",
     "start_time": "2020-07-26T13:13:58.189026Z"
    }
   },
   "outputs": [],
   "source": [
    "import torch\n",
    "from torch import nn\n",
    "from torch.nn import init\n",
    "import torch.optim as optim\n",
    "import torchvision\n",
    "import torchvision.transforms as transforms\n",
    "import matplotlib.pyplot as plt"
   ]
  },
  {
   "cell_type": "code",
   "execution_count": 2,
   "metadata": {
    "ExecuteTime": {
     "end_time": "2020-07-26T13:14:02.629356Z",
     "start_time": "2020-07-26T13:14:02.567509Z"
    }
   },
   "outputs": [],
   "source": [
    "# ========== 加载数据集 ==========\n",
    "\n",
    "mnist_train = torchvision.datasets.FashionMNIST(root='~/Datasets/FashionMNIST', train=True,\n",
    "download=True, transform=transforms.ToTensor())\n",
    "mnist_test = torchvision.datasets.FashionMNIST(root='~/Datasets/FashionMNIST', train=False,\n",
    "download=True, transform=transforms.ToTensor())"
   ]
  },
  {
   "cell_type": "code",
   "execution_count": 3,
   "metadata": {
    "ExecuteTime": {
     "end_time": "2020-07-26T13:14:03.763914Z",
     "start_time": "2020-07-26T13:14:03.748999Z"
    }
   },
   "outputs": [],
   "source": [
    "# ========== 读取小批量数据样本 ==========\n",
    "\n",
    "batch_size = 256\n",
    "train_iter = torch.utils.data.DataLoader(mnist_train, batch_size=batch_size, shuffle=True,num_workers=0)\n",
    "test_iter = torch.utils.data.DataLoader(mnist_test, batch_size=batch_size, shuffle=False,num_workers=0)"
   ]
  },
  {
   "cell_type": "code",
   "execution_count": 4,
   "metadata": {
    "ExecuteTime": {
     "end_time": "2020-07-26T13:14:05.266640Z",
     "start_time": "2020-07-26T13:14:05.228739Z"
    }
   },
   "outputs": [
    {
     "data": {
      "text/plain": [
       "Parameter containing:\n",
       "tensor([0., 0., 0., 0., 0., 0., 0., 0., 0., 0.], requires_grad=True)"
      ]
     },
     "execution_count": 4,
     "metadata": {},
     "output_type": "execute_result"
    }
   ],
   "source": [
    "# ========== 构建模型和参数初始化 ==========\n",
    "\n",
    "num_inputs = 784 #模型的输⼊向量的⻓度是28×28=784\n",
    "num_outputs = 10 #图像有10个类别，即输出10个类别的概率，取最大\n",
    "\n",
    "class LinearNet(nn.Module):\n",
    "    def __init__(self,num_inputs,num_outputs):\n",
    "        super(LinearNet,self).__init__()\n",
    "        self.linear = nn.Linear(num_inputs,num_outputs) #和Logister不一样，num_outputs不是1而是10\n",
    "    \n",
    "    # forward 定义前向传播\n",
    "    def forward(self,x):  \n",
    "        return self.linear(x.view(x.shape[0],-1))\n",
    "\n",
    "net = LinearNet(num_inputs,num_outputs)\n",
    "\n",
    "# ========== 模型参数初始化 ==========\n",
    "nn.init.normal_(net.linear.weight,mean=0,std=0.01)\n",
    "nn.init.constant_(net.linear.bias,val=0)"
   ]
  },
  {
   "cell_type": "code",
   "execution_count": 5,
   "metadata": {
    "ExecuteTime": {
     "end_time": "2020-07-26T13:14:06.307734Z",
     "start_time": "2020-07-26T13:14:06.300752Z"
    }
   },
   "outputs": [],
   "source": [
    "# ========== 定义损失函数和优化器 ==========\n",
    "\n",
    "loss = nn.CrossEntropyLoss() #交叉熵损失函数\n",
    "optimizer = optim.SGD(net.parameters(),lr=0.1) #优化器定义"
   ]
  },
  {
   "cell_type": "code",
   "execution_count": 6,
   "metadata": {
    "ExecuteTime": {
     "end_time": "2020-07-26T13:14:07.563598Z",
     "start_time": "2020-07-26T13:14:07.550632Z"
    }
   },
   "outputs": [],
   "source": [
    "# ========== 定义net在数据集data_iter的准确率 ==========\n",
    "\n",
    "def evaluate_accuracy(data_iter, net):\n",
    "    acc_sum, n = 0.0, 0\n",
    "    for X, y in data_iter:\n",
    "        acc_sum += (net(X).argmax(dim=1) == y).float().sum().item()\n",
    "        n += y.shape[0]\n",
    "    return acc_sum / n"
   ]
  },
  {
   "cell_type": "code",
   "execution_count": 7,
   "metadata": {
    "ExecuteTime": {
     "end_time": "2020-07-26T13:36:04.892171Z",
     "start_time": "2020-07-26T13:14:09.377119Z"
    }
   },
   "outputs": [
    {
     "name": "stdout",
     "output_type": "stream",
     "text": [
      "epoch 1, loss 0.003077, train_acc 0.748867，test_acc 0.784400\n",
      "epoch 2, loss 0.002234, train_acc 0.813250，test_acc 0.804900\n",
      "epoch 3, loss 0.002056, train_acc 0.825733，test_acc 0.810900\n",
      "epoch 4, loss 0.001959, train_acc 0.832433，test_acc 0.810600\n",
      "epoch 5, loss 0.001900, train_acc 0.837167，test_acc 0.806600\n",
      "epoch 6, loss 0.001859, train_acc 0.840033，test_acc 0.818800\n",
      "epoch 7, loss 0.001823, train_acc 0.842367，test_acc 0.824500\n",
      "epoch 8, loss 0.001793, train_acc 0.845500，test_acc 0.828100\n",
      "epoch 9, loss 0.001770, train_acc 0.846000，test_acc 0.824100\n",
      "epoch 10, loss 0.001752, train_acc 0.848717，test_acc 0.821700\n",
      "epoch 11, loss 0.001737, train_acc 0.848883，test_acc 0.833800\n",
      "epoch 12, loss 0.001720, train_acc 0.850683，test_acc 0.833900\n",
      "epoch 13, loss 0.001706, train_acc 0.851967，test_acc 0.838200\n",
      "epoch 14, loss 0.001701, train_acc 0.851333，test_acc 0.823300\n",
      "epoch 15, loss 0.001687, train_acc 0.853083，test_acc 0.832300\n",
      "epoch 16, loss 0.001674, train_acc 0.853933，test_acc 0.837700\n",
      "epoch 17, loss 0.001671, train_acc 0.853700，test_acc 0.831300\n",
      "epoch 18, loss 0.001661, train_acc 0.855283，test_acc 0.826400\n",
      "epoch 19, loss 0.001653, train_acc 0.855867，test_acc 0.836600\n",
      "epoch 20, loss 0.001649, train_acc 0.856333，test_acc 0.831900\n",
      "epoch 21, loss 0.001638, train_acc 0.857433，test_acc 0.836500\n",
      "epoch 22, loss 0.001634, train_acc 0.857533，test_acc 0.840800\n",
      "epoch 23, loss 0.001625, train_acc 0.858317，test_acc 0.836700\n",
      "epoch 24, loss 0.001621, train_acc 0.857917，test_acc 0.837500\n",
      "epoch 25, loss 0.001617, train_acc 0.858517，test_acc 0.838200\n",
      "epoch 26, loss 0.001617, train_acc 0.858450，test_acc 0.839300\n",
      "epoch 27, loss 0.001610, train_acc 0.859300，test_acc 0.840200\n",
      "epoch 28, loss 0.001605, train_acc 0.859383，test_acc 0.841700\n",
      "epoch 29, loss 0.001601, train_acc 0.859867，test_acc 0.841300\n",
      "epoch 30, loss 0.001596, train_acc 0.860667，test_acc 0.840400\n",
      "epoch 31, loss 0.001592, train_acc 0.860767，test_acc 0.842600\n",
      "epoch 32, loss 0.001592, train_acc 0.860467，test_acc 0.838900\n",
      "epoch 33, loss 0.001589, train_acc 0.860717，test_acc 0.842400\n",
      "epoch 34, loss 0.001583, train_acc 0.861150，test_acc 0.842800\n",
      "epoch 35, loss 0.001580, train_acc 0.860700，test_acc 0.840100\n",
      "epoch 36, loss 0.001578, train_acc 0.862033，test_acc 0.842600\n",
      "epoch 37, loss 0.001571, train_acc 0.862483，test_acc 0.840400\n",
      "epoch 38, loss 0.001572, train_acc 0.862133，test_acc 0.842000\n",
      "epoch 39, loss 0.001567, train_acc 0.862817，test_acc 0.842800\n",
      "epoch 40, loss 0.001568, train_acc 0.861933，test_acc 0.837200\n",
      "epoch 41, loss 0.001563, train_acc 0.862067，test_acc 0.843100\n",
      "epoch 42, loss 0.001565, train_acc 0.862167，test_acc 0.845300\n",
      "epoch 43, loss 0.001558, train_acc 0.863083，test_acc 0.841700\n",
      "epoch 44, loss 0.001557, train_acc 0.863533，test_acc 0.843900\n",
      "epoch 45, loss 0.001558, train_acc 0.864017，test_acc 0.840800\n",
      "epoch 46, loss 0.001554, train_acc 0.863367，test_acc 0.837200\n",
      "epoch 47, loss 0.001551, train_acc 0.864633，test_acc 0.839100\n",
      "epoch 48, loss 0.001550, train_acc 0.864467，test_acc 0.838800\n",
      "epoch 49, loss 0.001548, train_acc 0.864567，test_acc 0.842800\n",
      "epoch 50, loss 0.001546, train_acc 0.864833，test_acc 0.845100\n",
      "epoch 51, loss 0.001542, train_acc 0.863750，test_acc 0.830500\n",
      "epoch 52, loss 0.001545, train_acc 0.864867，test_acc 0.841800\n",
      "epoch 53, loss 0.001540, train_acc 0.864600，test_acc 0.837400\n",
      "epoch 54, loss 0.001537, train_acc 0.865100，test_acc 0.844200\n",
      "epoch 55, loss 0.001537, train_acc 0.864750，test_acc 0.834500\n",
      "epoch 56, loss 0.001533, train_acc 0.864700，test_acc 0.845000\n",
      "epoch 57, loss 0.001536, train_acc 0.864167，test_acc 0.840100\n",
      "epoch 58, loss 0.001530, train_acc 0.866333，test_acc 0.841700\n",
      "epoch 59, loss 0.001530, train_acc 0.865467，test_acc 0.834200\n",
      "epoch 60, loss 0.001528, train_acc 0.865350，test_acc 0.842300\n",
      "epoch 61, loss 0.001525, train_acc 0.866717，test_acc 0.841000\n",
      "epoch 62, loss 0.001525, train_acc 0.865317，test_acc 0.845300\n",
      "epoch 63, loss 0.001522, train_acc 0.866333，test_acc 0.842300\n",
      "epoch 64, loss 0.001524, train_acc 0.865200，test_acc 0.842800\n",
      "epoch 65, loss 0.001520, train_acc 0.866067，test_acc 0.844400\n",
      "epoch 66, loss 0.001523, train_acc 0.866717，test_acc 0.844400\n",
      "epoch 67, loss 0.001519, train_acc 0.866083，test_acc 0.844200\n",
      "epoch 68, loss 0.001519, train_acc 0.866183，test_acc 0.843400\n",
      "epoch 69, loss 0.001515, train_acc 0.866800，test_acc 0.839000\n",
      "epoch 70, loss 0.001513, train_acc 0.867167，test_acc 0.839700\n",
      "epoch 71, loss 0.001514, train_acc 0.866367，test_acc 0.845300\n",
      "epoch 72, loss 0.001512, train_acc 0.866417，test_acc 0.838000\n",
      "epoch 73, loss 0.001512, train_acc 0.866800，test_acc 0.841700\n",
      "epoch 74, loss 0.001509, train_acc 0.867433，test_acc 0.843700\n",
      "epoch 75, loss 0.001508, train_acc 0.867150，test_acc 0.845100\n",
      "epoch 76, loss 0.001507, train_acc 0.867500，test_acc 0.839200\n",
      "epoch 77, loss 0.001509, train_acc 0.866883，test_acc 0.844600\n",
      "epoch 78, loss 0.001506, train_acc 0.867467，test_acc 0.842600\n",
      "epoch 79, loss 0.001504, train_acc 0.867867，test_acc 0.843100\n",
      "epoch 80, loss 0.001506, train_acc 0.867117，test_acc 0.838600\n",
      "epoch 81, loss 0.001500, train_acc 0.867300，test_acc 0.839900\n",
      "epoch 82, loss 0.001502, train_acc 0.866700，test_acc 0.821400\n",
      "epoch 83, loss 0.001502, train_acc 0.867267，test_acc 0.842600\n",
      "epoch 84, loss 0.001499, train_acc 0.866683，test_acc 0.841200\n",
      "epoch 85, loss 0.001497, train_acc 0.868517，test_acc 0.844200\n",
      "epoch 86, loss 0.001499, train_acc 0.868167，test_acc 0.842000\n",
      "epoch 87, loss 0.001497, train_acc 0.867167，test_acc 0.840900\n",
      "epoch 88, loss 0.001492, train_acc 0.867317，test_acc 0.843600\n",
      "epoch 89, loss 0.001496, train_acc 0.867850，test_acc 0.844000\n",
      "epoch 90, loss 0.001494, train_acc 0.867133，test_acc 0.838300\n",
      "epoch 91, loss 0.001491, train_acc 0.869100，test_acc 0.840300\n",
      "epoch 92, loss 0.001494, train_acc 0.868550，test_acc 0.843400\n",
      "epoch 93, loss 0.001490, train_acc 0.867917，test_acc 0.844500\n",
      "epoch 94, loss 0.001490, train_acc 0.869267，test_acc 0.846000\n",
      "epoch 95, loss 0.001491, train_acc 0.868100，test_acc 0.836800\n",
      "epoch 96, loss 0.001492, train_acc 0.868283，test_acc 0.842900\n",
      "epoch 97, loss 0.001486, train_acc 0.869167，test_acc 0.837900\n",
      "epoch 98, loss 0.001486, train_acc 0.869917，test_acc 0.841100\n",
      "epoch 99, loss 0.001486, train_acc 0.869017，test_acc 0.842100\n",
      "epoch 100, loss 0.001486, train_acc 0.868467，test_acc 0.844600\n"
     ]
    }
   ],
   "source": [
    "# ========== 训练模型 ==========\n",
    "\n",
    "#设置学习率和迭代次数\n",
    "lr = 0.01\n",
    "num_epochs = 100\n",
    "\n",
    "loss_epoch = []\n",
    "train_acc_epoch = []\n",
    "test_acc_epoch = []\n",
    "\n",
    "for epoch in range(num_epochs):\n",
    "    train_l_sum, train_acc_sum, n = 0.0, 0.0, 0\n",
    "    for X, y in train_iter:\n",
    "        y_hat = net(X)\n",
    "        l = loss(y_hat,y).sum()\n",
    "        l.backward()\n",
    "        optimizer.step()         #更新\n",
    "        optimizer.zero_grad()    #清空\n",
    "\n",
    "        train_l_sum += l.item()\n",
    "        train_acc_sum += (y_hat.argmax(dim=1) == y).sum().item()\n",
    "        n += y.shape[0]\n",
    "        \n",
    "    test_acc = evaluate_accuracy(test_iter, net)\n",
    "    loss_epoch.append(train_l_sum/n)\n",
    "    train_acc_epoch.append(train_acc_sum/n)\n",
    "    test_acc_epoch.append(test_acc)\n",
    "    print('epoch %d, loss %f, train_acc %f，test_acc %f'% (epoch + 1, train_l_sum/n, train_acc_sum/n, test_acc))        "
   ]
  },
  {
   "cell_type": "code",
   "execution_count": 8,
   "metadata": {
    "ExecuteTime": {
     "end_time": "2020-07-26T14:46:15.629368Z",
     "start_time": "2020-07-26T14:46:15.336178Z"
    }
   },
   "outputs": [
    {
     "data": {
      "image/png": "[encoded data removed]",
      "text/plain": [
       "<Figure size 432x288 with 1 Axes>"
      ]
     },
     "metadata": {},
     "output_type": "display_data"
    }
   ],
   "source": [
    "# ========== 损失函数可视化 ==========\n",
    "\n",
    "plt.plot(loss_epoch)\n",
    "plt.ylabel(\"loss\")\n",
    "plt.xlabel(\"epoch\")\n",
    "plt.title('Loss')\n",
    "plt.show()"
   ]
  },
  {
   "cell_type": "code",
   "execution_count": 9,
   "metadata": {
    "ExecuteTime": {
     "end_time": "2020-07-26T14:46:23.500814Z",
     "start_time": "2020-07-26T14:46:23.228677Z"
    }
   },
   "outputs": [
    {
     "data": {
      "image/png": "[encoded data removed]",
      "text/plain": [
       "<Figure size 432x288 with 1 Axes>"
      ]
     },
     "metadata": {},
     "output_type": "display_data"
    }
   ],
   "source": [
    "# ========== 训练集准确率可视化 ==========\n",
    "\n",
    "plt.plot(train_acc_epoch)\n",
    "plt.ylabel(\"train_acc\")\n",
    "plt.xlabel(\"epoch\")\n",
    "plt.title('Train Accuracy Rate')\n",
    "plt.show()"
   ]
  },
  {
   "cell_type": "code",
   "execution_count": 10,
   "metadata": {
    "ExecuteTime": {
     "end_time": "2020-07-26T14:46:32.009490Z",
     "start_time": "2020-07-26T14:46:31.749676Z"
    }
   },
   "outputs": [
    {
     "data": {
      "image/png": "[encoded data removed]",
      "text/plain": [
       "<Figure size 432x288 with 1 Axes>"
      ]
     },
     "metadata": {},
     "output_type": "display_data"
    }
   ],
   "source": [
    "# ========== 测试集准确率可视化 ==========\n",
    "\n",
    "plt.plot(test_acc_epoch)\n",
    "plt.ylabel(\"test_acc\")\n",
    "plt.xlabel(\"epoch\")\n",
    "plt.title('Test Accuracy Rate')\n",
    "plt.show()"
   ]
  },
  {
   "cell_type": "code",
   "execution_count": null,
   "metadata": {},
   "outputs": [],
   "source": []
  }
 ],
 "metadata": {
  "kernelspec": {
   "display_name": "Python [conda env:Pytorch_envs]",
   "language": "python",
   "name": "conda-env-Pytorch_envs-py"
  },
  "language_info": {
   "codemirror_mode": {
    "name": "ipython",
    "version": 3
   },
   "file_extension": ".py",
   "mimetype": "text/x-python",
   "name": "python",
   "nbconvert_exporter": "python",
   "pygments_lexer": "ipython3",
   "version": "3.6.10"
  },
  "toc": {
   "base_numbering": 1,
   "nav_menu": {},
   "number_sections": true,
   "sideBar": true,
   "skip_h1_title": false,
   "title_cell": "Table of Contents",
   "title_sidebar": "Contents",
   "toc_cell": false,
   "toc_position": {},
   "toc_section_display": true,
   "toc_window_display": false
  },
  "varInspector": {
   "cols": {
    "lenName": 16,
    "lenType": 16,
    "lenVar": 40
   },
   "kernels_config": {
    "python": {
     "delete_cmd_postfix": "",
     "delete_cmd_prefix": "del ",
     "library": "var_list.py",
     "varRefreshCmd": "print(var_dic_list())"
    },
    "r": {
     "delete_cmd_postfix": ") ",
     "delete_cmd_prefix": "rm(",
     "library": "var_list.r",
     "varRefreshCmd": "cat(var_dic_list()) "
    }
   },
   "position": {
    "height": "237.667px",
    "left": "669px",
    "right": "20px",
    "top": "124px",
    "width": "561.333px"
   },
   "types_to_exclude": [
    "module",
    "function",
    "builtin_function_or_method",
    "instance",
    "_Feature"
   ],
   "window_display": false
  }
 },
 "nbformat": 4,
 "nbformat_minor": 2
}
