{
 "cells": [
  {
   "cell_type": "code",
   "execution_count": 10,
   "metadata": {
    "ExecuteTime": {
     "end_time": "2020-07-26T12:04:38.264253Z",
     "start_time": "2020-07-26T12:04:37.469219Z"
    }
   },
   "outputs": [],
   "source": [
    "import torch\n",
    "import torchvision\n",
    "import torchvision.transforms as transforms\n",
    "import matplotlib.pyplot as plt"
   ]
  },
  {
   "cell_type": "code",
   "execution_count": 2,
   "metadata": {
    "ExecuteTime": {
     "end_time": "2020-07-26T11:43:49.808042Z",
     "start_time": "2020-07-26T11:43:49.743444Z"
    }
   },
   "outputs": [],
   "source": [
    "# ========== 加载数据集 ==========\n",
    "\n",
    "mnist_train = torchvision.datasets.FashionMNIST(root='~/Datasets/FashionMNIST', train=True,\n",
    "download=True, transform=transforms.ToTensor())\n",
    "mnist_test = torchvision.datasets.FashionMNIST(root='~/Datasets/FashionMNIST', train=False,\n",
    "download=True, transform=transforms.ToTensor())"
   ]
  },
  {
   "cell_type": "code",
   "execution_count": 3,
   "metadata": {
    "ExecuteTime": {
     "end_time": "2020-07-26T11:43:50.796596Z",
     "start_time": "2020-07-26T11:43:50.787646Z"
    }
   },
   "outputs": [],
   "source": [
    "# ========== 读取小批量数据样本 ==========\n",
    "\n",
    "batch_size = 256\n",
    "train_iter = torch.utils.data.DataLoader(mnist_train, batch_size=batch_size, shuffle=True,num_workers=0)\n",
    "test_iter = torch.utils.data.DataLoader(mnist_test, batch_size=batch_size, shuffle=False,num_workers=0)"
   ]
  },
  {
   "cell_type": "code",
   "execution_count": 4,
   "metadata": {
    "ExecuteTime": {
     "end_time": "2020-07-26T11:43:51.615257Z",
     "start_time": "2020-07-26T11:43:51.605285Z"
    }
   },
   "outputs": [],
   "source": [
    "# ========== 模型参数初始化 ==========\n",
    "\n",
    "num_inputs = 784 #模型的输⼊向量的⻓度是28×28=784\n",
    "num_outputs = 10 #图像有10个类别，即输出10个类别的概率，取最大\n",
    "\n",
    "W = torch.normal(0, 0.01, (num_inputs, num_outputs), dtype=torch.float,requires_grad=True)\n",
    "b = torch.zeros(num_outputs, dtype=torch.float,requires_grad=True)"
   ]
  },
  {
   "cell_type": "code",
   "execution_count": 5,
   "metadata": {
    "ExecuteTime": {
     "end_time": "2020-07-26T11:43:52.897074Z",
     "start_time": "2020-07-26T11:43:52.888100Z"
    }
   },
   "outputs": [],
   "source": [
    "# ========== 定义softmax回归模型函数 ==========\n",
    "\n",
    "def net(x):\n",
    "    # [1,784]x[784,10]+[1,10] = [1,10]\n",
    "    x_linear = torch.mm(x.view((-1, num_inputs)), W) + b  #线性模型\n",
    "    x_exp = x_linear.exp()                                #softmax操作1\n",
    "    x_sum = x_exp.sum(dim=1, keepdim=True)                #softmax操作2\n",
    "    x_softmax = x_exp/x_sum                               #softmax操作3\n",
    "    return x_softmax"
   ]
  },
  {
   "cell_type": "code",
   "execution_count": 6,
   "metadata": {
    "ExecuteTime": {
     "end_time": "2020-07-26T11:43:55.026063Z",
     "start_time": "2020-07-26T11:43:55.018082Z"
    }
   },
   "outputs": [],
   "source": [
    "# ========== 定义交叉熵损失函数 ==========\n",
    "\n",
    "def CrossEntropy_Loss(y_hat, y):\n",
    "    return -torch.log(y_hat.gather(1, y.view(-1, 1)))\n",
    "\n",
    "#y_hat：每类标签的预测值\n",
    "#y：标签的正确分类，假如分为第一类就是（1，0，0），分为第二类就是（0，1，0） \n",
    "#return一个标量，也就是loss\n",
    "#假设有一个3分类问题，某个样例的正确分类是(1，0，0)(也就是说它是被分到第一类),假设经过softmax回归之后的预测概率是(0.5，0.4，0.1)\n",
    "#那么预测和正确答案之间的交叉熵为：H((1，0，0),(0.5，0.4，0.1)) = -(1xlog0.5+0xlog0.4+0xlog0.1) = -(1xlog0.5) = 0.3\n",
    "#由于分类只有一个1，其余都是0，所以就相当于只要计算分类为1的那类的概率即可（其余都是0）"
   ]
  },
  {
   "cell_type": "code",
   "execution_count": 7,
   "metadata": {
    "ExecuteTime": {
     "end_time": "2020-07-26T11:43:56.086360Z",
     "start_time": "2020-07-26T11:43:56.077409Z"
    }
   },
   "outputs": [],
   "source": [
    "# ========== 定义net在数据集data_iter的准确率 ==========\n",
    "\n",
    "def evaluate_accuracy(data_iter, net):\n",
    "    acc_sum, n = 0.0, 0\n",
    "    for X, y in data_iter:\n",
    "        acc_sum += (net(X).argmax(dim=1) == y).float().sum().item()\n",
    "        n += y.shape[0]\n",
    "    return acc_sum / n"
   ]
  },
  {
   "cell_type": "code",
   "execution_count": 8,
   "metadata": {
    "ExecuteTime": {
     "end_time": "2020-07-26T12:03:50.471808Z",
     "start_time": "2020-07-26T11:43:57.513069Z"
    },
    "code_folding": []
   },
   "outputs": [
    {
     "name": "stdout",
     "output_type": "stream",
     "text": [
      "epoch 1, loss 0.786462, train_acc 0.748117，test_acc 0.791700\n",
      "epoch 2, loss 0.570403, train_acc 0.813083，test_acc 0.806200\n",
      "epoch 3, loss 0.525627, train_acc 0.825833，test_acc 0.819100\n",
      "epoch 4, loss 0.501146, train_acc 0.832367，test_acc 0.825900\n",
      "epoch 5, loss 0.484698, train_acc 0.837300，test_acc 0.827400\n",
      "epoch 6, loss 0.474255, train_acc 0.840433，test_acc 0.829600\n",
      "epoch 7, loss 0.464468, train_acc 0.843367，test_acc 0.830600\n",
      "epoch 8, loss 0.457785, train_acc 0.844333，test_acc 0.832100\n",
      "epoch 9, loss 0.452462, train_acc 0.846867，test_acc 0.834700\n",
      "epoch 10, loss 0.446897, train_acc 0.848433，test_acc 0.830400\n",
      "epoch 11, loss 0.443142, train_acc 0.849000，test_acc 0.835500\n",
      "epoch 12, loss 0.439075, train_acc 0.849883，test_acc 0.834500\n",
      "epoch 13, loss 0.436695, train_acc 0.851600，test_acc 0.837700\n",
      "epoch 14, loss 0.432985, train_acc 0.853050，test_acc 0.836500\n",
      "epoch 15, loss 0.430836, train_acc 0.853300，test_acc 0.835900\n",
      "epoch 16, loss 0.429113, train_acc 0.852950，test_acc 0.838000\n",
      "epoch 17, loss 0.425445, train_acc 0.854250，test_acc 0.839800\n",
      "epoch 18, loss 0.423914, train_acc 0.855483，test_acc 0.840600\n",
      "epoch 19, loss 0.421737, train_acc 0.857133，test_acc 0.839400\n",
      "epoch 20, loss 0.421457, train_acc 0.855867，test_acc 0.839300\n",
      "epoch 21, loss 0.417928, train_acc 0.856750，test_acc 0.840600\n",
      "epoch 22, loss 0.417516, train_acc 0.857300，test_acc 0.841300\n",
      "epoch 23, loss 0.416571, train_acc 0.857500，test_acc 0.839300\n",
      "epoch 24, loss 0.414031, train_acc 0.858017，test_acc 0.840700\n",
      "epoch 25, loss 0.412646, train_acc 0.859750，test_acc 0.840000\n",
      "epoch 26, loss 0.411765, train_acc 0.859267，test_acc 0.839100\n",
      "epoch 27, loss 0.410932, train_acc 0.859600，test_acc 0.842000\n",
      "epoch 28, loss 0.409733, train_acc 0.860400，test_acc 0.840100\n",
      "epoch 29, loss 0.409325, train_acc 0.860133，test_acc 0.842100\n",
      "epoch 30, loss 0.407561, train_acc 0.860700，test_acc 0.841800\n",
      "epoch 31, loss 0.406146, train_acc 0.861117，test_acc 0.839500\n",
      "epoch 32, loss 0.406630, train_acc 0.861100，test_acc 0.841300\n",
      "epoch 33, loss 0.404424, train_acc 0.861767，test_acc 0.843600\n",
      "epoch 34, loss 0.404338, train_acc 0.861333，test_acc 0.843700\n",
      "epoch 35, loss 0.403507, train_acc 0.861617，test_acc 0.844200\n",
      "epoch 36, loss 0.402613, train_acc 0.862167，test_acc 0.843000\n",
      "epoch 37, loss 0.401559, train_acc 0.862917，test_acc 0.839900\n",
      "epoch 38, loss 0.401443, train_acc 0.862133，test_acc 0.841800\n",
      "epoch 39, loss 0.400708, train_acc 0.862800，test_acc 0.844300\n",
      "epoch 40, loss 0.400077, train_acc 0.863933，test_acc 0.843800\n",
      "epoch 41, loss 0.400132, train_acc 0.862667，test_acc 0.844400\n",
      "epoch 42, loss 0.398141, train_acc 0.862600，test_acc 0.842600\n",
      "epoch 43, loss 0.398717, train_acc 0.863200，test_acc 0.839300\n",
      "epoch 44, loss 0.398162, train_acc 0.863050，test_acc 0.843900\n",
      "epoch 45, loss 0.396727, train_acc 0.864150，test_acc 0.842500\n",
      "epoch 46, loss 0.396676, train_acc 0.863167，test_acc 0.844800\n",
      "epoch 47, loss 0.395034, train_acc 0.864150，test_acc 0.844400\n",
      "epoch 48, loss 0.395587, train_acc 0.864583，test_acc 0.845100\n",
      "epoch 49, loss 0.394765, train_acc 0.863667，test_acc 0.839800\n",
      "epoch 50, loss 0.394417, train_acc 0.864533，test_acc 0.843100\n",
      "epoch 51, loss 0.393823, train_acc 0.864433，test_acc 0.843000\n",
      "epoch 52, loss 0.394034, train_acc 0.864467，test_acc 0.842700\n",
      "epoch 53, loss 0.392939, train_acc 0.863950，test_acc 0.842600\n",
      "epoch 54, loss 0.392924, train_acc 0.864883，test_acc 0.845000\n",
      "epoch 55, loss 0.392926, train_acc 0.863650，test_acc 0.845300\n",
      "epoch 56, loss 0.391744, train_acc 0.864867，test_acc 0.844700\n",
      "epoch 57, loss 0.391599, train_acc 0.865050，test_acc 0.845200\n",
      "epoch 58, loss 0.391053, train_acc 0.864617，test_acc 0.843300\n",
      "epoch 59, loss 0.390387, train_acc 0.864983，test_acc 0.845100\n",
      "epoch 60, loss 0.390730, train_acc 0.864833，test_acc 0.844700\n",
      "epoch 61, loss 0.390091, train_acc 0.865100，test_acc 0.843400\n",
      "epoch 62, loss 0.390189, train_acc 0.865150，test_acc 0.846200\n",
      "epoch 63, loss 0.389320, train_acc 0.866167，test_acc 0.842200\n",
      "epoch 64, loss 0.389006, train_acc 0.865383，test_acc 0.844000\n",
      "epoch 65, loss 0.388798, train_acc 0.866400，test_acc 0.839600\n",
      "epoch 66, loss 0.387951, train_acc 0.866000，test_acc 0.843700\n",
      "epoch 67, loss 0.387539, train_acc 0.865917，test_acc 0.844300\n",
      "epoch 68, loss 0.387327, train_acc 0.866267，test_acc 0.845200\n",
      "epoch 69, loss 0.387341, train_acc 0.865967，test_acc 0.842900\n",
      "epoch 70, loss 0.386698, train_acc 0.866317，test_acc 0.844200\n",
      "epoch 71, loss 0.386532, train_acc 0.865850，test_acc 0.844200\n",
      "epoch 72, loss 0.386285, train_acc 0.866400，test_acc 0.843600\n",
      "epoch 73, loss 0.385407, train_acc 0.866783，test_acc 0.845000\n",
      "epoch 74, loss 0.385647, train_acc 0.866850，test_acc 0.843800\n",
      "epoch 75, loss 0.385779, train_acc 0.867333，test_acc 0.843700\n",
      "epoch 76, loss 0.384363, train_acc 0.866533，test_acc 0.843400\n",
      "epoch 77, loss 0.385432, train_acc 0.866617，test_acc 0.846100\n",
      "epoch 78, loss 0.384956, train_acc 0.867050，test_acc 0.846500\n",
      "epoch 79, loss 0.384298, train_acc 0.866717，test_acc 0.844300\n",
      "epoch 80, loss 0.384613, train_acc 0.866817，test_acc 0.840200\n",
      "epoch 81, loss 0.383667, train_acc 0.867533，test_acc 0.843700\n",
      "epoch 82, loss 0.382968, train_acc 0.867233，test_acc 0.845400\n",
      "epoch 83, loss 0.383047, train_acc 0.867533，test_acc 0.846300\n",
      "epoch 84, loss 0.382581, train_acc 0.867617，test_acc 0.842300\n",
      "epoch 85, loss 0.382902, train_acc 0.867900，test_acc 0.845900\n",
      "epoch 86, loss 0.382585, train_acc 0.867333，test_acc 0.844800\n",
      "epoch 87, loss 0.382326, train_acc 0.867450，test_acc 0.843800\n",
      "epoch 88, loss 0.382161, train_acc 0.867900，test_acc 0.846400\n",
      "epoch 89, loss 0.381425, train_acc 0.868233，test_acc 0.844900\n",
      "epoch 90, loss 0.381287, train_acc 0.868483，test_acc 0.844300\n",
      "epoch 91, loss 0.381696, train_acc 0.868183，test_acc 0.842800\n",
      "epoch 92, loss 0.380893, train_acc 0.868667，test_acc 0.845700\n",
      "epoch 93, loss 0.381879, train_acc 0.867467，test_acc 0.842700\n",
      "epoch 94, loss 0.380751, train_acc 0.867767，test_acc 0.845600\n",
      "epoch 95, loss 0.380881, train_acc 0.868150，test_acc 0.844700\n",
      "epoch 96, loss 0.380552, train_acc 0.868333，test_acc 0.845200\n",
      "epoch 97, loss 0.379595, train_acc 0.868133，test_acc 0.842400\n",
      "epoch 98, loss 0.379747, train_acc 0.869017，test_acc 0.846400\n",
      "epoch 99, loss 0.379853, train_acc 0.868150，test_acc 0.843100\n",
      "epoch 100, loss 0.379276, train_acc 0.869183，test_acc 0.844200\n"
     ]
    }
   ],
   "source": [
    "# ========== 训练模型 ==========\n",
    "\n",
    "#设置学习率和迭代次数\n",
    "lr = 0.1\n",
    "num_epochs = 100\n",
    "\n",
    "loss_epoch = []\n",
    "train_acc_epoch = []\n",
    "test_acc_epoch = []\n",
    "\n",
    "for epoch in range(num_epochs):\n",
    "    train_l_sum, train_acc_sum, n = 0.0, 0.0, 0\n",
    "    for X, y in train_iter:\n",
    "        y_hat = net(X)\n",
    "        loss = CrossEntropy_Loss(y_hat,y).sum()\n",
    "        loss.backward()\n",
    "        W.data = W.data - lr * W.grad.data / batch_size #更新W\n",
    "        W.grad.data.zero_()\n",
    "        b.data = b.data - lr * b.grad.data / batch_size #更新b\n",
    "        b.grad.data.zero_()\n",
    "\n",
    "        train_l_sum += loss.item()\n",
    "        train_acc_sum += (y_hat.argmax(dim=1) == y).sum().item()\n",
    "        n += y.shape[0]\n",
    "        \n",
    "    test_acc = evaluate_accuracy(test_iter, net)\n",
    "    loss_epoch.append(train_l_sum/n)\n",
    "    train_acc_epoch.append(train_acc_sum/n)\n",
    "    test_acc_epoch.append(test_acc)\n",
    "    print('epoch %d, loss %f, train_acc %f，test_acc %f'% (epoch + 1, train_l_sum/n, train_acc_sum/n, test_acc))        "
   ]
  },
  {
   "cell_type": "code",
   "execution_count": 11,
   "metadata": {
    "ExecuteTime": {
     "end_time": "2020-07-26T12:04:42.826810Z",
     "start_time": "2020-07-26T12:04:42.525794Z"
    }
   },
   "outputs": [
    {
     "data": {
      "image/png": "[encoded data removed]",
      "text/plain": [
       "<Figure size 432x288 with 1 Axes>"
      ]
     },
     "metadata": {},
     "output_type": "display_data"
    }
   ],
   "source": [
    "# ========== 损失函数可视化 ==========\n",
    "\n",
    "plt.plot(loss_epoch)\n",
    "plt.ylabel(\"loss\")\n",
    "plt.xlabel(\"epoch\")\n",
    "plt.title('Loss')\n",
    "plt.show()"
   ]
  },
  {
   "cell_type": "code",
   "execution_count": 12,
   "metadata": {
    "ExecuteTime": {
     "end_time": "2020-07-26T12:04:46.506179Z",
     "start_time": "2020-07-26T12:04:46.321675Z"
    }
   },
   "outputs": [
    {
     "data": {
      "image/png": "[encoded data removed]",
      "text/plain": [
       "<Figure size 432x288 with 1 Axes>"
      ]
     },
     "metadata": {},
     "output_type": "display_data"
    }
   ],
   "source": [
    "# ========== 训练集准确率可视化 ==========\n",
    "\n",
    "plt.plot(train_acc_epoch)\n",
    "plt.ylabel(\"train_acc\")\n",
    "plt.xlabel(\"epoch\")\n",
    "plt.title('Train Accuracy Rate')\n",
    "plt.show()"
   ]
  },
  {
   "cell_type": "code",
   "execution_count": 13,
   "metadata": {
    "ExecuteTime": {
     "end_time": "2020-07-26T12:04:51.465311Z",
     "start_time": "2020-07-26T12:04:51.194285Z"
    }
   },
   "outputs": [
    {
     "data": {
      "image/png": "[encoded data removed]",
      "text/plain": [
       "<Figure size 432x288 with 1 Axes>"
      ]
     },
     "metadata": {},
     "output_type": "display_data"
    }
   ],
   "source": [
    "# ========== 测试集准确率可视化 ==========\n",
    "\n",
    "plt.plot(test_acc_epoch)\n",
    "plt.ylabel(\"test_acc\")\n",
    "plt.xlabel(\"epoch\")\n",
    "plt.title('Test Accuracy Rate')\n",
    "plt.show()"
   ]
  },
  {
   "cell_type": "code",
   "execution_count": null,
   "metadata": {},
   "outputs": [],
   "source": []
  }
 ],
 "metadata": {
  "kernelspec": {
   "display_name": "Python [conda env:Pytorch_envs]",
   "language": "python",
   "name": "conda-env-Pytorch_envs-py"
  },
  "language_info": {
   "codemirror_mode": {
    "name": "ipython",
    "version": 3
   },
   "file_extension": ".py",
   "mimetype": "text/x-python",
   "name": "python",
   "nbconvert_exporter": "python",
   "pygments_lexer": "ipython3",
   "version": "3.6.10"
  },
  "toc": {
   "base_numbering": 1,
   "nav_menu": {},
   "number_sections": true,
   "sideBar": true,
   "skip_h1_title": false,
   "title_cell": "Table of Contents",
   "title_sidebar": "Contents",
   "toc_cell": false,
   "toc_position": {},
   "toc_section_display": true,
   "toc_window_display": false
  },
  "varInspector": {
   "cols": {
    "lenName": 16,
    "lenType": 16,
    "lenVar": 40
   },
   "kernels_config": {
    "python": {
     "delete_cmd_postfix": "",
     "delete_cmd_prefix": "del ",
     "library": "var_list.py",
     "varRefreshCmd": "print(var_dic_list())"
    },
    "r": {
     "delete_cmd_postfix": ") ",
     "delete_cmd_prefix": "rm(",
     "library": "var_list.r",
     "varRefreshCmd": "cat(var_dic_list()) "
    }
   },
   "types_to_exclude": [
    "module",
    "function",
    "builtin_function_or_method",
    "instance",
    "_Feature"
   ],
   "window_display": false
  }
 },
 "nbformat": 4,
 "nbformat_minor": 2
}
