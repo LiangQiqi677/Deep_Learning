{
 "cells": [
  {
   "cell_type": "code",
   "execution_count": 5,
   "metadata": {
    "ExecuteTime": {
     "end_time": "2020-08-05T10:20:42.641046Z",
     "start_time": "2020-08-05T10:20:42.634063Z"
    }
   },
   "outputs": [],
   "source": [
    "import torch\n",
    "import numpy as np\n",
    "from torch.utils import data\n",
    "from torch.nn import init\n",
    "from matplotlib import pyplot as plt\n",
    "import torch.optim as optim\n",
    "import torchvision\n",
    "import torchvision.transforms as transforms"
   ]
  },
  {
   "cell_type": "code",
   "execution_count": 2,
   "metadata": {
    "ExecuteTime": {
     "end_time": "2020-08-05T10:18:22.045251Z",
     "start_time": "2020-08-05T10:18:21.987406Z"
    }
   },
   "outputs": [],
   "source": [
    "mnist_train = torchvision.datasets.FashionMNIST(root='~/Datasets/FashionMNIST', train=True,\n",
    "download=True, transform=transforms.ToTensor())\n",
    "mnist_test = torchvision.datasets.FashionMNIST(root='~/Datasets/FashionMNIST', train=False,\n",
    "download=True, transform=transforms.ToTensor())"
   ]
  },
  {
   "cell_type": "code",
   "execution_count": 10,
   "metadata": {
    "ExecuteTime": {
     "end_time": "2020-08-05T10:32:46.072435Z",
     "start_time": "2020-08-05T10:32:45.977664Z"
    }
   },
   "outputs": [],
   "source": [
    "#定义模型参数\n",
    "num_inputs, num_outputs, num_hiddens = 784, 10, 256\n",
    "\n",
    "class Classification(torch.nn.Module):\n",
    "    def __init__(self):\n",
    "        super(Classification, self).__init__()\n",
    "        self.hidden = torch.nn.Linear(num_inputs, num_hiddens) #定义隐藏层函数\n",
    "        self.relu = torch.nn.ReLU()                       #定义隐藏层激活函数\n",
    "        self.output = torch.nn.Linear(num_hiddens, num_outputs)#定义输出层函数\n",
    "\n",
    "    def forward(self, x):\n",
    "        x = self.hidden(x)\n",
    "        x = self.relu(x)\n",
    "        x = self.output(x)\n",
    "        return x\n",
    "        \n",
    "net = Classification()\n",
    "\n",
    "#初始化模型参数\n",
    "init.normal_(net.hidden.weight, mean=0, std=0.01)\n",
    "init.normal_(net.output.weight, mean=0, std=0.01)\n",
    "init.constant_(net.hidden.bias, val=0)\n",
    "init.constant_(net.output.bias, val=0)\n",
    "\n",
    "#定义计算测试集损失函数\n",
    "def evaluate_loss(data_iter, net):\n",
    "    l, n = 0.0, 0\n",
    "    for X, y in data_iter:\n",
    "        X = X.view((-1, num_inputs)) \n",
    "        l += loss(net(X),y).sum().item()\n",
    "        n += y.shape[0]\n",
    "    return l / n"
   ]
  },
  {
   "cell_type": "code",
   "execution_count": 12,
   "metadata": {
    "ExecuteTime": {
     "end_time": "2020-08-05T10:40:07.209930Z",
     "start_time": "2020-08-05T10:35:25.671615Z"
    }
   },
   "outputs": [
    {
     "name": "stdout",
     "output_type": "stream",
     "text": [
      "epoch 1, loss_train 0.008354, loss_test 0.007332 \n",
      "epoch 2, loss_train 0.005859, loss_test 0.004992 \n",
      "epoch 3, loss_train 0.004313, loss_test 0.004004 \n",
      "epoch 4, loss_train 0.003624, loss_test 0.003524 \n",
      "epoch 5, loss_train 0.003261, loss_test 0.003242 \n",
      "epoch 6, loss_train 0.003032, loss_test 0.003052 \n",
      "epoch 7, loss_train 0.002864, loss_test 0.002902 \n",
      "epoch 8, loss_train 0.002727, loss_test 0.002778 \n",
      "epoch 9, loss_train 0.002614, loss_test 0.002672 \n",
      "epoch 10, loss_train 0.002515, loss_test 0.002584 \n",
      "epoch 11, loss_train 0.002431, loss_test 0.002501 \n",
      "epoch 12, loss_train 0.002355, loss_test 0.002433 \n",
      "epoch 13, loss_train 0.002291, loss_test 0.002379 \n",
      "epoch 14, loss_train 0.002237, loss_test 0.002324 \n",
      "epoch 15, loss_train 0.002188, loss_test 0.002283 \n",
      "epoch 16, loss_train 0.002144, loss_test 0.002240 \n",
      "epoch 17, loss_train 0.002105, loss_test 0.002214 \n",
      "epoch 18, loss_train 0.002072, loss_test 0.002186 \n",
      "epoch 19, loss_train 0.002044, loss_test 0.002170 \n",
      "epoch 20, loss_train 0.002015, loss_test 0.002126 \n"
     ]
    }
   ],
   "source": [
    "#定义训练参数\n",
    "batch_size, num_epochs, lr = 256, 20, 0.01\n",
    "\n",
    "#定义损失函数和优化器\n",
    "loss = torch.nn.CrossEntropyLoss()\n",
    "optimizer = optim.SGD(net.parameters(), lr)\n",
    "\n",
    "#划分数据集\n",
    "train_iter = torch.utils.data.DataLoader(mnist_train, batch_size=batch_size, shuffle=True,num_workers=0)\n",
    "test_iter = torch.utils.data.DataLoader(mnist_test, batch_size=batch_size, shuffle=False,num_workers=0)\n",
    "\n",
    "#训练模型\n",
    "loss_train = []\n",
    "loss_test = []\n",
    "for epoch in range(num_epochs):\n",
    "    train_l_sum, test_l_sum, n = 0.0, 0.0, 0\n",
    "    for X, y in train_iter:\n",
    "        X = X.view((-1, num_inputs)) \n",
    "        l = loss(net(X),y).sum()  \n",
    "        optimizer.zero_grad()\n",
    "        l.backward()       #计算损失     \n",
    "        optimizer.step()   #更新梯度\n",
    "        train_l_sum += l.item()\n",
    "        n += y.shape[0]\n",
    "    loss_train.append(train_l_sum/n)\n",
    "    loss_test.append(evaluate_loss(test_iter,net))\n",
    "    print('epoch %d, loss_train %f, loss_test %f '% (epoch+1, loss_train[epoch], loss_test[epoch]))"
   ]
  },
  {
   "cell_type": "code",
   "execution_count": 13,
   "metadata": {
    "ExecuteTime": {
     "end_time": "2020-08-05T10:40:26.565902Z",
     "start_time": "2020-08-05T10:40:26.244790Z"
    }
   },
   "outputs": [
    {
     "data": {
      "image/png": "[encoded data removed]",
      "text/plain": [
       "<Figure size 720x504 with 1 Axes>"
      ]
     },
     "metadata": {},
     "output_type": "display_data"
    }
   ],
   "source": [
    "plt.figure(figsize=(10,7))\n",
    "plt.plot(loss_train,label='train',color='royalblue')\n",
    "plt.plot(loss_test,label='test',linestyle=':', color='orange')\n",
    "plt.ylabel(\"loss\")\n",
    "plt.xlabel(\"epoch\")\n",
    "plt.legend()\n",
    "plt.show()"
   ]
  },
  {
   "cell_type": "code",
   "execution_count": null,
   "metadata": {},
   "outputs": [],
   "source": []
  }
 ],
 "metadata": {
  "kernelspec": {
   "display_name": "Python [conda env:Pytorch_envs]",
   "language": "python",
   "name": "conda-env-Pytorch_envs-py"
  },
  "language_info": {
   "codemirror_mode": {
    "name": "ipython",
    "version": 3
   },
   "file_extension": ".py",
   "mimetype": "text/x-python",
   "name": "python",
   "nbconvert_exporter": "python",
   "pygments_lexer": "ipython3",
   "version": "3.6.10"
  },
  "toc": {
   "base_numbering": 1,
   "nav_menu": {},
   "number_sections": true,
   "sideBar": true,
   "skip_h1_title": false,
   "title_cell": "Table of Contents",
   "title_sidebar": "Contents",
   "toc_cell": false,
   "toc_position": {},
   "toc_section_display": true,
   "toc_window_display": false
  },
  "varInspector": {
   "cols": {
    "lenName": 16,
    "lenType": 16,
    "lenVar": 40
   },
   "kernels_config": {
    "python": {
     "delete_cmd_postfix": "",
     "delete_cmd_prefix": "del ",
     "library": "var_list.py",
     "varRefreshCmd": "print(var_dic_list())"
    },
    "r": {
     "delete_cmd_postfix": ") ",
     "delete_cmd_prefix": "rm(",
     "library": "var_list.r",
     "varRefreshCmd": "cat(var_dic_list()) "
    }
   },
   "types_to_exclude": [
    "module",
    "function",
    "builtin_function_or_method",
    "instance",
    "_Feature"
   ],
   "window_display": false
  }
 },
 "nbformat": 4,
 "nbformat_minor": 2
}
