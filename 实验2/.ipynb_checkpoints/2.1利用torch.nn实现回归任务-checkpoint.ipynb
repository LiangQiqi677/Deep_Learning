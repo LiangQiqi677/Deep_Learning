{
 "cells": [
  {
   "cell_type": "code",
   "execution_count": 1,
   "metadata": {
    "ExecuteTime": {
     "end_time": "2020-08-04T15:09:44.698444Z",
     "start_time": "2020-08-04T15:09:43.242651Z"
    }
   },
   "outputs": [],
   "source": [
    "import torch\n",
    "import numpy as np\n",
    "from torch.utils import data\n",
    "from torch.nn import init\n",
    "from matplotlib import pyplot as plt\n",
    "import torch.optim as optim"
   ]
  },
  {
   "cell_type": "code",
   "execution_count": 2,
   "metadata": {
    "ExecuteTime": {
     "end_time": "2020-08-04T15:09:47.370087Z",
     "start_time": "2020-08-04T15:09:47.245898Z"
    }
   },
   "outputs": [
    {
     "name": "stdout",
     "output_type": "stream",
     "text": [
      "torch.Size([7000, 500])\n",
      "torch.Size([3000, 500])\n",
      "torch.Size([7000, 1])\n",
      "torch.Size([3000, 1])\n"
     ]
    }
   ],
   "source": [
    "#训练集7000，测试集3000（加起来为数据集大小10000）\n",
    "n_train, n_test  = 7000, 3000\n",
    "\n",
    "#定义模型参数\n",
    "num_inputs = 500\n",
    "\n",
    "#高维线性函数：y = 0.028+Σ0.0056x+ϵ   true_w[500,1]\n",
    "true_w, true_b = torch.ones(num_inputs,1)*0.0056, 0.028\n",
    "\n",
    "features = torch.randn((n_train+n_test),num_inputs)\n",
    "labels = torch.matmul(features, true_w) + true_b  #y = 0.028+Σ0.0056x  [7000,500]*[500,1]=[7000,1]\n",
    "labels += torch.tensor(np.random.normal(0, 0.01, size=labels.size()),dtype=torch.float) #加上噪声项ϵ\n",
    "\n",
    "#分出训练集样本、测试集样本、训练集标签、测试集标签\n",
    "train_features, test_features = features[:n_train, :], features[n_train:, :]\n",
    "train_labels, test_labels = labels[:n_train, :], labels[n_train:, :]\n",
    "\n",
    "print(train_features.shape)\n",
    "print(test_features.shape)\n",
    "print(train_labels.shape)\n",
    "print(test_labels.shape)"
   ]
  },
  {
   "cell_type": "code",
   "execution_count": 5,
   "metadata": {
    "ExecuteTime": {
     "end_time": "2020-08-04T15:10:51.049035Z",
     "start_time": "2020-08-04T15:10:51.019167Z"
    }
   },
   "outputs": [
    {
     "data": {
      "text/plain": [
       "Parameter containing:\n",
       "tensor([0.], requires_grad=True)"
      ]
     },
     "execution_count": 5,
     "metadata": {},
     "output_type": "execute_result"
    }
   ],
   "source": [
    "class LinearNet(torch.nn.Module):\n",
    "    def __init__(self, n_feature):\n",
    "        super(LinearNet, self).__init__()\n",
    "        self.linear = torch.nn.Linear(n_feature, 1)\n",
    "        \n",
    "# forward 定义前向传播\n",
    "    def forward(self, x):\n",
    "        y = self.linear(x)\n",
    "        return y\n",
    "\n",
    "#初始化模型参数\n",
    "net = LinearNet(num_inputs) #样本维度\n",
    "init.normal_(net.linear.weight, mean=0, std=0.01)\n",
    "init.constant_(net.linear.bias, val=0) #也可以直接修改bias的data：net[0].bias.data.fill_(0)"
   ]
  },
  {
   "cell_type": "code",
   "execution_count": 7,
   "metadata": {
    "ExecuteTime": {
     "end_time": "2020-08-04T15:12:13.434184Z",
     "start_time": "2020-08-04T15:11:45.483995Z"
    }
   },
   "outputs": [
    {
     "name": "stdout",
     "output_type": "stream",
     "text": [
      "epoch 1, loss_train 0.017348, loss_test 0.018670 \n",
      "epoch 2, loss_train 0.009129, loss_test 0.010252 \n",
      "epoch 3, loss_train 0.004974, loss_test 0.005797 \n",
      "epoch 4, loss_train 0.002799, loss_test 0.003368 \n",
      "epoch 5, loss_train 0.001628, loss_test 0.002012 \n",
      "epoch 6, loss_train 0.000983, loss_test 0.001239 \n",
      "epoch 7, loss_train 0.000618, loss_test 0.000789 \n",
      "epoch 8, loss_train 0.000408, loss_test 0.000523 \n",
      "epoch 9, loss_train 0.000284, loss_test 0.000364 \n",
      "epoch 10, loss_train 0.000211, loss_test 0.000267 \n",
      "epoch 11, loss_train 0.000166, loss_test 0.000207 \n",
      "epoch 12, loss_train 0.000139, loss_test 0.000171 \n",
      "epoch 13, loss_train 0.000122, loss_test 0.000148 \n",
      "epoch 14, loss_train 0.000111, loss_test 0.000133 \n",
      "epoch 15, loss_train 0.000105, loss_test 0.000124 \n",
      "epoch 16, loss_train 0.000101, loss_test 0.000119 \n",
      "epoch 17, loss_train 0.000098, loss_test 0.000115 \n",
      "epoch 18, loss_train 0.000096, loss_test 0.000112 \n",
      "epoch 19, loss_train 0.000095, loss_test 0.000111 \n",
      "epoch 20, loss_train 0.000094, loss_test 0.000110 \n",
      "epoch 21, loss_train 0.000094, loss_test 0.000110 \n",
      "epoch 22, loss_train 0.000094, loss_test 0.000109 \n",
      "epoch 23, loss_train 0.000094, loss_test 0.000109 \n",
      "epoch 24, loss_train 0.000093, loss_test 0.000109 \n",
      "epoch 25, loss_train 0.000093, loss_test 0.000109 \n",
      "epoch 26, loss_train 0.000093, loss_test 0.000109 \n",
      "epoch 27, loss_train 0.000093, loss_test 0.000109 \n",
      "epoch 28, loss_train 0.000093, loss_test 0.000109 \n",
      "epoch 29, loss_train 0.000093, loss_test 0.000109 \n",
      "epoch 30, loss_train 0.000093, loss_test 0.000108 \n",
      "epoch 31, loss_train 0.000093, loss_test 0.000108 \n",
      "epoch 32, loss_train 0.000093, loss_test 0.000109 \n",
      "epoch 33, loss_train 0.000093, loss_test 0.000109 \n",
      "epoch 34, loss_train 0.000093, loss_test 0.000109 \n",
      "epoch 35, loss_train 0.000093, loss_test 0.000109 \n",
      "epoch 36, loss_train 0.000093, loss_test 0.000109 \n",
      "epoch 37, loss_train 0.000093, loss_test 0.000109 \n",
      "epoch 38, loss_train 0.000093, loss_test 0.000109 \n",
      "epoch 39, loss_train 0.000093, loss_test 0.000109 \n",
      "epoch 40, loss_train 0.000093, loss_test 0.000109 \n",
      "epoch 41, loss_train 0.000093, loss_test 0.000109 \n",
      "epoch 42, loss_train 0.000093, loss_test 0.000109 \n",
      "epoch 43, loss_train 0.000093, loss_test 0.000108 \n",
      "epoch 44, loss_train 0.000093, loss_test 0.000108 \n",
      "epoch 45, loss_train 0.000093, loss_test 0.000108 \n",
      "epoch 46, loss_train 0.000093, loss_test 0.000109 \n",
      "epoch 47, loss_train 0.000093, loss_test 0.000109 \n",
      "epoch 48, loss_train 0.000093, loss_test 0.000109 \n",
      "epoch 49, loss_train 0.000093, loss_test 0.000109 \n",
      "epoch 50, loss_train 0.000093, loss_test 0.000109 \n",
      "epoch 51, loss_train 0.000093, loss_test 0.000109 \n",
      "epoch 52, loss_train 0.000093, loss_test 0.000109 \n",
      "epoch 53, loss_train 0.000093, loss_test 0.000109 \n",
      "epoch 54, loss_train 0.000093, loss_test 0.000109 \n",
      "epoch 55, loss_train 0.000093, loss_test 0.000109 \n",
      "epoch 56, loss_train 0.000093, loss_test 0.000109 \n",
      "epoch 57, loss_train 0.000093, loss_test 0.000109 \n",
      "epoch 58, loss_train 0.000093, loss_test 0.000109 \n",
      "epoch 59, loss_train 0.000093, loss_test 0.000109 \n",
      "epoch 60, loss_train 0.000093, loss_test 0.000109 \n",
      "epoch 61, loss_train 0.000093, loss_test 0.000108 \n",
      "epoch 62, loss_train 0.000093, loss_test 0.000109 \n",
      "epoch 63, loss_train 0.000093, loss_test 0.000109 \n",
      "epoch 64, loss_train 0.000093, loss_test 0.000109 \n",
      "epoch 65, loss_train 0.000093, loss_test 0.000109 \n",
      "epoch 66, loss_train 0.000093, loss_test 0.000109 \n",
      "epoch 67, loss_train 0.000093, loss_test 0.000109 \n",
      "epoch 68, loss_train 0.000093, loss_test 0.000109 \n",
      "epoch 69, loss_train 0.000093, loss_test 0.000109 \n",
      "epoch 70, loss_train 0.000093, loss_test 0.000109 \n",
      "epoch 71, loss_train 0.000093, loss_test 0.000109 \n",
      "epoch 72, loss_train 0.000093, loss_test 0.000109 \n",
      "epoch 73, loss_train 0.000093, loss_test 0.000109 \n",
      "epoch 74, loss_train 0.000093, loss_test 0.000108 \n",
      "epoch 75, loss_train 0.000093, loss_test 0.000109 \n",
      "epoch 76, loss_train 0.000093, loss_test 0.000109 \n",
      "epoch 77, loss_train 0.000093, loss_test 0.000109 \n",
      "epoch 78, loss_train 0.000093, loss_test 0.000109 \n",
      "epoch 79, loss_train 0.000093, loss_test 0.000109 \n",
      "epoch 80, loss_train 0.000093, loss_test 0.000109 \n",
      "epoch 81, loss_train 0.000093, loss_test 0.000109 \n",
      "epoch 82, loss_train 0.000093, loss_test 0.000109 \n",
      "epoch 83, loss_train 0.000093, loss_test 0.000109 \n",
      "epoch 84, loss_train 0.000093, loss_test 0.000109 \n",
      "epoch 85, loss_train 0.000093, loss_test 0.000109 \n",
      "epoch 86, loss_train 0.000093, loss_test 0.000109 \n",
      "epoch 87, loss_train 0.000093, loss_test 0.000109 \n",
      "epoch 88, loss_train 0.000093, loss_test 0.000109 \n",
      "epoch 89, loss_train 0.000093, loss_test 0.000109 \n",
      "epoch 90, loss_train 0.000093, loss_test 0.000109 \n",
      "epoch 91, loss_train 0.000093, loss_test 0.000109 \n",
      "epoch 92, loss_train 0.000093, loss_test 0.000109 \n",
      "epoch 93, loss_train 0.000093, loss_test 0.000109 \n",
      "epoch 94, loss_train 0.000093, loss_test 0.000109 \n",
      "epoch 95, loss_train 0.000093, loss_test 0.000109 \n",
      "epoch 96, loss_train 0.000093, loss_test 0.000109 \n",
      "epoch 97, loss_train 0.000093, loss_test 0.000109 \n",
      "epoch 98, loss_train 0.000093, loss_test 0.000109 \n",
      "epoch 99, loss_train 0.000093, loss_test 0.000109 \n",
      "epoch 100, loss_train 0.000093, loss_test 0.000109 \n"
     ]
    }
   ],
   "source": [
    "#定义训练参数\n",
    "batch_size, num_epochs, lr = 128, 100, 0.003\n",
    "\n",
    "#定义损失函数和优化器\n",
    "loss = torch.nn.MSELoss()\n",
    "optimizer = optim.SGD(net.parameters(), lr)\n",
    "\n",
    "#划分数据集\n",
    "dataset = torch.utils.data.TensorDataset(train_features,train_labels)\n",
    "train_iter = torch.utils.data.DataLoader(dataset, batch_size, shuffle=True)\n",
    "\n",
    "#训练模型\n",
    "loss_train = []\n",
    "loss_test = []\n",
    "for epoch in range(num_epochs):\n",
    "    for X, y in train_iter:\n",
    "        y_hat = net(X)\n",
    "        l = loss(y_hat,y).sum() \n",
    "        optimizer.zero_grad()\n",
    "        l.backward()       #计算损失     \n",
    "        optimizer.step() #更新梯度\n",
    "    loss_train.append(loss(net(train_features),train_labels).mean().item()) #训练集损失\n",
    "    loss_test.append(loss(net(test_features),test_labels).mean().item())    #测试集损失\n",
    "    print('epoch %d, loss_train %f, loss_test %f '% (epoch+1, loss_train[epoch], loss_test[epoch]))"
   ]
  },
  {
   "cell_type": "code",
   "execution_count": 8,
   "metadata": {
    "ExecuteTime": {
     "end_time": "2020-08-04T15:12:20.039402Z",
     "start_time": "2020-08-04T15:12:19.667912Z"
    }
   },
   "outputs": [
    {
     "data": {
      "image/png": "[encoded data removed]",
      "text/plain": [
       "<Figure size 720x504 with 1 Axes>"
      ]
     },
     "metadata": {},
     "output_type": "display_data"
    }
   ],
   "source": [
    "plt.figure(figsize=(10,7))\n",
    "plt.plot(loss_train,label='train',color='royalblue')\n",
    "plt.plot(loss_test,label='test',linestyle=':', color='orange')\n",
    "plt.ylabel(\"loss\")\n",
    "plt.xlabel(\"epoch\")\n",
    "plt.legend()\n",
    "plt.show()"
   ]
  },
  {
   "cell_type": "code",
   "execution_count": 12,
   "metadata": {
    "ExecuteTime": {
     "end_time": "2020-08-04T15:15:29.917560Z",
     "start_time": "2020-08-04T15:15:29.906948Z"
    }
   },
   "outputs": [
    {
     "name": "stdout",
     "output_type": "stream",
     "text": [
      "tensor(0.0056, grad_fn=<MeanBackward0>)\n",
      "Parameter containing:\n",
      "tensor([0.0279], requires_grad=True)\n"
     ]
    }
   ],
   "source": [
    "print(net.linear.weight.mean())\n",
    "print(net.linear.bias)"
   ]
  },
  {
   "cell_type": "code",
   "execution_count": null,
   "metadata": {},
   "outputs": [],
   "source": []
  }
 ],
 "metadata": {
  "kernelspec": {
   "display_name": "Python [conda env:Pytorch_envs]",
   "language": "python",
   "name": "conda-env-Pytorch_envs-py"
  },
  "language_info": {
   "codemirror_mode": {
    "name": "ipython",
    "version": 3
   },
   "file_extension": ".py",
   "mimetype": "text/x-python",
   "name": "python",
   "nbconvert_exporter": "python",
   "pygments_lexer": "ipython3",
   "version": "3.6.10"
  },
  "toc": {
   "base_numbering": 1,
   "nav_menu": {},
   "number_sections": true,
   "sideBar": true,
   "skip_h1_title": false,
   "title_cell": "Table of Contents",
   "title_sidebar": "Contents",
   "toc_cell": false,
   "toc_position": {},
   "toc_section_display": true,
   "toc_window_display": false
  },
  "varInspector": {
   "cols": {
    "lenName": 16,
    "lenType": 16,
    "lenVar": 40
   },
   "kernels_config": {
    "python": {
     "delete_cmd_postfix": "",
     "delete_cmd_prefix": "del ",
     "library": "var_list.py",
     "varRefreshCmd": "print(var_dic_list())"
    },
    "r": {
     "delete_cmd_postfix": ") ",
     "delete_cmd_prefix": "rm(",
     "library": "var_list.r",
     "varRefreshCmd": "cat(var_dic_list()) "
    }
   },
   "types_to_exclude": [
    "module",
    "function",
    "builtin_function_or_method",
    "instance",
    "_Feature"
   ],
   "window_display": false
  }
 },
 "nbformat": 4,
 "nbformat_minor": 2
}
