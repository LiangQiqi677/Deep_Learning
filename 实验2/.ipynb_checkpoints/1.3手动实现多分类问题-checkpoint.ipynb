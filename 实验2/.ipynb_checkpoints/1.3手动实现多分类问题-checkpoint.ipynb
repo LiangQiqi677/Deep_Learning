{
 "cells": [
  {
   "cell_type": "code",
   "execution_count": 1,
   "metadata": {
    "ExecuteTime": {
     "end_time": "2020-08-05T09:54:37.742315Z",
     "start_time": "2020-08-05T09:54:35.034659Z"
    }
   },
   "outputs": [],
   "source": [
    "import torch\n",
    "import torchvision\n",
    "import torchvision.transforms as transforms\n",
    "import matplotlib.pyplot as plt"
   ]
  },
  {
   "cell_type": "code",
   "execution_count": 2,
   "metadata": {
    "ExecuteTime": {
     "end_time": "2020-08-05T09:54:39.983677Z",
     "start_time": "2020-08-05T09:54:39.914860Z"
    }
   },
   "outputs": [],
   "source": [
    "mnist_train = torchvision.datasets.FashionMNIST(root='~/Datasets/FashionMNIST', train=True,\n",
    "download=True, transform=transforms.ToTensor())\n",
    "mnist_test = torchvision.datasets.FashionMNIST(root='~/Datasets/FashionMNIST', train=False,\n",
    "download=True, transform=transforms.ToTensor())"
   ]
  },
  {
   "cell_type": "code",
   "execution_count": 3,
   "metadata": {
    "ExecuteTime": {
     "end_time": "2020-08-05T09:54:40.991670Z",
     "start_time": "2020-08-05T09:54:40.946805Z"
    }
   },
   "outputs": [],
   "source": [
    "#定义模型参数\n",
    "num_inputs, num_outputs, num_hiddens = 784, 10, 256\n",
    "\n",
    "#定义随机初始化模型参数的函数\n",
    "W1 = torch.tensor(np.random.normal(0, 0.01, (num_hiddens, num_inputs)), dtype=torch.float, requires_grad=True)\n",
    "b1 = torch.zeros(num_hiddens, dtype=torch.float, requires_grad=True)\n",
    "W2 = torch.tensor(np.random.normal(0, 0.01, (num_outputs, num_hiddens)), dtype=torch.float, requires_grad=True)\n",
    "b2 = torch.zeros(num_outputs, dtype=torch.float, requires_grad=True)\n",
    "params = [W1, b1, W2, b2]"
   ]
  },
  {
   "cell_type": "code",
   "execution_count": 4,
   "metadata": {
    "ExecuteTime": {
     "end_time": "2020-08-05T09:54:42.234383Z",
     "start_time": "2020-08-05T09:54:42.099729Z"
    }
   },
   "outputs": [],
   "source": [
    "#定义linear层函数\n",
    "def linear(X, w, b):\n",
    "    return torch.matmul(X, w.t())+ b\n",
    "\n",
    "#定义隐藏层激活函数\n",
    "def relu(X):\n",
    "    return torch.max(input=X, other=torch.tensor(0.0))\n",
    "\n",
    "#定义分类模型\n",
    "def net(X):\n",
    "    X = X.view((-1, num_inputs))          \n",
    "    linear_1 = linear(X, W1, b1)\n",
    "    R = relu(linear_1)\n",
    "    linear_2 = linear(R, W2, b2)\n",
    "    #S = Softmax(linear_2) #CrossEntropyLoss损失函数中自带Softmax\n",
    "    return linear_2\n",
    "\n",
    "#定义交叉熵损失函数，CrossEntropyLoss自带Softmax，所以分类模型中不用加Softmax层\n",
    "loss = torch.nn.CrossEntropyLoss()\n",
    "\n",
    "#定义随机梯度下降函数\n",
    "def SGD(params, lr):\n",
    "    for param in params:\n",
    "        param.data -= lr * param.grad\n",
    "        \n",
    "#定义计算测试集损失函数\n",
    "def evaluate_loss(data_iter, net):\n",
    "    l, n = 0.0, 0\n",
    "    for X, y in data_iter:\n",
    "        l += loss(net(X),y).sum().item()\n",
    "        n += y.shape[0]\n",
    "    return l / n"
   ]
  },
  {
   "cell_type": "code",
   "execution_count": 5,
   "metadata": {
    "ExecuteTime": {
     "end_time": "2020-08-05T10:00:24.880017Z",
     "start_time": "2020-08-05T09:54:42.886895Z"
    }
   },
   "outputs": [
    {
     "name": "stdout",
     "output_type": "stream",
     "text": [
      "epoch 1, loss_train 0.008420, loss_test 0.007440 \n",
      "epoch 2, loss_train 0.005934, loss_test 0.005044 \n",
      "epoch 3, loss_train 0.004346, loss_test 0.004029 \n",
      "epoch 4, loss_train 0.003646, loss_test 0.003547 \n",
      "epoch 5, loss_train 0.003284, loss_test 0.003273 \n",
      "epoch 6, loss_train 0.003060, loss_test 0.003080 \n",
      "epoch 7, loss_train 0.002895, loss_test 0.002941 \n",
      "epoch 8, loss_train 0.002764, loss_test 0.002810 \n",
      "epoch 9, loss_train 0.002650, loss_test 0.002703 \n",
      "epoch 10, loss_train 0.002552, loss_test 0.002613 \n",
      "epoch 11, loss_train 0.002465, loss_test 0.002532 \n",
      "epoch 12, loss_train 0.002389, loss_test 0.002469 \n",
      "epoch 13, loss_train 0.002322, loss_test 0.002404 \n",
      "epoch 14, loss_train 0.002265, loss_test 0.002352 \n",
      "epoch 15, loss_train 0.002212, loss_test 0.002307 \n",
      "epoch 16, loss_train 0.002168, loss_test 0.002277 \n",
      "epoch 17, loss_train 0.002130, loss_test 0.002234 \n",
      "epoch 18, loss_train 0.002094, loss_test 0.002196 \n",
      "epoch 19, loss_train 0.002063, loss_test 0.002172 \n",
      "epoch 20, loss_train 0.002032, loss_test 0.002142 \n"
     ]
    }
   ],
   "source": [
    "#定义训练参数\n",
    "batch_size, num_epochs, lr = 256, 20, 0.01\n",
    "\n",
    "#划分数据集\n",
    "train_iter = torch.utils.data.DataLoader(mnist_train, batch_size=batch_size, shuffle=True,num_workers=0)\n",
    "test_iter = torch.utils.data.DataLoader(mnist_test, batch_size=batch_size, shuffle=False,num_workers=0)\n",
    "\n",
    "#训练模型\n",
    "loss_train = []\n",
    "loss_test = []\n",
    "for epoch in range(num_epochs):\n",
    "    train_l_sum, test_l_sum, n = 0.0, 0.0, 0\n",
    "    for X, y in train_iter:\n",
    "        l = loss(net(X),y).sum() \n",
    "        l.backward()       #计算损失     \n",
    "        SGD(params, lr)       #更新梯度\n",
    "        W1.grad.data.zero_()\n",
    "        b1.grad.data.zero_()\n",
    "        W2.grad.data.zero_()\n",
    "        b2.grad.data.zero_()\n",
    "        train_l_sum += l.item()\n",
    "        n += y.shape[0]\n",
    "    loss_train.append(train_l_sum/n)\n",
    "    loss_test.append(evaluate_loss(test_iter,net))\n",
    "    print('epoch %d, loss_train %f, loss_test %f '% (epoch+1, loss_train[epoch], loss_test[epoch]))"
   ]
  },
  {
   "cell_type": "code",
   "execution_count": 6,
   "metadata": {
    "ExecuteTime": {
     "end_time": "2020-08-05T10:01:12.088361Z",
     "start_time": "2020-08-05T10:01:11.518915Z"
    }
   },
   "outputs": [
    {
     "data": {
      "image/png": "[encoded data removed]",
      "text/plain": [
       "<Figure size 720x504 with 1 Axes>"
      ]
     },
     "metadata": {},
     "output_type": "display_data"
    }
   ],
   "source": [
    "plt.figure(figsize=(10,7))\n",
    "plt.plot(loss_train,label='train',color='royalblue')\n",
    "plt.plot(loss_test,label='test',linestyle=':', color='orange')\n",
    "plt.ylabel(\"loss\")\n",
    "plt.xlabel(\"epoch\")\n",
    "plt.legend()\n",
    "plt.show()"
   ]
  },
  {
   "cell_type": "code",
   "execution_count": null,
   "metadata": {},
   "outputs": [],
   "source": []
  }
 ],
 "metadata": {
  "kernelspec": {
   "display_name": "Python [conda env:Pytorch_envs]",
   "language": "python",
   "name": "conda-env-Pytorch_envs-py"
  },
  "language_info": {
   "codemirror_mode": {
    "name": "ipython",
    "version": 3
   },
   "file_extension": ".py",
   "mimetype": "text/x-python",
   "name": "python",
   "nbconvert_exporter": "python",
   "pygments_lexer": "ipython3",
   "version": "3.6.10"
  },
  "toc": {
   "base_numbering": 1,
   "nav_menu": {},
   "number_sections": true,
   "sideBar": true,
   "skip_h1_title": false,
   "title_cell": "Table of Contents",
   "title_sidebar": "Contents",
   "toc_cell": false,
   "toc_position": {},
   "toc_section_display": true,
   "toc_window_display": false
  },
  "varInspector": {
   "cols": {
    "lenName": 16,
    "lenType": 16,
    "lenVar": 40
   },
   "kernels_config": {
    "python": {
     "delete_cmd_postfix": "",
     "delete_cmd_prefix": "del ",
     "library": "var_list.py",
     "varRefreshCmd": "print(var_dic_list())"
    },
    "r": {
     "delete_cmd_postfix": ") ",
     "delete_cmd_prefix": "rm(",
     "library": "var_list.r",
     "varRefreshCmd": "cat(var_dic_list()) "
    }
   },
   "types_to_exclude": [
    "module",
    "function",
    "builtin_function_or_method",
    "instance",
    "_Feature"
   ],
   "window_display": false
  }
 },
 "nbformat": 4,
 "nbformat_minor": 2
}
