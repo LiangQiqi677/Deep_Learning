{
 "cells": [
  {
   "cell_type": "code",
   "execution_count": 1,
   "metadata": {
    "ExecuteTime": {
     "end_time": "2020-08-08T10:49:39.863587Z",
     "start_time": "2020-08-08T10:49:37.567320Z"
    }
   },
   "outputs": [],
   "source": [
    "import torch\n",
    "import numpy as np\n",
    "from torch.utils import data\n",
    "from torch.nn import init\n",
    "from matplotlib import pyplot as plt\n",
    "import torch.optim as optim\n",
    "import torchvision\n",
    "import torchvision.transforms as transforms"
   ]
  },
  {
   "cell_type": "code",
   "execution_count": 2,
   "metadata": {
    "ExecuteTime": {
     "end_time": "2020-08-08T10:49:51.569557Z",
     "start_time": "2020-08-08T10:49:50.495513Z"
    }
   },
   "outputs": [],
   "source": [
    "#加载数据集\n",
    "mnist_train = torchvision.datasets.FashionMNIST(root='~/Datasets/FashionMNIST', train=True,\n",
    "download=True, transform=transforms.ToTensor())\n",
    "mnist_test = torchvision.datasets.FashionMNIST(root='~/Datasets/FashionMNIST', train=False,\n",
    "download=True, transform=transforms.ToTensor())\n",
    "\n",
    "#定义训练参数\n",
    "batch_size, num_epochs, lr = 128, 20, 0.1\n",
    "\n",
    "#划分数据集\n",
    "temp = []\n",
    "for i in range(5000):\n",
    "    temp.append(list(mnist_train[i]))\n",
    "train_iter = torch.utils.data.DataLoader(temp, batch_size=batch_size, shuffle=True,num_workers=0)\n",
    "test_iter = torch.utils.data.DataLoader(mnist_test, batch_size=batch_size, shuffle=False,num_workers=0)\n",
    "\n",
    "#定义模型参数\n",
    "num_inputs, num_outputs, num_hiddens = 784, 10, 256\n",
    "\n",
    "#定义损失函数\n",
    "loss = torch.nn.CrossEntropyLoss()\n",
    "\n",
    "#定义计算测试集损失函数 \n",
    "def evaluate_loss(data_iter, net):\n",
    "    l, n = 0.0, 0\n",
    "    for X, y in data_iter:\n",
    "        X = X.view((-1, num_inputs)) \n",
    "        l += loss(net(X),y).sum().item()\n",
    "        n += y.shape[0]\n",
    "    return l / n\n",
    "\n",
    "#定义计算测试集准确率函数 \n",
    "def evaluate_accuracy(data_iter, net):\n",
    "    acc_sum, n = 0.0, 0\n",
    "    for X, y in data_iter:\n",
    "        X = X.view((-1, num_inputs)) \n",
    "        acc_sum += (net(X).argmax(dim=1) == y).float().sum().item()\n",
    "        n += y.shape[0]\n",
    "    return acc_sum / n"
   ]
  },
  {
   "cell_type": "code",
   "execution_count": 3,
   "metadata": {
    "ExecuteTime": {
     "end_time": "2020-08-08T10:54:00.549363Z",
     "start_time": "2020-08-08T10:52:37.646149Z"
    }
   },
   "outputs": [
    {
     "name": "stdout",
     "output_type": "stream",
     "text": [
      "epoch 1, loss_train 0.018417, loss_test 0.018153 , acc_train 0.131600, acc_test 0.216300 \n",
      "epoch 2, loss_train 0.018185, loss_test 0.017303 , acc_train 0.218600, acc_test 0.199900 \n",
      "epoch 3, loss_train 0.013948, loss_test 0.011851 , acc_train 0.352200, acc_test 0.417000 \n",
      "epoch 4, loss_train 0.009996, loss_test 0.022237 , acc_train 0.506000, acc_test 0.354600 \n",
      "epoch 5, loss_train 0.009342, loss_test 0.011295 , acc_train 0.555400, acc_test 0.545200 \n",
      "epoch 6, loss_train 0.008235, loss_test 0.016130 , acc_train 0.597400, acc_test 0.429400 \n",
      "epoch 7, loss_train 0.008190, loss_test 0.011576 , acc_train 0.614600, acc_test 0.552500 \n",
      "epoch 8, loss_train 0.007008, loss_test 0.017560 , acc_train 0.681800, acc_test 0.392500 \n",
      "epoch 9, loss_train 0.006886, loss_test 0.010978 , acc_train 0.677400, acc_test 0.548300 \n",
      "epoch 10, loss_train 0.006353, loss_test 0.015518 , acc_train 0.712800, acc_test 0.445500 \n",
      "epoch 11, loss_train 0.005902, loss_test 0.014125 , acc_train 0.725800, acc_test 0.571300 \n",
      "epoch 12, loss_train 0.005449, loss_test 0.006993 , acc_train 0.741800, acc_test 0.671300 \n",
      "epoch 13, loss_train 0.005069, loss_test 0.005827 , acc_train 0.755200, acc_test 0.736700 \n",
      "epoch 14, loss_train 0.004756, loss_test 0.005894 , acc_train 0.772800, acc_test 0.696600 \n",
      "epoch 15, loss_train 0.004635, loss_test 0.006080 , acc_train 0.777200, acc_test 0.727400 \n",
      "epoch 16, loss_train 0.004492, loss_test 0.011363 , acc_train 0.797200, acc_test 0.486700 \n",
      "epoch 17, loss_train 0.004524, loss_test 0.005647 , acc_train 0.793800, acc_test 0.732000 \n",
      "epoch 18, loss_train 0.004095, loss_test 0.005601 , acc_train 0.815400, acc_test 0.740800 \n",
      "epoch 19, loss_train 0.004110, loss_test 0.005239 , acc_train 0.812800, acc_test 0.766900 \n",
      "epoch 20, loss_train 0.004252, loss_test 0.013103 , acc_train 0.809800, acc_test 0.606100 \n"
     ]
    },
    {
     "ename": "NameError",
     "evalue": "name 'W1' is not defined",
     "output_type": "error",
     "traceback": [
      "\u001b[1;31m---------------------------------------------------------------------------\u001b[0m",
      "\u001b[1;31mNameError\u001b[0m                                 Traceback (most recent call last)",
      "\u001b[1;32m<ipython-input-3-3467beb562d6>\u001b[0m in \u001b[0;36m<module>\u001b[1;34m()\u001b[0m\n\u001b[0;32m     71\u001b[0m     print('epoch %d, loss_train %f, loss_test %f , acc_train %f, acc_test %f '% \n\u001b[0;32m     72\u001b[0m           (epoch+1, loss_train0[epoch], loss_test0[epoch], acc_train0[epoch], acc_test0[epoch]))\n\u001b[1;32m---> 73\u001b[1;33m \u001b[0mprint\u001b[0m\u001b[1;33m(\u001b[0m\u001b[1;34m'L2 norm of W1: %f, L2 norm of W2: %f, L2 norm of W3: %f'\u001b[0m \u001b[1;33m%\u001b[0m \u001b[1;33m(\u001b[0m\u001b[0mW1\u001b[0m\u001b[1;33m.\u001b[0m\u001b[0mnorm\u001b[0m\u001b[1;33m(\u001b[0m\u001b[1;33m)\u001b[0m\u001b[1;33m.\u001b[0m\u001b[0mitem\u001b[0m\u001b[1;33m(\u001b[0m\u001b[1;33m)\u001b[0m\u001b[1;33m,\u001b[0m \u001b[0mW2\u001b[0m\u001b[1;33m.\u001b[0m\u001b[0mnorm\u001b[0m\u001b[1;33m(\u001b[0m\u001b[1;33m)\u001b[0m\u001b[1;33m.\u001b[0m\u001b[0mitem\u001b[0m\u001b[1;33m(\u001b[0m\u001b[1;33m)\u001b[0m\u001b[1;33m,\u001b[0m \u001b[0mW3\u001b[0m\u001b[1;33m.\u001b[0m\u001b[0mnorm\u001b[0m\u001b[1;33m(\u001b[0m\u001b[1;33m)\u001b[0m\u001b[1;33m.\u001b[0m\u001b[0mitem\u001b[0m\u001b[1;33m(\u001b[0m\u001b[1;33m)\u001b[0m\u001b[1;33m)\u001b[0m\u001b[1;33m)\u001b[0m\u001b[1;33m\u001b[0m\u001b[1;33m\u001b[0m\u001b[0m\n\u001b[0m",
      "\u001b[1;31mNameError\u001b[0m: name 'W1' is not defined"
     ]
    }
   ],
   "source": [
    "# ========================== 惩罚权重为0，无L2正则化 ========================== #\n",
    "\n",
    "lambd0 = 0\n",
    "\n",
    "class Classification(torch.nn.Module):\n",
    "    def __init__(self):\n",
    "        super(Classification, self).__init__()\n",
    "        self.hidden1 = torch.nn.Linear(num_inputs, num_hiddens) #定义隐藏层函数\n",
    "        self.relu1 = torch.nn.ReLU()                       #定义隐藏层激活函数\n",
    "        self.hidden2 = torch.nn.Linear(num_hiddens, num_hiddens) #定义隐藏层函数\n",
    "        self.relu2 = torch.nn.ReLU()                       #定义隐藏层激活函数\n",
    "        self.output = torch.nn.Linear(num_hiddens, num_outputs)#定义输出层函数\n",
    "\n",
    "    def forward(self, x):\n",
    "        x = self.hidden1(x)\n",
    "        x = self.relu1(x)\n",
    "        x = self.hidden2(x)\n",
    "        x = self.relu2(x)\n",
    "        x = self.output(x)\n",
    "        return x\n",
    "        \n",
    "net = Classification()\n",
    "\n",
    "#初始化模型参数\n",
    "init.normal_(net.hidden1.weight, mean=0, std=0.01)\n",
    "init.normal_(net.hidden2.weight, mean=0, std=0.01)\n",
    "init.normal_(net.output.weight, mean=0, std=0.01)\n",
    "init.constant_(net.hidden1.bias, val=0)\n",
    "init.constant_(net.hidden2.bias, val=0)\n",
    "init.constant_(net.output.bias, val=0)\n",
    "\n",
    "#定义优化器\n",
    "optimizer_w1 = optim.SGD([net.hidden1.weight], lr, weight_decay=lambd0)\n",
    "optimizer_w2 = optim.SGD([net.hidden2.weight], lr, weight_decay=lambd0)\n",
    "optimizer_w3 = optim.SGD([net.output.weight], lr, weight_decay=lambd0)\n",
    "optimizer_b1 = optim.SGD([net.hidden1.bias], lr)\n",
    "optimizer_b2 = optim.SGD([net.hidden2.bias], lr)\n",
    "optimizer_b3 = optim.SGD([net.output.bias], lr)\n",
    "\n",
    "#训练模型\n",
    "loss_train0 = []\n",
    "loss_test0 = []\n",
    "acc_train0 = []\n",
    "acc_test0 = []\n",
    "for epoch in range(num_epochs):\n",
    "    train_l_sum, train_acc_sum, n = 0.0, 0.0, 0\n",
    "    for X, y in train_iter:\n",
    "        X = X.view((-1, num_inputs)) \n",
    "        y_hat = net(X)\n",
    "        l = loss(y_hat,y).sum() \n",
    "        optimizer_w1.zero_grad()\n",
    "        optimizer_w2.zero_grad()\n",
    "        optimizer_w3.zero_grad()\n",
    "        optimizer_b1.zero_grad()\n",
    "        optimizer_b1.zero_grad()\n",
    "        optimizer_b1.zero_grad()\n",
    "        l.backward()       #计算损失     \n",
    "        optimizer_w1.step()   #更新梯度\n",
    "        optimizer_w2.step()\n",
    "        optimizer_w3.step()\n",
    "        optimizer_b1.step()   #更新梯度\n",
    "        optimizer_b2.step()\n",
    "        optimizer_b3.step()\n",
    "        train_l_sum += l.item()\n",
    "        train_acc_sum += (y_hat.argmax(dim=1) == y).sum().item()\n",
    "        n += y.shape[0]\n",
    "    loss_train0.append(train_l_sum/n)\n",
    "    loss_test0.append(evaluate_loss(test_iter,net))\n",
    "    acc_train0.append(train_acc_sum/n)\n",
    "    acc_test0.append(evaluate_accuracy(test_iter,net))\n",
    "    print('epoch %d, loss_train %f, loss_test %f , acc_train %f, acc_test %f '% \n",
    "          (epoch+1, loss_train0[epoch], loss_test0[epoch], acc_train0[epoch], acc_test0[epoch]))"
   ]
  },
  {
   "cell_type": "code",
   "execution_count": 4,
   "metadata": {
    "ExecuteTime": {
     "end_time": "2020-08-08T10:55:14.236920Z",
     "start_time": "2020-08-08T10:55:14.226973Z"
    }
   },
   "outputs": [
    {
     "name": "stdout",
     "output_type": "stream",
     "text": [
      "L2 norm of W1: 6.095099, L2 norm of W2: 4.499870, L2 norm of W3: 4.425593\n"
     ]
    }
   ],
   "source": [
    "print('L2 norm of W1: %f, L2 norm of W2: %f, L2 norm of W3: %f' % (\n",
    "    net.hidden1.weight.norm().item(), net.hidden2.weight.norm().item(), net.output.weight.norm().item()))"
   ]
  },
  {
   "cell_type": "code",
   "execution_count": 5,
   "metadata": {
    "ExecuteTime": {
     "end_time": "2020-08-08T10:58:15.860467Z",
     "start_time": "2020-08-08T10:56:46.909993Z"
    }
   },
   "outputs": [
    {
     "name": "stdout",
     "output_type": "stream",
     "text": [
      "epoch 1, loss_train 0.018447, loss_test 0.018202 , acc_train 0.109600, acc_test 0.100000 \n",
      "epoch 2, loss_train 0.018520, loss_test 0.018397 , acc_train 0.095800, acc_test 0.100000 \n",
      "epoch 3, loss_train 0.018562, loss_test 0.018329 , acc_train 0.094400, acc_test 0.100000 \n",
      "epoch 4, loss_train 0.018596, loss_test 0.018423 , acc_train 0.107400, acc_test 0.100000 \n",
      "epoch 5, loss_train 0.018601, loss_test 0.018446 , acc_train 0.101400, acc_test 0.100000 \n",
      "epoch 6, loss_train 0.018546, loss_test 0.018277 , acc_train 0.112000, acc_test 0.100000 \n",
      "epoch 7, loss_train 0.018497, loss_test 0.018317 , acc_train 0.104400, acc_test 0.100000 \n",
      "epoch 8, loss_train 0.018474, loss_test 0.018706 , acc_train 0.097200, acc_test 0.100000 \n",
      "epoch 9, loss_train 0.018510, loss_test 0.019122 , acc_train 0.097800, acc_test 0.100000 \n",
      "epoch 10, loss_train 0.018503, loss_test 0.018946 , acc_train 0.103800, acc_test 0.100000 \n",
      "epoch 11, loss_train 0.018490, loss_test 0.018627 , acc_train 0.105200, acc_test 0.100000 \n",
      "epoch 12, loss_train 0.018504, loss_test 0.018478 , acc_train 0.101000, acc_test 0.100000 \n",
      "epoch 13, loss_train 0.018481, loss_test 0.018360 , acc_train 0.103400, acc_test 0.100000 \n",
      "epoch 14, loss_train 0.018455, loss_test 0.018265 , acc_train 0.105000, acc_test 0.100000 \n",
      "epoch 15, loss_train 0.018452, loss_test 0.018214 , acc_train 0.107400, acc_test 0.100000 \n",
      "epoch 16, loss_train 0.018475, loss_test 0.018239 , acc_train 0.101400, acc_test 0.100000 \n",
      "epoch 17, loss_train 0.018540, loss_test 0.018422 , acc_train 0.096000, acc_test 0.100000 \n",
      "epoch 18, loss_train 0.018757, loss_test 0.018486 , acc_train 0.095600, acc_test 0.100000 \n",
      "epoch 19, loss_train 0.018773, loss_test 0.018454 , acc_train 0.098600, acc_test 0.100000 \n",
      "epoch 20, loss_train 0.018994, loss_test 0.018728 , acc_train 0.100400, acc_test 0.100000 \n",
      "L2 norm of W1: 0.000000, L2 norm of W2: 0.000000, L2 norm of W3: 0.000000\n"
     ]
    }
   ],
   "source": [
    "# ========================== 惩罚权重为1 ========================== #\n",
    "\n",
    "lambd1 = 1\n",
    "\n",
    "class Classification(torch.nn.Module):\n",
    "    def __init__(self):\n",
    "        super(Classification, self).__init__()\n",
    "        self.hidden1 = torch.nn.Linear(num_inputs, num_hiddens) #定义隐藏层函数\n",
    "        self.relu1 = torch.nn.ReLU()                       #定义隐藏层激活函数\n",
    "        self.hidden2 = torch.nn.Linear(num_hiddens, num_hiddens) #定义隐藏层函数\n",
    "        self.relu2 = torch.nn.ReLU()                       #定义隐藏层激活函数\n",
    "        self.output = torch.nn.Linear(num_hiddens, num_outputs)#定义输出层函数\n",
    "\n",
    "    def forward(self, x):\n",
    "        x = self.hidden1(x)\n",
    "        x = self.relu1(x)\n",
    "        x = self.hidden2(x)\n",
    "        x = self.relu2(x)\n",
    "        x = self.output(x)\n",
    "        return x\n",
    "        \n",
    "net = Classification()\n",
    "\n",
    "#初始化模型参数\n",
    "init.normal_(net.hidden1.weight, mean=0, std=0.01)\n",
    "init.normal_(net.hidden2.weight, mean=0, std=0.01)\n",
    "init.normal_(net.output.weight, mean=0, std=0.01)\n",
    "init.constant_(net.hidden1.bias, val=0)\n",
    "init.constant_(net.hidden2.bias, val=0)\n",
    "init.constant_(net.output.bias, val=0)\n",
    "\n",
    "#定义优化器\n",
    "optimizer_w1 = optim.SGD([net.hidden1.weight], lr, weight_decay=lambd1)\n",
    "optimizer_w2 = optim.SGD([net.hidden2.weight], lr, weight_decay=lambd1)\n",
    "optimizer_w3 = optim.SGD([net.output.weight], lr, weight_decay=lambd1)\n",
    "optimizer_b1 = optim.SGD([net.hidden1.bias], lr)\n",
    "optimizer_b2 = optim.SGD([net.hidden2.bias], lr)\n",
    "optimizer_b3 = optim.SGD([net.output.bias], lr)\n",
    "\n",
    "#训练模型\n",
    "loss_train1 = []\n",
    "loss_test1 = []\n",
    "acc_train1 = []\n",
    "acc_test1 = []\n",
    "for epoch in range(num_epochs):\n",
    "    train_l_sum, train_acc_sum, n = 0.0, 0.0, 0\n",
    "    for X, y in train_iter:\n",
    "        X = X.view((-1, num_inputs)) \n",
    "        y_hat = net(X)\n",
    "        l = loss(y_hat,y).sum() \n",
    "        optimizer_w1.zero_grad()\n",
    "        optimizer_w2.zero_grad()\n",
    "        optimizer_w3.zero_grad()\n",
    "        optimizer_b1.zero_grad()\n",
    "        optimizer_b1.zero_grad()\n",
    "        optimizer_b1.zero_grad()\n",
    "        l.backward()       #计算损失     \n",
    "        optimizer_w1.step()   #更新梯度\n",
    "        optimizer_w2.step()\n",
    "        optimizer_w3.step()\n",
    "        optimizer_b1.step()   #更新梯度\n",
    "        optimizer_b2.step()\n",
    "        optimizer_b3.step()\n",
    "        train_l_sum += l.item()\n",
    "        train_acc_sum += (y_hat.argmax(dim=1) == y).sum().item()\n",
    "        n += y.shape[0]\n",
    "    loss_train1.append(train_l_sum/n)\n",
    "    loss_test1.append(evaluate_loss(test_iter,net))\n",
    "    acc_train1.append(train_acc_sum/n)\n",
    "    acc_test1.append(evaluate_accuracy(test_iter,net))\n",
    "    print('epoch %d, loss_train %f, loss_test %f , acc_train %f, acc_test %f '% \n",
    "          (epoch+1, loss_train1[epoch], loss_test1[epoch], acc_train1[epoch], acc_test1[epoch]))\n",
    "print('L2 norm of W1: %f, L2 norm of W2: %f, L2 norm of W3: %f' % (\n",
    "    net.hidden1.weight.norm().item(), net.hidden2.weight.norm().item(), net.output.weight.norm().item()))"
   ]
  },
  {
   "cell_type": "code",
   "execution_count": 6,
   "metadata": {
    "ExecuteTime": {
     "end_time": "2020-08-08T11:00:12.650744Z",
     "start_time": "2020-08-08T11:00:12.330261Z"
    }
   },
   "outputs": [
    {
     "data": {
      "image/png": "[encoded data removed]",
      "text/plain": [
       "<Figure size 432x288 with 1 Axes>"
      ]
     },
     "metadata": {},
     "output_type": "display_data"
    }
   ],
   "source": [
    "plt.plot(loss_train0,label='Train',color='blue')\n",
    "plt.plot(loss_test0,label='Test', color='orange')\n",
    "plt.ylabel(\"loss\")\n",
    "plt.xlabel(\"epoch\")\n",
    "plt.title(\"Loss:Lambda=0\")\n",
    "plt.legend()\n",
    "plt.show()"
   ]
  },
  {
   "cell_type": "code",
   "execution_count": 7,
   "metadata": {
    "ExecuteTime": {
     "end_time": "2020-08-08T11:02:13.455850Z",
     "start_time": "2020-08-08T11:02:13.256141Z"
    }
   },
   "outputs": [
    {
     "data": {
      "image/png": "[encoded data removed]",
      "text/plain": [
       "<Figure size 432x288 with 1 Axes>"
      ]
     },
     "metadata": {},
     "output_type": "display_data"
    }
   ],
   "source": [
    "plt.plot(loss_train1,label='Train',color='blue')\n",
    "plt.plot(loss_test1,label='Test', color='orange')\n",
    "plt.ylabel(\"loss\")\n",
    "plt.xlabel(\"epoch\")\n",
    "plt.title(\"Loss:Lambda=1\")\n",
    "plt.legend()\n",
    "plt.show()"
   ]
  },
  {
   "cell_type": "code",
   "execution_count": 8,
   "metadata": {
    "ExecuteTime": {
     "end_time": "2020-08-08T11:11:30.153619Z",
     "start_time": "2020-08-08T11:07:26.754716Z"
    }
   },
   "outputs": [
    {
     "name": "stdout",
     "output_type": "stream",
     "text": [
      "epoch 1, loss_train 0.018441, loss_test 0.018262 , acc_train 0.102600, acc_test 0.100000 \n",
      "epoch 2, loss_train 0.018523, loss_test 0.018313 , acc_train 0.109200, acc_test 0.100000 \n",
      "epoch 3, loss_train 0.018577, loss_test 0.018414 , acc_train 0.109000, acc_test 0.100000 \n",
      "epoch 4, loss_train 0.018608, loss_test 0.018272 , acc_train 0.096200, acc_test 0.100000 \n",
      "epoch 5, loss_train 0.018593, loss_test 0.018295 , acc_train 0.103400, acc_test 0.100000 \n",
      "epoch 6, loss_train 0.018641, loss_test 0.018633 , acc_train 0.100600, acc_test 0.100000 \n",
      "epoch 7, loss_train 0.018717, loss_test 0.018367 , acc_train 0.090200, acc_test 0.100000 \n",
      "epoch 8, loss_train 0.018533, loss_test 0.018616 , acc_train 0.107000, acc_test 0.100000 \n",
      "epoch 9, loss_train 0.018501, loss_test 0.019994 , acc_train 0.103000, acc_test 0.100000 \n",
      "epoch 10, loss_train 0.018585, loss_test 0.020215 , acc_train 0.099400, acc_test 0.100000 \n",
      "epoch 11, loss_train 0.018634, loss_test 0.024309 , acc_train 0.104600, acc_test 0.100000 \n",
      "epoch 12, loss_train 0.018765, loss_test 0.023525 , acc_train 0.104400, acc_test 0.100000 \n",
      "epoch 13, loss_train 0.018759, loss_test 0.020491 , acc_train 0.098200, acc_test 0.100000 \n",
      "epoch 14, loss_train 0.018557, loss_test 0.018588 , acc_train 0.099400, acc_test 0.100000 \n",
      "epoch 15, loss_train 0.018467, loss_test 0.018200 , acc_train 0.096000, acc_test 0.100000 \n",
      "epoch 16, loss_train 0.018505, loss_test 0.018269 , acc_train 0.099200, acc_test 0.100000 \n",
      "epoch 17, loss_train 0.018523, loss_test 0.018324 , acc_train 0.102600, acc_test 0.100000 \n",
      "epoch 18, loss_train 0.018602, loss_test 0.018448 , acc_train 0.103800, acc_test 0.100000 \n",
      "epoch 19, loss_train 0.018719, loss_test 0.018519 , acc_train 0.099400, acc_test 0.100000 \n",
      "epoch 20, loss_train 0.018618, loss_test 0.018476 , acc_train 0.104600, acc_test 0.100000 \n",
      "L2 norm of W1: 0.000000, L2 norm of W2: 0.000000, L2 norm of W3: 0.000000\n"
     ]
    }
   ],
   "source": [
    "# ========================== 惩罚权重为2 ========================== #\n",
    "\n",
    "lambd2 = 2\n",
    "\n",
    "class Classification(torch.nn.Module):\n",
    "    def __init__(self):\n",
    "        super(Classification, self).__init__()\n",
    "        self.hidden1 = torch.nn.Linear(num_inputs, num_hiddens) #定义隐藏层函数\n",
    "        self.relu1 = torch.nn.ReLU()                       #定义隐藏层激活函数\n",
    "        self.hidden2 = torch.nn.Linear(num_hiddens, num_hiddens) #定义隐藏层函数\n",
    "        self.relu2 = torch.nn.ReLU()                       #定义隐藏层激活函数\n",
    "        self.output = torch.nn.Linear(num_hiddens, num_outputs)#定义输出层函数\n",
    "\n",
    "    def forward(self, x):\n",
    "        x = self.hidden1(x)\n",
    "        x = self.relu1(x)\n",
    "        x = self.hidden2(x)\n",
    "        x = self.relu2(x)\n",
    "        x = self.output(x)\n",
    "        return x\n",
    "        \n",
    "net = Classification()\n",
    "\n",
    "#初始化模型参数\n",
    "init.normal_(net.hidden1.weight, mean=0, std=0.01)\n",
    "init.normal_(net.hidden2.weight, mean=0, std=0.01)\n",
    "init.normal_(net.output.weight, mean=0, std=0.01)\n",
    "init.constant_(net.hidden1.bias, val=0)\n",
    "init.constant_(net.hidden2.bias, val=0)\n",
    "init.constant_(net.output.bias, val=0)\n",
    "\n",
    "#定义优化器\n",
    "optimizer_w1 = optim.SGD([net.hidden1.weight], lr, weight_decay=lambd2)\n",
    "optimizer_w2 = optim.SGD([net.hidden2.weight], lr, weight_decay=lambd2)\n",
    "optimizer_w3 = optim.SGD([net.output.weight], lr, weight_decay=lambd2)\n",
    "optimizer_b1 = optim.SGD([net.hidden1.bias], lr)\n",
    "optimizer_b2 = optim.SGD([net.hidden2.bias], lr)\n",
    "optimizer_b3 = optim.SGD([net.output.bias], lr)\n",
    "\n",
    "#训练模型\n",
    "loss_train2 = []\n",
    "loss_test2 = []\n",
    "acc_train2 = []\n",
    "acc_test2 = []\n",
    "for epoch in range(num_epochs):\n",
    "    train_l_sum, train_acc_sum, n = 0.0, 0.0, 0\n",
    "    for X, y in train_iter:\n",
    "        X = X.view((-1, num_inputs)) \n",
    "        y_hat = net(X)\n",
    "        l = loss(y_hat,y).sum() \n",
    "        optimizer_w1.zero_grad()\n",
    "        optimizer_w2.zero_grad()\n",
    "        optimizer_w3.zero_grad()\n",
    "        optimizer_b1.zero_grad()\n",
    "        optimizer_b1.zero_grad()\n",
    "        optimizer_b1.zero_grad()\n",
    "        l.backward()       #计算损失     \n",
    "        optimizer_w1.step()   #更新梯度\n",
    "        optimizer_w2.step()\n",
    "        optimizer_w3.step()\n",
    "        optimizer_b1.step()   #更新梯度\n",
    "        optimizer_b2.step()\n",
    "        optimizer_b3.step()\n",
    "        train_l_sum += l.item()\n",
    "        train_acc_sum += (y_hat.argmax(dim=1) == y).sum().item()\n",
    "        n += y.shape[0]\n",
    "    loss_train2.append(train_l_sum/n)\n",
    "    loss_test2.append(evaluate_loss(test_iter,net))\n",
    "    acc_train2.append(train_acc_sum/n)\n",
    "    acc_test2.append(evaluate_accuracy(test_iter,net))\n",
    "    print('epoch %d, loss_train %f, loss_test %f , acc_train %f, acc_test %f '% \n",
    "          (epoch+1, loss_train2[epoch], loss_test2[epoch], acc_train2[epoch], acc_test2[epoch]))\n",
    "print('L2 norm of W1: %f, L2 norm of W2: %f, L2 norm of W3: %f' % (\n",
    "    net.hidden1.weight.norm().item(), net.hidden2.weight.norm().item(), net.output.weight.norm().item()))"
   ]
  },
  {
   "cell_type": "code",
   "execution_count": 9,
   "metadata": {
    "ExecuteTime": {
     "end_time": "2020-08-08T11:12:57.584379Z",
     "start_time": "2020-08-08T11:12:57.370109Z"
    }
   },
   "outputs": [
    {
     "data": {
      "image/png": "[encoded data removed]",
      "text/plain": [
       "<Figure size 432x288 with 1 Axes>"
      ]
     },
     "metadata": {},
     "output_type": "display_data"
    }
   ],
   "source": [
    "plt.plot(loss_train2,label='Train',color='blue')\n",
    "plt.plot(loss_test2,label='Test', color='orange')\n",
    "plt.ylabel(\"loss\")\n",
    "plt.xlabel(\"epoch\")\n",
    "plt.title(\"Loss:Lambda=2\")\n",
    "plt.legend()\n",
    "plt.show()"
   ]
  },
  {
   "cell_type": "code",
   "execution_count": null,
   "metadata": {},
   "outputs": [],
   "source": []
  }
 ],
 "metadata": {
  "kernelspec": {
   "display_name": "Python [conda env:Pytorch_envs]",
   "language": "python",
   "name": "conda-env-Pytorch_envs-py"
  },
  "toc": {
   "base_numbering": 1,
   "nav_menu": {},
   "number_sections": true,
   "sideBar": true,
   "skip_h1_title": false,
   "title_cell": "Table of Contents",
   "title_sidebar": "Contents",
   "toc_cell": false,
   "toc_position": {},
   "toc_section_display": true,
   "toc_window_display": false
  },
  "varInspector": {
   "cols": {
    "lenName": 16,
    "lenType": 16,
    "lenVar": 40
   },
   "kernels_config": {
    "python": {
     "delete_cmd_postfix": "",
     "delete_cmd_prefix": "del ",
     "library": "var_list.py",
     "varRefreshCmd": "print(var_dic_list())"
    },
    "r": {
     "delete_cmd_postfix": ") ",
     "delete_cmd_prefix": "rm(",
     "library": "var_list.r",
     "varRefreshCmd": "cat(var_dic_list()) "
    }
   },
   "types_to_exclude": [
    "module",
    "function",
    "builtin_function_or_method",
    "instance",
    "_Feature"
   ],
   "window_display": false
  }
 },
 "nbformat": 4,
 "nbformat_minor": 2
}
