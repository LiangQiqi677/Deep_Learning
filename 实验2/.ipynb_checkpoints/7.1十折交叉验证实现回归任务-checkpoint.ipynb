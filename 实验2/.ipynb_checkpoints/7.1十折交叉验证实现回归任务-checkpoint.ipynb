{
 "cells": [
  {
   "cell_type": "code",
   "execution_count": 1,
   "metadata": {
    "ExecuteTime": {
     "end_time": "2020-08-10T08:48:21.537784Z",
     "start_time": "2020-08-10T08:48:19.832498Z"
    }
   },
   "outputs": [],
   "source": [
    "import torch\n",
    "import numpy as np\n",
    "from torch.utils import data\n",
    "from matplotlib import pyplot as plt\n",
    "import pandas as pd"
   ]
  },
  {
   "cell_type": "code",
   "execution_count": 2,
   "metadata": {
    "ExecuteTime": {
     "end_time": "2020-08-10T08:48:23.306907Z",
     "start_time": "2020-08-10T08:48:23.204208Z"
    }
   },
   "outputs": [],
   "source": [
    "#训练集7000，测试集3000（加起来为数据集大小10000）\n",
    "n_train, n_test  = 7000, 3000\n",
    "\n",
    "#定义模型参数\n",
    "num_inputs = 500\n",
    "\n",
    "#高维线性函数：y = 0.028+Σ0.0056x+ϵ   true_w[500,1]\n",
    "true_w, true_b = torch.ones(num_inputs,1)*0.0056, 0.028\n",
    "\n",
    "features = torch.randn((n_train+n_test),num_inputs)\n",
    "labels = torch.matmul(features, true_w) + true_b  #y = 0.028+Σ0.0056x  [7000,500]*[500,1]=[7000,1]\n",
    "labels += torch.tensor(np.random.normal(0, 0.01, size=labels.size()),dtype=torch.float) #加上噪声项ϵ"
   ]
  },
  {
   "cell_type": "code",
   "execution_count": 3,
   "metadata": {
    "ExecuteTime": {
     "end_time": "2020-08-10T08:48:24.749218Z",
     "start_time": "2020-08-10T08:48:24.724285Z"
    }
   },
   "outputs": [],
   "source": [
    "#定义随机初始化模型参数的函数\n",
    "w = torch.randn((num_inputs,1),requires_grad=True)\n",
    "b = torch.zeros(1,requires_grad=True)\n",
    "params = [w, b]\n",
    "\n",
    "#定义回归模型\n",
    "def net(X,w,b):\n",
    "    return torch.mm(X,w) + b\n",
    "\n",
    "#定义均方误差（回归函数损失函数可使用均方误差）\n",
    "def squared_loss(y_hat,y):\n",
    "    return ((y_hat-y.view(y_hat.size())) ** 2) / 2\n",
    "\n",
    "#定义随机梯度下降函数\n",
    "def SGD(params, lr):\n",
    "    for param in params:\n",
    "        param.data -= lr * param.grad"
   ]
  },
  {
   "cell_type": "code",
   "execution_count": 4,
   "metadata": {
    "ExecuteTime": {
     "end_time": "2020-08-10T08:49:12.625525Z",
     "start_time": "2020-08-10T08:48:26.690021Z"
    }
   },
   "outputs": [
    {
     "name": "stdout",
     "output_type": "stream",
     "text": [
      "第1折交叉验证结果：train_loss 0.000653, valid_loss 0.000673\n",
      "第2折交叉验证结果：train_loss 0.000797, valid_loss 0.000722\n",
      "第3折交叉验证结果：train_loss 0.000656, valid_loss 0.000714\n",
      "第4折交叉验证结果：train_loss 0.000679, valid_loss 0.000703\n",
      "第5折交叉验证结果：train_loss 0.000591, valid_loss 0.000610\n",
      "第6折交叉验证结果：train_loss 0.000652, valid_loss 0.000645\n",
      "第7折交叉验证结果：train_loss 0.000762, valid_loss 0.000802\n",
      "第8折交叉验证结果：train_loss 0.000704, valid_loss 0.000673\n",
      "第9折交叉验证结果：train_loss 0.000667, valid_loss 0.000706\n",
      "第10折交叉验证结果：train_loss 0.000717, valid_loss 0.000729\n",
      "\n",
      " 最终k折交叉验证结果：\n",
      "average train loss:0.000688 \n",
      "average valid loss:0.000698 \n"
     ]
    }
   ],
   "source": [
    "#定义k者交叉验证\n",
    "def get_kfold_data(k, i, X, y):\n",
    "    \n",
    "    fold_size = X.shape[0] // k\n",
    "\n",
    "    val_start = i * fold_size           \n",
    "    if i != k-1:\n",
    "        val_end = (i+1) * fold_size\n",
    "        X_valid, y_valid = X[val_start:val_end], y[val_start:val_end]\n",
    "        X_train = torch.cat( (X[:val_start], X[val_end:]), dim=0 )\n",
    "        y_train = torch.cat( (y[:val_start], y[val_end:]), dim=0 )\n",
    "    else:\n",
    "        X_valid, y_valid = X[val_start:], y[val_start:]\n",
    "        X_train = X[0:val_start]\n",
    "        y_train = y[0:val_start]\n",
    "    \n",
    "    return X_train, y_train, X_valid, y_valid\n",
    "\n",
    "#每一折的实验结果\n",
    "train_loss_sum, valid_loss_sum = [],[]\n",
    "train_acc_sum, valid_acc_sum = [],[]\n",
    "\n",
    "def k_fold(k, X_train, y_train):\n",
    "    \n",
    "    for i in range(k):\n",
    "        train_features, train_labels, test_features, test_labels = get_kfold_data(k, i, X_train, y_train)\n",
    "        train_loss, valid_loss, train_acc, valid_acc = train(net, train_features, train_labels, test_features, test_labels)\n",
    "        train_loss_sum.append(train_loss)\n",
    "        valid_loss_sum.append(valid_loss)\n",
    "        print('第%d折交叉验证结果：train_loss %f, valid_loss %f' % (i+1, train_loss, valid_loss))\n",
    "    print('\\n')\n",
    "    print('最终k折交叉验证结果：')\n",
    "    print('average train loss:{:f} '.format(np.array(train_loss_sum).mean().item()))\n",
    "    print('average valid loss:{:f} '.format(np.array(valid_loss_sum).mean().item()))\n",
    "    #print('average train loss:{:f}, average train accuracy:{:f} %'.format(train_loss_sum/k, train_acc_sum/k))\n",
    "    #print('average valid loss:{:f}, average valid accuracy:{:f} %'.format(valid_loss_sum/k, valid_acc_sum/k))\n",
    "\n",
    "def train(net, X_train, y_train, X_valid, y_valid):\n",
    "    \n",
    "    #定义训练参数\n",
    "    batch_size, num_epochs, lr = 128, 20, 0.003\n",
    "\n",
    "    #划分数据集\n",
    "    dataset = torch.utils.data.TensorDataset(X_train,y_train)\n",
    "    train_iter = torch.utils.data.DataLoader(dataset, batch_size, shuffle=True)\n",
    "\n",
    "    for epoch in range(num_epochs):\n",
    "        for X, y in train_iter:\n",
    "            y_hat = net(X,w,b)\n",
    "            loss = squared_loss(y_hat,y).sum() \n",
    "            loss.backward()       #计算损失     \n",
    "            SGD(params, lr)    #更新梯度\n",
    "            w.grad.data.zero_()\n",
    "            b.grad.data.zero_()\n",
    "    loss_train = squared_loss(net(X_train,w,b),y_train).mean().item() #训练集损失\n",
    "    loss_test = squared_loss(net(X_valid,w,b),y_valid).mean().item()    #测试集损失\n",
    "    #最后训练时的误差会是本次代码运行的最优误差，所以只需要返回最后训练的误差即可(回归问题不涉及准确率)\n",
    "    return loss_train, loss_test, 0, 0\n",
    "\n",
    "k_fold(10, features, labels)"
   ]
  },
  {
   "cell_type": "code",
   "execution_count": 13,
   "metadata": {
    "ExecuteTime": {
     "end_time": "2020-08-10T09:02:31.678721Z",
     "start_time": "2020-08-10T09:02:31.656850Z"
    }
   },
   "outputs": [
    {
     "data": {
      "text/html": [
       "<div>\n",
       "<style>\n",
       "    .dataframe thead tr:only-child th {\n",
       "        text-align: right;\n",
       "    }\n",
       "\n",
       "    .dataframe thead th {\n",
       "        text-align: left;\n",
       "    }\n",
       "\n",
       "    .dataframe tbody tr th {\n",
       "        vertical-align: top;\n",
       "    }\n",
       "</style>\n",
       "<table border=\"1\" class=\"dataframe\">\n",
       "  <thead>\n",
       "    <tr style=\"text-align: right;\">\n",
       "      <th></th>\n",
       "      <th>train_loss</th>\n",
       "      <th>valid_loss</th>\n",
       "    </tr>\n",
       "  </thead>\n",
       "  <tbody>\n",
       "    <tr>\n",
       "      <th>1</th>\n",
       "      <td>0.000653</td>\n",
       "      <td>0.000673</td>\n",
       "    </tr>\n",
       "    <tr>\n",
       "      <th>2</th>\n",
       "      <td>0.000797</td>\n",
       "      <td>0.000722</td>\n",
       "    </tr>\n",
       "    <tr>\n",
       "      <th>3</th>\n",
       "      <td>0.000656</td>\n",
       "      <td>0.000714</td>\n",
       "    </tr>\n",
       "    <tr>\n",
       "      <th>4</th>\n",
       "      <td>0.000679</td>\n",
       "      <td>0.000703</td>\n",
       "    </tr>\n",
       "    <tr>\n",
       "      <th>5</th>\n",
       "      <td>0.000591</td>\n",
       "      <td>0.000610</td>\n",
       "    </tr>\n",
       "    <tr>\n",
       "      <th>6</th>\n",
       "      <td>0.000652</td>\n",
       "      <td>0.000645</td>\n",
       "    </tr>\n",
       "    <tr>\n",
       "      <th>7</th>\n",
       "      <td>0.000762</td>\n",
       "      <td>0.000802</td>\n",
       "    </tr>\n",
       "    <tr>\n",
       "      <th>8</th>\n",
       "      <td>0.000704</td>\n",
       "      <td>0.000673</td>\n",
       "    </tr>\n",
       "    <tr>\n",
       "      <th>9</th>\n",
       "      <td>0.000667</td>\n",
       "      <td>0.000706</td>\n",
       "    </tr>\n",
       "    <tr>\n",
       "      <th>10</th>\n",
       "      <td>0.000717</td>\n",
       "      <td>0.000729</td>\n",
       "    </tr>\n",
       "  </tbody>\n",
       "</table>\n",
       "</div>"
      ],
      "text/plain": [
       "    train_loss  valid_loss\n",
       "1     0.000653    0.000673\n",
       "2     0.000797    0.000722\n",
       "3     0.000656    0.000714\n",
       "4     0.000679    0.000703\n",
       "5     0.000591    0.000610\n",
       "6     0.000652    0.000645\n",
       "7     0.000762    0.000802\n",
       "8     0.000704    0.000673\n",
       "9     0.000667    0.000706\n",
       "10    0.000717    0.000729"
      ]
     },
     "execution_count": 13,
     "metadata": {},
     "output_type": "execute_result"
    }
   ],
   "source": [
    "data = {\"train_loss\":train_loss_sum,\"valid_loss\":valid_loss_sum}\n",
    "pd.DataFrame(data,index=range(1,11))"
   ]
  },
  {
   "cell_type": "code",
   "execution_count": 16,
   "metadata": {
    "ExecuteTime": {
     "end_time": "2020-08-10T09:10:33.990647Z",
     "start_time": "2020-08-10T09:10:33.983693Z"
    }
   },
   "outputs": [
    {
     "name": "stdout",
     "output_type": "stream",
     "text": [
      "0.005645446479320526 0.02738892287015915\n"
     ]
    }
   ],
   "source": [
    "print(w.mean().item(),b.item())"
   ]
  },
  {
   "cell_type": "code",
   "execution_count": null,
   "metadata": {},
   "outputs": [],
   "source": []
  }
 ],
 "metadata": {
  "kernelspec": {
   "display_name": "Python [conda env:Pytorch_envs]",
   "language": "python",
   "name": "conda-env-Pytorch_envs-py"
  },
  "language_info": {
   "codemirror_mode": {
    "name": "ipython",
    "version": 3
   },
   "file_extension": ".py",
   "mimetype": "text/x-python",
   "name": "python",
   "nbconvert_exporter": "python",
   "pygments_lexer": "ipython3",
   "version": "3.6.10"
  },
  "toc": {
   "base_numbering": 1,
   "nav_menu": {},
   "number_sections": true,
   "sideBar": true,
   "skip_h1_title": false,
   "title_cell": "Table of Contents",
   "title_sidebar": "Contents",
   "toc_cell": false,
   "toc_position": {},
   "toc_section_display": true,
   "toc_window_display": false
  },
  "varInspector": {
   "cols": {
    "lenName": 16,
    "lenType": 16,
    "lenVar": 40
   },
   "kernels_config": {
    "python": {
     "delete_cmd_postfix": "",
     "delete_cmd_prefix": "del ",
     "library": "var_list.py",
     "varRefreshCmd": "print(var_dic_list())"
    },
    "r": {
     "delete_cmd_postfix": ") ",
     "delete_cmd_prefix": "rm(",
     "library": "var_list.r",
     "varRefreshCmd": "cat(var_dic_list()) "
    }
   },
   "types_to_exclude": [
    "module",
    "function",
    "builtin_function_or_method",
    "instance",
    "_Feature"
   ],
   "window_display": false
  }
 },
 "nbformat": 4,
 "nbformat_minor": 2
}
