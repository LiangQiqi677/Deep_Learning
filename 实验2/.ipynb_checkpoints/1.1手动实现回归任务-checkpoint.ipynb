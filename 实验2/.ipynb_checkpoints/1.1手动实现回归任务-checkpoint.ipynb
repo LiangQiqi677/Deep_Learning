{
 "cells": [
  {
   "cell_type": "code",
   "execution_count": 1,
   "metadata": {
    "ExecuteTime": {
     "end_time": "2020-08-04T14:13:46.975275Z",
     "start_time": "2020-08-04T14:13:45.163959Z"
    }
   },
   "outputs": [],
   "source": [
    "import torch\n",
    "import numpy as np\n",
    "from torch.utils import data\n",
    "from matplotlib import pyplot as plt"
   ]
  },
  {
   "cell_type": "code",
   "execution_count": 2,
   "metadata": {
    "ExecuteTime": {
     "end_time": "2020-08-04T14:13:47.115668Z",
     "start_time": "2020-08-04T14:13:46.975275Z"
    }
   },
   "outputs": [
    {
     "name": "stdout",
     "output_type": "stream",
     "text": [
      "torch.Size([7000, 500])\n",
      "torch.Size([3000, 500])\n",
      "torch.Size([7000, 1])\n",
      "torch.Size([3000, 1])\n"
     ]
    }
   ],
   "source": [
    "#训练集7000，测试集3000（加起来为数据集大小10000）\n",
    "n_train, n_test  = 7000, 3000\n",
    "\n",
    "#定义模型参数\n",
    "num_inputs = 500\n",
    "\n",
    "#高维线性函数：y = 0.028+Σ0.0056x+ϵ   true_w[500,1]\n",
    "true_w, true_b = torch.ones(num_inputs,1)*0.0056, 0.028\n",
    "\n",
    "features = torch.randn((n_train+n_test),num_inputs)\n",
    "labels = torch.matmul(features, true_w) + true_b  #y = 0.028+Σ0.0056x  [7000,500]*[500,1]=[7000,1]\n",
    "labels += torch.tensor(np.random.normal(0, 0.01, size=labels.size()),dtype=torch.float) #加上噪声项ϵ\n",
    "\n",
    "#分出训练集样本、测试集样本、训练集标签、测试集标签\n",
    "train_features, test_features = features[:n_train, :], features[n_train:, :]\n",
    "train_labels, test_labels = labels[:n_train, :], labels[n_train:, :]\n",
    "\n",
    "print(train_features.shape)\n",
    "print(test_features.shape)\n",
    "print(train_labels.shape)\n",
    "print(test_labels.shape)"
   ]
  },
  {
   "cell_type": "code",
   "execution_count": 3,
   "metadata": {
    "ExecuteTime": {
     "end_time": "2020-08-04T14:13:47.178177Z",
     "start_time": "2020-08-04T14:13:47.119568Z"
    }
   },
   "outputs": [],
   "source": [
    "#定义随机初始化模型参数的函数\n",
    "w = torch.randn((num_inputs,1),requires_grad=True)\n",
    "b = torch.zeros(1,requires_grad=True)\n",
    "params = [w, b]\n",
    "\n",
    "#因为是线性函数，所以不用加激活函数\n",
    "#def relu(X):\n",
    "#    return torch.max(input=X, other=torch.tensor(0.0))\n",
    "\n",
    "#定义回归模型\n",
    "def net(X,w,b):\n",
    "    return torch.mm(X,w) + b\n",
    "\n",
    "#定义均方误差（回归函数损失函数可使用均方误差）\n",
    "def squared_loss(y_hat,y):\n",
    "    return ((y_hat-y.view(y_hat.size())) ** 2) / 2\n",
    "\n",
    "#定义随机梯度下降函数\n",
    "def SGD(params, lr):\n",
    "    for param in params:\n",
    "        param.data -= lr * param.grad"
   ]
  },
  {
   "cell_type": "code",
   "execution_count": 4,
   "metadata": {
    "ExecuteTime": {
     "end_time": "2020-08-04T14:14:14.458339Z",
     "start_time": "2020-08-04T14:13:47.186541Z"
    }
   },
   "outputs": [
    {
     "name": "stdout",
     "output_type": "stream",
     "text": [
      "epoch 1, loss_train 19.599493, loss_test 19.569647 \n",
      "epoch 2, loss_train 2.998299, loss_test 3.005795 \n",
      "epoch 3, loss_train 0.211285, loss_test 0.214297 \n",
      "epoch 4, loss_train 0.026659, loss_test 0.026628 \n",
      "epoch 5, loss_train 0.003233, loss_test 0.003090 \n",
      "epoch 6, loss_train 0.000935, loss_test 0.000943 \n",
      "epoch 7, loss_train 0.000698, loss_test 0.000718 \n",
      "epoch 8, loss_train 0.000855, loss_test 0.000838 \n",
      "epoch 9, loss_train 0.000547, loss_test 0.000533 \n",
      "epoch 10, loss_train 0.000770, loss_test 0.000763 \n",
      "epoch 11, loss_train 0.001014, loss_test 0.001042 \n",
      "epoch 12, loss_train 0.000675, loss_test 0.000662 \n",
      "epoch 13, loss_train 0.000723, loss_test 0.000686 \n",
      "epoch 14, loss_train 0.000734, loss_test 0.000722 \n",
      "epoch 15, loss_train 0.000739, loss_test 0.000723 \n",
      "epoch 16, loss_train 0.000551, loss_test 0.000560 \n",
      "epoch 17, loss_train 0.000729, loss_test 0.000687 \n",
      "epoch 18, loss_train 0.000587, loss_test 0.000608 \n",
      "epoch 19, loss_train 0.000911, loss_test 0.000929 \n",
      "epoch 20, loss_train 0.000692, loss_test 0.000686 \n",
      "epoch 21, loss_train 0.000737, loss_test 0.000737 \n",
      "epoch 22, loss_train 0.000885, loss_test 0.000851 \n",
      "epoch 23, loss_train 0.000864, loss_test 0.000859 \n",
      "epoch 24, loss_train 0.000669, loss_test 0.000656 \n",
      "epoch 25, loss_train 0.000567, loss_test 0.000567 \n",
      "epoch 26, loss_train 0.000710, loss_test 0.000731 \n",
      "epoch 27, loss_train 0.000882, loss_test 0.000876 \n",
      "epoch 28, loss_train 0.000662, loss_test 0.000670 \n",
      "epoch 29, loss_train 0.000734, loss_test 0.000756 \n",
      "epoch 30, loss_train 0.000811, loss_test 0.000806 \n",
      "epoch 31, loss_train 0.000696, loss_test 0.000725 \n",
      "epoch 32, loss_train 0.000802, loss_test 0.000758 \n",
      "epoch 33, loss_train 0.000661, loss_test 0.000676 \n",
      "epoch 34, loss_train 0.000876, loss_test 0.000869 \n",
      "epoch 35, loss_train 0.000733, loss_test 0.000775 \n",
      "epoch 36, loss_train 0.000634, loss_test 0.000632 \n",
      "epoch 37, loss_train 0.000625, loss_test 0.000650 \n",
      "epoch 38, loss_train 0.000672, loss_test 0.000673 \n",
      "epoch 39, loss_train 0.000699, loss_test 0.000714 \n",
      "epoch 40, loss_train 0.000777, loss_test 0.000761 \n",
      "epoch 41, loss_train 0.000579, loss_test 0.000567 \n",
      "epoch 42, loss_train 0.000607, loss_test 0.000617 \n",
      "epoch 43, loss_train 0.000846, loss_test 0.000858 \n",
      "epoch 44, loss_train 0.000689, loss_test 0.000674 \n",
      "epoch 45, loss_train 0.000815, loss_test 0.000771 \n",
      "epoch 46, loss_train 0.000810, loss_test 0.000777 \n",
      "epoch 47, loss_train 0.000698, loss_test 0.000719 \n",
      "epoch 48, loss_train 0.000786, loss_test 0.000811 \n",
      "epoch 49, loss_train 0.000917, loss_test 0.000976 \n",
      "epoch 50, loss_train 0.000564, loss_test 0.000540 \n",
      "epoch 51, loss_train 0.000518, loss_test 0.000529 \n",
      "epoch 52, loss_train 0.000729, loss_test 0.000693 \n",
      "epoch 53, loss_train 0.000921, loss_test 0.000948 \n",
      "epoch 54, loss_train 0.000763, loss_test 0.000762 \n",
      "epoch 55, loss_train 0.001021, loss_test 0.001054 \n",
      "epoch 56, loss_train 0.000747, loss_test 0.000717 \n",
      "epoch 57, loss_train 0.000571, loss_test 0.000583 \n",
      "epoch 58, loss_train 0.000895, loss_test 0.000897 \n",
      "epoch 59, loss_train 0.000830, loss_test 0.000810 \n",
      "epoch 60, loss_train 0.000888, loss_test 0.000904 \n",
      "epoch 61, loss_train 0.000838, loss_test 0.000758 \n",
      "epoch 62, loss_train 0.001044, loss_test 0.001053 \n",
      "epoch 63, loss_train 0.000729, loss_test 0.000758 \n",
      "epoch 64, loss_train 0.000733, loss_test 0.000733 \n",
      "epoch 65, loss_train 0.000877, loss_test 0.000852 \n",
      "epoch 66, loss_train 0.000643, loss_test 0.000623 \n",
      "epoch 67, loss_train 0.000719, loss_test 0.000724 \n",
      "epoch 68, loss_train 0.000725, loss_test 0.000708 \n",
      "epoch 69, loss_train 0.000896, loss_test 0.000870 \n",
      "epoch 70, loss_train 0.000614, loss_test 0.000619 \n",
      "epoch 71, loss_train 0.000875, loss_test 0.000870 \n",
      "epoch 72, loss_train 0.000784, loss_test 0.000752 \n",
      "epoch 73, loss_train 0.000680, loss_test 0.000669 \n",
      "epoch 74, loss_train 0.000505, loss_test 0.000510 \n",
      "epoch 75, loss_train 0.000561, loss_test 0.000575 \n",
      "epoch 76, loss_train 0.000783, loss_test 0.000801 \n",
      "epoch 77, loss_train 0.000821, loss_test 0.000809 \n",
      "epoch 78, loss_train 0.000600, loss_test 0.000613 \n",
      "epoch 79, loss_train 0.000649, loss_test 0.000654 \n",
      "epoch 80, loss_train 0.000640, loss_test 0.000657 \n",
      "epoch 81, loss_train 0.000672, loss_test 0.000672 \n",
      "epoch 82, loss_train 0.000588, loss_test 0.000584 \n",
      "epoch 83, loss_train 0.000767, loss_test 0.000746 \n",
      "epoch 84, loss_train 0.000691, loss_test 0.000688 \n",
      "epoch 85, loss_train 0.000619, loss_test 0.000593 \n",
      "epoch 86, loss_train 0.000768, loss_test 0.000729 \n",
      "epoch 87, loss_train 0.000641, loss_test 0.000634 \n",
      "epoch 88, loss_train 0.000740, loss_test 0.000735 \n",
      "epoch 89, loss_train 0.000609, loss_test 0.000611 \n",
      "epoch 90, loss_train 0.000704, loss_test 0.000689 \n",
      "epoch 91, loss_train 0.000738, loss_test 0.000727 \n",
      "epoch 92, loss_train 0.000816, loss_test 0.000829 \n",
      "epoch 93, loss_train 0.000696, loss_test 0.000682 \n",
      "epoch 94, loss_train 0.000639, loss_test 0.000632 \n",
      "epoch 95, loss_train 0.000605, loss_test 0.000570 \n",
      "epoch 96, loss_train 0.000919, loss_test 0.000903 \n",
      "epoch 97, loss_train 0.000801, loss_test 0.000816 \n",
      "epoch 98, loss_train 0.000809, loss_test 0.000779 \n",
      "epoch 99, loss_train 0.000782, loss_test 0.000741 \n",
      "epoch 100, loss_train 0.000655, loss_test 0.000660 \n"
     ]
    }
   ],
   "source": [
    "#定义训练参数\n",
    "batch_size, num_epochs, lr = 128, 100, 0.003\n",
    "\n",
    "#划分数据集\n",
    "dataset = torch.utils.data.TensorDataset(train_features,train_labels)\n",
    "train_iter = torch.utils.data.DataLoader(dataset, batch_size, shuffle=True)\n",
    "\n",
    "#训练模型\n",
    "loss_train = []\n",
    "loss_test = []\n",
    "for epoch in range(num_epochs):\n",
    "    for X, y in train_iter:\n",
    "        y_hat = net(X,w,b)\n",
    "        loss = squared_loss(y_hat,y).sum() \n",
    "        loss.backward()       #计算损失     \n",
    "        SGD(params, lr)    #更新梯度\n",
    "        w.grad.data.zero_()\n",
    "        b.grad.data.zero_()\n",
    "    loss_train.append(squared_loss(net(train_features,w,b),train_labels).mean().item()) #训练集损失\n",
    "    loss_test.append(squared_loss(net(test_features,w,b),test_labels).mean().item())    #测试集损失\n",
    "    print('epoch %d, loss_train %f, loss_test %f '% (epoch+1, loss_train[epoch], loss_test[epoch]))"
   ]
  },
  {
   "cell_type": "code",
   "execution_count": 7,
   "metadata": {
    "ExecuteTime": {
     "end_time": "2020-08-04T14:14:44.087386Z",
     "start_time": "2020-08-04T14:14:43.734844Z"
    }
   },
   "outputs": [
    {
     "data": {
      "image/png": "[encoded data removed]",
      "text/plain": [
       "<Figure size 720x504 with 1 Axes>"
      ]
     },
     "metadata": {},
     "output_type": "display_data"
    }
   ],
   "source": [
    "plt.figure(figsize=(10,7))\n",
    "plt.plot(loss_train,label='train',color='royalblue')\n",
    "plt.plot(loss_test,label='test',linestyle=':', color='orange')\n",
    "plt.ylabel(\"loss\")\n",
    "plt.xlabel(\"epoch\")\n",
    "plt.legend()\n",
    "plt.show()"
   ]
  },
  {
   "cell_type": "code",
   "execution_count": 12,
   "metadata": {
    "ExecuteTime": {
     "end_time": "2020-08-04T15:16:31.663603Z",
     "start_time": "2020-08-04T15:16:31.653117Z"
    }
   },
   "outputs": [
    {
     "name": "stdout",
     "output_type": "stream",
     "text": [
      "tensor(0.0056, grad_fn=<MeanBackward0>)\n",
      "tensor([0.0284], requires_grad=True)\n"
     ]
    }
   ],
   "source": [
    "print(w.mean())\n",
    "print(b)"
   ]
  },
  {
   "cell_type": "code",
   "execution_count": null,
   "metadata": {},
   "outputs": [],
   "source": []
  }
 ],
 "metadata": {
  "kernelspec": {
   "display_name": "Python [conda env:Pytorch_envs]",
   "language": "python",
   "name": "conda-env-Pytorch_envs-py"
  },
  "language_info": {
   "codemirror_mode": {
    "name": "ipython",
    "version": 3
   },
   "file_extension": ".py",
   "mimetype": "text/x-python",
   "name": "python",
   "nbconvert_exporter": "python",
   "pygments_lexer": "ipython3",
   "version": "3.6.10"
  },
  "toc": {
   "base_numbering": 1,
   "nav_menu": {},
   "number_sections": true,
   "sideBar": true,
   "skip_h1_title": false,
   "title_cell": "Table of Contents",
   "title_sidebar": "Contents",
   "toc_cell": false,
   "toc_position": {},
   "toc_section_display": true,
   "toc_window_display": false
  },
  "varInspector": {
   "cols": {
    "lenName": 16,
    "lenType": 16,
    "lenVar": 40
   },
   "kernels_config": {
    "python": {
     "delete_cmd_postfix": "",
     "delete_cmd_prefix": "del ",
     "library": "var_list.py",
     "varRefreshCmd": "print(var_dic_list())"
    },
    "r": {
     "delete_cmd_postfix": ") ",
     "delete_cmd_prefix": "rm(",
     "library": "var_list.r",
     "varRefreshCmd": "cat(var_dic_list()) "
    }
   },
   "position": {
    "height": "304.667px",
    "left": "789px",
    "right": "20px",
    "top": "78px",
    "width": "458.667px"
   },
   "types_to_exclude": [
    "module",
    "function",
    "builtin_function_or_method",
    "instance",
    "_Feature"
   ],
   "window_display": false
  }
 },
 "nbformat": 4,
 "nbformat_minor": 2
}
