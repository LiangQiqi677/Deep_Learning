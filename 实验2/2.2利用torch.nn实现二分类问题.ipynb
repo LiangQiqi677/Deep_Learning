{
 "cells": [
  {
   "cell_type": "code",
   "execution_count": 4,
   "metadata": {
    "ExecuteTime": {
     "end_time": "2020-08-05T08:18:04.117782Z",
     "start_time": "2020-08-05T08:18:04.106811Z"
    }
   },
   "outputs": [],
   "source": [
    "import torch\n",
    "import numpy as np\n",
    "from torch.utils import data\n",
    "from torch.nn import init\n",
    "from matplotlib import pyplot as plt\n",
    "import torch.optim as optim"
   ]
  },
  {
   "cell_type": "code",
   "execution_count": 2,
   "metadata": {
    "ExecuteTime": {
     "end_time": "2020-08-05T08:09:36.599820Z",
     "start_time": "2020-08-05T08:09:36.346499Z"
    }
   },
   "outputs": [],
   "source": [
    "#训练集7000，测试集3000（加起来为数据集大小10000）\n",
    "n_train, n_test  = 7000, 3000\n",
    "\n",
    "#定义模型参数\n",
    "num_inputs, num_outputs, num_hiddens = 200, 1, 256\n",
    "\n",
    "n_data = torch.ones((n_train+n_test), num_inputs) \n",
    "x1 = torch.normal(2 * n_data, 1)      #正例特征\n",
    "y1 = torch.zeros((n_train+n_test),1)  #正例标签\n",
    "x2 = torch.normal(-2 * n_data, 1)     #负例特征\n",
    "y2 = torch.ones((n_train+n_test),1)   #负例标签\n",
    "\n",
    "x = torch.cat((x1, x2), 0).type(torch.FloatTensor)\n",
    "y = torch.cat((y1, y2), 0).type(torch.FloatTensor)\n",
    "\n",
    "#分出训练集样本、测试集样本、训练集标签、测试集标签\n",
    "train_features = torch.cat((x1[:n_train, :],x2[:n_train, :]), 0)\n",
    "test_features = torch.cat((x1[n_train:, :],x2[n_train:, :]), 0)\n",
    "train_labels = torch.cat((y1[:n_train, :],y2[:n_train, :]), 0)\n",
    "test_labels = torch.cat((y1[n_train:, :],y2[n_train:, :]), 0)"
   ]
  },
  {
   "cell_type": "code",
   "execution_count": 5,
   "metadata": {
    "ExecuteTime": {
     "end_time": "2020-08-05T08:18:06.660996Z",
     "start_time": "2020-08-05T08:18:06.573172Z"
    }
   },
   "outputs": [
    {
     "data": {
      "text/plain": [
       "Parameter containing:\n",
       "tensor([0.], requires_grad=True)"
      ]
     },
     "execution_count": 5,
     "metadata": {},
     "output_type": "execute_result"
    }
   ],
   "source": [
    "class Binary_Classification(torch.nn.Module):\n",
    "    def __init__(self):\n",
    "        super(Binary_Classification, self).__init__()\n",
    "        self.hidden = torch.nn.Linear(num_inputs, num_hiddens) #定义隐藏层函数\n",
    "        self.relu = torch.nn.ReLU()                       #定义隐藏层激活函数\n",
    "        self.output = torch.nn.Linear(num_hiddens, num_outputs)#定义输出层函数\n",
    "        self.sigmoid = torch.nn.Sigmoid()                      #定义输出层激活函数，此处定义Sigmoid了，损失函数可以只用BCELoss\n",
    "\n",
    "    def forward(self, x):\n",
    "        x = self.hidden(x)\n",
    "        x = self.relu(x)\n",
    "        x = self.output(x)\n",
    "        x = self.sigmoid(x)\n",
    "        return x\n",
    "        \n",
    "net = Binary_Classification()\n",
    "\n",
    "#初始化模型参数\n",
    "init.normal_(net.hidden.weight, mean=0, std=0.01)\n",
    "init.normal_(net.output.weight, mean=0, std=0.01)\n",
    "init.constant_(net.hidden.bias, val=0)\n",
    "init.constant_(net.output.bias, val=0)"
   ]
  },
  {
   "cell_type": "code",
   "execution_count": 6,
   "metadata": {
    "ExecuteTime": {
     "end_time": "2020-08-05T08:22:46.057036Z",
     "start_time": "2020-08-05T08:21:26.440454Z"
    }
   },
   "outputs": [
    {
     "name": "stdout",
     "output_type": "stream",
     "text": [
      "epoch 1, loss_train 0.094052, loss_test 0.094120 \n",
      "epoch 2, loss_train 0.026262, loss_test 0.026306 \n",
      "epoch 3, loss_train 0.013389, loss_test 0.013419 \n",
      "epoch 4, loss_train 0.008582, loss_test 0.008605 \n",
      "epoch 5, loss_train 0.006174, loss_test 0.006193 \n",
      "epoch 6, loss_train 0.004759, loss_test 0.004774 \n",
      "epoch 7, loss_train 0.003838, loss_test 0.003851 \n",
      "epoch 8, loss_train 0.003197, loss_test 0.003209 \n",
      "epoch 9, loss_train 0.002728, loss_test 0.002738 \n",
      "epoch 10, loss_train 0.002371, loss_test 0.002380 \n",
      "epoch 11, loss_train 0.002091, loss_test 0.002100 \n",
      "epoch 12, loss_train 0.001867, loss_test 0.001875 \n",
      "epoch 13, loss_train 0.001683, loss_test 0.001690 \n",
      "epoch 14, loss_train 0.001530, loss_test 0.001537 \n",
      "epoch 15, loss_train 0.001401, loss_test 0.001407 \n",
      "epoch 16, loss_train 0.001291, loss_test 0.001296 \n",
      "epoch 17, loss_train 0.001195, loss_test 0.001201 \n",
      "epoch 18, loss_train 0.001112, loss_test 0.001118 \n",
      "epoch 19, loss_train 0.001039, loss_test 0.001044 \n",
      "epoch 20, loss_train 0.000975, loss_test 0.000980 \n",
      "epoch 21, loss_train 0.000917, loss_test 0.000922 \n",
      "epoch 22, loss_train 0.000866, loss_test 0.000870 \n",
      "epoch 23, loss_train 0.000820, loss_test 0.000824 \n",
      "epoch 24, loss_train 0.000778, loss_test 0.000782 \n",
      "epoch 25, loss_train 0.000739, loss_test 0.000743 \n",
      "epoch 26, loss_train 0.000705, loss_test 0.000708 \n",
      "epoch 27, loss_train 0.000673, loss_test 0.000676 \n",
      "epoch 28, loss_train 0.000644, loss_test 0.000647 \n",
      "epoch 29, loss_train 0.000617, loss_test 0.000620 \n",
      "epoch 30, loss_train 0.000592, loss_test 0.000595 \n",
      "epoch 31, loss_train 0.000569, loss_test 0.000572 \n",
      "epoch 32, loss_train 0.000547, loss_test 0.000550 \n",
      "epoch 33, loss_train 0.000527, loss_test 0.000530 \n",
      "epoch 34, loss_train 0.000508, loss_test 0.000511 \n",
      "epoch 35, loss_train 0.000491, loss_test 0.000494 \n",
      "epoch 36, loss_train 0.000475, loss_test 0.000477 \n",
      "epoch 37, loss_train 0.000459, loss_test 0.000462 \n",
      "epoch 38, loss_train 0.000445, loss_test 0.000447 \n",
      "epoch 39, loss_train 0.000431, loss_test 0.000433 \n",
      "epoch 40, loss_train 0.000418, loss_test 0.000421 \n",
      "epoch 41, loss_train 0.000406, loss_test 0.000408 \n",
      "epoch 42, loss_train 0.000394, loss_test 0.000397 \n",
      "epoch 43, loss_train 0.000383, loss_test 0.000386 \n",
      "epoch 44, loss_train 0.000373, loss_test 0.000375 \n",
      "epoch 45, loss_train 0.000363, loss_test 0.000365 \n",
      "epoch 46, loss_train 0.000354, loss_test 0.000356 \n",
      "epoch 47, loss_train 0.000345, loss_test 0.000347 \n",
      "epoch 48, loss_train 0.000336, loss_test 0.000338 \n",
      "epoch 49, loss_train 0.000328, loss_test 0.000330 \n",
      "epoch 50, loss_train 0.000320, loss_test 0.000322 \n",
      "epoch 51, loss_train 0.000313, loss_test 0.000315 \n",
      "epoch 52, loss_train 0.000306, loss_test 0.000308 \n",
      "epoch 53, loss_train 0.000299, loss_test 0.000301 \n",
      "epoch 54, loss_train 0.000292, loss_test 0.000294 \n",
      "epoch 55, loss_train 0.000286, loss_test 0.000288 \n",
      "epoch 56, loss_train 0.000280, loss_test 0.000282 \n",
      "epoch 57, loss_train 0.000274, loss_test 0.000276 \n",
      "epoch 58, loss_train 0.000269, loss_test 0.000270 \n",
      "epoch 59, loss_train 0.000263, loss_test 0.000265 \n",
      "epoch 60, loss_train 0.000258, loss_test 0.000260 \n",
      "epoch 61, loss_train 0.000253, loss_test 0.000255 \n",
      "epoch 62, loss_train 0.000248, loss_test 0.000250 \n",
      "epoch 63, loss_train 0.000244, loss_test 0.000245 \n",
      "epoch 64, loss_train 0.000239, loss_test 0.000241 \n",
      "epoch 65, loss_train 0.000235, loss_test 0.000237 \n",
      "epoch 66, loss_train 0.000231, loss_test 0.000232 \n",
      "epoch 67, loss_train 0.000227, loss_test 0.000228 \n",
      "epoch 68, loss_train 0.000223, loss_test 0.000224 \n",
      "epoch 69, loss_train 0.000219, loss_test 0.000221 \n",
      "epoch 70, loss_train 0.000215, loss_test 0.000217 \n",
      "epoch 71, loss_train 0.000212, loss_test 0.000213 \n",
      "epoch 72, loss_train 0.000208, loss_test 0.000210 \n",
      "epoch 73, loss_train 0.000205, loss_test 0.000207 \n",
      "epoch 74, loss_train 0.000202, loss_test 0.000203 \n",
      "epoch 75, loss_train 0.000199, loss_test 0.000200 \n",
      "epoch 76, loss_train 0.000196, loss_test 0.000197 \n",
      "epoch 77, loss_train 0.000193, loss_test 0.000194 \n",
      "epoch 78, loss_train 0.000190, loss_test 0.000191 \n",
      "epoch 79, loss_train 0.000187, loss_test 0.000188 \n",
      "epoch 80, loss_train 0.000184, loss_test 0.000186 \n",
      "epoch 81, loss_train 0.000182, loss_test 0.000183 \n",
      "epoch 82, loss_train 0.000179, loss_test 0.000180 \n",
      "epoch 83, loss_train 0.000177, loss_test 0.000178 \n",
      "epoch 84, loss_train 0.000174, loss_test 0.000175 \n",
      "epoch 85, loss_train 0.000172, loss_test 0.000173 \n",
      "epoch 86, loss_train 0.000169, loss_test 0.000171 \n",
      "epoch 87, loss_train 0.000167, loss_test 0.000168 \n",
      "epoch 88, loss_train 0.000165, loss_test 0.000166 \n",
      "epoch 89, loss_train 0.000163, loss_test 0.000164 \n",
      "epoch 90, loss_train 0.000161, loss_test 0.000162 \n",
      "epoch 91, loss_train 0.000159, loss_test 0.000160 \n",
      "epoch 92, loss_train 0.000157, loss_test 0.000158 \n",
      "epoch 93, loss_train 0.000155, loss_test 0.000156 \n",
      "epoch 94, loss_train 0.000153, loss_test 0.000154 \n",
      "epoch 95, loss_train 0.000151, loss_test 0.000152 \n",
      "epoch 96, loss_train 0.000149, loss_test 0.000150 \n",
      "epoch 97, loss_train 0.000147, loss_test 0.000148 \n",
      "epoch 98, loss_train 0.000146, loss_test 0.000147 \n",
      "epoch 99, loss_train 0.000144, loss_test 0.000145 \n",
      "epoch 100, loss_train 0.000142, loss_test 0.000143 \n"
     ]
    }
   ],
   "source": [
    "#定义训练参数\n",
    "batch_size, num_epochs, lr = 128, 100, 0.003\n",
    "\n",
    "#定义损失函数和优化器\n",
    "loss = torch.nn.BCELoss()  # BCEWithLogitsLoss = BCELoss + Sigmoid\n",
    "optimizer = optim.SGD(net.parameters(), lr)\n",
    "\n",
    "#划分数据集\n",
    "dataset = torch.utils.data.TensorDataset(train_features,train_labels)\n",
    "train_iter = torch.utils.data.DataLoader(dataset, batch_size, shuffle=True)\n",
    "\n",
    "#训练模型\n",
    "loss_train = []\n",
    "loss_test = []\n",
    "for epoch in range(num_epochs):\n",
    "    for X, y in train_iter:\n",
    "        y_hat = net(X)\n",
    "        l = loss(y_hat,y).sum() \n",
    "        optimizer.zero_grad()\n",
    "        l.backward()       #计算损失     \n",
    "        optimizer.step()   #更新梯度\n",
    "    loss_train.append(loss(net(train_features),train_labels).mean().item()) #训练集损失\n",
    "    loss_test.append(loss(net(test_features),test_labels).mean().item())    #测试集损失\n",
    "    print('epoch %d, loss_train %f, loss_test %f '% (epoch+1, loss_train[epoch], loss_test[epoch]))"
   ]
  },
  {
   "cell_type": "code",
   "execution_count": 7,
   "metadata": {
    "ExecuteTime": {
     "end_time": "2020-08-05T08:23:32.652308Z",
     "start_time": "2020-08-05T08:23:32.241997Z"
    }
   },
   "outputs": [
    {
     "data": {
      "image/png": "[encoded data removed]",
      "text/plain": [
       "<Figure size 720x504 with 1 Axes>"
      ]
     },
     "metadata": {},
     "output_type": "display_data"
    }
   ],
   "source": [
    "plt.figure(figsize=(10,7))\n",
    "plt.plot(loss_train,label='train',color='royalblue')\n",
    "plt.plot(loss_test,label='test',linestyle=':', color='orange')\n",
    "plt.ylabel(\"loss\")\n",
    "plt.xlabel(\"epoch\")\n",
    "plt.legend()\n",
    "plt.show()"
   ]
  },
  {
   "cell_type": "code",
   "execution_count": null,
   "metadata": {},
   "outputs": [],
   "source": []
  }
 ],
 "metadata": {
  "kernelspec": {
   "display_name": "Python [conda env:Pytorch_envs]",
   "language": "python",
   "name": "conda-env-Pytorch_envs-py"
  },
  "language_info": {
   "codemirror_mode": {
    "name": "ipython",
    "version": 3
   },
   "file_extension": ".py",
   "mimetype": "text/x-python",
   "name": "python",
   "nbconvert_exporter": "python",
   "pygments_lexer": "ipython3",
   "version": "3.6.10"
  },
  "toc": {
   "base_numbering": 1,
   "nav_menu": {},
   "number_sections": true,
   "sideBar": true,
   "skip_h1_title": false,
   "title_cell": "Table of Contents",
   "title_sidebar": "Contents",
   "toc_cell": false,
   "toc_position": {},
   "toc_section_display": true,
   "toc_window_display": false
  },
  "varInspector": {
   "cols": {
    "lenName": 16,
    "lenType": 16,
    "lenVar": 40
   },
   "kernels_config": {
    "python": {
     "delete_cmd_postfix": "",
     "delete_cmd_prefix": "del ",
     "library": "var_list.py",
     "varRefreshCmd": "print(var_dic_list())"
    },
    "r": {
     "delete_cmd_postfix": ") ",
     "delete_cmd_prefix": "rm(",
     "library": "var_list.r",
     "varRefreshCmd": "cat(var_dic_list()) "
    }
   },
   "types_to_exclude": [
    "module",
    "function",
    "builtin_function_or_method",
    "instance",
    "_Feature"
   ],
   "window_display": false
  }
 },
 "nbformat": 4,
 "nbformat_minor": 2
}
