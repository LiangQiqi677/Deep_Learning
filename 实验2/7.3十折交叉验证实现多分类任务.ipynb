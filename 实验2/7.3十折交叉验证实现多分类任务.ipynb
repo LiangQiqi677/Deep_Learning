{
 "cells": [
  {
   "cell_type": "code",
   "execution_count": 1,
   "metadata": {
    "ExecuteTime": {
     "end_time": "2020-08-10T13:50:52.446113Z",
     "start_time": "2020-08-10T13:50:50.390248Z"
    }
   },
   "outputs": [],
   "source": [
    "import torch\n",
    "import numpy as np\n",
    "import torchvision\n",
    "import torchvision.transforms as transforms\n",
    "from torch.utils import data\n",
    "from matplotlib import pyplot as plt\n",
    "import pandas as pd"
   ]
  },
  {
   "cell_type": "code",
   "execution_count": 2,
   "metadata": {
    "ExecuteTime": {
     "end_time": "2020-08-10T13:52:45.861357Z",
     "start_time": "2020-08-10T13:50:53.854832Z"
    }
   },
   "outputs": [],
   "source": [
    "#加载数据集\n",
    "mnist_train = torchvision.datasets.FashionMNIST(root='~/Datasets/FashionMNIST', train=True,\n",
    "download=True, transform=transforms.ToTensor())\n",
    "mnist_test = torchvision.datasets.FashionMNIST(root='~/Datasets/FashionMNIST', train=False,\n",
    "download=True, transform=transforms.ToTensor())\n",
    "\n",
    "#划分数据集\n",
    "n_data = 10000\n",
    "temp = []\n",
    "for i in range(n_data):\n",
    "    temp.append(list(mnist_train[i][0]))\n",
    "labels = []\n",
    "for i in range(n_data):\n",
    "    labels.append(mnist_train[i][1])\n",
    "labels = torch.LongTensor(labels).view(-1,1)\n",
    "features = temp[0][0].view(-1,784)\n",
    "for i in range(1,n_data):\n",
    "    features = torch.cat((features,temp[i][0].view(-1,784)), dim=0)"
   ]
  },
  {
   "cell_type": "code",
   "execution_count": 3,
   "metadata": {
    "ExecuteTime": {
     "end_time": "2020-08-10T13:54:32.015638Z",
     "start_time": "2020-08-10T13:54:31.931184Z"
    }
   },
   "outputs": [],
   "source": [
    "#定义模型参数\n",
    "num_inputs, num_outputs, num_hiddens = 784, 10, 256\n",
    "\n",
    "#定义随机初始化模型参数的函数\n",
    "W1 = torch.tensor(np.random.normal(0, 0.01, (num_hiddens, num_inputs)), dtype=torch.float, requires_grad=True)\n",
    "b1 = torch.zeros(num_hiddens, dtype=torch.float, requires_grad=True)\n",
    "W2 = torch.tensor(np.random.normal(0, 0.01, (num_outputs, num_hiddens)), dtype=torch.float, requires_grad=True)\n",
    "b2 = torch.zeros(num_outputs, dtype=torch.float, requires_grad=True)\n",
    "params = [W1, b1, W2, b2]\n",
    "\n",
    "#定义linear层函数\n",
    "def linear(X, w, b):\n",
    "    return torch.matmul(X, w.t())+ b\n",
    "\n",
    "#定义隐藏层激活函数\n",
    "def relu(X):\n",
    "    return torch.max(input=X, other=torch.tensor(0.0))\n",
    "\n",
    "#定义分类模型\n",
    "def net(X, W1, W2, b1, b2):\n",
    "    X = X.view((-1, num_inputs))          \n",
    "    linear_1 = linear(X, W1, b1)\n",
    "    R = relu(linear_1)\n",
    "    linear_2 = linear(R, W2, b2)\n",
    "    return linear_2\n",
    "\n",
    "#定义交叉熵损失函数，CrossEntropyLoss自带Softmax，所以分类模型中不用加Softmax层\n",
    "loss = torch.nn.CrossEntropyLoss()\n",
    "\n",
    "#定义随机梯度下降函数\n",
    "def SGD(params, lr):\n",
    "    for param in params:\n",
    "        param.data -= lr * param.grad"
   ]
  },
  {
   "cell_type": "code",
   "execution_count": 4,
   "metadata": {
    "ExecuteTime": {
     "end_time": "2020-08-10T13:57:41.838392Z",
     "start_time": "2020-08-10T13:56:30.702782Z"
    }
   },
   "outputs": [
    {
     "name": "stdout",
     "output_type": "stream",
     "text": [
      "第1折交叉验证结果：train_loss 0.999084, valid_loss 1.001616, train_acc 0.655222, valid_acc 0.667000\n",
      "第2折交叉验证结果：train_loss 0.999315, valid_loss 0.997355, train_acc 0.664889, valid_acc 0.667000\n",
      "第3折交叉验证结果：train_loss 0.998402, valid_loss 1.024585, train_acc 0.646667, valid_acc 0.619000\n",
      "第4折交叉验证结果：train_loss 0.996760, valid_loss 1.002748, train_acc 0.666667, valid_acc 0.660000\n",
      "第5折交叉验证结果：train_loss 1.018690, valid_loss 0.959124, train_acc 0.658778, valid_acc 0.695000\n",
      "第6折交叉验证结果：train_loss 0.993153, valid_loss 1.007861, train_acc 0.655667, valid_acc 0.648000\n",
      "第7折交叉验证结果：train_loss 0.995855, valid_loss 1.001524, train_acc 0.658111, valid_acc 0.644000\n",
      "第8折交叉验证结果：train_loss 0.998261, valid_loss 1.001882, train_acc 0.664333, valid_acc 0.658000\n",
      "第9折交叉验证结果：train_loss 0.995441, valid_loss 1.008716, train_acc 0.638000, valid_acc 0.639000\n",
      "第10折交叉验证结果：train_loss 0.979929, valid_loss 1.006895, train_acc 0.653667, valid_acc 0.638000\n",
      "\n",
      "\n",
      "最终k折交叉验证结果：\n",
      "average train loss 0.997489, average train accuracy 0.656200\n",
      "average valid loss 1.001231, average valid accuracy 0.653500\n"
     ]
    }
   ],
   "source": [
    "#定义k者交叉验证\n",
    "def get_kfold_data(k, i, X, y):\n",
    "    \n",
    "    fold_size = X.shape[0] // k\n",
    "\n",
    "    val_start = i * fold_size           \n",
    "    if i != k-1:\n",
    "        val_end = (i+1) * fold_size\n",
    "        X_valid, y_valid = X[val_start:val_end], y[val_start:val_end]\n",
    "        X_train = torch.cat( (X[:val_start], X[val_end:]), dim=0 )\n",
    "        y_train = torch.cat( (y[:val_start], y[val_end:]), dim=0 )\n",
    "    else:\n",
    "        X_valid, y_valid = X[val_start:], y[val_start:]\n",
    "        X_train = X[0:val_start]\n",
    "        y_train = y[0:val_start]\n",
    "    \n",
    "    return X_train, y_train, X_valid, y_valid\n",
    "\n",
    "#每一折的实验结果\n",
    "train_loss_sum, valid_loss_sum = [],[]\n",
    "train_acc_sum, valid_acc_sum = [],[]\n",
    "\n",
    "def k_fold(k, X_train, y_train):\n",
    "    \n",
    "    for i in range(k):\n",
    "        train_features, train_labels, test_features, test_labels = get_kfold_data(k, i, X_train, y_train)\n",
    "        train_loss, valid_loss, train_acc, valid_acc = train(net, train_features, train_labels, test_features, test_labels)\n",
    "        train_loss_sum.append(train_loss)\n",
    "        valid_loss_sum.append(valid_loss)\n",
    "        train_acc_sum.append(train_acc)\n",
    "        valid_acc_sum.append(valid_acc)\n",
    "        print('第%d折交叉验证结果：train_loss %f, valid_loss %f, train_acc %f, valid_acc %f' % \n",
    "              (i+1, train_loss, valid_loss, train_acc, valid_acc))\n",
    "    print('\\n')\n",
    "    print('最终k折交叉验证结果：')\n",
    "    print('average train loss %f, average train accuracy %f' % \n",
    "          (np.array(train_loss_sum).mean().item(), np.array(train_acc_sum).mean().item()))\n",
    "    print('average valid loss %f, average valid accuracy %f' % \n",
    "          (np.array(valid_loss_sum).mean().item(), np.array(valid_acc_sum).mean().item()))\n",
    "\n",
    "def train(net, X_train, y_train, X_valid, y_valid):\n",
    "    \n",
    "    #定义训练参数\n",
    "    batch_size, num_epochs, lr = 128, 10, 0.01\n",
    "\n",
    "    #定义随机初始化模型参数的函数\n",
    "    W1 = torch.tensor(np.random.normal(0, 0.01, (num_hiddens, num_inputs)), dtype=torch.float, requires_grad=True)\n",
    "    b1 = torch.zeros(num_hiddens, dtype=torch.float, requires_grad=True)\n",
    "    W2 = torch.tensor(np.random.normal(0, 0.01, (num_outputs, num_hiddens)), dtype=torch.float, requires_grad=True)\n",
    "    b2 = torch.zeros(num_outputs, dtype=torch.float, requires_grad=True)\n",
    "    params = [W1, b1, W2, b2]\n",
    "    \n",
    "    #划分数据集\n",
    "    dataset = torch.utils.data.TensorDataset(X_train,y_train)\n",
    "    train_iter = torch.utils.data.DataLoader(dataset, batch_size, shuffle=True)\n",
    "\n",
    "    for epoch in range(num_epochs):\n",
    "        for X, y in train_iter:\n",
    "            y_hat = net(X, W1, W2, b1, b2)\n",
    "            l = loss(y_hat,y.view(-1)).sum() \n",
    "            l.backward()       #计算损失     \n",
    "            SGD(params, lr)       #更新梯度\n",
    "            W1.grad.data.zero_()\n",
    "            b1.grad.data.zero_()\n",
    "            W2.grad.data.zero_()\n",
    "            b2.grad.data.zero_()\n",
    "    loss_train = loss(net(X_train, W1, W2, b1, b2),y_train.view(-1)).mean().item() #训练集损失\n",
    "    loss_test = loss(net(X_valid, W1, W2, b1, b2),y_valid.view(-1)).mean().item()    #测试集损失\n",
    "    acc_train = (net(X_train, W1, W2, b1, b2).argmax(dim=1) == y_train.view(-1)).sum().item() / (y_train.shape[0]) #训练集准确率\n",
    "    acc_test = (net(X_valid, W1, W2, b1, b2).argmax(dim=1) == y_valid.view(-1)).sum().item() / (y_valid.shape[0])  #测试集准确率\n",
    "    #最后训练时的误差会是本次代码运行的最优误差，所以只需要返回最后训练的误差即可\n",
    "    return loss_train, loss_test, acc_train, acc_test\n",
    "\n",
    "k_fold(10, features, labels)"
   ]
  },
  {
   "cell_type": "code",
   "execution_count": 5,
   "metadata": {
    "ExecuteTime": {
     "end_time": "2020-08-10T13:59:59.683015Z",
     "start_time": "2020-08-10T13:59:59.658107Z"
    }
   },
   "outputs": [
    {
     "data": {
      "text/html": [
       "<div>\n",
       "<style>\n",
       "    .dataframe thead tr:only-child th {\n",
       "        text-align: right;\n",
       "    }\n",
       "\n",
       "    .dataframe thead th {\n",
       "        text-align: left;\n",
       "    }\n",
       "\n",
       "    .dataframe tbody tr th {\n",
       "        vertical-align: top;\n",
       "    }\n",
       "</style>\n",
       "<table border=\"1\" class=\"dataframe\">\n",
       "  <thead>\n",
       "    <tr style=\"text-align: right;\">\n",
       "      <th></th>\n",
       "      <th>train_acc</th>\n",
       "      <th>train_loss</th>\n",
       "      <th>valid_acc</th>\n",
       "      <th>valid_loss</th>\n",
       "    </tr>\n",
       "  </thead>\n",
       "  <tbody>\n",
       "    <tr>\n",
       "      <th>1</th>\n",
       "      <td>0.655222</td>\n",
       "      <td>0.999084</td>\n",
       "      <td>0.667</td>\n",
       "      <td>1.001616</td>\n",
       "    </tr>\n",
       "    <tr>\n",
       "      <th>2</th>\n",
       "      <td>0.664889</td>\n",
       "      <td>0.999315</td>\n",
       "      <td>0.667</td>\n",
       "      <td>0.997355</td>\n",
       "    </tr>\n",
       "    <tr>\n",
       "      <th>3</th>\n",
       "      <td>0.646667</td>\n",
       "      <td>0.998402</td>\n",
       "      <td>0.619</td>\n",
       "      <td>1.024585</td>\n",
       "    </tr>\n",
       "    <tr>\n",
       "      <th>4</th>\n",
       "      <td>0.666667</td>\n",
       "      <td>0.996760</td>\n",
       "      <td>0.660</td>\n",
       "      <td>1.002748</td>\n",
       "    </tr>\n",
       "    <tr>\n",
       "      <th>5</th>\n",
       "      <td>0.658778</td>\n",
       "      <td>1.018690</td>\n",
       "      <td>0.695</td>\n",
       "      <td>0.959124</td>\n",
       "    </tr>\n",
       "    <tr>\n",
       "      <th>6</th>\n",
       "      <td>0.655667</td>\n",
       "      <td>0.993153</td>\n",
       "      <td>0.648</td>\n",
       "      <td>1.007861</td>\n",
       "    </tr>\n",
       "    <tr>\n",
       "      <th>7</th>\n",
       "      <td>0.658111</td>\n",
       "      <td>0.995855</td>\n",
       "      <td>0.644</td>\n",
       "      <td>1.001524</td>\n",
       "    </tr>\n",
       "    <tr>\n",
       "      <th>8</th>\n",
       "      <td>0.664333</td>\n",
       "      <td>0.998261</td>\n",
       "      <td>0.658</td>\n",
       "      <td>1.001882</td>\n",
       "    </tr>\n",
       "    <tr>\n",
       "      <th>9</th>\n",
       "      <td>0.638000</td>\n",
       "      <td>0.995441</td>\n",
       "      <td>0.639</td>\n",
       "      <td>1.008716</td>\n",
       "    </tr>\n",
       "    <tr>\n",
       "      <th>10</th>\n",
       "      <td>0.653667</td>\n",
       "      <td>0.979929</td>\n",
       "      <td>0.638</td>\n",
       "      <td>1.006895</td>\n",
       "    </tr>\n",
       "  </tbody>\n",
       "</table>\n",
       "</div>"
      ],
      "text/plain": [
       "    train_acc  train_loss  valid_acc  valid_loss\n",
       "1    0.655222    0.999084      0.667    1.001616\n",
       "2    0.664889    0.999315      0.667    0.997355\n",
       "3    0.646667    0.998402      0.619    1.024585\n",
       "4    0.666667    0.996760      0.660    1.002748\n",
       "5    0.658778    1.018690      0.695    0.959124\n",
       "6    0.655667    0.993153      0.648    1.007861\n",
       "7    0.658111    0.995855      0.644    1.001524\n",
       "8    0.664333    0.998261      0.658    1.001882\n",
       "9    0.638000    0.995441      0.639    1.008716\n",
       "10   0.653667    0.979929      0.638    1.006895"
      ]
     },
     "execution_count": 5,
     "metadata": {},
     "output_type": "execute_result"
    }
   ],
   "source": [
    "data = {\"train_loss\":train_loss_sum,\"valid_loss\":valid_loss_sum,\"train_acc\":train_acc_sum,\"valid_acc\":valid_acc_sum}\n",
    "pd.DataFrame(data,index=range(1,11))"
   ]
  },
  {
   "cell_type": "code",
   "execution_count": null,
   "metadata": {},
   "outputs": [],
   "source": []
  }
 ],
 "metadata": {
  "kernelspec": {
   "display_name": "Python [conda env:Pytorch_envs]",
   "language": "python",
   "name": "conda-env-Pytorch_envs-py"
  },
  "language_info": {
   "codemirror_mode": {
    "name": "ipython",
    "version": 3
   },
   "file_extension": ".py",
   "mimetype": "text/x-python",
   "name": "python",
   "nbconvert_exporter": "python",
   "pygments_lexer": "ipython3",
   "version": "3.6.10"
  },
  "toc": {
   "base_numbering": 1,
   "nav_menu": {},
   "number_sections": true,
   "sideBar": true,
   "skip_h1_title": false,
   "title_cell": "Table of Contents",
   "title_sidebar": "Contents",
   "toc_cell": false,
   "toc_position": {},
   "toc_section_display": true,
   "toc_window_display": false
  },
  "varInspector": {
   "cols": {
    "lenName": 16,
    "lenType": 16,
    "lenVar": 40
   },
   "kernels_config": {
    "python": {
     "delete_cmd_postfix": "",
     "delete_cmd_prefix": "del ",
     "library": "var_list.py",
     "varRefreshCmd": "print(var_dic_list())"
    },
    "r": {
     "delete_cmd_postfix": ") ",
     "delete_cmd_prefix": "rm(",
     "library": "var_list.r",
     "varRefreshCmd": "cat(var_dic_list()) "
    }
   },
   "types_to_exclude": [
    "module",
    "function",
    "builtin_function_or_method",
    "instance",
    "_Feature"
   ],
   "window_display": false
  }
 },
 "nbformat": 4,
 "nbformat_minor": 2
}
