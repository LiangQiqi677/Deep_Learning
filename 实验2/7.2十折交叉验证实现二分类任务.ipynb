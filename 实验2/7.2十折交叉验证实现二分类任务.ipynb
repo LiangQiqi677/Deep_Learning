{
 "cells": [
  {
   "cell_type": "code",
   "execution_count": 1,
   "metadata": {
    "ExecuteTime": {
     "end_time": "2020-08-10T10:42:27.229045Z",
     "start_time": "2020-08-10T10:42:26.062624Z"
    }
   },
   "outputs": [],
   "source": [
    "import torch\n",
    "import numpy as np\n",
    "from torch.utils import data\n",
    "from matplotlib import pyplot as plt\n",
    "import pandas as pd"
   ]
  },
  {
   "cell_type": "code",
   "execution_count": 2,
   "metadata": {
    "ExecuteTime": {
     "end_time": "2020-08-10T10:42:27.908366Z",
     "start_time": "2020-08-10T10:42:27.781707Z"
    }
   },
   "outputs": [],
   "source": [
    "#训练集7000，测试集3000（加起来为数据集大小10000）\n",
    "n_train, n_test  = 7000, 3000\n",
    "\n",
    "#定义模型参数\n",
    "num_inputs, num_outputs, num_hiddens = 200, 1, 256\n",
    "\n",
    "n_data = torch.ones((n_train+n_test), num_inputs) \n",
    "x1 = torch.normal(2 * n_data, 1)      #正例特征\n",
    "y1 = torch.zeros((n_train+n_test),1)  #正例标签\n",
    "x2 = torch.normal(-2 * n_data, 1)     #负例特征\n",
    "y2 = torch.ones((n_train+n_test),1)   #负例标签\n",
    "\n",
    "features = torch.cat((x1, x2), 0)\n",
    "labels = torch.cat((y1, y2), 0)"
   ]
  },
  {
   "cell_type": "code",
   "execution_count": 3,
   "metadata": {
    "ExecuteTime": {
     "end_time": "2020-08-10T10:42:30.345690Z",
     "start_time": "2020-08-10T10:42:30.124081Z"
    }
   },
   "outputs": [],
   "source": [
    "#定义随机初始化模型参数的函数\n",
    "W1 = torch.tensor(np.random.normal(0, 0.01, (num_hiddens, num_inputs)), dtype=torch.float, requires_grad=True)\n",
    "b1 = torch.zeros(num_hiddens, dtype=torch.float, requires_grad=True)\n",
    "W2 = torch.tensor(np.random.normal(0, 0.01, (num_outputs, num_hiddens)), dtype=torch.float, requires_grad=True)\n",
    "b2 = torch.zeros(num_outputs, dtype=torch.float, requires_grad=True)\n",
    "params = [W1, b1, W2, b2]\n",
    "\n",
    "#定义linear层函数\n",
    "def linear(X, w, b):\n",
    "    return torch.matmul(X, w.t())+ b\n",
    "\n",
    "#定义隐藏层激活函数\n",
    "def relu(X):\n",
    "    return torch.max(input=X, other=torch.tensor(0.0))\n",
    "\n",
    "#定义输出层激活函数\n",
    "def sigmoid(X):\n",
    "    return 1/(1+torch.exp(-X))  \n",
    "\n",
    "#定义分类模型\n",
    "def net(X, W1, W2, b1, b2):\n",
    "    X = X.view((-1, num_inputs))          \n",
    "    linear_1 = linear(X, W1, b1)\n",
    "    R = relu(linear_1)\n",
    "    linear_2 = linear(R, W2, b2)\n",
    "    S = sigmoid(linear_2) \n",
    "    return S\n",
    "\n",
    "#定义交叉熵损失函数（二分类任务可使用交叉熵损失函数）\n",
    "def CrossEntropy_loss(y_hat,y):\n",
    "    return -torch.mean(y.view(-1,1)*torch.log(y_hat) + (1-y.view(-1,1))*torch.log(1-y_hat))\n",
    "\n",
    "#定义随机梯度下降函数\n",
    "def SGD(params, lr):\n",
    "    for param in params:\n",
    "        param.data -= lr * param.grad"
   ]
  },
  {
   "cell_type": "code",
   "execution_count": 4,
   "metadata": {
    "ExecuteTime": {
     "end_time": "2020-08-10T10:43:13.972242Z",
     "start_time": "2020-08-10T10:42:32.625583Z"
    }
   },
   "outputs": [
    {
     "name": "stdout",
     "output_type": "stream",
     "text": [
      "第1折交叉验证结果：train_loss 0.000900, valid_loss 0.001041, train_acc 1.000000, valid_acc 1.000000\n",
      "第2折交叉验证结果：train_loss 0.000901, valid_loss 0.001036, train_acc 1.000000, valid_acc 1.000000\n",
      "第3折交叉验证结果：train_loss 0.000900, valid_loss 0.001061, train_acc 1.000000, valid_acc 1.000000\n",
      "第4折交叉验证结果：train_loss 0.000899, valid_loss 0.001034, train_acc 1.000000, valid_acc 1.000000\n",
      "第5折交叉验证结果：train_loss 0.000898, valid_loss 0.001031, train_acc 1.000000, valid_acc 1.000000\n",
      "第6折交叉验证结果：train_loss 0.000901, valid_loss 0.001035, train_acc 1.000000, valid_acc 1.000000\n",
      "第7折交叉验证结果：train_loss 0.000900, valid_loss 0.001044, train_acc 1.000000, valid_acc 1.000000\n",
      "第8折交叉验证结果：train_loss 0.000901, valid_loss 0.001045, train_acc 1.000000, valid_acc 1.000000\n",
      "第9折交叉验证结果：train_loss 0.000902, valid_loss 0.001045, train_acc 1.000000, valid_acc 1.000000\n",
      "第10折交叉验证结果：train_loss 0.000902, valid_loss 0.001049, train_acc 1.000000, valid_acc 1.000000\n",
      "\n",
      "\n",
      "最终k折交叉验证结果：\n",
      "average train loss 0.000900, average train accuracy 1.000000\n",
      "average valid loss 0.001042, average valid accuracy 1.000000\n"
     ]
    }
   ],
   "source": [
    "#定义k者交叉验证\n",
    "def get_kfold_data(k, i, X, y):\n",
    "    \n",
    "    fold_size = X.shape[0] // k\n",
    "\n",
    "    val_start = i * fold_size           \n",
    "    if i != k-1:\n",
    "        val_end = (i+1) * fold_size\n",
    "        X_valid, y_valid = X[val_start:val_end], y[val_start:val_end]\n",
    "        X_train = torch.cat( (X[:val_start], X[val_end:]), dim=0 )\n",
    "        y_train = torch.cat( (y[:val_start], y[val_end:]), dim=0 )\n",
    "    else:\n",
    "        X_valid, y_valid = X[val_start:], y[val_start:]\n",
    "        X_train = X[0:val_start]\n",
    "        y_train = y[0:val_start]\n",
    "    \n",
    "    return X_train, y_train, X_valid, y_valid\n",
    "\n",
    "#每一折的实验结果\n",
    "train_loss_sum, valid_loss_sum = [],[]\n",
    "train_acc_sum, valid_acc_sum = [],[]\n",
    "\n",
    "def k_fold(k, X_train, y_train):\n",
    "    \n",
    "    for i in range(k):\n",
    "        train_features, train_labels, test_features, test_labels = get_kfold_data(k, i, X_train, y_train)\n",
    "        train_loss, valid_loss, train_acc, valid_acc = train(net, train_features, train_labels, test_features, test_labels)\n",
    "        train_loss_sum.append(train_loss)\n",
    "        valid_loss_sum.append(valid_loss)\n",
    "        train_acc_sum.append(train_acc)\n",
    "        valid_acc_sum.append(valid_acc)\n",
    "        print('第%d折交叉验证结果：train_loss %f, valid_loss %f, train_acc %f, valid_acc %f' % \n",
    "              (i+1, train_loss, valid_loss, train_acc, valid_acc))\n",
    "    print('\\n')\n",
    "    print('最终k折交叉验证结果：')\n",
    "    print('average train loss %f, average train accuracy %f' % \n",
    "          (np.array(train_loss_sum).mean().item(), np.array(train_acc_sum).mean().item()))\n",
    "    print('average valid loss %f, average valid accuracy %f' % \n",
    "          (np.array(valid_loss_sum).mean().item(), np.array(valid_acc_sum).mean().item()))\n",
    "\n",
    "def train(net, X_train, y_train, X_valid, y_valid):\n",
    "    \n",
    "    #定义训练参数\n",
    "    batch_size, num_epochs, lr = 128, 5, 0.01\n",
    "\n",
    "    #定义随机初始化模型参数的函数\n",
    "    W1 = torch.tensor(np.random.normal(0, 0.01, (num_hiddens, num_inputs)), dtype=torch.float, requires_grad=True)\n",
    "    b1 = torch.zeros(num_hiddens, dtype=torch.float, requires_grad=True)\n",
    "    W2 = torch.tensor(np.random.normal(0, 0.01, (num_outputs, num_hiddens)), dtype=torch.float, requires_grad=True)\n",
    "    b2 = torch.zeros(num_outputs, dtype=torch.float, requires_grad=True)\n",
    "    params = [W1, b1, W2, b2]\n",
    "    \n",
    "    #划分数据集\n",
    "    dataset = torch.utils.data.TensorDataset(X_train,y_train)\n",
    "    train_iter = torch.utils.data.DataLoader(dataset, batch_size, shuffle=True)\n",
    "\n",
    "    for epoch in range(num_epochs):\n",
    "        for X, y in train_iter:\n",
    "            y_hat = net(X, W1, W2, b1, b2)\n",
    "            loss = CrossEntropy_loss(y_hat,y).sum() \n",
    "            loss.backward()       #计算损失     \n",
    "            SGD(params, lr)       #更新梯度\n",
    "            W1.grad.data.zero_()\n",
    "            b1.grad.data.zero_()\n",
    "            W2.grad.data.zero_()\n",
    "            b2.grad.data.zero_()\n",
    "    loss_train = CrossEntropy_loss(net(X_train, W1, W2, b1, b2),y_train).mean().item() #训练集损失\n",
    "    loss_test = CrossEntropy_loss(net(X_valid, W1, W2, b1, b2),y_valid).mean().item()    #测试集损失\n",
    "    acc_train = (((net(X_train, W1, W2, b1, b2)>=0.5) ==(y_train>0.5)).sum().item()) / (y_train.shape[0]) #训练集准确率\n",
    "    acc_test = (((net(X_valid, W1, W2, b1, b2)>=0.5) ==(y_valid>0.5)).sum().item()) / (y_valid.shape[0])  #测试集准确率\n",
    "    #最后训练时的误差会是本次代码运行的最优误差，所以只需要返回最后训练的误差即可\n",
    "    return loss_train, loss_test, acc_train, acc_test\n",
    "\n",
    "k_fold(10, features, labels)"
   ]
  },
  {
   "cell_type": "code",
   "execution_count": 5,
   "metadata": {
    "ExecuteTime": {
     "end_time": "2020-08-10T10:44:35.161542Z",
     "start_time": "2020-08-10T10:44:35.142592Z"
    }
   },
   "outputs": [
    {
     "data": {
      "text/html": [
       "<div>\n",
       "<style>\n",
       "    .dataframe thead tr:only-child th {\n",
       "        text-align: right;\n",
       "    }\n",
       "\n",
       "    .dataframe thead th {\n",
       "        text-align: left;\n",
       "    }\n",
       "\n",
       "    .dataframe tbody tr th {\n",
       "        vertical-align: top;\n",
       "    }\n",
       "</style>\n",
       "<table border=\"1\" class=\"dataframe\">\n",
       "  <thead>\n",
       "    <tr style=\"text-align: right;\">\n",
       "      <th></th>\n",
       "      <th>train_acc</th>\n",
       "      <th>train_loss</th>\n",
       "      <th>valid_acc</th>\n",
       "      <th>valid_loss</th>\n",
       "    </tr>\n",
       "  </thead>\n",
       "  <tbody>\n",
       "    <tr>\n",
       "      <th>1</th>\n",
       "      <td>1.0</td>\n",
       "      <td>0.000900</td>\n",
       "      <td>1.0</td>\n",
       "      <td>0.001041</td>\n",
       "    </tr>\n",
       "    <tr>\n",
       "      <th>2</th>\n",
       "      <td>1.0</td>\n",
       "      <td>0.000901</td>\n",
       "      <td>1.0</td>\n",
       "      <td>0.001036</td>\n",
       "    </tr>\n",
       "    <tr>\n",
       "      <th>3</th>\n",
       "      <td>1.0</td>\n",
       "      <td>0.000900</td>\n",
       "      <td>1.0</td>\n",
       "      <td>0.001061</td>\n",
       "    </tr>\n",
       "    <tr>\n",
       "      <th>4</th>\n",
       "      <td>1.0</td>\n",
       "      <td>0.000899</td>\n",
       "      <td>1.0</td>\n",
       "      <td>0.001034</td>\n",
       "    </tr>\n",
       "    <tr>\n",
       "      <th>5</th>\n",
       "      <td>1.0</td>\n",
       "      <td>0.000898</td>\n",
       "      <td>1.0</td>\n",
       "      <td>0.001031</td>\n",
       "    </tr>\n",
       "    <tr>\n",
       "      <th>6</th>\n",
       "      <td>1.0</td>\n",
       "      <td>0.000901</td>\n",
       "      <td>1.0</td>\n",
       "      <td>0.001035</td>\n",
       "    </tr>\n",
       "    <tr>\n",
       "      <th>7</th>\n",
       "      <td>1.0</td>\n",
       "      <td>0.000900</td>\n",
       "      <td>1.0</td>\n",
       "      <td>0.001044</td>\n",
       "    </tr>\n",
       "    <tr>\n",
       "      <th>8</th>\n",
       "      <td>1.0</td>\n",
       "      <td>0.000901</td>\n",
       "      <td>1.0</td>\n",
       "      <td>0.001045</td>\n",
       "    </tr>\n",
       "    <tr>\n",
       "      <th>9</th>\n",
       "      <td>1.0</td>\n",
       "      <td>0.000902</td>\n",
       "      <td>1.0</td>\n",
       "      <td>0.001045</td>\n",
       "    </tr>\n",
       "    <tr>\n",
       "      <th>10</th>\n",
       "      <td>1.0</td>\n",
       "      <td>0.000902</td>\n",
       "      <td>1.0</td>\n",
       "      <td>0.001049</td>\n",
       "    </tr>\n",
       "  </tbody>\n",
       "</table>\n",
       "</div>"
      ],
      "text/plain": [
       "    train_acc  train_loss  valid_acc  valid_loss\n",
       "1         1.0    0.000900        1.0    0.001041\n",
       "2         1.0    0.000901        1.0    0.001036\n",
       "3         1.0    0.000900        1.0    0.001061\n",
       "4         1.0    0.000899        1.0    0.001034\n",
       "5         1.0    0.000898        1.0    0.001031\n",
       "6         1.0    0.000901        1.0    0.001035\n",
       "7         1.0    0.000900        1.0    0.001044\n",
       "8         1.0    0.000901        1.0    0.001045\n",
       "9         1.0    0.000902        1.0    0.001045\n",
       "10        1.0    0.000902        1.0    0.001049"
      ]
     },
     "execution_count": 5,
     "metadata": {},
     "output_type": "execute_result"
    }
   ],
   "source": [
    "data = {\"train_loss\":train_loss_sum,\"valid_loss\":valid_loss_sum,\"train_acc\":train_acc_sum,\"valid_acc\":valid_acc_sum}\n",
    "pd.DataFrame(data,index=range(1,11))"
   ]
  },
  {
   "cell_type": "code",
   "execution_count": null,
   "metadata": {},
   "outputs": [],
   "source": []
  }
 ],
 "metadata": {
  "kernelspec": {
   "display_name": "Python [conda env:Pytorch_envs]",
   "language": "python",
   "name": "conda-env-Pytorch_envs-py"
  },
  "language_info": {
   "codemirror_mode": {
    "name": "ipython",
    "version": 3
   },
   "file_extension": ".py",
   "mimetype": "text/x-python",
   "name": "python",
   "nbconvert_exporter": "python",
   "pygments_lexer": "ipython3",
   "version": "3.6.10"
  },
  "toc": {
   "base_numbering": 1,
   "nav_menu": {},
   "number_sections": true,
   "sideBar": true,
   "skip_h1_title": false,
   "title_cell": "Table of Contents",
   "title_sidebar": "Contents",
   "toc_cell": false,
   "toc_position": {},
   "toc_section_display": true,
   "toc_window_display": false
  },
  "varInspector": {
   "cols": {
    "lenName": 16,
    "lenType": 16,
    "lenVar": 40
   },
   "kernels_config": {
    "python": {
     "delete_cmd_postfix": "",
     "delete_cmd_prefix": "del ",
     "library": "var_list.py",
     "varRefreshCmd": "print(var_dic_list())"
    },
    "r": {
     "delete_cmd_postfix": ") ",
     "delete_cmd_prefix": "rm(",
     "library": "var_list.r",
     "varRefreshCmd": "cat(var_dic_list()) "
    }
   },
   "position": {
    "height": "195.667px",
    "left": "655px",
    "right": "20px",
    "top": "109px",
    "width": "605.99px"
   },
   "types_to_exclude": [
    "module",
    "function",
    "builtin_function_or_method",
    "instance",
    "_Feature"
   ],
   "window_display": false
  }
 },
 "nbformat": 4,
 "nbformat_minor": 2
}
