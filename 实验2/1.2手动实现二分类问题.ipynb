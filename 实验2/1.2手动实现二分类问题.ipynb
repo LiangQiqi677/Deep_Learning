{
 "cells": [
  {
   "cell_type": "code",
   "execution_count": 1,
   "metadata": {
    "ExecuteTime": {
     "end_time": "2020-08-05T07:33:02.214619Z",
     "start_time": "2020-08-05T07:33:00.984193Z"
    }
   },
   "outputs": [],
   "source": [
    "import torch\n",
    "import numpy as np\n",
    "import torch.utils.data as Data\n",
    "import matplotlib.pyplot as plt"
   ]
  },
  {
   "cell_type": "code",
   "execution_count": 2,
   "metadata": {
    "ExecuteTime": {
     "end_time": "2020-08-05T07:33:02.393223Z",
     "start_time": "2020-08-05T07:33:02.214619Z"
    }
   },
   "outputs": [],
   "source": [
    "#训练集7000，测试集3000（加起来为数据集大小10000）\n",
    "n_train, n_test  = 7000, 3000\n",
    "\n",
    "#定义模型参数\n",
    "num_inputs, num_outputs, num_hiddens = 200, 1, 256\n",
    "\n",
    "n_data = torch.ones((n_train+n_test), num_inputs) \n",
    "x1 = torch.normal(2 * n_data, 1)      #正例特征\n",
    "y1 = torch.zeros((n_train+n_test),1)  #正例标签\n",
    "x2 = torch.normal(-2 * n_data, 1)     #负例特征\n",
    "y2 = torch.ones((n_train+n_test),1)   #负例标签\n",
    "\n",
    "x = torch.cat((x1, x2), 0).type(torch.FloatTensor)\n",
    "y = torch.cat((y1, y2), 0).type(torch.FloatTensor)\n",
    "\n",
    "#分出训练集样本、测试集样本、训练集标签、测试集标签\n",
    "train_features = torch.cat((x1[:n_train, :],x2[:n_train, :]), 0)\n",
    "test_features = torch.cat((x1[n_train:, :],x2[n_train:, :]), 0)\n",
    "train_labels = torch.cat((y1[:n_train, :],y2[:n_train, :]), 0)\n",
    "test_labels = torch.cat((y1[n_train:, :],y2[n_train:, :]), 0)\n",
    "\n",
    "#print(train_features.shape)\n",
    "#print(test_features.shape)\n",
    "#print(train_labels)\n",
    "#print(test_labels)\n",
    "#print(n_data.shape)\n",
    "# print(x1.shape)\n",
    "# print(y1.shape)\n",
    "# print(x2.shape)\n",
    "# print(y2.shape)"
   ]
  },
  {
   "cell_type": "code",
   "execution_count": 3,
   "metadata": {
    "ExecuteTime": {
     "end_time": "2020-08-05T07:33:02.498640Z",
     "start_time": "2020-08-05T07:33:02.393223Z"
    }
   },
   "outputs": [],
   "source": [
    "#定义随机初始化模型参数的函数\n",
    "W1 = torch.tensor(np.random.normal(0, 0.01, (num_hiddens, num_inputs)), dtype=torch.float, requires_grad=True)\n",
    "b1 = torch.zeros(num_hiddens, dtype=torch.float, requires_grad=True)\n",
    "W2 = torch.tensor(np.random.normal(0, 0.01, (num_outputs, num_hiddens)), dtype=torch.float, requires_grad=True)\n",
    "b2 = torch.zeros(num_outputs, dtype=torch.float, requires_grad=True)\n",
    "params = [W1, b1, W2, b2]\n",
    "\n",
    "#定义linear层函数\n",
    "def linear(X, w, b):\n",
    "    return torch.matmul(X, w.t())+ b\n",
    "\n",
    "#定义隐藏层激活函数\n",
    "def relu(X):\n",
    "    return torch.max(input=X, other=torch.tensor(0.0))\n",
    "\n",
    "#定义输出层激活函数\n",
    "#Sigmoid函数用作二分类问题的意义：输出结果只有一个，如果值在0.5-1之间，表示分为正类；如果值在0-0.5之间，表示分为负例\n",
    "#Softmax函数用作n分类问题的意义：输出结果有n个，这n个标签的概率加起来为1，哪个标签概率高就分为哪一类\n",
    "#当n=2时，Sigmoid函数与Softmax函数相同\n",
    "def sigmoid(X):\n",
    "    return 1/(1+torch.exp(-X))  \n",
    "\n",
    "#定义分类模型\n",
    "def net(X):\n",
    "    X = X.view((-1, num_inputs))          \n",
    "    linear_1 = linear(X, W1, b1)\n",
    "    R = relu(linear_1)\n",
    "    linear_2 = linear(R, W2, b2)\n",
    "    S = sigmoid(linear_2) \n",
    "    return S\n",
    "\n",
    "#定义交叉熵损失函数（二分类任务可使用交叉熵损失函数）\n",
    "def CrossEntropy_loss(y_hat,y):\n",
    "    return -torch.mean(y.view(-1,1)*torch.log(y_hat) + (1-y.view(-1,1))*torch.log(1-y_hat))\n",
    "\n",
    "#定义随机梯度下降函数\n",
    "def SGD(params, lr):\n",
    "    for param in params:\n",
    "        param.data -= lr * param.grad"
   ]
  },
  {
   "cell_type": "code",
   "execution_count": 4,
   "metadata": {
    "ExecuteTime": {
     "end_time": "2020-08-05T07:34:17.107916Z",
     "start_time": "2020-08-05T07:33:02.501632Z"
    }
   },
   "outputs": [
    {
     "name": "stdout",
     "output_type": "stream",
     "text": [
      "epoch 1, loss_train 0.317759, loss_test 0.317960 \n",
      "epoch 2, loss_train 0.102880, loss_test 0.103037 \n",
      "epoch 3, loss_train 0.046649, loss_test 0.046748 \n",
      "epoch 4, loss_train 0.027418, loss_test 0.027486 \n",
      "epoch 5, loss_train 0.018603, loss_test 0.018655 \n",
      "epoch 6, loss_train 0.013756, loss_test 0.013797 \n",
      "epoch 7, loss_train 0.010759, loss_test 0.010793 \n",
      "epoch 8, loss_train 0.008752, loss_test 0.008781 \n",
      "epoch 9, loss_train 0.007326, loss_test 0.007352 \n",
      "epoch 10, loss_train 0.006270, loss_test 0.006292 \n",
      "epoch 11, loss_train 0.005459, loss_test 0.005479 \n",
      "epoch 12, loss_train 0.004819, loss_test 0.004837 \n",
      "epoch 13, loss_train 0.004304, loss_test 0.004320 \n",
      "epoch 14, loss_train 0.003880, loss_test 0.003895 \n",
      "epoch 15, loss_train 0.003527, loss_test 0.003541 \n",
      "epoch 16, loss_train 0.003228, loss_test 0.003241 \n",
      "epoch 17, loss_train 0.002972, loss_test 0.002984 \n",
      "epoch 18, loss_train 0.002751, loss_test 0.002763 \n",
      "epoch 19, loss_train 0.002559, loss_test 0.002569 \n",
      "epoch 20, loss_train 0.002389, loss_test 0.002399 \n",
      "epoch 21, loss_train 0.002240, loss_test 0.002249 \n",
      "epoch 22, loss_train 0.002106, loss_test 0.002115 \n",
      "epoch 23, loss_train 0.001987, loss_test 0.001995 \n",
      "epoch 24, loss_train 0.001879, loss_test 0.001887 \n",
      "epoch 25, loss_train 0.001782, loss_test 0.001790 \n",
      "epoch 26, loss_train 0.001693, loss_test 0.001701 \n",
      "epoch 27, loss_train 0.001613, loss_test 0.001620 \n",
      "epoch 28, loss_train 0.001539, loss_test 0.001546 \n",
      "epoch 29, loss_train 0.001471, loss_test 0.001478 \n",
      "epoch 30, loss_train 0.001408, loss_test 0.001415 \n",
      "epoch 31, loss_train 0.001351, loss_test 0.001357 \n",
      "epoch 32, loss_train 0.001297, loss_test 0.001303 \n",
      "epoch 33, loss_train 0.001247, loss_test 0.001253 \n",
      "epoch 34, loss_train 0.001201, loss_test 0.001207 \n",
      "epoch 35, loss_train 0.001158, loss_test 0.001163 \n",
      "epoch 36, loss_train 0.001117, loss_test 0.001123 \n",
      "epoch 37, loss_train 0.001080, loss_test 0.001085 \n",
      "epoch 38, loss_train 0.001044, loss_test 0.001049 \n",
      "epoch 39, loss_train 0.001010, loss_test 0.001015 \n",
      "epoch 40, loss_train 0.000979, loss_test 0.000984 \n",
      "epoch 41, loss_train 0.000949, loss_test 0.000954 \n",
      "epoch 42, loss_train 0.000921, loss_test 0.000926 \n",
      "epoch 43, loss_train 0.000895, loss_test 0.000899 \n",
      "epoch 44, loss_train 0.000869, loss_test 0.000874 \n",
      "epoch 45, loss_train 0.000845, loss_test 0.000850 \n",
      "epoch 46, loss_train 0.000823, loss_test 0.000827 \n",
      "epoch 47, loss_train 0.000801, loss_test 0.000805 \n",
      "epoch 48, loss_train 0.000780, loss_test 0.000784 \n",
      "epoch 49, loss_train 0.000761, loss_test 0.000765 \n",
      "epoch 50, loss_train 0.000742, loss_test 0.000746 \n",
      "epoch 51, loss_train 0.000724, loss_test 0.000728 \n",
      "epoch 52, loss_train 0.000707, loss_test 0.000711 \n",
      "epoch 53, loss_train 0.000691, loss_test 0.000694 \n",
      "epoch 54, loss_train 0.000675, loss_test 0.000679 \n",
      "epoch 55, loss_train 0.000660, loss_test 0.000664 \n",
      "epoch 56, loss_train 0.000646, loss_test 0.000649 \n",
      "epoch 57, loss_train 0.000632, loss_test 0.000635 \n",
      "epoch 58, loss_train 0.000619, loss_test 0.000622 \n",
      "epoch 59, loss_train 0.000606, loss_test 0.000609 \n",
      "epoch 60, loss_train 0.000594, loss_test 0.000597 \n",
      "epoch 61, loss_train 0.000582, loss_test 0.000585 \n",
      "epoch 62, loss_train 0.000570, loss_test 0.000573 \n",
      "epoch 63, loss_train 0.000559, loss_test 0.000562 \n",
      "epoch 64, loss_train 0.000549, loss_test 0.000552 \n",
      "epoch 65, loss_train 0.000539, loss_test 0.000541 \n",
      "epoch 66, loss_train 0.000529, loss_test 0.000531 \n",
      "epoch 67, loss_train 0.000519, loss_test 0.000522 \n",
      "epoch 68, loss_train 0.000510, loss_test 0.000513 \n",
      "epoch 69, loss_train 0.000501, loss_test 0.000504 \n",
      "epoch 70, loss_train 0.000492, loss_test 0.000495 \n",
      "epoch 71, loss_train 0.000484, loss_test 0.000487 \n",
      "epoch 72, loss_train 0.000476, loss_test 0.000478 \n",
      "epoch 73, loss_train 0.000468, loss_test 0.000471 \n",
      "epoch 74, loss_train 0.000460, loss_test 0.000463 \n",
      "epoch 75, loss_train 0.000453, loss_test 0.000455 \n",
      "epoch 76, loss_train 0.000446, loss_test 0.000448 \n",
      "epoch 77, loss_train 0.000439, loss_test 0.000441 \n",
      "epoch 78, loss_train 0.000432, loss_test 0.000434 \n",
      "epoch 79, loss_train 0.000426, loss_test 0.000428 \n",
      "epoch 80, loss_train 0.000419, loss_test 0.000421 \n",
      "epoch 81, loss_train 0.000413, loss_test 0.000415 \n",
      "epoch 82, loss_train 0.000407, loss_test 0.000409 \n",
      "epoch 83, loss_train 0.000401, loss_test 0.000403 \n",
      "epoch 84, loss_train 0.000395, loss_test 0.000398 \n",
      "epoch 85, loss_train 0.000390, loss_test 0.000392 \n",
      "epoch 86, loss_train 0.000384, loss_test 0.000386 \n",
      "epoch 87, loss_train 0.000379, loss_test 0.000381 \n",
      "epoch 88, loss_train 0.000374, loss_test 0.000376 \n",
      "epoch 89, loss_train 0.000369, loss_test 0.000371 \n",
      "epoch 90, loss_train 0.000364, loss_test 0.000366 \n",
      "epoch 91, loss_train 0.000359, loss_test 0.000361 \n",
      "epoch 92, loss_train 0.000355, loss_test 0.000357 \n",
      "epoch 93, loss_train 0.000350, loss_test 0.000352 \n",
      "epoch 94, loss_train 0.000346, loss_test 0.000348 \n",
      "epoch 95, loss_train 0.000341, loss_test 0.000343 \n",
      "epoch 96, loss_train 0.000337, loss_test 0.000339 \n",
      "epoch 97, loss_train 0.000333, loss_test 0.000335 \n",
      "epoch 98, loss_train 0.000329, loss_test 0.000331 \n",
      "epoch 99, loss_train 0.000325, loss_test 0.000327 \n",
      "epoch 100, loss_train 0.000321, loss_test 0.000323 \n"
     ]
    }
   ],
   "source": [
    "#定义训练参数\n",
    "batch_size, num_epochs, lr = 256, 100, 0.003\n",
    "\n",
    "#划分数据集\n",
    "dataset = torch.utils.data.TensorDataset(train_features,train_labels)\n",
    "train_iter = torch.utils.data.DataLoader(dataset, batch_size, shuffle=True)\n",
    "\n",
    "#训练模型\n",
    "loss_train = []\n",
    "loss_test = []\n",
    "for epoch in range(num_epochs):\n",
    "    for X, y in train_iter:\n",
    "        loss = CrossEntropy_loss(net(X),y).sum() \n",
    "        loss.backward()       #计算损失     \n",
    "        SGD(params, lr)       #更新梯度\n",
    "        W1.grad.data.zero_()\n",
    "        b1.grad.data.zero_()\n",
    "        W2.grad.data.zero_()\n",
    "        b2.grad.data.zero_()\n",
    "    loss_train.append(CrossEntropy_loss(net(train_features),train_labels).mean().item()) #训练集损失\n",
    "    loss_test.append(CrossEntropy_loss(net(test_features),test_labels).mean().item())    #测试集损失\n",
    "    print('epoch %d, loss_train %f, loss_test %f '% (epoch+1, loss_train[epoch], loss_test[epoch]))"
   ]
  },
  {
   "cell_type": "code",
   "execution_count": 5,
   "metadata": {
    "ExecuteTime": {
     "end_time": "2020-08-05T07:34:17.384177Z",
     "start_time": "2020-08-05T07:34:17.112902Z"
    }
   },
   "outputs": [
    {
     "data": {
      "image/png": "[encoded data removed]",
      "text/plain": [
       "<Figure size 720x504 with 1 Axes>"
      ]
     },
     "metadata": {},
     "output_type": "display_data"
    }
   ],
   "source": [
    "plt.figure(figsize=(10,7))\n",
    "plt.plot(loss_train,label='train',color='royalblue')\n",
    "plt.plot(loss_test,label='test',linestyle=':', color='orange')\n",
    "plt.ylabel(\"loss\")\n",
    "plt.xlabel(\"epoch\")\n",
    "plt.legend()\n",
    "plt.show()"
   ]
  },
  {
   "cell_type": "code",
   "execution_count": null,
   "metadata": {},
   "outputs": [],
   "source": []
  }
 ],
 "metadata": {
  "kernelspec": {
   "display_name": "Python [conda env:Pytorch_envs]",
   "language": "python",
   "name": "conda-env-Pytorch_envs-py"
  },
  "language_info": {
   "codemirror_mode": {
    "name": "ipython",
    "version": 3
   },
   "file_extension": ".py",
   "mimetype": "text/x-python",
   "name": "python",
   "nbconvert_exporter": "python",
   "pygments_lexer": "ipython3",
   "version": "3.6.10"
  },
  "toc": {
   "base_numbering": 1,
   "nav_menu": {},
   "number_sections": true,
   "sideBar": true,
   "skip_h1_title": false,
   "title_cell": "Table of Contents",
   "title_sidebar": "Contents",
   "toc_cell": false,
   "toc_position": {},
   "toc_section_display": true,
   "toc_window_display": false
  },
  "varInspector": {
   "cols": {
    "lenName": 16,
    "lenType": 16,
    "lenVar": 40
   },
   "kernels_config": {
    "python": {
     "delete_cmd_postfix": "",
     "delete_cmd_prefix": "del ",
     "library": "var_list.py",
     "varRefreshCmd": "print(var_dic_list())"
    },
    "r": {
     "delete_cmd_postfix": ") ",
     "delete_cmd_prefix": "rm(",
     "library": "var_list.r",
     "varRefreshCmd": "cat(var_dic_list()) "
    }
   },
   "types_to_exclude": [
    "module",
    "function",
    "builtin_function_or_method",
    "instance",
    "_Feature"
   ],
   "window_display": false
  }
 },
 "nbformat": 4,
 "nbformat_minor": 2
}
