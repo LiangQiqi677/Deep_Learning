{
 "cells": [
  {
   "cell_type": "code",
   "execution_count": 1,
   "metadata": {
    "ExecuteTime": {
     "end_time": "2020-08-11T09:26:04.287293Z",
     "start_time": "2020-08-11T09:26:00.944273Z"
    }
   },
   "outputs": [],
   "source": [
    "import torch\n",
    "import numpy as np\n",
    "from torch.utils import data\n",
    "from torch.nn import init\n",
    "from matplotlib import pyplot as plt\n",
    "import torch.optim as optim\n",
    "import torchvision\n",
    "import torchvision.transforms as transforms"
   ]
  },
  {
   "cell_type": "code",
   "execution_count": 2,
   "metadata": {
    "ExecuteTime": {
     "end_time": "2020-08-11T09:26:10.625760Z",
     "start_time": "2020-08-11T09:26:09.765311Z"
    }
   },
   "outputs": [],
   "source": [
    "#加载数据集\n",
    "mnist_train = torchvision.datasets.FashionMNIST(root='~/Datasets/FashionMNIST', train=True,\n",
    "download=True, transform=transforms.ToTensor())\n",
    "mnist_test = torchvision.datasets.FashionMNIST(root='~/Datasets/FashionMNIST', train=False,\n",
    "download=True, transform=transforms.ToTensor())\n",
    "\n",
    "#定义训练参数\n",
    "batch_size, num_epochs, lr = 128, 20, 0.1\n",
    "\n",
    "#划分数据集\n",
    "temp = []\n",
    "for i in range(5000):\n",
    "    temp.append(list(mnist_train[i]))\n",
    "train_iter = torch.utils.data.DataLoader(temp, batch_size=batch_size, shuffle=True,num_workers=0)\n",
    "test_iter = torch.utils.data.DataLoader(mnist_test, batch_size=batch_size, shuffle=False,num_workers=0)\n",
    "\n",
    "#定义模型参数\n",
    "num_inputs, num_outputs, num_hiddens = 784, 10, 256\n",
    "\n",
    "#定义损失函数\n",
    "loss = torch.nn.CrossEntropyLoss()\n",
    "\n",
    "#定义L2正则化函数\n",
    "def l2_penalty(w):\n",
    "    return (w**2).sum()/2\n",
    "\n",
    "#定义linear层函数\n",
    "def linear(X, w, b):\n",
    "    return torch.matmul(X, w.t())+ b\n",
    "\n",
    "#定义隐藏层激活函数\n",
    "def relu(X):\n",
    "    return torch.max(input=X, other=torch.tensor(0.0))\n",
    "\n",
    "#定义分类模型\n",
    "def net(X):\n",
    "    X = X.view((-1, num_inputs))          \n",
    "    linear_1 = linear(X, W1, b1)\n",
    "    H1 = relu(linear_1)            #第一层隐藏层\n",
    "    linear_2 = linear(H1, W2, b2)\n",
    "    H2 = relu(linear_2)            #第二层隐藏层\n",
    "    linear_3 = linear(H2, W3, b3)\n",
    "    return linear_3\n",
    "\n",
    "#定义随机梯度下降函数\n",
    "def SGD(params, lr):\n",
    "    for param in params:\n",
    "        param.data -= lr * param.grad\n",
    "        \n",
    "#定义计算测试集损失函数\n",
    "def evaluate_loss(data_iter, net):\n",
    "    l, n = 0.0, 0\n",
    "    for X, y in data_iter:\n",
    "        l += loss(net(X),y).sum().item()\n",
    "        n += y.shape[0]\n",
    "    return l / n\n",
    "\n",
    "#定义计算测试集准确率函数\n",
    "def evaluate_accuracy(data_iter, net):\n",
    "    acc_sum, n = 0.0, 0\n",
    "    for X, y in data_iter:\n",
    "        X = X.view((-1, num_inputs)) \n",
    "        acc_sum += (net(X).argmax(dim=1) == y).float().sum().item()\n",
    "        n += y.shape[0]\n",
    "    return acc_sum / n"
   ]
  },
  {
   "cell_type": "code",
   "execution_count": 3,
   "metadata": {
    "ExecuteTime": {
     "end_time": "2020-08-11T09:28:10.618853Z",
     "start_time": "2020-08-11T09:26:59.093360Z"
    }
   },
   "outputs": [
    {
     "name": "stdout",
     "output_type": "stream",
     "text": [
      "epoch 1, loss_train 0.018398, loss_test 0.018134 , acc_train 0.121800, acc_test 0.100000 \n",
      "epoch 2, loss_train 0.018185, loss_test 0.017462 , acc_train 0.181000, acc_test 0.272400 \n",
      "epoch 3, loss_train 0.015240, loss_test 0.013237 , acc_train 0.312200, acc_test 0.354400 \n",
      "epoch 4, loss_train 0.010853, loss_test 0.017624 , acc_train 0.444200, acc_test 0.383500 \n",
      "epoch 5, loss_train 0.009594, loss_test 0.013373 , acc_train 0.536000, acc_test 0.408900 \n",
      "epoch 6, loss_train 0.008549, loss_test 0.014663 , acc_train 0.594800, acc_test 0.432600 \n",
      "epoch 7, loss_train 0.007630, loss_test 0.008855 , acc_train 0.630600, acc_test 0.567700 \n",
      "epoch 8, loss_train 0.007229, loss_test 0.010487 , acc_train 0.648200, acc_test 0.585400 \n",
      "epoch 9, loss_train 0.007125, loss_test 0.008660 , acc_train 0.660200, acc_test 0.595500 \n",
      "epoch 10, loss_train 0.006387, loss_test 0.006600 , acc_train 0.697200, acc_test 0.648000 \n",
      "epoch 11, loss_train 0.005818, loss_test 0.009572 , acc_train 0.726800, acc_test 0.559600 \n",
      "epoch 12, loss_train 0.005808, loss_test 0.006232 , acc_train 0.733000, acc_test 0.709200 \n",
      "epoch 13, loss_train 0.005338, loss_test 0.006993 , acc_train 0.760000, acc_test 0.699100 \n",
      "epoch 14, loss_train 0.005121, loss_test 0.006312 , acc_train 0.761800, acc_test 0.715000 \n",
      "epoch 15, loss_train 0.005081, loss_test 0.007549 , acc_train 0.770600, acc_test 0.606700 \n",
      "epoch 16, loss_train 0.004936, loss_test 0.005355 , acc_train 0.779600, acc_test 0.752200 \n",
      "epoch 17, loss_train 0.004668, loss_test 0.009795 , acc_train 0.792800, acc_test 0.653900 \n",
      "epoch 18, loss_train 0.005032, loss_test 0.023913 , acc_train 0.789400, acc_test 0.436800 \n",
      "epoch 19, loss_train 0.005233, loss_test 0.014063 , acc_train 0.780000, acc_test 0.549900 \n",
      "epoch 20, loss_train 0.004593, loss_test 0.006101 , acc_train 0.799400, acc_test 0.723100 \n",
      "L2 norm of W1: 6.105746, L2 norm of W2: 4.380899, L2 norm of W3: 4.341712\n"
     ]
    }
   ],
   "source": [
    "# ======================= 惩罚权重为0，无L2正则化 ================================= #\n",
    "\n",
    "#定义惩罚权重\n",
    "lambd0 = 0\n",
    "\n",
    "#定义随机初始化模型参数的函数\n",
    "W1 = torch.tensor(np.random.normal(0, 0.01, (num_hiddens, num_inputs)), dtype=torch.float, requires_grad=True)\n",
    "b1 = torch.zeros(num_hiddens, dtype=torch.float, requires_grad=True)\n",
    "W2 = torch.tensor(np.random.normal(0, 0.01, (num_hiddens, num_hiddens)), dtype=torch.float, requires_grad=True)\n",
    "b2 = torch.zeros(num_hiddens, dtype=torch.float, requires_grad=True)\n",
    "W3 = torch.tensor(np.random.normal(0, 0.01, (num_outputs, num_hiddens)), dtype=torch.float, requires_grad=True)\n",
    "b3 = torch.zeros(num_outputs, dtype=torch.float, requires_grad=True)\n",
    "params = [W1, b1, W2, b2, W3, b3]\n",
    "\n",
    "#训练模型\n",
    "loss_train0 = []\n",
    "loss_test0 = []\n",
    "acc_train0 = []\n",
    "acc_test0 = []\n",
    "for epoch in range(num_epochs):\n",
    "    train_l_sum, train_acc_sum, n = 0.0, 0.0, 0\n",
    "    for X, y in train_iter:\n",
    "        y_hat = net(X)\n",
    "        l = loss(y_hat,y).sum() + lambd0 * l2_penalty(W1) + lambd0 * l2_penalty(W2) + lambd0 * l2_penalty(W3)\n",
    "        l.backward()          #计算损失     \n",
    "        SGD(params, lr)       #更新梯度\n",
    "        W1.grad.data.zero_()  #梯度清零\n",
    "        b1.grad.data.zero_()\n",
    "        W2.grad.data.zero_()\n",
    "        b2.grad.data.zero_()\n",
    "        W3.grad.data.zero_()\n",
    "        b3.grad.data.zero_()\n",
    "        train_l_sum += l.item()\n",
    "        train_acc_sum += (y_hat.argmax(dim=1) == y).sum().item()\n",
    "        n += y.shape[0]\n",
    "    loss_train0.append(train_l_sum/n)\n",
    "    loss_test0.append(evaluate_loss(test_iter,net))\n",
    "    acc_train0.append(train_acc_sum/n)\n",
    "    acc_test0.append(evaluate_accuracy(test_iter,net))\n",
    "    print('epoch %d, loss_train %f, loss_test %f , acc_train %f, acc_test %f '% \n",
    "          (epoch+1, loss_train0[epoch], loss_test0[epoch], acc_train0[epoch], acc_test0[epoch]))\n",
    "print('L2 norm of W1: %f, L2 norm of W2: %f, L2 norm of W3: %f' % (W1.norm().item(), W2.norm().item(), W3.norm().item()))"
   ]
  },
  {
   "cell_type": "code",
   "execution_count": 5,
   "metadata": {
    "ExecuteTime": {
     "end_time": "2020-08-11T09:36:10.020885Z",
     "start_time": "2020-08-11T09:34:18.281304Z"
    }
   },
   "outputs": [
    {
     "name": "stdout",
     "output_type": "stream",
     "text": [
      "epoch 1, loss_train 0.032503, loss_test 0.018191 , acc_train 0.112000, acc_test 0.100000 \n",
      "epoch 2, loss_train 0.018421, loss_test 0.018193 , acc_train 0.111200, acc_test 0.100000 \n",
      "epoch 3, loss_train 0.018416, loss_test 0.018195 , acc_train 0.111200, acc_test 0.100000 \n",
      "epoch 4, loss_train 0.018418, loss_test 0.018194 , acc_train 0.111200, acc_test 0.100000 \n",
      "epoch 5, loss_train 0.018420, loss_test 0.018194 , acc_train 0.111200, acc_test 0.100000 \n",
      "epoch 6, loss_train 0.018419, loss_test 0.018194 , acc_train 0.111200, acc_test 0.100000 \n",
      "epoch 7, loss_train 0.018417, loss_test 0.018195 , acc_train 0.111200, acc_test 0.100000 \n",
      "epoch 8, loss_train 0.018417, loss_test 0.018195 , acc_train 0.111200, acc_test 0.100000 \n",
      "epoch 9, loss_train 0.018412, loss_test 0.018198 , acc_train 0.111200, acc_test 0.100000 \n",
      "epoch 10, loss_train 0.018418, loss_test 0.018197 , acc_train 0.111200, acc_test 0.100000 \n",
      "epoch 11, loss_train 0.018410, loss_test 0.018199 , acc_train 0.111200, acc_test 0.100000 \n",
      "epoch 12, loss_train 0.018407, loss_test 0.018202 , acc_train 0.111200, acc_test 0.100000 \n",
      "epoch 13, loss_train 0.018415, loss_test 0.018201 , acc_train 0.111200, acc_test 0.100000 \n",
      "epoch 14, loss_train 0.018422, loss_test 0.018198 , acc_train 0.111200, acc_test 0.100000 \n",
      "epoch 15, loss_train 0.018417, loss_test 0.018197 , acc_train 0.111200, acc_test 0.100000 \n",
      "epoch 16, loss_train 0.018418, loss_test 0.018196 , acc_train 0.111200, acc_test 0.100000 \n",
      "epoch 17, loss_train 0.018416, loss_test 0.018196 , acc_train 0.111200, acc_test 0.100000 \n",
      "epoch 18, loss_train 0.018416, loss_test 0.018197 , acc_train 0.111200, acc_test 0.100000 \n",
      "epoch 19, loss_train 0.018417, loss_test 0.018196 , acc_train 0.111200, acc_test 0.100000 \n",
      "epoch 20, loss_train 0.018418, loss_test 0.018196 , acc_train 0.111200, acc_test 0.100000 \n",
      "L2 norm of W1: 0.000000, L2 norm of W2: 0.000000, L2 norm of W3: 0.000081\n"
     ]
    }
   ],
   "source": [
    "# ================================= 惩罚权重为1 ================================= #\n",
    "\n",
    "#定义惩罚权重\n",
    "lambd1 = 1\n",
    "\n",
    "#定义随机初始化模型参数的函数\n",
    "W1 = torch.tensor(np.random.normal(0, 0.01, (num_hiddens, num_inputs)), dtype=torch.float, requires_grad=True)\n",
    "b1 = torch.zeros(num_hiddens, dtype=torch.float, requires_grad=True)\n",
    "W2 = torch.tensor(np.random.normal(0, 0.01, (num_hiddens, num_hiddens)), dtype=torch.float, requires_grad=True)\n",
    "b2 = torch.zeros(num_hiddens, dtype=torch.float, requires_grad=True)\n",
    "W3 = torch.tensor(np.random.normal(0, 0.01, (num_outputs, num_hiddens)), dtype=torch.float, requires_grad=True)\n",
    "b3 = torch.zeros(num_outputs, dtype=torch.float, requires_grad=True)\n",
    "params = [W1, b1, W2, b2, W3, b3]\n",
    "\n",
    "#训练模型\n",
    "loss_train1 = []\n",
    "loss_test1 = []\n",
    "acc_train1 = []\n",
    "acc_test1 = []\n",
    "for epoch in range(num_epochs):\n",
    "    train_l_sum, train_acc_sum, n = 0.0, 0.0, 0\n",
    "    for X, y in train_iter:\n",
    "        y_hat = net(X)\n",
    "        l = loss(y_hat,y).sum() + lambd1 * l2_penalty(W1) + lambd1 * l2_penalty(W2) + lambd1 * l2_penalty(W3)\n",
    "        l.backward()          #计算损失     \n",
    "        SGD(params, lr)       #更新梯度\n",
    "        W1.grad.data.zero_()  #梯度清零\n",
    "        b1.grad.data.zero_()\n",
    "        W2.grad.data.zero_()\n",
    "        b2.grad.data.zero_()\n",
    "        W3.grad.data.zero_()\n",
    "        b3.grad.data.zero_()\n",
    "        train_l_sum += l.item()\n",
    "        train_acc_sum += (y_hat.argmax(dim=1) == y).sum().item()\n",
    "        n += y.shape[0]\n",
    "    loss_train1.append(train_l_sum/n)\n",
    "    loss_test1.append(evaluate_loss(test_iter,net))\n",
    "    acc_train1.append(train_acc_sum/n)\n",
    "    acc_test1.append(evaluate_accuracy(test_iter,net))\n",
    "    print('epoch %d, loss_train %f, loss_test %f , acc_train %f, acc_test %f '% \n",
    "          (epoch+1, loss_train1[epoch], loss_test1[epoch], acc_train1[epoch], acc_test1[epoch]))\n",
    "print('L2 norm of W1: %f, L2 norm of W2: %f, L2 norm of W3: %f' % (W1.norm().item(), W2.norm().item(), W3.norm().item()))"
   ]
  },
  {
   "cell_type": "code",
   "execution_count": 4,
   "metadata": {
    "ExecuteTime": {
     "end_time": "2020-08-11T09:33:27.182023Z",
     "start_time": "2020-08-11T09:29:02.190143Z"
    }
   },
   "outputs": [
    {
     "name": "stdout",
     "output_type": "stream",
     "text": [
      "epoch 1, loss_train 0.033353, loss_test 0.018191 , acc_train 0.107400, acc_test 0.100000 \n",
      "epoch 2, loss_train 0.018416, loss_test 0.018194 , acc_train 0.111200, acc_test 0.100000 \n",
      "epoch 3, loss_train 0.018420, loss_test 0.018194 , acc_train 0.111200, acc_test 0.100000 \n",
      "epoch 4, loss_train 0.018415, loss_test 0.018196 , acc_train 0.111200, acc_test 0.100000 \n",
      "epoch 5, loss_train 0.018416, loss_test 0.018197 , acc_train 0.111200, acc_test 0.100000 \n",
      "epoch 6, loss_train 0.018418, loss_test 0.018196 , acc_train 0.111200, acc_test 0.100000 \n",
      "epoch 7, loss_train 0.018417, loss_test 0.018196 , acc_train 0.111200, acc_test 0.100000 \n",
      "epoch 8, loss_train 0.018412, loss_test 0.018198 , acc_train 0.111200, acc_test 0.100000 \n",
      "epoch 9, loss_train 0.018418, loss_test 0.018197 , acc_train 0.111200, acc_test 0.100000 \n",
      "epoch 10, loss_train 0.018415, loss_test 0.018197 , acc_train 0.111200, acc_test 0.100000 \n",
      "epoch 11, loss_train 0.018418, loss_test 0.018197 , acc_train 0.111200, acc_test 0.100000 \n",
      "epoch 12, loss_train 0.018410, loss_test 0.018200 , acc_train 0.111200, acc_test 0.100000 \n",
      "epoch 13, loss_train 0.018413, loss_test 0.018199 , acc_train 0.111200, acc_test 0.100000 \n",
      "epoch 14, loss_train 0.018415, loss_test 0.018199 , acc_train 0.111200, acc_test 0.100000 \n",
      "epoch 15, loss_train 0.018419, loss_test 0.018197 , acc_train 0.111200, acc_test 0.100000 \n",
      "epoch 16, loss_train 0.018413, loss_test 0.018198 , acc_train 0.111200, acc_test 0.100000 \n",
      "epoch 17, loss_train 0.018416, loss_test 0.018198 , acc_train 0.111200, acc_test 0.100000 \n",
      "epoch 18, loss_train 0.018415, loss_test 0.018197 , acc_train 0.111200, acc_test 0.100000 \n",
      "epoch 19, loss_train 0.018417, loss_test 0.018197 , acc_train 0.111200, acc_test 0.100000 \n",
      "epoch 20, loss_train 0.018416, loss_test 0.018197 , acc_train 0.111200, acc_test 0.100000 \n",
      "L2 norm of W1: 0.000000, L2 norm of W2: 0.000000, L2 norm of W3: 0.000108\n"
     ]
    }
   ],
   "source": [
    "# ================================= 惩罚权重为2 ================================= #\n",
    "\n",
    "#定义惩罚权重\n",
    "lambd2 = 2\n",
    "\n",
    "#定义随机初始化模型参数的函数\n",
    "W1 = torch.tensor(np.random.normal(0, 0.01, (num_hiddens, num_inputs)), dtype=torch.float, requires_grad=True)\n",
    "b1 = torch.zeros(num_hiddens, dtype=torch.float, requires_grad=True)\n",
    "W2 = torch.tensor(np.random.normal(0, 0.01, (num_hiddens, num_hiddens)), dtype=torch.float, requires_grad=True)\n",
    "b2 = torch.zeros(num_hiddens, dtype=torch.float, requires_grad=True)\n",
    "W3 = torch.tensor(np.random.normal(0, 0.01, (num_outputs, num_hiddens)), dtype=torch.float, requires_grad=True)\n",
    "b3 = torch.zeros(num_outputs, dtype=torch.float, requires_grad=True)\n",
    "params = [W1, b1, W2, b2, W3, b3]\n",
    "\n",
    "#训练模型\n",
    "loss_train2 = []\n",
    "loss_test2 = []\n",
    "acc_train2 = []\n",
    "acc_test2 = []\n",
    "for epoch in range(num_epochs):\n",
    "    train_l_sum, train_acc_sum, n = 0.0, 0.0, 0\n",
    "    for X, y in train_iter:\n",
    "        y_hat = net(X)\n",
    "        l = loss(y_hat,y).sum() + lambd2 * l2_penalty(W1) + lambd2 * l2_penalty(W2) + lambd2 * l2_penalty(W3)\n",
    "        l.backward()          #计算损失     \n",
    "        SGD(params, lr)       #更新梯度\n",
    "        W1.grad.data.zero_()  #梯度清零\n",
    "        b1.grad.data.zero_()\n",
    "        W2.grad.data.zero_()\n",
    "        b2.grad.data.zero_()\n",
    "        W3.grad.data.zero_()\n",
    "        b3.grad.data.zero_()\n",
    "        train_l_sum += l.item()\n",
    "        train_acc_sum += (y_hat.argmax(dim=1) == y).sum().item()\n",
    "        n += y.shape[0]\n",
    "    loss_train2.append(train_l_sum/n)\n",
    "    loss_test2.append(evaluate_loss(test_iter,net))\n",
    "    acc_train2.append(train_acc_sum/n)\n",
    "    acc_test2.append(evaluate_accuracy(test_iter,net))\n",
    "    print('epoch %d, loss_train %f, loss_test %f , acc_train %f, acc_test %f '% \n",
    "          (epoch+1, loss_train2[epoch], loss_test2[epoch], acc_train2[epoch], acc_test2[epoch]))\n",
    "print('L2 norm of W1: %f, L2 norm of W2: %f, L2 norm of W3: %f' % (W1.norm().item(), W2.norm().item(), W3.norm().item()))"
   ]
  },
  {
   "cell_type": "code",
   "execution_count": 9,
   "metadata": {
    "ExecuteTime": {
     "end_time": "2020-08-08T10:31:26.843002Z",
     "start_time": "2020-08-08T10:31:26.622155Z"
    }
   },
   "outputs": [
    {
     "data": {
      "image/png": "[encoded data removed]",
      "text/plain": [
       "<Figure size 432x288 with 1 Axes>"
      ]
     },
     "metadata": {},
     "output_type": "display_data"
    }
   ],
   "source": [
    "plt.plot(loss_train0,label='Train',color='blue')\n",
    "plt.plot(loss_test0,label='Test', color='orange')\n",
    "plt.ylabel(\"loss\")\n",
    "plt.xlabel(\"epoch\")\n",
    "plt.title(\"Loss:Lambda=0\")\n",
    "plt.legend()\n",
    "plt.show()"
   ]
  },
  {
   "cell_type": "code",
   "execution_count": 10,
   "metadata": {
    "ExecuteTime": {
     "end_time": "2020-08-08T10:32:12.695129Z",
     "start_time": "2020-08-08T10:32:12.477727Z"
    }
   },
   "outputs": [
    {
     "data": {
      "image/png": "[encoded data removed]",
      "text/plain": [
       "<Figure size 432x288 with 1 Axes>"
      ]
     },
     "metadata": {},
     "output_type": "display_data"
    }
   ],
   "source": [
    "plt.plot(acc_train0,label='Train',color='blue')\n",
    "plt.plot(acc_test0,label='Test', color='orange')\n",
    "plt.ylabel(\"acc\")\n",
    "plt.xlabel(\"epoch\")\n",
    "plt.title(\"Acc:Lambda=0\")\n",
    "plt.legend()\n",
    "plt.show()"
   ]
  },
  {
   "cell_type": "code",
   "execution_count": 11,
   "metadata": {
    "ExecuteTime": {
     "end_time": "2020-08-08T10:32:55.643939Z",
     "start_time": "2020-08-08T10:32:55.435470Z"
    }
   },
   "outputs": [
    {
     "data": {
      "image/png": "[encoded data removed]",
      "text/plain": [
       "<Figure size 432x288 with 1 Axes>"
      ]
     },
     "metadata": {},
     "output_type": "display_data"
    }
   ],
   "source": [
    "plt.plot(loss_train1,label='Train',color='blue')\n",
    "plt.plot(loss_test1,label='Test', color='orange')\n",
    "plt.ylabel(\"loss\")\n",
    "plt.xlabel(\"epoch\")\n",
    "plt.title(\"Loss:Lambda=1\")\n",
    "plt.legend()\n",
    "plt.show()"
   ]
  },
  {
   "cell_type": "code",
   "execution_count": 12,
   "metadata": {
    "ExecuteTime": {
     "end_time": "2020-08-08T10:33:39.716794Z",
     "start_time": "2020-08-08T10:33:39.491959Z"
    }
   },
   "outputs": [
    {
     "data": {
      "image/png": "[encoded data removed]",
      "text/plain": [
       "<Figure size 432x288 with 1 Axes>"
      ]
     },
     "metadata": {},
     "output_type": "display_data"
    }
   ],
   "source": [
    "plt.plot(loss_train2,label='Train',color='blue')\n",
    "plt.plot(loss_test2,label='Test', color='orange')\n",
    "plt.ylabel(\"loss\")\n",
    "plt.xlabel(\"epoch\")\n",
    "plt.title(\"Loss:Lambda=2\")\n",
    "plt.legend()\n",
    "plt.show()"
   ]
  },
  {
   "cell_type": "code",
   "execution_count": null,
   "metadata": {},
   "outputs": [],
   "source": []
  }
 ],
 "metadata": {
  "kernelspec": {
   "display_name": "Python [conda env:Pytorch_envs]",
   "language": "python",
   "name": "conda-env-Pytorch_envs-py"
  },
  "language_info": {
   "codemirror_mode": {
    "name": "ipython",
    "version": 3
   },
   "file_extension": ".py",
   "mimetype": "text/x-python",
   "name": "python",
   "nbconvert_exporter": "python",
   "pygments_lexer": "ipython3",
   "version": "3.6.10"
  },
  "toc": {
   "base_numbering": 1,
   "nav_menu": {},
   "number_sections": true,
   "sideBar": true,
   "skip_h1_title": false,
   "title_cell": "Table of Contents",
   "title_sidebar": "Contents",
   "toc_cell": false,
   "toc_position": {},
   "toc_section_display": true,
   "toc_window_display": false
  },
  "varInspector": {
   "cols": {
    "lenName": 16,
    "lenType": 16,
    "lenVar": 40
   },
   "kernels_config": {
    "python": {
     "delete_cmd_postfix": "",
     "delete_cmd_prefix": "del ",
     "library": "var_list.py",
     "varRefreshCmd": "print(var_dic_list())"
    },
    "r": {
     "delete_cmd_postfix": ") ",
     "delete_cmd_prefix": "rm(",
     "library": "var_list.r",
     "varRefreshCmd": "cat(var_dic_list()) "
    }
   },
   "types_to_exclude": [
    "module",
    "function",
    "builtin_function_or_method",
    "instance",
    "_Feature"
   ],
   "window_display": false
  }
 },
 "nbformat": 4,
 "nbformat_minor": 2
}
