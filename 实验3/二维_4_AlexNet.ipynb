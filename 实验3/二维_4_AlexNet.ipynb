{
 "cells": [
  {
   "cell_type": "code",
   "execution_count": 1,
   "metadata": {
    "ExecuteTime": {
     "end_time": "2020-08-14T13:19:01.105765Z",
     "start_time": "2020-08-14T13:18:59.964340Z"
    }
   },
   "outputs": [
    {
     "name": "stdout",
     "output_type": "stream",
     "text": [
      "torch.Size([951, 3, 100, 100])\n",
      "torch.Size([408, 3, 100, 100])\n",
      "torch.Size([951])\n",
      "torch.Size([408])\n"
     ]
    }
   ],
   "source": [
    "from PIL import Image\n",
    "import matplotlib.pyplot as plt\n",
    "import numpy as np\n",
    "import torch\n",
    "import torch.nn as nn\n",
    "import os\n",
    "import datetime\n",
    "\n",
    "device = torch.device(\"cuda:0\")\n",
    "\n",
    "path = \"./车辆分类数据集/bus/bus001.jpg\"\n",
    "train_features = torch.Tensor(np.array(Image.open(path).resize((100,100),Image.ANTIALIAS))/255).view(1, 100, 100, 3)\n",
    "test_features = torch.Tensor(np.array(Image.open(path).resize((100,100),Image.ANTIALIAS))/255).view(1, 100, 100, 3)\n",
    "\n",
    "# 处理客车数据，总共218张，前153张为训练集，后65张为测试集\n",
    "pic_num = 0\n",
    "for filename in os.listdir(\"./车辆分类数据集/bus/\"): \n",
    "    pic_num = pic_num + 1\n",
    "    path = \"./车辆分类数据集/bus/\"+ filename\n",
    "    img = torch.Tensor(np.array(Image.open(path).resize((100,100),Image.ANTIALIAS))/255).view(1, 100, 100, 3)\n",
    "    if pic_num <= 153:\n",
    "        train_features = torch.cat((train_features,img), dim=0)\n",
    "    else:\n",
    "        test_features = torch.cat((test_features,img), dim=0)\n",
    "\n",
    "# 处理汽车数据，总共779张，前545张为训练集，后234张为测试集\n",
    "pic_num = 0\n",
    "for filename in os.listdir(\"./车辆分类数据集/car/\"): \n",
    "    pic_num = pic_num + 1\n",
    "    path = \"./车辆分类数据集/car/\"+ filename\n",
    "    img = torch.Tensor(np.array(Image.open(path).resize((100,100),Image.ANTIALIAS))/255).view(1, 100, 100, 3)\n",
    "    if pic_num <= 545:\n",
    "        train_features = torch.cat((train_features,img), dim=0)\n",
    "    else:\n",
    "        test_features = torch.cat((test_features,img), dim=0)\n",
    "\n",
    "# 处理货车数据，总共360张，前252张为训练集，后108张为测试集\n",
    "pic_num = 0\n",
    "for filename in os.listdir(\"./车辆分类数据集/truck/\"): \n",
    "    pic_num = pic_num + 1\n",
    "    path = \"./车辆分类数据集/truck/\"+ filename\n",
    "    img = torch.Tensor(np.array(Image.open(path).resize((100,100),Image.ANTIALIAS))/255).view(1, 100, 100, 3)\n",
    "    if pic_num <= 252:\n",
    "        train_features = torch.cat((train_features,img), dim=0)\n",
    "    else:\n",
    "        test_features = torch.cat((test_features,img), dim=0)\n",
    "\n",
    "train_features = train_features.permute(0,3,2,1)\n",
    "test_features = test_features.permute(0,3,2,1)\n",
    "print(train_features.shape)\n",
    "print(test_features.shape)\n",
    "\n",
    "# =================== 训练集标签 =================== #\n",
    "train_labels = torch.zeros(154).long()\n",
    "train_labels = torch.cat((train_labels,torch.ones(545).long()), dim=0)\n",
    "train_labels = torch.cat((train_labels,torch.ones(252).long()+1), dim=0)\n",
    "print(train_labels.shape)\n",
    "\n",
    "# =================== 测试集标签 =================== #\n",
    "test_labels = torch.zeros(66).long()\n",
    "test_labels = torch.cat((test_labels,torch.ones(234).long()), dim=0)\n",
    "test_labels = torch.cat((test_labels,torch.ones(108).long()+1), dim=0)\n",
    "print(test_labels.shape)"
   ]
  },
  {
   "cell_type": "code",
   "execution_count": 2,
   "metadata": {
    "ExecuteTime": {
     "end_time": "2020-08-14T13:19:09.146661Z",
     "start_time": "2020-08-14T13:19:09.072707Z"
    }
   },
   "outputs": [],
   "source": [
    "class AlexNet (torch.nn.Module):\n",
    "    def __init__(self):\n",
    "        super(AlexNet, self).__init__()\n",
    "        self.conv = nn.Sequential(\n",
    "            #11x11的卷积和，输出通道为96，步长为4，3x3的最大池化，步长为2\n",
    "            nn.Conv2d(in_channels=3, out_channels=96, kernel_size=11, stride=4),\n",
    "            nn.ReLU(inplace=True), \n",
    "            nn.MaxPool2d(kernel_size=3, stride=2),\n",
    "            #5x5的卷积和，输出通道为256，步长为1，3x3的最大池化，步长为2\n",
    "            nn.Conv2d(in_channels=96, out_channels=256, kernel_size=5, stride=1, padding=2),\n",
    "            nn.ReLU(inplace=True),\n",
    "            nn.MaxPool2d(kernel_size=3, stride=2),\n",
    "            #3x3的卷积和，输出通道为384，步长为1\n",
    "            nn.Conv2d(in_channels=256, out_channels=384, kernel_size=3, padding=1),\n",
    "            nn.ReLU(inplace=True),\n",
    "            #3x3的卷积和，输出通道为384，步长为1\n",
    "            nn.Conv2d(in_channels=384, out_channels=384, kernel_size=3, padding=1),\n",
    "            nn.ReLU(inplace=True)\n",
    "        )\n",
    "        self.fc = nn.Sequential(\n",
    "            #全连接输出维度4096，加入dropout\n",
    "            nn.Linear(in_features=384*5*5, out_features=4096), \n",
    "            nn.ReLU(inplace=True), \n",
    "            nn.Dropout(),\n",
    "            #全连接输出维度4096，加入dropout\n",
    "            nn.Linear(in_features=4096, out_features=4096), \n",
    "            nn.ReLU(inplace=True), \n",
    "            nn.Dropout(),\n",
    "            #输出层输出3，因为有3个类别\n",
    "            nn.Linear(in_features=4096, out_features=3)\n",
    "        )\n",
    " \n",
    "    def forward(self, X):\n",
    "        out = self.conv(X)\n",
    "        #print(out.shape) #torch.Size([32, 384, 5, 5])\n",
    "        out = out.view(out.shape[0],384*5*5)\n",
    "        #print(out.shape)\n",
    "        out = self.fc(out)\n",
    "        return out"
   ]
  },
  {
   "cell_type": "code",
   "execution_count": 3,
   "metadata": {
    "ExecuteTime": {
     "end_time": "2020-08-14T13:19:21.397404Z",
     "start_time": "2020-08-14T13:19:21.264115Z"
    }
   },
   "outputs": [],
   "source": [
    "#训练函数\n",
    "def train_epoch(net, data_loader, device):\n",
    "    \n",
    "    net.train()\n",
    "    train_batch_num = len(data_loader)\n",
    "    total_loss = 0\n",
    "    correct = 0\n",
    "    sample_num = 0\n",
    "    \n",
    "    for batch_idx, (data, target) in enumerate(data_loader):\n",
    "        data = data.to(device).float()\n",
    "        target = target.to(device).long()\n",
    "        optimizer.zero_grad()\n",
    "        output = net(data)\n",
    "        loss = criterion(output, target)\n",
    "        loss.backward()\n",
    "        optimizer.step()\n",
    "        total_loss += loss.item()\n",
    "        prediction = torch.argmax(output, 1)\n",
    "        correct += (prediction == target).sum().item()\n",
    "        sample_num += len(prediction)\n",
    "    \n",
    "    loss = total_loss / train_batch_num\n",
    "    acc = correct / sample_num\n",
    "    return loss, acc\n",
    "\n",
    "#测试函数\n",
    "def test_epoch(net, data_loader, device):\n",
    "    \n",
    "    net.eval()\n",
    "    test_batch_num = len(data_loader)\n",
    "    total_loss = 0\n",
    "    correct = 0\n",
    "    sample_num = 0\n",
    "    \n",
    "    with torch.no_grad():\n",
    "        for batch_idx, (data, target) in enumerate(data_loader):\n",
    "            data = data.to(device).float()\n",
    "            target = target.to(device).long()\n",
    "            output = net(data)\n",
    "            loss = criterion(output, target)\n",
    "            total_loss += loss.item()\n",
    "            prediction = torch.argmax(output, 1)\n",
    "            correct += (prediction == target).sum().item()\n",
    "            sample_num += len(prediction)\n",
    "    \n",
    "    loss = total_loss / test_batch_num\n",
    "    acc = correct / sample_num\n",
    "    return loss, acc\n",
    "\n",
    "num_classes = 3\n",
    "num_epoch = 100\n",
    "lr = 0.001\n",
    "batch_size = 128\n",
    "\n",
    "#划分数据集\n",
    "train_dataset = torch.utils.data.TensorDataset(train_features,train_labels)\n",
    "train_iter = torch.utils.data.DataLoader(train_dataset, batch_size, shuffle=True, num_workers=0)\n",
    "test_dataset = torch.utils.data.TensorDataset(test_features,test_labels)\n",
    "test_iter = torch.utils.data.DataLoader(test_dataset, batch_size, shuffle=True, num_workers=0)"
   ]
  },
  {
   "cell_type": "code",
   "execution_count": 7,
   "metadata": {
    "ExecuteTime": {
     "end_time": "2020-08-14T13:34:12.609851Z",
     "start_time": "2020-08-14T13:19:23.645802Z"
    }
   },
   "outputs": [
    {
     "name": "stdout",
     "output_type": "stream",
     "text": [
      "epoch 1, train_loss 1.752524, test_loss 1.043426, train_acc 0.416404, test_acc 0.573529\n",
      "epoch 2, train_loss 0.994763, test_loss 0.989104, train_acc 0.573081, test_acc 0.573529\n",
      "epoch 3, train_loss 0.963219, test_loss 0.954373, train_acc 0.573081, test_acc 0.573529\n",
      "epoch 4, train_loss 0.903363, test_loss 0.785802, train_acc 0.573081, test_acc 0.610294\n",
      "epoch 5, train_loss 0.902877, test_loss 0.785128, train_acc 0.611987, test_acc 0.602941\n",
      "epoch 6, train_loss 0.718288, test_loss 0.635897, train_acc 0.701367, test_acc 0.723039\n",
      "epoch 7, train_loss 0.551699, test_loss 0.424410, train_acc 0.761304, test_acc 0.808824\n",
      "epoch 8, train_loss 0.402136, test_loss 0.342169, train_acc 0.824395, test_acc 0.828431\n",
      "epoch 9, train_loss 0.326579, test_loss 0.404185, train_acc 0.859096, test_acc 0.855392\n",
      "epoch 10, train_loss 0.276726, test_loss 0.305821, train_acc 0.889590, test_acc 0.889706\n",
      "epoch 11, train_loss 0.228788, test_loss 0.270153, train_acc 0.916930, test_acc 0.897059\n",
      "epoch 12, train_loss 0.188879, test_loss 0.247844, train_acc 0.919033, test_acc 0.901961\n",
      "epoch 13, train_loss 0.154737, test_loss 0.252066, train_acc 0.941115, test_acc 0.906863\n",
      "epoch 14, train_loss 0.140255, test_loss 0.467599, train_acc 0.954784, test_acc 0.901961\n",
      "epoch 15, train_loss 0.128497, test_loss 0.345830, train_acc 0.947424, test_acc 0.914216\n",
      "epoch 16, train_loss 0.103055, test_loss 0.247510, train_acc 0.960042, test_acc 0.916667\n",
      "epoch 17, train_loss 0.090660, test_loss 0.259285, train_acc 0.973712, test_acc 0.916667\n",
      "epoch 18, train_loss 0.072576, test_loss 0.425494, train_acc 0.974763, test_acc 0.921569\n",
      "epoch 19, train_loss 0.071816, test_loss 0.230320, train_acc 0.974763, test_acc 0.921569\n",
      "epoch 20, train_loss 0.057391, test_loss 0.336323, train_acc 0.980021, test_acc 0.911765\n",
      "epoch 21, train_loss 0.084112, test_loss 0.375490, train_acc 0.969506, test_acc 0.892157\n",
      "epoch 22, train_loss 0.082950, test_loss 0.275775, train_acc 0.974763, test_acc 0.924020\n",
      "epoch 23, train_loss 0.044068, test_loss 0.280006, train_acc 0.985279, test_acc 0.931373\n",
      "epoch 24, train_loss 0.071302, test_loss 0.295626, train_acc 0.978970, test_acc 0.906863\n",
      "epoch 25, train_loss 0.099230, test_loss 0.242135, train_acc 0.968454, test_acc 0.916667\n",
      "epoch 26, train_loss 0.096577, test_loss 0.260006, train_acc 0.964248, test_acc 0.921569\n",
      "epoch 27, train_loss 0.032590, test_loss 0.276628, train_acc 0.988433, test_acc 0.933824\n",
      "epoch 28, train_loss 0.032170, test_loss 0.446361, train_acc 0.989485, test_acc 0.914216\n",
      "epoch 29, train_loss 0.055889, test_loss 0.399244, train_acc 0.978970, test_acc 0.926471\n",
      "epoch 30, train_loss 0.036216, test_loss 0.289312, train_acc 0.986330, test_acc 0.924020\n",
      "epoch 31, train_loss 0.020303, test_loss 0.373846, train_acc 0.991588, test_acc 0.924020\n",
      "epoch 32, train_loss 0.019143, test_loss 0.382317, train_acc 0.992639, test_acc 0.931373\n",
      "epoch 33, train_loss 0.013362, test_loss 0.379578, train_acc 0.994742, test_acc 0.931373\n",
      "epoch 34, train_loss 0.009426, test_loss 0.458611, train_acc 0.994742, test_acc 0.928922\n",
      "epoch 35, train_loss 0.011546, test_loss 0.392549, train_acc 0.995794, test_acc 0.933824\n",
      "epoch 36, train_loss 0.010225, test_loss 0.378358, train_acc 0.996845, test_acc 0.928922\n",
      "epoch 37, train_loss 0.007877, test_loss 0.853054, train_acc 0.994742, test_acc 0.933824\n",
      "epoch 38, train_loss 0.025970, test_loss 0.411884, train_acc 0.991588, test_acc 0.914216\n",
      "epoch 39, train_loss 0.033803, test_loss 0.707392, train_acc 0.987382, test_acc 0.899510\n",
      "epoch 40, train_loss 0.048235, test_loss 0.307758, train_acc 0.980021, test_acc 0.933824\n",
      "epoch 41, train_loss 0.044921, test_loss 0.541865, train_acc 0.981073, test_acc 0.916667\n",
      "epoch 42, train_loss 0.046047, test_loss 0.374162, train_acc 0.986330, test_acc 0.928922\n",
      "epoch 43, train_loss 0.049535, test_loss 0.284688, train_acc 0.985279, test_acc 0.938725\n",
      "epoch 44, train_loss 0.028326, test_loss 0.340992, train_acc 0.990536, test_acc 0.921569\n",
      "epoch 45, train_loss 0.019033, test_loss 0.500199, train_acc 0.991588, test_acc 0.926471\n",
      "epoch 46, train_loss 0.032616, test_loss 0.340115, train_acc 0.985279, test_acc 0.924020\n",
      "epoch 47, train_loss 0.053398, test_loss 0.334301, train_acc 0.983176, test_acc 0.936275\n",
      "epoch 48, train_loss 0.020550, test_loss 0.470386, train_acc 0.991588, test_acc 0.928922\n",
      "epoch 49, train_loss 0.020607, test_loss 0.309285, train_acc 0.993691, test_acc 0.926471\n",
      "epoch 50, train_loss 0.015476, test_loss 0.412499, train_acc 0.994742, test_acc 0.921569\n",
      "epoch 51, train_loss 0.009794, test_loss 0.597152, train_acc 0.995794, test_acc 0.931373\n",
      "epoch 52, train_loss 0.014139, test_loss 0.553185, train_acc 0.995794, test_acc 0.928922\n",
      "epoch 53, train_loss 0.007428, test_loss 0.381351, train_acc 0.995794, test_acc 0.926471\n",
      "epoch 54, train_loss 0.008831, test_loss 0.548028, train_acc 0.995794, test_acc 0.926471\n",
      "epoch 55, train_loss 0.006872, test_loss 0.523712, train_acc 0.995794, test_acc 0.926471\n",
      "epoch 56, train_loss 0.006263, test_loss 0.585530, train_acc 0.995794, test_acc 0.926471\n",
      "epoch 57, train_loss 0.007617, test_loss 0.544696, train_acc 0.995794, test_acc 0.921569\n",
      "epoch 58, train_loss 0.007738, test_loss 0.562881, train_acc 0.996845, test_acc 0.924020\n",
      "epoch 59, train_loss 0.006149, test_loss 0.696024, train_acc 0.995794, test_acc 0.921569\n",
      "epoch 60, train_loss 0.004998, test_loss 0.661244, train_acc 0.996845, test_acc 0.921569\n",
      "epoch 61, train_loss 0.005166, test_loss 0.811997, train_acc 0.995794, test_acc 0.919118\n",
      "epoch 62, train_loss 0.005542, test_loss 0.605674, train_acc 0.996845, test_acc 0.926471\n",
      "epoch 63, train_loss 0.005189, test_loss 0.929202, train_acc 0.995794, test_acc 0.924020\n",
      "epoch 64, train_loss 0.004516, test_loss 0.547940, train_acc 0.996845, test_acc 0.924020\n",
      "epoch 65, train_loss 0.004049, test_loss 0.552807, train_acc 0.997897, test_acc 0.924020\n",
      "epoch 66, train_loss 0.005641, test_loss 0.907516, train_acc 0.994742, test_acc 0.926471\n",
      "epoch 67, train_loss 0.004643, test_loss 0.987009, train_acc 0.996845, test_acc 0.926471\n",
      "epoch 68, train_loss 0.005472, test_loss 0.758156, train_acc 0.994742, test_acc 0.924020\n",
      "epoch 69, train_loss 0.004835, test_loss 1.099515, train_acc 0.996845, test_acc 0.921569\n",
      "epoch 70, train_loss 0.004920, test_loss 0.763714, train_acc 0.996845, test_acc 0.921569\n",
      "epoch 71, train_loss 0.006118, test_loss 0.717097, train_acc 0.996845, test_acc 0.926471\n",
      "epoch 72, train_loss 0.003543, test_loss 0.644704, train_acc 0.997897, test_acc 0.926471\n",
      "epoch 73, train_loss 0.004086, test_loss 0.739097, train_acc 0.996845, test_acc 0.926471\n",
      "epoch 74, train_loss 0.006035, test_loss 0.757980, train_acc 0.993691, test_acc 0.926471\n",
      "epoch 75, train_loss 0.003642, test_loss 0.692327, train_acc 0.997897, test_acc 0.926471\n",
      "epoch 76, train_loss 0.004818, test_loss 0.854675, train_acc 0.994742, test_acc 0.926471\n",
      "epoch 77, train_loss 0.004147, test_loss 0.573948, train_acc 0.996845, test_acc 0.926471\n",
      "epoch 78, train_loss 0.004611, test_loss 0.576086, train_acc 0.996845, test_acc 0.924020\n",
      "epoch 79, train_loss 0.005425, test_loss 0.641471, train_acc 0.995794, test_acc 0.924020\n",
      "epoch 80, train_loss 0.004440, test_loss 0.576878, train_acc 0.996845, test_acc 0.924020\n",
      "epoch 81, train_loss 0.005806, test_loss 0.630497, train_acc 0.994742, test_acc 0.924020\n",
      "epoch 82, train_loss 0.004139, test_loss 0.692058, train_acc 0.996845, test_acc 0.926471\n",
      "epoch 83, train_loss 0.005617, test_loss 0.580915, train_acc 0.995794, test_acc 0.926471\n",
      "epoch 84, train_loss 0.004699, test_loss 0.586050, train_acc 0.995794, test_acc 0.926471\n",
      "epoch 85, train_loss 0.005781, test_loss 0.592752, train_acc 0.995794, test_acc 0.926471\n",
      "epoch 86, train_loss 0.004985, test_loss 0.690549, train_acc 0.997897, test_acc 0.926471\n",
      "epoch 87, train_loss 0.003929, test_loss 0.658994, train_acc 0.997897, test_acc 0.924020\n",
      "epoch 88, train_loss 0.005229, test_loss 0.612578, train_acc 0.993691, test_acc 0.926471\n",
      "epoch 89, train_loss 0.004699, test_loss 0.893194, train_acc 0.996845, test_acc 0.931373\n",
      "epoch 90, train_loss 0.004174, test_loss 0.991086, train_acc 0.995794, test_acc 0.926471\n",
      "epoch 91, train_loss 0.006078, test_loss 0.698244, train_acc 0.994742, test_acc 0.926471\n",
      "epoch 92, train_loss 0.004584, test_loss 0.914367, train_acc 0.994742, test_acc 0.926471\n",
      "epoch 93, train_loss 0.004591, test_loss 0.596871, train_acc 0.995794, test_acc 0.928922\n",
      "epoch 94, train_loss 0.005374, test_loss 0.772897, train_acc 0.996845, test_acc 0.926471\n",
      "epoch 95, train_loss 0.003891, test_loss 0.691630, train_acc 0.997897, test_acc 0.928922\n",
      "epoch 96, train_loss 0.004205, test_loss 0.759562, train_acc 0.997897, test_acc 0.926471\n",
      "epoch 97, train_loss 0.004083, test_loss 1.018540, train_acc 0.996845, test_acc 0.926471\n",
      "epoch 98, train_loss 0.003848, test_loss 0.930374, train_acc 0.997897, test_acc 0.924020\n",
      "epoch 99, train_loss 0.004943, test_loss 0.794990, train_acc 0.996845, test_acc 0.926471\n",
      "epoch 100, train_loss 0.004809, test_loss 0.748908, train_acc 0.994742, test_acc 0.924020\n"
     ]
    }
   ],
   "source": [
    "# ==================== AlexNet ==================== #\n",
    "\n",
    "net = AlexNet().to(device)\n",
    "criterion = torch.nn.CrossEntropyLoss()\n",
    "optimizer = torch.optim.Adam(net.parameters(), lr=lr)\n",
    "\n",
    "train_loss_sum = []\n",
    "train_acc_sum = []\n",
    "test_loss_sum = []\n",
    "test_acc_sum = []\n",
    "\n",
    "for epoch in range(num_epoch):\n",
    "    \n",
    "    train_loss, train_acc = train_epoch(net, train_iter, device)\n",
    "    test_loss, test_acc = test_epoch(net, test_iter, device)\n",
    "    \n",
    "    train_loss_sum.append(train_loss)\n",
    "    train_acc_sum.append(train_acc)\n",
    "    test_loss_sum.append(test_loss)\n",
    "    test_acc_sum.append(test_acc)\n",
    "    \n",
    "    print('epoch %d, train_loss %f, test_loss %f, train_acc %f, test_acc %f' % \n",
    "          (epoch+1, train_loss, test_loss, train_acc, test_acc))"
   ]
  },
  {
   "cell_type": "code",
   "execution_count": 8,
   "metadata": {
    "ExecuteTime": {
     "end_time": "2020-08-14T13:36:29.234409Z",
     "start_time": "2020-08-14T13:36:29.008983Z"
    }
   },
   "outputs": [
    {
     "data": {
      "image/png": "[encoded data removed]",
      "text/plain": [
       "<Figure size 432x288 with 1 Axes>"
      ]
     },
     "metadata": {
      "needs_background": "light"
     },
     "output_type": "display_data"
    }
   ],
   "source": [
    "plt.plot(train_loss_sum,label='Train',color='blue')\n",
    "plt.plot(test_loss_sum,label='Test', color='orange')\n",
    "plt.ylabel(\"loss\")\n",
    "plt.xlabel(\"epoch\")\n",
    "plt.title(\"AlexNet: Loss\")\n",
    "plt.legend()\n",
    "plt.show()"
   ]
  },
  {
   "cell_type": "code",
   "execution_count": 9,
   "metadata": {
    "ExecuteTime": {
     "end_time": "2020-08-14T13:36:47.030619Z",
     "start_time": "2020-08-14T13:36:46.734414Z"
    }
   },
   "outputs": [
    {
     "data": {
      "image/png": "[encoded data removed]",
      "text/plain": [
       "<Figure size 432x288 with 1 Axes>"
      ]
     },
     "metadata": {
      "needs_background": "light"
     },
     "output_type": "display_data"
    }
   ],
   "source": [
    "plt.plot(train_acc_sum,label='Train',color='blue')\n",
    "plt.plot(test_acc_sum,label='Test', color='orange')\n",
    "plt.ylabel(\"acc\")\n",
    "plt.xlabel(\"epoch\")\n",
    "plt.title(\"AlexNet: Acc\")\n",
    "plt.legend()\n",
    "plt.show()"
   ]
  },
  {
   "cell_type": "code",
   "execution_count": null,
   "metadata": {},
   "outputs": [],
   "source": []
  }
 ],
 "metadata": {
  "kernelspec": {
   "display_name": "Python 3",
   "language": "python",
   "name": "python3"
  },
  "language_info": {
   "codemirror_mode": {
    "name": "ipython",
    "version": 3
   },
   "file_extension": ".py",
   "mimetype": "text/x-python",
   "name": "python",
   "nbconvert_exporter": "python",
   "pygments_lexer": "ipython3",
   "version": "3.7.4"
  },
  "toc": {
   "base_numbering": 1,
   "nav_menu": {},
   "number_sections": true,
   "sideBar": true,
   "skip_h1_title": false,
   "title_cell": "Table of Contents",
   "title_sidebar": "Contents",
   "toc_cell": false,
   "toc_position": {},
   "toc_section_display": true,
   "toc_window_display": false
  },
  "varInspector": {
   "cols": {
    "lenName": 16,
    "lenType": 16,
    "lenVar": 40
   },
   "kernels_config": {
    "python": {
     "delete_cmd_postfix": "",
     "delete_cmd_prefix": "del ",
     "library": "var_list.py",
     "varRefreshCmd": "print(var_dic_list())"
    },
    "r": {
     "delete_cmd_postfix": ") ",
     "delete_cmd_prefix": "rm(",
     "library": "var_list.r",
     "varRefreshCmd": "cat(var_dic_list()) "
    }
   },
   "types_to_exclude": [
    "module",
    "function",
    "builtin_function_or_method",
    "instance",
    "_Feature"
   ],
   "window_display": false
  }
 },
 "nbformat": 4,
 "nbformat_minor": 4
}
