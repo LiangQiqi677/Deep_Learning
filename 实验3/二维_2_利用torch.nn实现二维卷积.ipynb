{
 "cells": [
  {
   "cell_type": "code",
   "execution_count": 1,
   "metadata": {
    "ExecuteTime": {
     "end_time": "2020-08-14T08:49:48.024641Z",
     "start_time": "2020-08-14T08:49:45.064237Z"
    }
   },
   "outputs": [
    {
     "name": "stdout",
     "output_type": "stream",
     "text": [
      "torch.Size([951, 3, 100, 100])\n",
      "torch.Size([408, 3, 100, 100])\n",
      "torch.Size([951])\n",
      "torch.Size([408])\n"
     ]
    }
   ],
   "source": [
    "from PIL import Image\n",
    "import matplotlib.pyplot as plt\n",
    "import numpy as np\n",
    "import torch\n",
    "import torch.nn as nn\n",
    "import os\n",
    "import datetime\n",
    "\n",
    "device = torch.device(\"cuda:0\")\n",
    "\n",
    "path = \"./车辆分类数据集/bus/bus001.jpg\"\n",
    "train_features = torch.Tensor(np.array(Image.open(path).resize((100,100),Image.ANTIALIAS))/255).view(1, 100, 100, 3)\n",
    "test_features = torch.Tensor(np.array(Image.open(path).resize((100,100),Image.ANTIALIAS))/255).view(1, 100, 100, 3)\n",
    "\n",
    "# 处理客车数据，总共218张，前153张为训练集，后65张为测试集\n",
    "pic_num = 0\n",
    "for filename in os.listdir(\"./车辆分类数据集/bus/\"): \n",
    "    pic_num = pic_num + 1\n",
    "    path = \"./车辆分类数据集/bus/\"+ filename\n",
    "    img = torch.Tensor(np.array(Image.open(path).resize((100,100),Image.ANTIALIAS))/255).view(1, 100, 100, 3)\n",
    "    if pic_num <= 153:\n",
    "        train_features = torch.cat((train_features,img), dim=0)\n",
    "    else:\n",
    "        test_features = torch.cat((test_features,img), dim=0)\n",
    "\n",
    "# 处理汽车数据，总共779张，前545张为训练集，后234张为测试集\n",
    "pic_num = 0\n",
    "for filename in os.listdir(\"./车辆分类数据集/car/\"): \n",
    "    pic_num = pic_num + 1\n",
    "    path = \"./车辆分类数据集/car/\"+ filename\n",
    "    img = torch.Tensor(np.array(Image.open(path).resize((100,100),Image.ANTIALIAS))/255).view(1, 100, 100, 3)\n",
    "    if pic_num <= 545:\n",
    "        train_features = torch.cat((train_features,img), dim=0)\n",
    "    else:\n",
    "        test_features = torch.cat((test_features,img), dim=0)\n",
    "\n",
    "# 处理货车数据，总共360张，前252张为训练集，后108张为测试集\n",
    "pic_num = 0\n",
    "for filename in os.listdir(\"./车辆分类数据集/truck/\"): \n",
    "    pic_num = pic_num + 1\n",
    "    path = \"./车辆分类数据集/truck/\"+ filename\n",
    "    img = torch.Tensor(np.array(Image.open(path).resize((100,100),Image.ANTIALIAS))/255).view(1, 100, 100, 3)\n",
    "    if pic_num <= 252:\n",
    "        train_features = torch.cat((train_features,img), dim=0)\n",
    "    else:\n",
    "        test_features = torch.cat((test_features,img), dim=0)\n",
    "\n",
    "train_features = train_features.permute(0,3,2,1)\n",
    "test_features = test_features.permute(0,3,2,1)\n",
    "print(train_features.shape)\n",
    "print(test_features.shape)\n",
    "\n",
    "# =================== 训练集标签 =================== #\n",
    "train_labels = torch.zeros(154).long()\n",
    "train_labels = torch.cat((train_labels,torch.ones(545).long()), dim=0)\n",
    "train_labels = torch.cat((train_labels,torch.ones(252).long()+1), dim=0)\n",
    "print(train_labels.shape)\n",
    "\n",
    "# =================== 测试集标签 =================== #\n",
    "test_labels = torch.zeros(66).long()\n",
    "test_labels = torch.cat((test_labels,torch.ones(234).long()), dim=0)\n",
    "test_labels = torch.cat((test_labels,torch.ones(108).long()+1), dim=0)\n",
    "print(test_labels.shape)"
   ]
  },
  {
   "cell_type": "code",
   "execution_count": 9,
   "metadata": {
    "ExecuteTime": {
     "end_time": "2020-08-14T09:05:29.388807Z",
     "start_time": "2020-08-14T09:05:29.264141Z"
    }
   },
   "outputs": [],
   "source": [
    "# ========================= 定义模型 ========================= #\n",
    "\n",
    "class ConvModule(torch.nn.Module):\n",
    "    def __init__(self):\n",
    "        super(ConvModule, self).__init__()\n",
    "        #定义一个一层卷积\n",
    "        self.conv = nn.Sequential(\n",
    "            nn.Conv2d(in_channels=3, out_channels=32, kernel_size=3, stride=1, padding=0),\n",
    "            nn.BatchNorm2d(32),\n",
    "            nn.ReLU(inplace=True)           \n",
    "        )\n",
    "        self.fc = nn.Linear(32, num_classes) #[32,3] ,32是卷积输出的通道数，out_channels是多少这里就是多少\n",
    " \n",
    "    def forward(self, X):\n",
    "        #X = X.requires_grad_()\n",
    "        out = self.conv(X)\n",
    "        #print(out.shape)  #torch.Size([32, 32, 98, 98])\n",
    "        out = nn.functional.avg_pool2d(out, 98)\n",
    "        #print(out.shape) #torch.Size([32, 32, 1, 1])\n",
    "        out = out.squeeze()\n",
    "        #print(out.shape) #torch.Size([32, 32])\n",
    "        out = self.fc(out)\n",
    "        return out"
   ]
  },
  {
   "cell_type": "code",
   "execution_count": 10,
   "metadata": {
    "ExecuteTime": {
     "end_time": "2020-08-14T09:05:32.069113Z",
     "start_time": "2020-08-14T09:05:31.761535Z"
    }
   },
   "outputs": [],
   "source": [
    "#训练函数\n",
    "def train_epoch(net, data_loader, device):\n",
    "    \n",
    "    net.train()\n",
    "    train_batch_num = len(data_loader)\n",
    "    total_loss = 0\n",
    "    correct = 0\n",
    "    sample_num = 0\n",
    "    \n",
    "    for batch_idx, (data, target) in enumerate(data_loader):\n",
    "        data = data.to(device).float()\n",
    "        target = target.to(device).long()\n",
    "        optimizer.zero_grad()\n",
    "        output = net(data)\n",
    "        loss = criterion(output, target)\n",
    "        loss.backward()\n",
    "        optimizer.step()\n",
    "        total_loss += loss.item()\n",
    "        prediction = torch.argmax(output, 1)\n",
    "        correct += (prediction == target).sum().item()\n",
    "        sample_num += len(prediction)\n",
    "    \n",
    "    loss = total_loss / train_batch_num\n",
    "    acc = correct / sample_num\n",
    "    return loss, acc\n",
    "\n",
    "#测试函数\n",
    "def test_epoch(net, data_loader, device):\n",
    "    \n",
    "    net.eval()\n",
    "    test_batch_num = len(data_loader)\n",
    "    total_loss = 0\n",
    "    correct = 0\n",
    "    sample_num = 0\n",
    "    \n",
    "    with torch.no_grad():\n",
    "        for batch_idx, (data, target) in enumerate(data_loader):\n",
    "            data = data.to(device).float()\n",
    "            target = target.to(device).long()\n",
    "            output = net(data)\n",
    "            loss = criterion(output, target)\n",
    "            total_loss += loss.item()\n",
    "            prediction = torch.argmax(output, 1)\n",
    "            correct += (prediction == target).sum().item()\n",
    "            sample_num += len(prediction)\n",
    "    \n",
    "    loss = total_loss / test_batch_num\n",
    "    acc = correct / sample_num\n",
    "    return loss, acc"
   ]
  },
  {
   "cell_type": "code",
   "execution_count": 6,
   "metadata": {
    "ExecuteTime": {
     "end_time": "2020-08-14T09:13:45.312966Z",
     "start_time": "2020-08-14T09:05:48.310999Z"
    }
   },
   "outputs": [
    {
     "name": "stdout",
     "output_type": "stream",
     "text": [
      "epoch 1, train_loss 1.041964, test_loss 1.086847, train_acc 0.550999, test_acc 0.426471\n",
      "epoch 2, train_loss 0.981382, test_loss 1.047078, train_acc 0.588854, test_acc 0.610294\n",
      "epoch 3, train_loss 0.947494, test_loss 1.000940, train_acc 0.582545, test_acc 0.573529\n",
      "epoch 4, train_loss 0.928414, test_loss 0.957754, train_acc 0.583596, test_acc 0.571078\n",
      "epoch 5, train_loss 0.897634, test_loss 0.923764, train_acc 0.587802, test_acc 0.571078\n",
      "epoch 6, train_loss 0.880087, test_loss 0.863691, train_acc 0.587802, test_acc 0.580882\n",
      "epoch 7, train_loss 0.870254, test_loss 0.847584, train_acc 0.593060, test_acc 0.602941\n",
      "epoch 8, train_loss 0.851421, test_loss 0.880510, train_acc 0.603575, test_acc 0.605392\n",
      "epoch 9, train_loss 0.842107, test_loss 0.846486, train_acc 0.614090, test_acc 0.632353\n",
      "epoch 10, train_loss 0.828821, test_loss 0.787264, train_acc 0.621451, test_acc 0.637255\n",
      "epoch 11, train_loss 0.814769, test_loss 0.828771, train_acc 0.631966, test_acc 0.615196\n",
      "epoch 12, train_loss 0.813360, test_loss 0.807624, train_acc 0.638275, test_acc 0.656863\n",
      "epoch 13, train_loss 0.804994, test_loss 0.809485, train_acc 0.634069, test_acc 0.634804\n",
      "epoch 14, train_loss 0.792574, test_loss 0.778348, train_acc 0.649842, test_acc 0.656863\n",
      "epoch 15, train_loss 0.804404, test_loss 0.820932, train_acc 0.651945, test_acc 0.674020\n",
      "epoch 16, train_loss 0.798334, test_loss 0.805124, train_acc 0.662461, test_acc 0.693627\n",
      "epoch 17, train_loss 0.774657, test_loss 0.829510, train_acc 0.669821, test_acc 0.634804\n",
      "epoch 18, train_loss 0.788828, test_loss 0.803879, train_acc 0.674027, test_acc 0.678922\n",
      "epoch 19, train_loss 0.765492, test_loss 0.759687, train_acc 0.679285, test_acc 0.703431\n",
      "epoch 20, train_loss 0.770777, test_loss 0.799394, train_acc 0.686646, test_acc 0.700980\n",
      "epoch 21, train_loss 0.763452, test_loss 0.800848, train_acc 0.700315, test_acc 0.691176\n",
      "epoch 22, train_loss 0.756501, test_loss 0.791230, train_acc 0.699264, test_acc 0.725490\n",
      "epoch 23, train_loss 0.752177, test_loss 0.739205, train_acc 0.705573, test_acc 0.696078\n",
      "epoch 24, train_loss 0.740411, test_loss 0.748759, train_acc 0.715037, test_acc 0.757353\n",
      "epoch 25, train_loss 0.742866, test_loss 0.704731, train_acc 0.701367, test_acc 0.740196\n",
      "epoch 26, train_loss 0.742180, test_loss 0.769822, train_acc 0.711882, test_acc 0.720588\n",
      "epoch 27, train_loss 0.730722, test_loss 0.752502, train_acc 0.716088, test_acc 0.720588\n",
      "epoch 28, train_loss 0.731314, test_loss 0.783283, train_acc 0.715037, test_acc 0.759804\n",
      "epoch 29, train_loss 0.723092, test_loss 0.690857, train_acc 0.720294, test_acc 0.737745\n",
      "epoch 30, train_loss 0.724899, test_loss 0.695978, train_acc 0.732913, test_acc 0.784314\n",
      "epoch 31, train_loss 0.715179, test_loss 0.724008, train_acc 0.726604, test_acc 0.750000\n",
      "epoch 32, train_loss 0.718542, test_loss 0.672685, train_acc 0.719243, test_acc 0.725490\n",
      "epoch 33, train_loss 0.712364, test_loss 0.760372, train_acc 0.730810, test_acc 0.708333\n",
      "epoch 34, train_loss 0.709142, test_loss 0.743958, train_acc 0.745531, test_acc 0.740196\n",
      "epoch 35, train_loss 0.723212, test_loss 0.758603, train_acc 0.735016, test_acc 0.750000\n",
      "epoch 36, train_loss 0.701171, test_loss 0.692144, train_acc 0.740273, test_acc 0.767157\n",
      "epoch 37, train_loss 0.696321, test_loss 0.758729, train_acc 0.735016, test_acc 0.735294\n",
      "epoch 38, train_loss 0.686718, test_loss 0.669379, train_acc 0.759201, test_acc 0.781863\n",
      "epoch 39, train_loss 0.696910, test_loss 0.662399, train_acc 0.738170, test_acc 0.786765\n",
      "epoch 40, train_loss 0.700519, test_loss 0.708560, train_acc 0.750789, test_acc 0.774510\n",
      "epoch 41, train_loss 0.691336, test_loss 0.697372, train_acc 0.741325, test_acc 0.757353\n",
      "epoch 42, train_loss 0.700976, test_loss 0.754583, train_acc 0.747634, test_acc 0.764706\n",
      "epoch 43, train_loss 0.673257, test_loss 0.722531, train_acc 0.763407, test_acc 0.754902\n",
      "epoch 44, train_loss 0.668558, test_loss 0.707190, train_acc 0.760252, test_acc 0.779412\n",
      "epoch 45, train_loss 0.688273, test_loss 0.679062, train_acc 0.758149, test_acc 0.779412\n",
      "epoch 46, train_loss 0.673946, test_loss 0.740126, train_acc 0.754995, test_acc 0.715686\n",
      "epoch 47, train_loss 0.666583, test_loss 0.756862, train_acc 0.784437, test_acc 0.747549\n",
      "epoch 48, train_loss 0.670829, test_loss 0.745351, train_acc 0.762355, test_acc 0.786765\n",
      "epoch 49, train_loss 0.673060, test_loss 0.739686, train_acc 0.748686, test_acc 0.718137\n",
      "epoch 50, train_loss 0.663046, test_loss 0.719613, train_acc 0.780231, test_acc 0.762255\n",
      "epoch 51, train_loss 0.684285, test_loss 0.735765, train_acc 0.796004, test_acc 0.757353\n",
      "epoch 52, train_loss 0.651792, test_loss 0.778581, train_acc 0.772871, test_acc 0.713235\n",
      "epoch 53, train_loss 0.653938, test_loss 0.621871, train_acc 0.776025, test_acc 0.764706\n",
      "epoch 54, train_loss 0.649015, test_loss 0.692076, train_acc 0.784437, test_acc 0.764706\n",
      "epoch 55, train_loss 0.650908, test_loss 0.671184, train_acc 0.782334, test_acc 0.781863\n",
      "epoch 56, train_loss 0.639604, test_loss 0.646796, train_acc 0.793901, test_acc 0.789216\n",
      "epoch 57, train_loss 0.637690, test_loss 0.731987, train_acc 0.790747, test_acc 0.754902\n",
      "epoch 58, train_loss 0.637156, test_loss 0.693253, train_acc 0.779180, test_acc 0.727941\n",
      "epoch 59, train_loss 0.637897, test_loss 0.632464, train_acc 0.783386, test_acc 0.818627\n",
      "epoch 60, train_loss 0.628460, test_loss 0.630866, train_acc 0.793901, test_acc 0.776961\n",
      "epoch 61, train_loss 0.637486, test_loss 1.121486, train_acc 0.804416, test_acc 0.455882\n",
      "epoch 62, train_loss 0.639019, test_loss 0.858084, train_acc 0.773922, test_acc 0.659314\n",
      "epoch 63, train_loss 0.650389, test_loss 0.703003, train_acc 0.794953, test_acc 0.759804\n",
      "epoch 64, train_loss 0.613685, test_loss 0.668112, train_acc 0.809674, test_acc 0.747549\n",
      "epoch 65, train_loss 0.616305, test_loss 0.608351, train_acc 0.794953, test_acc 0.762255\n",
      "epoch 66, train_loss 0.627335, test_loss 0.691118, train_acc 0.818086, test_acc 0.794118\n",
      "epoch 67, train_loss 0.620156, test_loss 0.725297, train_acc 0.806519, test_acc 0.723039\n",
      "epoch 68, train_loss 0.612676, test_loss 0.718450, train_acc 0.805468, test_acc 0.735294\n",
      "epoch 69, train_loss 0.608107, test_loss 0.653816, train_acc 0.804416, test_acc 0.762255\n",
      "epoch 70, train_loss 0.608030, test_loss 0.679361, train_acc 0.817035, test_acc 0.723039\n",
      "epoch 71, train_loss 0.595347, test_loss 0.623124, train_acc 0.822292, test_acc 0.813725\n",
      "epoch 72, train_loss 0.595004, test_loss 0.653906, train_acc 0.814932, test_acc 0.779412\n",
      "epoch 73, train_loss 0.592622, test_loss 0.692846, train_acc 0.814932, test_acc 0.703431\n",
      "epoch 74, train_loss 0.602772, test_loss 0.789417, train_acc 0.818086, test_acc 0.705882\n",
      "epoch 75, train_loss 0.590630, test_loss 0.722649, train_acc 0.817035, test_acc 0.762255\n",
      "epoch 76, train_loss 0.588382, test_loss 0.789117, train_acc 0.819138, test_acc 0.669118\n",
      "epoch 77, train_loss 0.600287, test_loss 0.972775, train_acc 0.811777, test_acc 0.602941\n",
      "epoch 78, train_loss 0.582322, test_loss 0.643344, train_acc 0.824395, test_acc 0.710784\n",
      "epoch 79, train_loss 0.583386, test_loss 0.799571, train_acc 0.822292, test_acc 0.659314\n",
      "epoch 80, train_loss 0.581503, test_loss 0.607077, train_acc 0.829653, test_acc 0.801471\n",
      "epoch 81, train_loss 0.567680, test_loss 0.641878, train_acc 0.830705, test_acc 0.796569\n",
      "epoch 82, train_loss 0.578612, test_loss 0.620560, train_acc 0.832808, test_acc 0.821078\n",
      "epoch 83, train_loss 0.575204, test_loss 0.586317, train_acc 0.834911, test_acc 0.825980\n",
      "epoch 84, train_loss 0.555662, test_loss 0.563099, train_acc 0.834911, test_acc 0.813725\n",
      "epoch 85, train_loss 0.565662, test_loss 0.598629, train_acc 0.833859, test_acc 0.833333\n",
      "epoch 86, train_loss 0.569167, test_loss 0.624914, train_acc 0.832808, test_acc 0.816176\n",
      "epoch 87, train_loss 0.558030, test_loss 0.594099, train_acc 0.832808, test_acc 0.825980\n",
      "epoch 88, train_loss 0.564594, test_loss 0.590438, train_acc 0.833859, test_acc 0.833333\n",
      "epoch 89, train_loss 0.559819, test_loss 0.684140, train_acc 0.831756, test_acc 0.786765\n",
      "epoch 90, train_loss 0.552275, test_loss 0.565222, train_acc 0.840168, test_acc 0.821078\n",
      "epoch 91, train_loss 0.543043, test_loss 0.700971, train_acc 0.837014, test_acc 0.747549\n",
      "epoch 92, train_loss 0.551781, test_loss 0.641152, train_acc 0.831756, test_acc 0.776961\n",
      "epoch 93, train_loss 0.566950, test_loss 0.650854, train_acc 0.820189, test_acc 0.764706\n",
      "epoch 94, train_loss 0.560204, test_loss 0.631889, train_acc 0.834911, test_acc 0.816176\n",
      "epoch 95, train_loss 0.550386, test_loss 0.625621, train_acc 0.828601, test_acc 0.776961\n",
      "epoch 96, train_loss 0.554793, test_loss 0.654700, train_acc 0.831756, test_acc 0.762255\n",
      "epoch 97, train_loss 0.544740, test_loss 0.557432, train_acc 0.835962, test_acc 0.791667\n",
      "epoch 98, train_loss 0.547983, test_loss 0.567796, train_acc 0.841220, test_acc 0.823529\n",
      "epoch 99, train_loss 0.536197, test_loss 0.551175, train_acc 0.844374, test_acc 0.794118\n",
      "epoch 100, train_loss 0.543977, test_loss 0.761289, train_acc 0.840168, test_acc 0.710784\n"
     ]
    }
   ],
   "source": [
    "num_classes = 3\n",
    "num_epoch = 100\n",
    "lr = 0.001\n",
    "batch_size = 128\n",
    "\n",
    "#划分数据集\n",
    "train_dataset = torch.utils.data.TensorDataset(train_features,train_labels)\n",
    "train_iter = torch.utils.data.DataLoader(train_dataset, batch_size, shuffle=True, num_workers=0)\n",
    "test_dataset = torch.utils.data.TensorDataset(test_features,test_labels)\n",
    "test_iter = torch.utils.data.DataLoader(test_dataset, batch_size, shuffle=True, num_workers=0)\n",
    "\n",
    "net = ConvModule().to(device)\n",
    "criterion = torch.nn.CrossEntropyLoss()\n",
    "optimizer = torch.optim.Adam(net.parameters(), lr=lr)\n",
    "\n",
    "train_loss_sum = []\n",
    "train_acc_sum = []\n",
    "test_loss_sum = []\n",
    "test_acc_sum = []\n",
    "\n",
    "for epoch in range(num_epoch):\n",
    "    \n",
    "    train_loss, train_acc = train_epoch(net, train_iter, device)\n",
    "    test_loss, test_acc = test_epoch(net, test_iter, device)\n",
    "    \n",
    "    train_loss_sum.append(train_loss)\n",
    "    train_acc_sum.append(train_acc)\n",
    "    test_loss_sum.append(test_loss)\n",
    "    test_acc_sum.append(test_acc)\n",
    "    \n",
    "    print('epoch %d, train_loss %f, test_loss %f, train_acc %f, test_acc %f' % \n",
    "          (epoch+1, train_loss, test_loss, train_acc, test_acc))"
   ]
  },
  {
   "cell_type": "code",
   "execution_count": 7,
   "metadata": {
    "ExecuteTime": {
     "end_time": "2020-08-14T09:14:11.516318Z",
     "start_time": "2020-08-14T09:14:10.718451Z"
    }
   },
   "outputs": [
    {
     "data": {
      "image/png": "[encoded data removed]",
      "text/plain": [
       "<Figure size 432x288 with 1 Axes>"
      ]
     },
     "metadata": {
      "needs_background": "light"
     },
     "output_type": "display_data"
    }
   ],
   "source": [
    "plt.plot(train_loss_sum ,label='train',color='royalblue')\n",
    "plt.plot(test_loss_sum ,label='test', color='orange')\n",
    "plt.ylabel(\"loss\")\n",
    "plt.xlabel(\"epoch\")\n",
    "plt.legend()\n",
    "plt.show()"
   ]
  },
  {
   "cell_type": "code",
   "execution_count": 8,
   "metadata": {
    "ExecuteTime": {
     "end_time": "2020-08-14T09:14:16.027433Z",
     "start_time": "2020-08-14T09:14:15.152979Z"
    }
   },
   "outputs": [
    {
     "data": {
      "image/png": "[encoded data removed]",
      "text/plain": [
       "<Figure size 432x288 with 1 Axes>"
      ]
     },
     "metadata": {
      "needs_background": "light"
     },
     "output_type": "display_data"
    }
   ],
   "source": [
    "plt.plot(train_acc_sum ,label='train',color='royalblue')\n",
    "plt.plot(test_acc_sum ,label='test', color='orange')\n",
    "plt.ylabel(\"acc\")\n",
    "plt.xlabel(\"epoch\")\n",
    "plt.legend()\n",
    "plt.show()"
   ]
  },
  {
   "cell_type": "code",
   "execution_count": null,
   "metadata": {},
   "outputs": [],
   "source": []
  }
 ],
 "metadata": {
  "kernelspec": {
   "display_name": "Python 3",
   "language": "python",
   "name": "python3"
  },
  "language_info": {
   "codemirror_mode": {
    "name": "ipython",
    "version": 3
   },
   "file_extension": ".py",
   "mimetype": "text/x-python",
   "name": "python",
   "nbconvert_exporter": "python",
   "pygments_lexer": "ipython3",
   "version": "3.7.4"
  },
  "toc": {
   "base_numbering": 1,
   "nav_menu": {},
   "number_sections": true,
   "sideBar": true,
   "skip_h1_title": false,
   "title_cell": "Table of Contents",
   "title_sidebar": "Contents",
   "toc_cell": false,
   "toc_position": {},
   "toc_section_display": true,
   "toc_window_display": false
  },
  "varInspector": {
   "cols": {
    "lenName": 16,
    "lenType": 16,
    "lenVar": 40
   },
   "kernels_config": {
    "python": {
     "delete_cmd_postfix": "",
     "delete_cmd_prefix": "del ",
     "library": "var_list.py",
     "varRefreshCmd": "print(var_dic_list())"
    },
    "r": {
     "delete_cmd_postfix": ") ",
     "delete_cmd_prefix": "rm(",
     "library": "var_list.r",
     "varRefreshCmd": "cat(var_dic_list()) "
    }
   },
   "types_to_exclude": [
    "module",
    "function",
    "builtin_function_or_method",
    "instance",
    "_Feature"
   ],
   "window_display": false
  }
 },
 "nbformat": 4,
 "nbformat_minor": 4
}
