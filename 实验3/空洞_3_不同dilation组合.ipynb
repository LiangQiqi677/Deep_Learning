{
 "cells": [
  {
   "cell_type": "code",
   "execution_count": 1,
   "metadata": {},
   "outputs": [
    {
     "name": "stdout",
     "output_type": "stream",
     "text": [
      "torch.Size([951, 3, 100, 100])\n",
      "torch.Size([408, 3, 100, 100])\n",
      "torch.Size([951])\n",
      "torch.Size([408])\n"
     ]
    }
   ],
   "source": [
    "from PIL import Image\n",
    "import matplotlib.pyplot as plt\n",
    "import numpy as np\n",
    "import torch\n",
    "import torch.nn as nn\n",
    "import os\n",
    "import datetime\n",
    "\n",
    "device = torch.device(\"cuda:0\")\n",
    "\n",
    "path = \"./车辆分类数据集/bus/bus001.jpg\"\n",
    "train_features = torch.Tensor(np.array(Image.open(path).resize((100,100),Image.ANTIALIAS))/255).view(1, 100, 100, 3)\n",
    "test_features = torch.Tensor(np.array(Image.open(path).resize((100,100),Image.ANTIALIAS))/255).view(1, 100, 100, 3)\n",
    "\n",
    "# 处理客车数据，总共218张，前153张为训练集，后65张为测试集\n",
    "pic_num = 0\n",
    "for filename in os.listdir(\"./车辆分类数据集/bus/\"): \n",
    "    pic_num = pic_num + 1\n",
    "    path = \"./车辆分类数据集/bus/\"+ filename\n",
    "    img = torch.Tensor(np.array(Image.open(path).resize((100,100),Image.ANTIALIAS))/255).view(1, 100, 100, 3)\n",
    "    if pic_num <= 153:\n",
    "        train_features = torch.cat((train_features,img), dim=0)\n",
    "    else:\n",
    "        test_features = torch.cat((test_features,img), dim=0)\n",
    "\n",
    "# 处理汽车数据，总共779张，前545张为训练集，后234张为测试集\n",
    "pic_num = 0\n",
    "for filename in os.listdir(\"./车辆分类数据集/car/\"): \n",
    "    pic_num = pic_num + 1\n",
    "    path = \"./车辆分类数据集/car/\"+ filename\n",
    "    img = torch.Tensor(np.array(Image.open(path).resize((100,100),Image.ANTIALIAS))/255).view(1, 100, 100, 3)\n",
    "    if pic_num <= 545:\n",
    "        train_features = torch.cat((train_features,img), dim=0)\n",
    "    else:\n",
    "        test_features = torch.cat((test_features,img), dim=0)\n",
    "\n",
    "# 处理货车数据，总共360张，前252张为训练集，后108张为测试集\n",
    "pic_num = 0\n",
    "for filename in os.listdir(\"./车辆分类数据集/truck/\"): \n",
    "    pic_num = pic_num + 1\n",
    "    path = \"./车辆分类数据集/truck/\"+ filename\n",
    "    img = torch.Tensor(np.array(Image.open(path).resize((100,100),Image.ANTIALIAS))/255).view(1, 100, 100, 3)\n",
    "    if pic_num <= 252:\n",
    "        train_features = torch.cat((train_features,img), dim=0)\n",
    "    else:\n",
    "        test_features = torch.cat((test_features,img), dim=0)\n",
    "\n",
    "train_features = train_features.permute(0,3,2,1)\n",
    "test_features = test_features.permute(0,3,2,1)\n",
    "print(train_features.shape)\n",
    "print(test_features.shape)\n",
    "\n",
    "# =================== 训练集标签 =================== #\n",
    "train_labels = torch.zeros(154).long()\n",
    "train_labels = torch.cat((train_labels,torch.ones(545).long()), dim=0)\n",
    "train_labels = torch.cat((train_labels,torch.ones(252).long()+1), dim=0)\n",
    "print(train_labels.shape)\n",
    "\n",
    "# =================== 测试集标签 =================== #\n",
    "test_labels = torch.zeros(66).long()\n",
    "test_labels = torch.cat((test_labels,torch.ones(234).long()), dim=0)\n",
    "test_labels = torch.cat((test_labels,torch.ones(108).long()+1), dim=0)\n",
    "print(test_labels.shape)"
   ]
  },
  {
   "cell_type": "code",
   "execution_count": 7,
   "metadata": {},
   "outputs": [],
   "source": [
    "# ==================== [1, 2, 3] ==================== #\n",
    "class DilatedConvModule_1 (torch.nn.Module):\n",
    "    def __init__(self):\n",
    "        super(DilatedConvModule_1, self).__init__()\n",
    "        #定义一个三层卷积\n",
    "        self.conv = nn.Sequential(\n",
    "            nn.Conv2d(in_channels=3, out_channels=32, kernel_size=3, stride=1, padding=0, dilation=1),\n",
    "            nn.BatchNorm2d(32),\n",
    "            nn.ReLU(inplace=True), \n",
    "            nn.Conv2d(in_channels=32, out_channels=64, kernel_size=3, stride=1, padding=0, dilation=2),\n",
    "            nn.BatchNorm2d(64),\n",
    "            nn.ReLU(inplace=True),\n",
    "            nn.Conv2d(in_channels=64, out_channels=128, kernel_size=3, stride=1, padding=0, dilation=3),\n",
    "            nn.BatchNorm2d(128),\n",
    "            nn.ReLU(inplace=True) \n",
    "        )\n",
    "        self.fc = nn.Linear(128, num_classes) #[32,3] ,32是卷积输出的通道数，out_channels是多少这里就是多少\n",
    " \n",
    "    def forward(self, X):\n",
    "        out = self.conv(X)\n",
    "        #print(out.shape)  #torch.Size([32, 32, 84, 84])\n",
    "        out = nn.functional.avg_pool2d(out, 84)\n",
    "        #print(out.shape) #torch.Size([32, 32, 1, 1])\n",
    "        out = out.squeeze()\n",
    "        #print(out.shape) #torch.Size([32, 32])\n",
    "        out = self.fc(out)\n",
    "        return out\n",
    "\n",
    "# ==================== [1, 2, 5] ==================== #\n",
    "class DilatedConvModule_2 (torch.nn.Module):\n",
    "    def __init__(self):\n",
    "        super(DilatedConvModule_2, self).__init__()\n",
    "        #定义一个三层卷积\n",
    "        self.conv = nn.Sequential(\n",
    "            nn.Conv2d(in_channels=3, out_channels=32, kernel_size=3, stride=1, padding=0, dilation=1),\n",
    "            nn.BatchNorm2d(32),\n",
    "            nn.ReLU(inplace=True), \n",
    "            nn.Conv2d(in_channels=32, out_channels=64, kernel_size=3, stride=1, padding=0, dilation=2),\n",
    "            nn.BatchNorm2d(64),\n",
    "            nn.ReLU(inplace=True),\n",
    "            nn.Conv2d(in_channels=64, out_channels=128, kernel_size=3, stride=1, padding=0, dilation=5),\n",
    "            nn.BatchNorm2d(128),\n",
    "            nn.ReLU(inplace=True) \n",
    "        )\n",
    "        self.fc = nn.Linear(128, num_classes) #[32,3] ,32是卷积输出的通道数，out_channels是多少这里就是多少\n",
    " \n",
    "    def forward(self, X):\n",
    "        out = self.conv(X)\n",
    "        #print(out.shape)  #torch.Size([32, 32, 84, 84])\n",
    "        out = nn.functional.avg_pool2d(out, 84)\n",
    "        #print(out.shape) #torch.Size([32, 32, 1, 1])\n",
    "        out = out.squeeze()\n",
    "        #print(out.shape) #torch.Size([32, 32])\n",
    "        out = self.fc(out)\n",
    "        return out\n",
    "    \n",
    "# ==================== [3, 4, 5] ==================== #\n",
    "class DilatedConvModule_3 (torch.nn.Module):\n",
    "    def __init__(self):\n",
    "        super(DilatedConvModule_3, self).__init__()\n",
    "        #定义一个三层卷积\n",
    "        self.conv = nn.Sequential(\n",
    "            nn.Conv2d(in_channels=3, out_channels=32, kernel_size=3, stride=1, padding=0, dilation=3),\n",
    "            nn.BatchNorm2d(32),\n",
    "            nn.ReLU(inplace=True), \n",
    "            nn.Conv2d(in_channels=32, out_channels=64, kernel_size=3, stride=1, padding=0, dilation=4),\n",
    "            nn.BatchNorm2d(64),\n",
    "            nn.ReLU(inplace=True),\n",
    "            nn.Conv2d(in_channels=64, out_channels=128, kernel_size=3, stride=1, padding=0, dilation=5),\n",
    "            nn.BatchNorm2d(128),\n",
    "            nn.ReLU(inplace=True) \n",
    "        )\n",
    "        self.fc = nn.Linear(128, num_classes) #[32,3] ,32是卷积输出的通道数，out_channels是多少这里就是多少\n",
    " \n",
    "    def forward(self, X):\n",
    "        out = self.conv(X)\n",
    "        #print(out.shape)  #torch.Size([32, 32, 84, 84])\n",
    "        out = nn.functional.avg_pool2d(out, 76)\n",
    "        #print(out.shape) #torch.Size([32, 32, 1, 1])\n",
    "        out = out.squeeze()\n",
    "        #print(out.shape) #torch.Size([32, 32])\n",
    "        out = self.fc(out)\n",
    "        return out"
   ]
  },
  {
   "cell_type": "code",
   "execution_count": 3,
   "metadata": {},
   "outputs": [],
   "source": [
    "#训练函数\n",
    "def train_epoch(net, data_loader, device):\n",
    "    \n",
    "    net.train()\n",
    "    train_batch_num = len(data_loader)\n",
    "    total_loss = 0\n",
    "    correct = 0\n",
    "    sample_num = 0\n",
    "    \n",
    "    for batch_idx, (data, target) in enumerate(data_loader):\n",
    "        data = data.to(device).float()\n",
    "        target = target.to(device).long()\n",
    "        optimizer.zero_grad()\n",
    "        output = net(data)\n",
    "        loss = criterion(output, target)\n",
    "        loss.backward()\n",
    "        optimizer.step()\n",
    "        total_loss += loss.item()\n",
    "        prediction = torch.argmax(output, 1)\n",
    "        correct += (prediction == target).sum().item()\n",
    "        sample_num += len(prediction)\n",
    "    \n",
    "    loss = total_loss / train_batch_num\n",
    "    acc = correct / sample_num\n",
    "    return loss, acc\n",
    "\n",
    "#测试函数\n",
    "def test_epoch(net, data_loader, device):\n",
    "    \n",
    "    net.eval()\n",
    "    test_batch_num = len(data_loader)\n",
    "    total_loss = 0\n",
    "    correct = 0\n",
    "    sample_num = 0\n",
    "    \n",
    "    with torch.no_grad():\n",
    "        for batch_idx, (data, target) in enumerate(data_loader):\n",
    "            data = data.to(device).float()\n",
    "            target = target.to(device).long()\n",
    "            output = net(data)\n",
    "            loss = criterion(output, target)\n",
    "            total_loss += loss.item()\n",
    "            prediction = torch.argmax(output, 1)\n",
    "            correct += (prediction == target).sum().item()\n",
    "            sample_num += len(prediction)\n",
    "    \n",
    "    loss = total_loss / test_batch_num\n",
    "    acc = correct / sample_num\n",
    "    return loss, acc\n",
    "\n",
    "num_classes = 3\n",
    "num_epoch = 20\n",
    "lr = 0.001\n",
    "batch_size = 128\n",
    "\n",
    "#划分数据集\n",
    "train_dataset = torch.utils.data.TensorDataset(train_features,train_labels)\n",
    "train_iter = torch.utils.data.DataLoader(train_dataset, batch_size, shuffle=True, num_workers=0)\n",
    "test_dataset = torch.utils.data.TensorDataset(test_features,test_labels)\n",
    "test_iter = torch.utils.data.DataLoader(test_dataset, batch_size, shuffle=True, num_workers=0)"
   ]
  },
  {
   "cell_type": "code",
   "execution_count": 4,
   "metadata": {},
   "outputs": [
    {
     "name": "stdout",
     "output_type": "stream",
     "text": [
      "epoch 1, train_loss 0.857914, test_loss 1.126840, train_acc 0.637224, test_acc 0.267157\n",
      "epoch 2, train_loss 0.592212, test_loss 1.135352, train_acc 0.812829, test_acc 0.372549\n",
      "epoch 3, train_loss 0.511629, test_loss 1.398463, train_acc 0.838065, test_acc 0.384804\n",
      "epoch 4, train_loss 0.464888, test_loss 1.050188, train_acc 0.839117, test_acc 0.571078\n",
      "epoch 5, train_loss 0.418040, test_loss 0.685522, train_acc 0.855941, test_acc 0.686275\n",
      "epoch 6, train_loss 0.381091, test_loss 0.659115, train_acc 0.867508, test_acc 0.776961\n",
      "epoch 7, train_loss 0.351346, test_loss 0.585639, train_acc 0.868559, test_acc 0.769608\n",
      "epoch 8, train_loss 0.357892, test_loss 0.586512, train_acc 0.876972, test_acc 0.769608\n",
      "epoch 9, train_loss 0.333313, test_loss 0.517410, train_acc 0.887487, test_acc 0.786765\n",
      "epoch 10, train_loss 0.326689, test_loss 0.338950, train_acc 0.889590, test_acc 0.887255\n",
      "epoch 11, train_loss 0.310924, test_loss 0.752788, train_acc 0.895899, test_acc 0.754902\n",
      "epoch 12, train_loss 0.303772, test_loss 0.471480, train_acc 0.898002, test_acc 0.855392\n",
      "epoch 13, train_loss 0.277990, test_loss 0.365169, train_acc 0.899054, test_acc 0.838235\n",
      "epoch 14, train_loss 0.284665, test_loss 0.356649, train_acc 0.906414, test_acc 0.862745\n",
      "epoch 15, train_loss 0.289298, test_loss 0.810291, train_acc 0.891693, test_acc 0.747549\n",
      "epoch 16, train_loss 0.254118, test_loss 0.374750, train_acc 0.911672, test_acc 0.862745\n",
      "epoch 17, train_loss 0.259161, test_loss 0.366912, train_acc 0.907466, test_acc 0.852941\n",
      "epoch 18, train_loss 0.259009, test_loss 0.474464, train_acc 0.908517, test_acc 0.803922\n",
      "epoch 19, train_loss 0.259337, test_loss 0.483492, train_acc 0.908517, test_acc 0.833333\n",
      "epoch 20, train_loss 0.259166, test_loss 0.330257, train_acc 0.907466, test_acc 0.877451\n",
      "空洞卷积[1, 2, 3]执行时间：\n",
      "0:02:01.276924\n"
     ]
    }
   ],
   "source": [
    "# ==================== [1, 2, 3] ==================== #\n",
    "\n",
    "net = DilatedConvModule_1().to(device)\n",
    "criterion = torch.nn.CrossEntropyLoss()\n",
    "optimizer = torch.optim.Adam(net.parameters(), lr=lr)\n",
    "\n",
    "train_loss_1 = []\n",
    "train_acc_1 = []\n",
    "test_loss_1 = []\n",
    "test_acc_1 = []\n",
    "\n",
    "start = datetime.datetime.now()\n",
    "for epoch in range(num_epoch):\n",
    "    \n",
    "    train_loss, train_acc = train_epoch(net, train_iter, device)\n",
    "    test_loss, test_acc = test_epoch(net, test_iter, device)\n",
    "    \n",
    "    train_loss_1.append(train_loss)\n",
    "    train_acc_1.append(train_acc)\n",
    "    test_loss_1.append(test_loss)\n",
    "    test_acc_1.append(test_acc)\n",
    "    \n",
    "    print('epoch %d, train_loss %f, test_loss %f, train_acc %f, test_acc %f' % \n",
    "          (epoch+1, train_loss, test_loss, train_acc, test_acc))\n",
    "end = datetime.datetime.now()\n",
    "print(\"空洞卷积[1, 2, 3]执行时间：\")\n",
    "print(end - start)"
   ]
  },
  {
   "cell_type": "code",
   "execution_count": 5,
   "metadata": {},
   "outputs": [
    {
     "name": "stdout",
     "output_type": "stream",
     "text": [
      "epoch 1, train_loss 0.752632, test_loss 1.023084, train_acc 0.737119, test_acc 0.426471\n",
      "epoch 2, train_loss 0.562660, test_loss 1.152508, train_acc 0.826498, test_acc 0.414216\n",
      "epoch 3, train_loss 0.479370, test_loss 1.450672, train_acc 0.851735, test_acc 0.394608\n",
      "epoch 4, train_loss 0.427584, test_loss 1.089395, train_acc 0.845426, test_acc 0.583333\n",
      "epoch 5, train_loss 0.403627, test_loss 0.736390, train_acc 0.863302, test_acc 0.676471\n",
      "epoch 6, train_loss 0.368149, test_loss 0.474249, train_acc 0.869611, test_acc 0.794118\n",
      "epoch 7, train_loss 0.351649, test_loss 0.584904, train_acc 0.879075, test_acc 0.789216\n",
      "epoch 8, train_loss 0.322727, test_loss 0.538174, train_acc 0.892744, test_acc 0.799020\n",
      "epoch 9, train_loss 0.307637, test_loss 0.389403, train_acc 0.892744, test_acc 0.855392\n",
      "epoch 10, train_loss 0.295139, test_loss 0.912042, train_acc 0.896951, test_acc 0.710784\n",
      "epoch 11, train_loss 0.300433, test_loss 0.513432, train_acc 0.894848, test_acc 0.818627\n",
      "epoch 12, train_loss 0.273456, test_loss 0.338893, train_acc 0.907466, test_acc 0.904412\n",
      "epoch 13, train_loss 0.284211, test_loss 0.314912, train_acc 0.908517, test_acc 0.865196\n",
      "epoch 14, train_loss 0.288396, test_loss 0.602892, train_acc 0.890641, test_acc 0.794118\n",
      "epoch 15, train_loss 0.274437, test_loss 0.333214, train_acc 0.903260, test_acc 0.860294\n",
      "epoch 16, train_loss 0.259435, test_loss 0.582519, train_acc 0.914826, test_acc 0.796569\n",
      "epoch 17, train_loss 0.251571, test_loss 0.304633, train_acc 0.914826, test_acc 0.894608\n",
      "epoch 18, train_loss 0.252873, test_loss 0.570551, train_acc 0.912723, test_acc 0.786765\n",
      "epoch 19, train_loss 0.243166, test_loss 0.313354, train_acc 0.915878, test_acc 0.899510\n",
      "epoch 20, train_loss 0.229414, test_loss 0.318456, train_acc 0.922187, test_acc 0.901961\n",
      "空洞卷积[1, 2, 5]执行时间：\n",
      "0:02:00.550957\n"
     ]
    }
   ],
   "source": [
    "# ==================== [1, 2, 5] ==================== #\n",
    "\n",
    "net = DilatedConvModule_2().to(device)\n",
    "criterion = torch.nn.CrossEntropyLoss()\n",
    "optimizer = torch.optim.Adam(net.parameters(), lr=lr)\n",
    "\n",
    "train_loss_2 = []\n",
    "train_acc_2 = []\n",
    "test_loss_2 = []\n",
    "test_acc_2 = []\n",
    "\n",
    "start1 = datetime.datetime.now()\n",
    "for epoch in range(num_epoch):\n",
    "    \n",
    "    train_loss, train_acc = train_epoch(net, train_iter, device)\n",
    "    test_loss, test_acc = test_epoch(net, test_iter, device)\n",
    "    \n",
    "    train_loss_2.append(train_loss)\n",
    "    train_acc_2.append(train_acc)\n",
    "    test_loss_2.append(test_loss)\n",
    "    test_acc_2.append(test_acc)\n",
    "    \n",
    "    print('epoch %d, train_loss %f, test_loss %f, train_acc %f, test_acc %f' % \n",
    "          (epoch+1, train_loss, test_loss, train_acc, test_acc))\n",
    "end1 = datetime.datetime.now()\n",
    "print(\"空洞卷积[1, 2, 5]执行时间：\")\n",
    "print(end1 - start1)"
   ]
  },
  {
   "cell_type": "code",
   "execution_count": 8,
   "metadata": {},
   "outputs": [
    {
     "name": "stdout",
     "output_type": "stream",
     "text": [
      "epoch 1, train_loss 0.796898, test_loss 1.291083, train_acc 0.644585, test_acc 0.264706\n",
      "epoch 2, train_loss 0.546691, test_loss 1.629273, train_acc 0.811777, test_acc 0.264706\n",
      "epoch 3, train_loss 0.481664, test_loss 2.004945, train_acc 0.843323, test_acc 0.264706\n",
      "epoch 4, train_loss 0.423468, test_loss 2.027864, train_acc 0.849632, test_acc 0.306373\n",
      "epoch 5, train_loss 0.388675, test_loss 1.175261, train_acc 0.863302, test_acc 0.539216\n",
      "epoch 6, train_loss 0.369852, test_loss 1.030073, train_acc 0.867508, test_acc 0.605392\n",
      "epoch 7, train_loss 0.356107, test_loss 0.402768, train_acc 0.864353, test_acc 0.862745\n",
      "epoch 8, train_loss 0.322003, test_loss 0.430489, train_acc 0.885384, test_acc 0.865196\n",
      "epoch 9, train_loss 0.291385, test_loss 0.415682, train_acc 0.892744, test_acc 0.862745\n",
      "epoch 10, train_loss 0.272286, test_loss 0.349054, train_acc 0.904311, test_acc 0.882353\n",
      "epoch 11, train_loss 0.269690, test_loss 0.751961, train_acc 0.914826, test_acc 0.740196\n",
      "epoch 12, train_loss 0.267882, test_loss 0.328390, train_acc 0.914826, test_acc 0.862745\n",
      "epoch 13, train_loss 0.269196, test_loss 0.544276, train_acc 0.899054, test_acc 0.813725\n",
      "epoch 14, train_loss 0.261264, test_loss 0.313255, train_acc 0.908517, test_acc 0.870098\n",
      "epoch 15, train_loss 0.233435, test_loss 0.323595, train_acc 0.908517, test_acc 0.892157\n",
      "epoch 16, train_loss 0.225808, test_loss 0.411625, train_acc 0.919033, test_acc 0.808824\n",
      "epoch 17, train_loss 0.218711, test_loss 0.363593, train_acc 0.931651, test_acc 0.882353\n",
      "epoch 18, train_loss 0.204741, test_loss 0.375003, train_acc 0.930599, test_acc 0.879902\n",
      "epoch 19, train_loss 0.189830, test_loss 0.264792, train_acc 0.944269, test_acc 0.906863\n",
      "epoch 20, train_loss 0.189621, test_loss 0.291874, train_acc 0.941115, test_acc 0.889706\n",
      "空洞卷积[3, 4, 5]执行时间：\n",
      "0:01:41.095315\n"
     ]
    }
   ],
   "source": [
    "# ==================== [3, 4, 5] ==================== #\n",
    "\n",
    "net = DilatedConvModule_3().to(device)\n",
    "criterion = torch.nn.CrossEntropyLoss()\n",
    "optimizer = torch.optim.Adam(net.parameters(), lr=lr)\n",
    "\n",
    "train_loss_3 = []\n",
    "train_acc_3 = []\n",
    "test_loss_3 = []\n",
    "test_acc_3 = []\n",
    "\n",
    "start3 = datetime.datetime.now()\n",
    "for epoch in range(num_epoch):\n",
    "    \n",
    "    train_loss, train_acc = train_epoch(net, train_iter, device)\n",
    "    test_loss, test_acc = test_epoch(net, test_iter, device)\n",
    "    \n",
    "    train_loss_3.append(train_loss)\n",
    "    train_acc_3.append(train_acc)\n",
    "    test_loss_3.append(test_loss)\n",
    "    test_acc_3.append(test_acc)\n",
    "    \n",
    "    print('epoch %d, train_loss %f, test_loss %f, train_acc %f, test_acc %f' % \n",
    "          (epoch+1, train_loss, test_loss, train_acc, test_acc))\n",
    "end3 = datetime.datetime.now()\n",
    "print(\"空洞卷积[3, 4, 5]执行时间：\")\n",
    "print(end3 - start3)"
   ]
  },
  {
   "cell_type": "code",
   "execution_count": 9,
   "metadata": {},
   "outputs": [
    {
     "data": {
      "image/png": "[encoded data removed]",
      "text/plain": [
       "<Figure size 432x288 with 1 Axes>"
      ]
     },
     "metadata": {
      "needs_background": "light"
     },
     "output_type": "display_data"
    }
   ],
   "source": [
    "plt.plot(train_loss_1 ,label='Dlation[1,2,3]',color='blue')\n",
    "plt.plot(train_loss_2 ,label='Dlation[1,2,5]', color='orange')\n",
    "plt.plot(train_loss_3 ,label='Dlation[3,4,5]', color='red')\n",
    "plt.ylabel(\"train_loss\")\n",
    "plt.xlabel(\"epoch\")\n",
    "plt.title(\"train_loss\")\n",
    "plt.legend()\n",
    "plt.show()"
   ]
  },
  {
   "cell_type": "code",
   "execution_count": 10,
   "metadata": {},
   "outputs": [
    {
     "data": {
      "image/png": "[encoded data removed]",
      "text/plain": [
       "<Figure size 432x288 with 1 Axes>"
      ]
     },
     "metadata": {
      "needs_background": "light"
     },
     "output_type": "display_data"
    }
   ],
   "source": [
    "plt.plot(test_loss_1 ,label='Dlation[1,2,3]',color='blue')\n",
    "plt.plot(test_loss_2 ,label='Dlation[1,2,5]', color='orange')\n",
    "plt.plot(test_loss_3 ,label='Dlation[3,4,5]', color='red')\n",
    "plt.ylabel(\"test_loss\")\n",
    "plt.xlabel(\"epoch\")\n",
    "plt.title(\"test_loss\")\n",
    "plt.legend()\n",
    "plt.show()"
   ]
  },
  {
   "cell_type": "code",
   "execution_count": 11,
   "metadata": {},
   "outputs": [
    {
     "data": {
      "image/png": "[encoded data removed]",
      "text/plain": [
       "<Figure size 432x288 with 1 Axes>"
      ]
     },
     "metadata": {
      "needs_background": "light"
     },
     "output_type": "display_data"
    }
   ],
   "source": [
    "plt.plot(train_acc_1 ,label='Dlation[1,2,3]',color='blue')\n",
    "plt.plot(train_acc_2 ,label='Dlation[1,2,5]', color='orange')\n",
    "plt.plot(train_acc_3 ,label='Dlation[3,4,5]', color='red')\n",
    "plt.ylabel(\"train_acc\")\n",
    "plt.xlabel(\"epoch\")\n",
    "plt.title(\"train_acc\")\n",
    "plt.legend()\n",
    "plt.show()"
   ]
  },
  {
   "cell_type": "code",
   "execution_count": 12,
   "metadata": {},
   "outputs": [
    {
     "data": {
      "image/png": "[encoded data removed]",
      "text/plain": [
       "<Figure size 432x288 with 1 Axes>"
      ]
     },
     "metadata": {
      "needs_background": "light"
     },
     "output_type": "display_data"
    }
   ],
   "source": [
    "plt.plot(test_acc_1 ,label='Dlation[1,2,3]',color='blue')\n",
    "plt.plot(test_acc_2 ,label='Dlation[1,2,5]', color='orange')\n",
    "plt.plot(test_acc_3 ,label='Dlation[3,4,5]', color='red')\n",
    "plt.ylabel(\"test_acc\")\n",
    "plt.xlabel(\"epoch\")\n",
    "plt.title(\"test_acc\")\n",
    "plt.legend()\n",
    "plt.show()"
   ]
  },
  {
   "cell_type": "code",
   "execution_count": null,
   "metadata": {},
   "outputs": [],
   "source": []
  }
 ],
 "metadata": {
  "kernelspec": {
   "display_name": "Python 3",
   "language": "python",
   "name": "python3"
  },
  "language_info": {
   "codemirror_mode": {
    "name": "ipython",
    "version": 3
   },
   "file_extension": ".py",
   "mimetype": "text/x-python",
   "name": "python",
   "nbconvert_exporter": "python",
   "pygments_lexer": "ipython3",
   "version": "3.7.4"
  },
  "toc": {
   "base_numbering": 1,
   "nav_menu": {},
   "number_sections": true,
   "sideBar": true,
   "skip_h1_title": false,
   "title_cell": "Table of Contents",
   "title_sidebar": "Contents",
   "toc_cell": false,
   "toc_position": {},
   "toc_section_display": true,
   "toc_window_display": false
  },
  "varInspector": {
   "cols": {
    "lenName": 16,
    "lenType": 16,
    "lenVar": 40
   },
   "kernels_config": {
    "python": {
     "delete_cmd_postfix": "",
     "delete_cmd_prefix": "del ",
     "library": "var_list.py",
     "varRefreshCmd": "print(var_dic_list())"
    },
    "r": {
     "delete_cmd_postfix": ") ",
     "delete_cmd_prefix": "rm(",
     "library": "var_list.r",
     "varRefreshCmd": "cat(var_dic_list()) "
    }
   },
   "types_to_exclude": [
    "module",
    "function",
    "builtin_function_or_method",
    "instance",
    "_Feature"
   ],
   "window_display": false
  }
 },
 "nbformat": 4,
 "nbformat_minor": 4
}
