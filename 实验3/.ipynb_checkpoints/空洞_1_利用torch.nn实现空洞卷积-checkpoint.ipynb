{
 "cells": [
  {
   "cell_type": "code",
   "execution_count": 1,
   "metadata": {
    "ExecuteTime": {
     "end_time": "2020-08-15T08:39:29.456605Z",
     "start_time": "2020-08-15T08:39:27.891262Z"
    }
   },
   "outputs": [],
   "source": [
    "from PIL import Image\n",
    "import matplotlib.pyplot as plt\n",
    "import numpy as np\n",
    "import torch\n",
    "import torch.nn as nn"
   ]
  },
  {
   "cell_type": "code",
   "execution_count": 2,
   "metadata": {
    "ExecuteTime": {
     "end_time": "2020-08-15T08:39:38.475150Z",
     "start_time": "2020-08-15T08:39:31.149083Z"
    }
   },
   "outputs": [
    {
     "name": "stdout",
     "output_type": "stream",
     "text": [
      "torch.Size([300, 3, 100, 100])\n",
      "torch.Size([60, 3, 100, 100])\n",
      "torch.Size([300])\n",
      "torch.Size([60])\n"
     ]
    }
   ],
   "source": [
    "# 处理客车数据，总共218张，前153张为训练集，后65张为测试集\n",
    "\n",
    "# =================== 训练集 =================== #\n",
    "path = \"D:\\课件-研究生\\深度学习_万怀宇\\实验3\\车辆分类数据集\\\\bus\\\\bus001.jpg\"\n",
    "train_features = torch.Tensor(np.array(Image.open(path).resize((100,100),Image.ANTIALIAS))/255).view(1, 100, 100, 3)\n",
    "for i in range(2,10):\n",
    "    path = \"D:\\课件-研究生\\深度学习_万怀宇\\实验3\\车辆分类数据集\\\\bus\\\\bus00\"+ str(i) + \".jpg\"\n",
    "    img = torch.Tensor(np.array(Image.open(path).resize((100,100),Image.ANTIALIAS))/255).view(1, 100, 100, 3)\n",
    "    train_features = torch.cat((train_features,img), dim=0)\n",
    "for i in range(10,100):\n",
    "    path = \"D:\\课件-研究生\\深度学习_万怀宇\\实验3\\车辆分类数据集\\\\bus\\\\bus0\"+ str(i) + \".jpg\"\n",
    "    img = torch.Tensor(np.array(Image.open(path).resize((100,100),Image.ANTIALIAS))/255).view(1, 100, 100, 3)\n",
    "    train_features = torch.cat((train_features,img), dim=0)\n",
    "for i in range(100,101):\n",
    "    path = \"D:\\课件-研究生\\深度学习_万怀宇\\实验3\\车辆分类数据集\\\\bus\\\\bus\"+ str(i) + \".jpg\"\n",
    "    img = torch.Tensor(np.array(Image.open(path).resize((100,100),Image.ANTIALIAS))/255).view(1, 100, 100, 3)\n",
    "    train_features = torch.cat((train_features,img), dim=0)\n",
    "\n",
    "# =================== 测试集 =================== #\n",
    "path = \"D:\\课件-研究生\\深度学习_万怀宇\\实验3\\车辆分类数据集\\\\bus\\\\bus101.jpg\"\n",
    "test_features = torch.Tensor(np.array(Image.open(path).resize((100,100),Image.ANTIALIAS))/255).view(1, 100, 100, 3)\n",
    "\n",
    "for i in range(102,121):\n",
    "    path = \"D:\\课件-研究生\\深度学习_万怀宇\\实验3\\车辆分类数据集\\\\bus\\\\bus\"+ str(i) + \".jpg\"\n",
    "    img = torch.Tensor(np.array(Image.open(path).resize((100,100),Image.ANTIALIAS))/255).view(1, 100, 100, 3)\n",
    "    test_features = torch.cat((test_features,img), dim=0)\n",
    "\n",
    "\n",
    "# 处理汽车数据，总共779张，前545张为训练集，后234张为测试集\n",
    "\n",
    "# =================== 训练集 =================== #\n",
    "for i in range(1,10):\n",
    "    path = \"D:\\课件-研究生\\深度学习_万怀宇\\实验3\\车辆分类数据集\\\\car\\\\car00\"+ str(i) + \".jpg\"\n",
    "    img = torch.Tensor(np.array(Image.open(path).resize((100,100),Image.ANTIALIAS))/255).view(1, 100, 100, 3)\n",
    "    train_features = torch.cat((train_features,img), dim=0)\n",
    "for i in range(10,100):\n",
    "    path = \"D:\\课件-研究生\\深度学习_万怀宇\\实验3\\车辆分类数据集\\\\car\\\\car0\"+ str(i) + \".jpg\"\n",
    "    img = torch.Tensor(np.array(Image.open(path).resize((100,100),Image.ANTIALIAS))/255).view(1, 100, 100, 3)\n",
    "    train_features = torch.cat((train_features,img), dim=0)\n",
    "for i in range(100,101):\n",
    "    path = \"D:\\课件-研究生\\深度学习_万怀宇\\实验3\\车辆分类数据集\\\\car\\\\car\"+ str(i) + \".jpg\"\n",
    "    img = torch.Tensor(np.array(Image.open(path).resize((100,100),Image.ANTIALIAS))/255).view(1, 100, 100, 3)\n",
    "    train_features = torch.cat((train_features,img), dim=0)\n",
    "\n",
    "# =================== 测试集 =================== #\n",
    "for i in range(101,121):\n",
    "    path = \"D:\\课件-研究生\\深度学习_万怀宇\\实验3\\车辆分类数据集\\\\car\\\\car\"+ str(i) + \".jpg\"\n",
    "    img = torch.Tensor(np.array(Image.open(path).resize((100,100),Image.ANTIALIAS))/255).view(1, 100, 100, 3)\n",
    "    test_features = torch.cat((test_features,img), dim=0)\n",
    "\n",
    "# 处理货车数据，总共360张，前252张为训练集，后108张为测试集\n",
    "\n",
    "# =================== 训练集 =================== #\n",
    "for i in range(1,10):\n",
    "    path = \"D:\\课件-研究生\\深度学习_万怀宇\\实验3\\车辆分类数据集\\\\truck\\\\truck00\"+ str(i) + \".jpg\"\n",
    "    img = torch.Tensor(np.array(Image.open(path).resize((100,100),Image.ANTIALIAS))/255).view(1, 100, 100, 3)\n",
    "    train_features = torch.cat((train_features,img), dim=0)\n",
    "for i in range(10,100):\n",
    "    path = \"D:\\课件-研究生\\深度学习_万怀宇\\实验3\\车辆分类数据集\\\\truck\\\\truck0\"+ str(i) + \".jpg\"\n",
    "    img = torch.Tensor(np.array(Image.open(path).resize((100,100),Image.ANTIALIAS))/255).view(1, 100, 100, 3)\n",
    "    train_features = torch.cat((train_features,img), dim=0)\n",
    "for i in range(100,101):\n",
    "    path = \"D:\\课件-研究生\\深度学习_万怀宇\\实验3\\车辆分类数据集\\\\truck\\\\truck\"+ str(i) + \".jpg\"\n",
    "    img = torch.Tensor(np.array(Image.open(path).resize((100,100),Image.ANTIALIAS))/255).view(1, 100, 100, 3)\n",
    "    train_features = torch.cat((train_features,img), dim=0)\n",
    "\n",
    "# =================== 测试集 =================== #\n",
    "for i in range(101,121):\n",
    "    path = \"D:\\课件-研究生\\深度学习_万怀宇\\实验3\\车辆分类数据集\\\\truck\\\\truck\"+ str(i) + \".jpg\"\n",
    "    img = torch.Tensor(np.array(Image.open(path).resize((100,100),Image.ANTIALIAS))/255).view(1, 100, 100, 3)\n",
    "    test_features = torch.cat((test_features,img), dim=0)\n",
    "\n",
    "train_features = train_features.permute(0,3,2,1)\n",
    "test_features = test_features.permute(0,3,2,1)\n",
    "print(train_features.shape)\n",
    "print(test_features.shape)\n",
    "\n",
    "# =================== 训练集标签 =================== #\n",
    "train_labels = torch.zeros(100).long()\n",
    "train_labels = torch.cat((train_labels,torch.ones(100).long()), dim=0)\n",
    "train_labels = torch.cat((train_labels,torch.ones(100).long()+1), dim=0)\n",
    "print(train_labels.shape)\n",
    "\n",
    "# =================== 测试集标签 =================== #\n",
    "test_labels = torch.zeros(20).long()\n",
    "test_labels = torch.cat((test_labels,torch.ones(20).long()), dim=0)\n",
    "test_labels = torch.cat((test_labels,torch.ones(20).long()+1), dim=0)\n",
    "print(test_labels.shape)"
   ]
  },
  {
   "cell_type": "code",
   "execution_count": 3,
   "metadata": {
    "ExecuteTime": {
     "end_time": "2020-08-15T08:39:43.447553Z",
     "start_time": "2020-08-15T08:39:43.373750Z"
    }
   },
   "outputs": [],
   "source": [
    "# ==================== 卷积层数为3 ==================== #\n",
    "class DilatedConvModule (torch.nn.Module):\n",
    "    def __init__(self):\n",
    "        super(DilatedConvModule, self).__init__()\n",
    "        #定义一个三层卷积\n",
    "        self.conv = nn.Sequential(\n",
    "            nn.Conv2d(in_channels=3, out_channels=32, kernel_size=3, stride=1, padding=0, dilation=1),\n",
    "            nn.BatchNorm2d(32),\n",
    "            nn.ReLU(inplace=True), \n",
    "            nn.Conv2d(in_channels=32, out_channels=64, kernel_size=3, stride=1, padding=0, dilation=2),\n",
    "            nn.BatchNorm2d(64),\n",
    "            nn.ReLU(inplace=True),\n",
    "            nn.Conv2d(in_channels=64, out_channels=128, kernel_size=3, stride=1, padding=0, dilation=5),\n",
    "            nn.BatchNorm2d(128),\n",
    "            nn.ReLU(inplace=True) \n",
    "        )\n",
    "        self.fc = nn.Linear(128, num_classes) #[32,3] ,32是卷积输出的通道数，out_channels是多少这里就是多少\n",
    " \n",
    "    def forward(self, X):\n",
    "        out = self.conv(X)\n",
    "        #print(out.shape)  #torch.Size([32, 32, 84, 84])\n",
    "        out = nn.functional.avg_pool2d(out, 84)\n",
    "        #print(out.shape) #torch.Size([32, 32, 1, 1])\n",
    "        out = out.squeeze()\n",
    "        #print(out.shape) #torch.Size([32, 32])\n",
    "        out = self.fc(out)\n",
    "        return out"
   ]
  },
  {
   "cell_type": "code",
   "execution_count": 4,
   "metadata": {
    "ExecuteTime": {
     "end_time": "2020-08-15T08:39:45.962393Z",
     "start_time": "2020-08-15T08:39:45.744976Z"
    }
   },
   "outputs": [],
   "source": [
    "#训练函数\n",
    "def train_epoch(net, data_loader):\n",
    "    \n",
    "    net.train()\n",
    "    train_batch_num = len(data_loader)\n",
    "    total_loss = 0\n",
    "    correct = 0\n",
    "    sample_num = 0\n",
    "    \n",
    "    for batch_idx, (data, target) in enumerate(data_loader):\n",
    "        optimizer.zero_grad()\n",
    "        output = net(data)\n",
    "        loss = criterion(output, target)\n",
    "        loss.backward()\n",
    "        optimizer.step()\n",
    "        total_loss += loss.item()\n",
    "        prediction = torch.argmax(output, 1)\n",
    "        correct += (prediction == target).sum().item()\n",
    "        sample_num += len(prediction)\n",
    "    \n",
    "    loss = total_loss / train_batch_num\n",
    "    acc = correct / sample_num\n",
    "    return loss, acc\n",
    "\n",
    "#测试函数\n",
    "def test_epoch(net, data_loader):\n",
    "    \n",
    "    net.eval()\n",
    "    test_batch_num = len(data_loader)\n",
    "    total_loss = 0\n",
    "    correct = 0\n",
    "    sample_num = 0\n",
    "    \n",
    "    with torch.no_grad():\n",
    "        for batch_idx, (data, target) in enumerate(data_loader):\n",
    "            output = net(data)\n",
    "            loss = criterion(output, target)\n",
    "            total_loss += loss.item()\n",
    "            prediction = torch.argmax(output, 1)\n",
    "            correct += (prediction == target).sum().item()\n",
    "            sample_num += len(prediction)\n",
    "    \n",
    "    loss = total_loss / test_batch_num\n",
    "    acc = correct / sample_num\n",
    "    return loss, acc\n",
    "\n",
    "num_classes = 3\n",
    "num_epoch = 50\n",
    "lr = 0.001\n",
    "batch_size = 32\n",
    "\n",
    "#划分数据集\n",
    "train_dataset = torch.utils.data.TensorDataset(train_features,train_labels)\n",
    "train_iter = torch.utils.data.DataLoader(train_dataset, batch_size, shuffle=True, num_workers=0)\n",
    "test_dataset = torch.utils.data.TensorDataset(test_features,test_labels)\n",
    "test_iter = torch.utils.data.DataLoader(test_dataset, batch_size, shuffle=True, num_workers=0)"
   ]
  },
  {
   "cell_type": "code",
   "execution_count": 5,
   "metadata": {
    "ExecuteTime": {
     "end_time": "2020-08-15T09:57:41.544555Z",
     "start_time": "2020-08-15T08:39:47.477067Z"
    }
   },
   "outputs": [
    {
     "name": "stdout",
     "output_type": "stream",
     "text": [
      "epoch 1, train_loss 0.733594, test_loss 1.023441, train_acc 0.720000, test_acc 0.383333\n",
      "epoch 2, train_loss 0.590828, test_loss 1.126729, train_acc 0.750000, test_acc 0.433333\n",
      "epoch 3, train_loss 0.572765, test_loss 0.867870, train_acc 0.766667, test_acc 0.583333\n",
      "epoch 4, train_loss 0.566783, test_loss 0.661790, train_acc 0.796667, test_acc 0.716667\n",
      "epoch 5, train_loss 0.466982, test_loss 0.851231, train_acc 0.846667, test_acc 0.583333\n",
      "epoch 6, train_loss 0.472392, test_loss 0.444815, train_acc 0.826667, test_acc 0.850000\n",
      "epoch 7, train_loss 0.436662, test_loss 0.332965, train_acc 0.860000, test_acc 0.916667\n",
      "epoch 8, train_loss 0.424375, test_loss 0.529626, train_acc 0.870000, test_acc 0.750000\n",
      "epoch 9, train_loss 0.388590, test_loss 0.527746, train_acc 0.856667, test_acc 0.816667\n",
      "epoch 10, train_loss 0.445515, test_loss 0.324126, train_acc 0.863333, test_acc 0.916667\n",
      "epoch 11, train_loss 0.350029, test_loss 0.440200, train_acc 0.886667, test_acc 0.883333\n",
      "epoch 12, train_loss 0.378922, test_loss 0.387590, train_acc 0.856667, test_acc 0.883333\n",
      "epoch 13, train_loss 0.333899, test_loss 0.594837, train_acc 0.886667, test_acc 0.833333\n",
      "epoch 14, train_loss 0.300019, test_loss 0.631765, train_acc 0.896667, test_acc 0.733333\n",
      "epoch 15, train_loss 0.283283, test_loss 0.452863, train_acc 0.913333, test_acc 0.766667\n",
      "epoch 16, train_loss 0.263960, test_loss 0.180019, train_acc 0.916667, test_acc 0.950000\n",
      "epoch 17, train_loss 0.257327, test_loss 0.348859, train_acc 0.920000, test_acc 0.883333\n",
      "epoch 18, train_loss 0.287030, test_loss 0.502660, train_acc 0.930000, test_acc 0.700000\n",
      "epoch 19, train_loss 0.285112, test_loss 0.655444, train_acc 0.920000, test_acc 0.700000\n",
      "epoch 20, train_loss 0.281291, test_loss 0.651082, train_acc 0.896667, test_acc 0.800000\n",
      "epoch 21, train_loss 0.344904, test_loss 0.363811, train_acc 0.900000, test_acc 0.866667\n",
      "epoch 22, train_loss 0.312577, test_loss 0.388243, train_acc 0.893333, test_acc 0.800000\n",
      "epoch 23, train_loss 0.312526, test_loss 0.438645, train_acc 0.906667, test_acc 0.833333\n",
      "epoch 24, train_loss 0.274848, test_loss 0.451381, train_acc 0.920000, test_acc 0.833333\n",
      "epoch 25, train_loss 0.238931, test_loss 1.353067, train_acc 0.936667, test_acc 0.633333\n",
      "epoch 26, train_loss 0.239579, test_loss 0.247540, train_acc 0.920000, test_acc 0.900000\n",
      "epoch 27, train_loss 0.221545, test_loss 0.329390, train_acc 0.933333, test_acc 0.883333\n",
      "epoch 28, train_loss 0.195637, test_loss 0.736519, train_acc 0.940000, test_acc 0.666667\n",
      "epoch 29, train_loss 0.185974, test_loss 0.346120, train_acc 0.940000, test_acc 0.816667\n",
      "epoch 30, train_loss 0.172757, test_loss 0.192670, train_acc 0.953333, test_acc 0.916667\n",
      "epoch 31, train_loss 0.205072, test_loss 0.342069, train_acc 0.933333, test_acc 0.866667\n",
      "epoch 32, train_loss 0.162432, test_loss 0.334859, train_acc 0.953333, test_acc 0.866667\n",
      "epoch 33, train_loss 0.170595, test_loss 0.262035, train_acc 0.956667, test_acc 0.916667\n",
      "epoch 34, train_loss 0.214646, test_loss 1.260719, train_acc 0.936667, test_acc 0.650000\n",
      "epoch 35, train_loss 0.166050, test_loss 0.333004, train_acc 0.930000, test_acc 0.916667\n",
      "epoch 36, train_loss 0.156362, test_loss 0.593875, train_acc 0.956667, test_acc 0.683333\n",
      "epoch 37, train_loss 0.130101, test_loss 0.451140, train_acc 0.960000, test_acc 0.800000\n",
      "epoch 38, train_loss 0.142433, test_loss 0.189421, train_acc 0.973333, test_acc 0.966667\n",
      "epoch 39, train_loss 0.168970, test_loss 2.489949, train_acc 0.960000, test_acc 0.600000\n",
      "epoch 40, train_loss 0.185222, test_loss 0.312704, train_acc 0.930000, test_acc 0.916667\n",
      "epoch 41, train_loss 0.239919, test_loss 0.161204, train_acc 0.913333, test_acc 0.950000\n",
      "epoch 42, train_loss 0.231358, test_loss 1.795145, train_acc 0.930000, test_acc 0.533333\n",
      "epoch 43, train_loss 0.206959, test_loss 3.358816, train_acc 0.916667, test_acc 0.516667\n",
      "epoch 44, train_loss 0.163968, test_loss 0.555040, train_acc 0.960000, test_acc 0.766667\n",
      "epoch 45, train_loss 0.139996, test_loss 0.261394, train_acc 0.970000, test_acc 0.900000\n",
      "epoch 46, train_loss 0.133058, test_loss 0.614403, train_acc 0.953333, test_acc 0.766667\n",
      "epoch 47, train_loss 0.160001, test_loss 1.141081, train_acc 0.960000, test_acc 0.516667\n",
      "epoch 48, train_loss 0.119814, test_loss 0.235768, train_acc 0.970000, test_acc 0.933333\n",
      "epoch 49, train_loss 0.126145, test_loss 0.532456, train_acc 0.950000, test_acc 0.816667\n",
      "epoch 50, train_loss 0.147628, test_loss 0.225040, train_acc 0.963333, test_acc 0.933333\n"
     ]
    }
   ],
   "source": [
    "# ==================== 空洞卷积 ==================== #\n",
    "\n",
    "net = DilatedConvModule()\n",
    "criterion = torch.nn.CrossEntropyLoss()\n",
    "optimizer = torch.optim.Adam(net.parameters(), lr=lr)\n",
    "\n",
    "train_loss_3 = []\n",
    "train_acc_3 = []\n",
    "test_loss_3 = []\n",
    "test_acc_3 = []\n",
    "\n",
    "for epoch in range(num_epoch):\n",
    "    \n",
    "    train_loss, train_acc = train_epoch(net, data_loader=train_iter)\n",
    "    test_loss, test_acc = test_epoch(net, data_loader=test_iter)\n",
    "    \n",
    "    train_loss_3.append(train_loss)\n",
    "    train_acc_3.append(train_acc)\n",
    "    test_loss_3.append(test_loss)\n",
    "    test_acc_3.append(test_acc)\n",
    "    \n",
    "    print('epoch %d, train_loss %f, test_loss %f, train_acc %f, test_acc %f' % \n",
    "          (epoch+1, train_loss, test_loss, train_acc, test_acc))"
   ]
  },
  {
   "cell_type": "code",
   "execution_count": 6,
   "metadata": {
    "ExecuteTime": {
     "end_time": "2020-08-15T09:58:46.453853Z",
     "start_time": "2020-08-15T09:58:45.823415Z"
    }
   },
   "outputs": [
    {
     "data": {
      "image/png": "[encoded data removed]",
      "text/plain": [
       "<Figure size 432x288 with 1 Axes>"
      ]
     },
     "metadata": {},
     "output_type": "display_data"
    }
   ],
   "source": [
    "plt.plot(train_loss_3 ,label='train',color='royalblue')\n",
    "plt.plot(test_loss_3 ,label='test', color='orange')\n",
    "plt.ylabel(\"loss\")\n",
    "plt.xlabel(\"epoch\")\n",
    "plt.legend()\n",
    "plt.show()"
   ]
  },
  {
   "cell_type": "code",
   "execution_count": 7,
   "metadata": {
    "ExecuteTime": {
     "end_time": "2020-08-15T09:59:04.005574Z",
     "start_time": "2020-08-15T09:59:03.526503Z"
    }
   },
   "outputs": [
    {
     "data": {
      "image/png": "[encoded data removed]",
      "text/plain": [
       "<Figure size 432x288 with 1 Axes>"
      ]
     },
     "metadata": {},
     "output_type": "display_data"
    }
   ],
   "source": [
    "plt.plot(train_acc_3 ,label='train',color='royalblue')\n",
    "plt.plot(test_acc_3 ,label='test', color='orange')\n",
    "plt.ylabel(\"acc\")\n",
    "plt.xlabel(\"epoch\")\n",
    "plt.legend()\n",
    "plt.show()"
   ]
  },
  {
   "cell_type": "code",
   "execution_count": null,
   "metadata": {},
   "outputs": [],
   "source": []
  }
 ],
 "metadata": {
  "kernelspec": {
   "display_name": "Python [conda env:Pytorch_envs]",
   "language": "python",
   "name": "conda-env-Pytorch_envs-py"
  },
  "language_info": {
   "codemirror_mode": {
    "name": "ipython",
    "version": 3
   },
   "file_extension": ".py",
   "mimetype": "text/x-python",
   "name": "python",
   "nbconvert_exporter": "python",
   "pygments_lexer": "ipython3",
   "version": "3.6.10"
  },
  "toc": {
   "base_numbering": 1,
   "nav_menu": {},
   "number_sections": true,
   "sideBar": true,
   "skip_h1_title": false,
   "title_cell": "Table of Contents",
   "title_sidebar": "Contents",
   "toc_cell": false,
   "toc_position": {},
   "toc_section_display": true,
   "toc_window_display": false
  },
  "varInspector": {
   "cols": {
    "lenName": 16,
    "lenType": 16,
    "lenVar": 40
   },
   "kernels_config": {
    "python": {
     "delete_cmd_postfix": "",
     "delete_cmd_prefix": "del ",
     "library": "var_list.py",
     "varRefreshCmd": "print(var_dic_list())"
    },
    "r": {
     "delete_cmd_postfix": ") ",
     "delete_cmd_prefix": "rm(",
     "library": "var_list.r",
     "varRefreshCmd": "cat(var_dic_list()) "
    }
   },
   "types_to_exclude": [
    "module",
    "function",
    "builtin_function_or_method",
    "instance",
    "_Feature"
   ],
   "window_display": false
  }
 },
 "nbformat": 4,
 "nbformat_minor": 2
}
