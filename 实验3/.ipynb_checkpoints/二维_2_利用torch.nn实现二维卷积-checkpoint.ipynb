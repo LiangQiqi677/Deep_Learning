{
 "cells": [
  {
   "cell_type": "code",
   "execution_count": 1,
   "metadata": {
    "ExecuteTime": {
     "end_time": "2020-08-14T08:49:48.024641Z",
     "start_time": "2020-08-14T08:49:45.064237Z"
    }
   },
   "outputs": [],
   "source": [
    "from PIL import Image\n",
    "import matplotlib.pyplot as plt\n",
    "import numpy as np\n",
    "import torch\n",
    "import torch.nn as nn"
   ]
  },
  {
   "cell_type": "code",
   "execution_count": 11,
   "metadata": {
    "ExecuteTime": {
     "end_time": "2020-08-14T09:04:35.839197Z",
     "start_time": "2020-08-14T09:02:57.025880Z"
    }
   },
   "outputs": [
    {
     "name": "stdout",
     "output_type": "stream",
     "text": [
      "torch.Size([950, 3, 100, 100])\n",
      "torch.Size([407, 3, 100, 100])\n",
      "torch.Size([950])\n",
      "torch.Size([407])\n"
     ]
    }
   ],
   "source": [
    "# 处理客车数据，总共218张，前153张为训练集，后65张为测试集\n",
    "\n",
    "# =================== 训练集 =================== #\n",
    "path = \"D:\\课件-研究生\\深度学习_万怀宇\\实验3\\车辆分类数据集\\\\bus\\\\bus001.jpg\"\n",
    "train_features = torch.Tensor(np.array(Image.open(path).resize((100,100),Image.ANTIALIAS))/255).view(1, 100, 100, 3)\n",
    "for i in range(2,10):\n",
    "    path = \"D:\\课件-研究生\\深度学习_万怀宇\\实验3\\车辆分类数据集\\\\bus\\\\bus00\"+ str(i) + \".jpg\"\n",
    "    img = torch.Tensor(np.array(Image.open(path).resize((100,100),Image.ANTIALIAS))/255).view(1, 100, 100, 3)\n",
    "    train_features = torch.cat((train_features,img), dim=0)\n",
    "for i in range(10,100):\n",
    "    path = \"D:\\课件-研究生\\深度学习_万怀宇\\实验3\\车辆分类数据集\\\\bus\\\\bus0\"+ str(i) + \".jpg\"\n",
    "    img = torch.Tensor(np.array(Image.open(path).resize((100,100),Image.ANTIALIAS))/255).view(1, 100, 100, 3)\n",
    "    train_features = torch.cat((train_features,img), dim=0)\n",
    "for i in range(100,154):\n",
    "    path = \"D:\\课件-研究生\\深度学习_万怀宇\\实验3\\车辆分类数据集\\\\bus\\\\bus\"+ str(i) + \".jpg\"\n",
    "    img = torch.Tensor(np.array(Image.open(path).resize((100,100),Image.ANTIALIAS))/255).view(1, 100, 100, 3)\n",
    "    train_features = torch.cat((train_features,img), dim=0)\n",
    "\n",
    "# =================== 测试集 =================== #\n",
    "path = \"D:\\课件-研究生\\深度学习_万怀宇\\实验3\\车辆分类数据集\\\\bus\\\\bus154.jpg\"\n",
    "test_features = torch.Tensor(np.array(Image.open(path).resize((100,100),Image.ANTIALIAS))/255).view(1, 100, 100, 3)\n",
    "\n",
    "for i in range(155,219):\n",
    "    path = \"D:\\课件-研究生\\深度学习_万怀宇\\实验3\\车辆分类数据集\\\\bus\\\\bus\"+ str(i) + \".jpg\"\n",
    "    img = torch.Tensor(np.array(Image.open(path).resize((100,100),Image.ANTIALIAS))/255).view(1, 100, 100, 3)\n",
    "    test_features = torch.cat((test_features,img), dim=0)\n",
    "\n",
    "\n",
    "# 处理汽车数据，总共779张，前545张为训练集，后234张为测试集\n",
    "\n",
    "# =================== 训练集 =================== #\n",
    "for i in range(1,10):\n",
    "    path = \"D:\\课件-研究生\\深度学习_万怀宇\\实验3\\车辆分类数据集\\\\car\\\\car00\"+ str(i) + \".jpg\"\n",
    "    img = torch.Tensor(np.array(Image.open(path).resize((100,100),Image.ANTIALIAS))/255).view(1, 100, 100, 3)\n",
    "    train_features = torch.cat((train_features,img), dim=0)\n",
    "for i in range(10,100):\n",
    "    path = \"D:\\课件-研究生\\深度学习_万怀宇\\实验3\\车辆分类数据集\\\\car\\\\car0\"+ str(i) + \".jpg\"\n",
    "    img = torch.Tensor(np.array(Image.open(path).resize((100,100),Image.ANTIALIAS))/255).view(1, 100, 100, 3)\n",
    "    train_features = torch.cat((train_features,img), dim=0)\n",
    "for i in range(100,546):\n",
    "    path = \"D:\\课件-研究生\\深度学习_万怀宇\\实验3\\车辆分类数据集\\\\car\\\\car\"+ str(i) + \".jpg\"\n",
    "    img = torch.Tensor(np.array(Image.open(path).resize((100,100),Image.ANTIALIAS))/255).view(1, 100, 100, 3)\n",
    "    train_features = torch.cat((train_features,img), dim=0)\n",
    "\n",
    "# =================== 测试集 =================== #\n",
    "for i in range(546,780):\n",
    "    path = \"D:\\课件-研究生\\深度学习_万怀宇\\实验3\\车辆分类数据集\\\\car\\\\car\"+ str(i) + \".jpg\"\n",
    "    img = torch.Tensor(np.array(Image.open(path).resize((100,100),Image.ANTIALIAS))/255).view(1, 100, 100, 3)\n",
    "    test_features = torch.cat((test_features,img), dim=0)\n",
    "\n",
    "# 处理货车数据，总共360张，前252张为训练集，后108张为测试集\n",
    "\n",
    "# =================== 训练集 =================== #\n",
    "for i in range(1,10):\n",
    "    path = \"D:\\课件-研究生\\深度学习_万怀宇\\实验3\\车辆分类数据集\\\\truck\\\\truck00\"+ str(i) + \".jpg\"\n",
    "    img = torch.Tensor(np.array(Image.open(path).resize((100,100),Image.ANTIALIAS))/255).view(1, 100, 100, 3)\n",
    "    train_features = torch.cat((train_features,img), dim=0)\n",
    "for i in range(10,100):\n",
    "    path = \"D:\\课件-研究生\\深度学习_万怀宇\\实验3\\车辆分类数据集\\\\truck\\\\truck0\"+ str(i) + \".jpg\"\n",
    "    img = torch.Tensor(np.array(Image.open(path).resize((100,100),Image.ANTIALIAS))/255).view(1, 100, 100, 3)\n",
    "    train_features = torch.cat((train_features,img), dim=0)\n",
    "for i in range(100,253):\n",
    "    path = \"D:\\课件-研究生\\深度学习_万怀宇\\实验3\\车辆分类数据集\\\\truck\\\\truck\"+ str(i) + \".jpg\"\n",
    "    img = torch.Tensor(np.array(Image.open(path).resize((100,100),Image.ANTIALIAS))/255).view(1, 100, 100, 3)\n",
    "    train_features = torch.cat((train_features,img), dim=0)\n",
    "\n",
    "# =================== 测试集 =================== #\n",
    "for i in range(253,361):\n",
    "    path = \"D:\\课件-研究生\\深度学习_万怀宇\\实验3\\车辆分类数据集\\\\truck\\\\truck\"+ str(i) + \".jpg\"\n",
    "    img = torch.Tensor(np.array(Image.open(path).resize((100,100),Image.ANTIALIAS))/255).view(1, 100, 100, 3)\n",
    "    test_features = torch.cat((test_features,img), dim=0)\n",
    "\n",
    "train_features = train_features.permute(0,3,2,1)\n",
    "test_features = test_features.permute(0,3,2,1)\n",
    "print(train_features.shape)\n",
    "print(test_features.shape)\n",
    "\n",
    "# =================== 训练集标签 =================== #\n",
    "train_labels = torch.zeros(153).long()\n",
    "train_labels = torch.cat((train_labels,torch.ones(545).long()), dim=0)\n",
    "train_labels = torch.cat((train_labels,torch.ones(252).long()+1), dim=0)\n",
    "print(train_labels.shape)\n",
    "\n",
    "# =================== 测试集标签 =================== #\n",
    "test_labels = torch.zeros(65).long()\n",
    "test_labels = torch.cat((test_labels,torch.ones(234).long()), dim=0)\n",
    "test_labels = torch.cat((test_labels,torch.ones(108).long()+1), dim=0)\n",
    "print(test_labels.shape)"
   ]
  },
  {
   "cell_type": "code",
   "execution_count": 12,
   "metadata": {
    "ExecuteTime": {
     "end_time": "2020-08-14T09:05:29.388807Z",
     "start_time": "2020-08-14T09:05:29.264141Z"
    }
   },
   "outputs": [],
   "source": [
    "# ========================= 定义模型 ========================= #\n",
    "\n",
    "class ConvModule(torch.nn.Module):\n",
    "    def __init__(self):\n",
    "        super(ConvModule, self).__init__()\n",
    "        #定义一个一层卷积\n",
    "        self.conv = nn.Sequential(\n",
    "            nn.Conv2d(in_channels=3, out_channels=32, kernel_size=3, stride=1, padding=0),\n",
    "            nn.BatchNorm2d(32),\n",
    "            nn.ReLU(inplace=True)           \n",
    "        )\n",
    "        self.fc = nn.Linear(32, num_classes) #[32,3] ,32是卷积输出的通道数，out_channels是多少这里就是多少\n",
    " \n",
    "    def forward(self, X):\n",
    "        #X = X.requires_grad_()\n",
    "        out = self.conv(X)\n",
    "        #print(out.shape)  #torch.Size([32, 32, 98, 98])\n",
    "        out = nn.functional.avg_pool2d(out, 98)\n",
    "        #print(out.shape) #torch.Size([32, 32, 1, 1])\n",
    "        out = out.squeeze()\n",
    "        #print(out.shape) #torch.Size([32, 32])\n",
    "        out = self.fc(out)\n",
    "        return out"
   ]
  },
  {
   "cell_type": "code",
   "execution_count": 13,
   "metadata": {
    "ExecuteTime": {
     "end_time": "2020-08-14T09:05:32.069113Z",
     "start_time": "2020-08-14T09:05:31.761535Z"
    }
   },
   "outputs": [],
   "source": [
    "#训练函数\n",
    "def train_epoch(net, data_loader):\n",
    "    \n",
    "    net.train()\n",
    "    train_batch_num = len(data_loader)\n",
    "    total_loss = 0\n",
    "    correct = 0\n",
    "    sample_num = 0\n",
    "    \n",
    "    for batch_idx, (data, target) in enumerate(data_loader):\n",
    "        optimizer.zero_grad()\n",
    "        output = net(data)\n",
    "        loss = criterion(output, target)\n",
    "        loss.backward()\n",
    "        optimizer.step()\n",
    "        total_loss += loss.item()\n",
    "        prediction = torch.argmax(output, 1)\n",
    "        correct += (prediction == target).sum().item()\n",
    "        sample_num += len(prediction)\n",
    "    \n",
    "    loss = total_loss / train_batch_num\n",
    "    acc = correct / sample_num\n",
    "    return loss, acc\n",
    "\n",
    "#测试函数\n",
    "def test_epoch(net, data_loader):\n",
    "    \n",
    "    net.eval()\n",
    "    test_batch_num = len(data_loader)\n",
    "    total_loss = 0\n",
    "    correct = 0\n",
    "    sample_num = 0\n",
    "    \n",
    "    with torch.no_grad():\n",
    "        for batch_idx, (data, target) in enumerate(data_loader):\n",
    "            output = net(data)\n",
    "            loss = criterion(output, target)\n",
    "            total_loss += loss.item()\n",
    "            prediction = torch.argmax(output, 1)\n",
    "            correct += (prediction == target).sum().item()\n",
    "            sample_num += len(prediction)\n",
    "    \n",
    "    loss = total_loss / test_batch_num\n",
    "    acc = correct / sample_num\n",
    "    return loss, acc"
   ]
  },
  {
   "cell_type": "code",
   "execution_count": 14,
   "metadata": {
    "ExecuteTime": {
     "end_time": "2020-08-14T09:13:45.312966Z",
     "start_time": "2020-08-14T09:05:48.310999Z"
    }
   },
   "outputs": [
    {
     "name": "stdout",
     "output_type": "stream",
     "text": [
      "epoch 1, train_loss 0.919796, test_loss 1.070008, train_acc 0.628421, test_acc 0.417690\n",
      "epoch 2, train_loss 0.799506, test_loss 1.208548, train_acc 0.702105, test_acc 0.240786\n",
      "epoch 3, train_loss 0.750546, test_loss 1.312576, train_acc 0.725263, test_acc 0.285012\n",
      "epoch 4, train_loss 0.721774, test_loss 1.345242, train_acc 0.748421, test_acc 0.356265\n",
      "epoch 5, train_loss 0.696705, test_loss 1.439679, train_acc 0.773684, test_acc 0.366093\n",
      "epoch 6, train_loss 0.675281, test_loss 1.441639, train_acc 0.781053, test_acc 0.353808\n",
      "epoch 7, train_loss 0.648502, test_loss 1.506807, train_acc 0.794737, test_acc 0.341523\n",
      "epoch 8, train_loss 0.636303, test_loss 1.351313, train_acc 0.801053, test_acc 0.329238\n",
      "epoch 9, train_loss 0.623593, test_loss 1.351480, train_acc 0.803158, test_acc 0.380835\n",
      "epoch 10, train_loss 0.625351, test_loss 1.873639, train_acc 0.801053, test_acc 0.373464\n",
      "epoch 11, train_loss 0.608264, test_loss 1.454656, train_acc 0.821053, test_acc 0.393120\n",
      "epoch 12, train_loss 0.611324, test_loss 1.709946, train_acc 0.808421, test_acc 0.405405\n",
      "epoch 13, train_loss 0.589193, test_loss 1.444795, train_acc 0.831579, test_acc 0.400491\n",
      "epoch 14, train_loss 0.571247, test_loss 1.798212, train_acc 0.836842, test_acc 0.385749\n",
      "epoch 15, train_loss 0.576696, test_loss 1.391286, train_acc 0.843158, test_acc 0.356265\n",
      "epoch 16, train_loss 0.576001, test_loss 1.790064, train_acc 0.828421, test_acc 0.356265\n",
      "epoch 17, train_loss 0.574926, test_loss 1.607939, train_acc 0.825263, test_acc 0.375921\n",
      "epoch 18, train_loss 0.570266, test_loss 1.425376, train_acc 0.829474, test_acc 0.375921\n",
      "epoch 19, train_loss 0.550480, test_loss 1.732838, train_acc 0.837895, test_acc 0.405405\n",
      "epoch 20, train_loss 0.547158, test_loss 1.482396, train_acc 0.845263, test_acc 0.390663\n"
     ]
    }
   ],
   "source": [
    "num_classes = 3\n",
    "num_epoch = 20\n",
    "lr = 0.001\n",
    "batch_size = 32\n",
    "\n",
    "#划分数据集\n",
    "train_dataset = torch.utils.data.TensorDataset(train_features,train_labels)\n",
    "train_iter = torch.utils.data.DataLoader(train_dataset, batch_size, shuffle=True, num_workers=0)\n",
    "test_dataset = torch.utils.data.TensorDataset(test_features,test_labels)\n",
    "test_iter = torch.utils.data.DataLoader(test_dataset, batch_size, shuffle=True, num_workers=0)\n",
    "\n",
    "net = ConvModule()\n",
    "criterion = torch.nn.CrossEntropyLoss()\n",
    "optimizer = torch.optim.Adam(net.parameters(), lr=lr)\n",
    "\n",
    "train_loss_sum = []\n",
    "train_acc_sum = []\n",
    "test_loss_sum = []\n",
    "test_acc_sum = []\n",
    "\n",
    "for epoch in range(num_epoch):\n",
    "    \n",
    "    train_loss, train_acc = train_epoch(net, data_loader=train_iter)\n",
    "    test_loss, test_acc = test_epoch(net, data_loader=test_iter)\n",
    "    \n",
    "    train_loss_sum.append(train_loss)\n",
    "    train_acc_sum.append(train_acc)\n",
    "    test_loss_sum.append(test_loss)\n",
    "    test_acc_sum.append(test_acc)\n",
    "    \n",
    "    print('epoch %d, train_loss %f, test_loss %f, train_acc %f, test_acc %f' % \n",
    "          (epoch+1, train_loss, test_loss, train_acc, test_acc))"
   ]
  },
  {
   "cell_type": "code",
   "execution_count": 15,
   "metadata": {
    "ExecuteTime": {
     "end_time": "2020-08-14T09:14:11.516318Z",
     "start_time": "2020-08-14T09:14:10.718451Z"
    }
   },
   "outputs": [
    {
     "data": {
      "image/png": "[encoded data removed]",
      "text/plain": [
       "<Figure size 432x288 with 1 Axes>"
      ]
     },
     "metadata": {},
     "output_type": "display_data"
    }
   ],
   "source": [
    "plt.plot(train_loss_sum ,label='train',color='royalblue')\n",
    "plt.plot(test_loss_sum ,label='test', color='orange')\n",
    "plt.ylabel(\"loss\")\n",
    "plt.xlabel(\"epoch\")\n",
    "plt.legend()\n",
    "plt.show()"
   ]
  },
  {
   "cell_type": "code",
   "execution_count": 16,
   "metadata": {
    "ExecuteTime": {
     "end_time": "2020-08-14T09:14:16.027433Z",
     "start_time": "2020-08-14T09:14:15.152979Z"
    }
   },
   "outputs": [
    {
     "data": {
      "image/png": "[encoded data removed]",
      "text/plain": [
       "<Figure size 432x288 with 1 Axes>"
      ]
     },
     "metadata": {},
     "output_type": "display_data"
    }
   ],
   "source": [
    "plt.plot(train_acc_sum ,label='train',color='royalblue')\n",
    "plt.plot(test_acc_sum ,label='test', color='orange')\n",
    "plt.ylabel(\"acc\")\n",
    "plt.xlabel(\"epoch\")\n",
    "plt.legend()\n",
    "plt.show()"
   ]
  },
  {
   "cell_type": "code",
   "execution_count": null,
   "metadata": {},
   "outputs": [],
   "source": []
  }
 ],
 "metadata": {
  "kernelspec": {
   "display_name": "Python [conda env:Pytorch_envs]",
   "language": "python",
   "name": "conda-env-Pytorch_envs-py"
  },
  "language_info": {
   "codemirror_mode": {
    "name": "ipython",
    "version": 3
   },
   "file_extension": ".py",
   "mimetype": "text/x-python",
   "name": "python",
   "nbconvert_exporter": "python",
   "pygments_lexer": "ipython3",
   "version": "3.6.10"
  },
  "toc": {
   "base_numbering": 1,
   "nav_menu": {},
   "number_sections": true,
   "sideBar": true,
   "skip_h1_title": false,
   "title_cell": "Table of Contents",
   "title_sidebar": "Contents",
   "toc_cell": false,
   "toc_position": {},
   "toc_section_display": true,
   "toc_window_display": false
  },
  "varInspector": {
   "cols": {
    "lenName": 16,
    "lenType": 16,
    "lenVar": 40
   },
   "kernels_config": {
    "python": {
     "delete_cmd_postfix": "",
     "delete_cmd_prefix": "del ",
     "library": "var_list.py",
     "varRefreshCmd": "print(var_dic_list())"
    },
    "r": {
     "delete_cmd_postfix": ") ",
     "delete_cmd_prefix": "rm(",
     "library": "var_list.r",
     "varRefreshCmd": "cat(var_dic_list()) "
    }
   },
   "types_to_exclude": [
    "module",
    "function",
    "builtin_function_or_method",
    "instance",
    "_Feature"
   ],
   "window_display": false
  }
 },
 "nbformat": 4,
 "nbformat_minor": 2
}
